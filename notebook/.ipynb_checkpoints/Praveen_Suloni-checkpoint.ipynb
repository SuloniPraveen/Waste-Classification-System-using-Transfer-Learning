{
 "cells": [
  {
   "cell_type": "markdown",
   "id": "f2afc31a-5daa-4273-b7bf-59b0deea4238",
   "metadata": {
    "id": "f2afc31a-5daa-4273-b7bf-59b0deea4238"
   },
   "source": [
    "### Imports\n"
   ]
  },
  {
   "cell_type": "code",
   "execution_count": 1,
   "id": "75cb4f70-7826-4492-a4da-7cf819facd18",
   "metadata": {
    "colab": {
     "base_uri": "https://localhost:8080/"
    },
    "executionInfo": {
     "elapsed": 2929,
     "status": "ok",
     "timestamp": 1746948177994,
     "user": {
      "displayName": "Suloni Praveen",
      "userId": "17262207939091849753"
     },
     "user_tz": 420
    },
    "id": "75cb4f70-7826-4492-a4da-7cf819facd18",
    "outputId": "5ae68bd2-06ba-46d8-f43e-3eeae973489d"
   },
   "outputs": [
    {
     "name": "stdout",
     "output_type": "stream",
     "text": [
      "Requirement already satisfied: opencv-python in /usr/local/lib/python3.11/dist-packages (4.11.0.86)\n",
      "Requirement already satisfied: numpy>=1.21.2 in /usr/local/lib/python3.11/dist-packages (from opencv-python) (2.0.2)\n"
     ]
    }
   ],
   "source": [
    "pip install opencv-python"
   ]
  },
  {
   "cell_type": "code",
   "execution_count": 2,
   "id": "9312758d-3bd3-407c-b324-e7409afa8edd",
   "metadata": {
    "colab": {
     "base_uri": "https://localhost:8080/"
    },
    "executionInfo": {
     "elapsed": 2817,
     "status": "ok",
     "timestamp": 1746948182914,
     "user": {
      "displayName": "Suloni Praveen",
      "userId": "17262207939091849753"
     },
     "user_tz": 420
    },
    "id": "9312758d-3bd3-407c-b324-e7409afa8edd",
    "outputId": "f321d7a2-37ea-421d-949e-f33f9e132ab4"
   },
   "outputs": [
    {
     "name": "stdout",
     "output_type": "stream",
     "text": [
      "Requirement already satisfied: tensorflow in /usr/local/lib/python3.11/dist-packages (2.18.0)\n",
      "Requirement already satisfied: absl-py>=1.0.0 in /usr/local/lib/python3.11/dist-packages (from tensorflow) (1.4.0)\n",
      "Requirement already satisfied: astunparse>=1.6.0 in /usr/local/lib/python3.11/dist-packages (from tensorflow) (1.6.3)\n",
      "Requirement already satisfied: flatbuffers>=24.3.25 in /usr/local/lib/python3.11/dist-packages (from tensorflow) (25.2.10)\n",
      "Requirement already satisfied: gast!=0.5.0,!=0.5.1,!=0.5.2,>=0.2.1 in /usr/local/lib/python3.11/dist-packages (from tensorflow) (0.6.0)\n",
      "Requirement already satisfied: google-pasta>=0.1.1 in /usr/local/lib/python3.11/dist-packages (from tensorflow) (0.2.0)\n",
      "Requirement already satisfied: libclang>=13.0.0 in /usr/local/lib/python3.11/dist-packages (from tensorflow) (18.1.1)\n",
      "Requirement already satisfied: opt-einsum>=2.3.2 in /usr/local/lib/python3.11/dist-packages (from tensorflow) (3.4.0)\n",
      "Requirement already satisfied: packaging in /usr/local/lib/python3.11/dist-packages (from tensorflow) (24.2)\n",
      "Requirement already satisfied: protobuf!=4.21.0,!=4.21.1,!=4.21.2,!=4.21.3,!=4.21.4,!=4.21.5,<6.0.0dev,>=3.20.3 in /usr/local/lib/python3.11/dist-packages (from tensorflow) (5.29.4)\n",
      "Requirement already satisfied: requests<3,>=2.21.0 in /usr/local/lib/python3.11/dist-packages (from tensorflow) (2.32.3)\n",
      "Requirement already satisfied: setuptools in /usr/local/lib/python3.11/dist-packages (from tensorflow) (75.2.0)\n",
      "Requirement already satisfied: six>=1.12.0 in /usr/local/lib/python3.11/dist-packages (from tensorflow) (1.17.0)\n",
      "Requirement already satisfied: termcolor>=1.1.0 in /usr/local/lib/python3.11/dist-packages (from tensorflow) (3.1.0)\n",
      "Requirement already satisfied: typing-extensions>=3.6.6 in /usr/local/lib/python3.11/dist-packages (from tensorflow) (4.13.2)\n",
      "Requirement already satisfied: wrapt>=1.11.0 in /usr/local/lib/python3.11/dist-packages (from tensorflow) (1.17.2)\n",
      "Requirement already satisfied: grpcio<2.0,>=1.24.3 in /usr/local/lib/python3.11/dist-packages (from tensorflow) (1.71.0)\n",
      "Requirement already satisfied: tensorboard<2.19,>=2.18 in /usr/local/lib/python3.11/dist-packages (from tensorflow) (2.18.0)\n",
      "Requirement already satisfied: keras>=3.5.0 in /usr/local/lib/python3.11/dist-packages (from tensorflow) (3.8.0)\n",
      "Requirement already satisfied: numpy<2.1.0,>=1.26.0 in /usr/local/lib/python3.11/dist-packages (from tensorflow) (2.0.2)\n",
      "Requirement already satisfied: h5py>=3.11.0 in /usr/local/lib/python3.11/dist-packages (from tensorflow) (3.13.0)\n",
      "Requirement already satisfied: ml-dtypes<0.5.0,>=0.4.0 in /usr/local/lib/python3.11/dist-packages (from tensorflow) (0.4.1)\n",
      "Requirement already satisfied: tensorflow-io-gcs-filesystem>=0.23.1 in /usr/local/lib/python3.11/dist-packages (from tensorflow) (0.37.1)\n",
      "Requirement already satisfied: wheel<1.0,>=0.23.0 in /usr/local/lib/python3.11/dist-packages (from astunparse>=1.6.0->tensorflow) (0.45.1)\n",
      "Requirement already satisfied: rich in /usr/local/lib/python3.11/dist-packages (from keras>=3.5.0->tensorflow) (13.9.4)\n",
      "Requirement already satisfied: namex in /usr/local/lib/python3.11/dist-packages (from keras>=3.5.0->tensorflow) (0.0.9)\n",
      "Requirement already satisfied: optree in /usr/local/lib/python3.11/dist-packages (from keras>=3.5.0->tensorflow) (0.15.0)\n",
      "Requirement already satisfied: charset-normalizer<4,>=2 in /usr/local/lib/python3.11/dist-packages (from requests<3,>=2.21.0->tensorflow) (3.4.1)\n",
      "Requirement already satisfied: idna<4,>=2.5 in /usr/local/lib/python3.11/dist-packages (from requests<3,>=2.21.0->tensorflow) (3.10)\n",
      "Requirement already satisfied: urllib3<3,>=1.21.1 in /usr/local/lib/python3.11/dist-packages (from requests<3,>=2.21.0->tensorflow) (2.4.0)\n",
      "Requirement already satisfied: certifi>=2017.4.17 in /usr/local/lib/python3.11/dist-packages (from requests<3,>=2.21.0->tensorflow) (2025.4.26)\n",
      "Requirement already satisfied: markdown>=2.6.8 in /usr/local/lib/python3.11/dist-packages (from tensorboard<2.19,>=2.18->tensorflow) (3.8)\n",
      "Requirement already satisfied: tensorboard-data-server<0.8.0,>=0.7.0 in /usr/local/lib/python3.11/dist-packages (from tensorboard<2.19,>=2.18->tensorflow) (0.7.2)\n",
      "Requirement already satisfied: werkzeug>=1.0.1 in /usr/local/lib/python3.11/dist-packages (from tensorboard<2.19,>=2.18->tensorflow) (3.1.3)\n",
      "Requirement already satisfied: MarkupSafe>=2.1.1 in /usr/local/lib/python3.11/dist-packages (from werkzeug>=1.0.1->tensorboard<2.19,>=2.18->tensorflow) (3.0.2)\n",
      "Requirement already satisfied: markdown-it-py>=2.2.0 in /usr/local/lib/python3.11/dist-packages (from rich->keras>=3.5.0->tensorflow) (3.0.0)\n",
      "Requirement already satisfied: pygments<3.0.0,>=2.13.0 in /usr/local/lib/python3.11/dist-packages (from rich->keras>=3.5.0->tensorflow) (2.19.1)\n",
      "Requirement already satisfied: mdurl~=0.1 in /usr/local/lib/python3.11/dist-packages (from markdown-it-py>=2.2.0->rich->keras>=3.5.0->tensorflow) (0.1.2)\n"
     ]
    }
   ],
   "source": [
    "pip install tensorflow"
   ]
  },
  {
   "cell_type": "code",
   "execution_count": 16,
   "id": "8a41747b-95dd-4e93-9818-7cf887c415e0",
   "metadata": {
    "executionInfo": {
     "elapsed": 5,
     "status": "ok",
     "timestamp": 1746953739090,
     "user": {
      "displayName": "Suloni Praveen",
      "userId": "17262207939091849753"
     },
     "user_tz": 420
    },
    "id": "8a41747b-95dd-4e93-9818-7cf887c415e0"
   },
   "outputs": [],
   "source": [
    "import os\n",
    "import numpy as np\n",
    "import cv2\n",
    "from sklearn.preprocessing import LabelBinarizer\n",
    "from sklearn.model_selection import train_test_split\n",
    "import tensorflow as tf\n",
    "from tensorflow.keras.applications import ResNet50, ResNet101, EfficientNetB0, VGG16\n",
    "from tensorflow.keras.models import Model\n",
    "from tensorflow.keras.layers import Dense, GlobalAveragePooling2D, BatchNormalization, Dropout, Flatten,  Dropout, RandomFlip, RandomRotation, RandomZoom, RandomContrast, Activation\n",
    "from tensorflow.keras.preprocessing.image import ImageDataGenerator\n",
    "from tensorflow.keras.callbacks import EarlyStopping, ModelCheckpoint\n",
    "import matplotlib.pyplot as plt\n",
    "import warnings\n",
    "warnings.filterwarnings('ignore')\n",
    "from tensorflow.keras.models import Sequential\n",
    "from tensorflow.keras.optimizers import Adam\n",
    "import math\n",
    "from sklearn.metrics import precision_score, recall_score, roc_auc_score, f1_score, accuracy_score,classification_report\n"
   ]
  },
  {
   "cell_type": "markdown",
   "id": "3c3314cd-f9b8-456c-8a7a-e6e7c1968a03",
   "metadata": {
    "id": "3c3314cd-f9b8-456c-8a7a-e6e7c1968a03"
   },
   "source": [
    "### a) Reading through data files"
   ]
  },
  {
   "cell_type": "code",
   "execution_count": 4,
   "id": "b38d9960-1bfc-41f3-b041-87c4db035dc1",
   "metadata": {
    "colab": {
     "base_uri": "https://localhost:8080/"
    },
    "executionInfo": {
     "elapsed": 18030,
     "status": "ok",
     "timestamp": 1746948220728,
     "user": {
      "displayName": "Suloni Praveen",
      "userId": "17262207939091849753"
     },
     "user_tz": 420
    },
    "id": "b38d9960-1bfc-41f3-b041-87c4db035dc1",
    "outputId": "94e5fa8c-8270-456e-f987-003f6e571fe6"
   },
   "outputs": [
    {
     "name": "stdout",
     "output_type": "stream",
     "text": [
      "Mounted at /content/drive\n",
      "Found 9 classes (in order): ['1-Cardboard', '2-Food Organics', '3-Glass', '4-Metal', '5-Miscellaneous Trash', '6-Paper', '7-Plastic', '8-Textile Trash', '9-Vegetation']\n"
     ]
    }
   ],
   "source": [
    "from google.colab import drive\n",
    "drive.mount('/content/drive')\n",
    "DATASET_PATH = '/content/drive/MyDrive/data/RealWaste'\n",
    "IMG_SIZE = (224, 224)\n",
    "\n",
    "np.random.seed(42)\n",
    "\n",
    "train_images = []\n",
    "train_labels = []\n",
    "test_images = []\n",
    "test_labels = []\n",
    "\n",
    "classes = os.listdir(DATASET_PATH)\n",
    "classes = [c for c in classes if os.path.isdir(os.path.join(DATASET_PATH, c))]\n",
    "\n",
    "def get_class_number(class_name):\n",
    "    return int(class_name.split('-')[0])\n",
    "\n",
    "classes.sort(key=get_class_number)\n",
    "print(f\"Found {len(classes)} classes (in order): {classes}\")\n",
    "\n",
    "\n"
   ]
  },
  {
   "cell_type": "markdown",
   "id": "b8a6c27e-4f55-4e8d-aa89-57f3fb7abd4b",
   "metadata": {
    "id": "b8a6c27e-4f55-4e8d-aa89-57f3fb7abd4b"
   },
   "source": [
    "### b) i) ii) Train-Test data split up and image Processing"
   ]
  },
  {
   "cell_type": "code",
   "execution_count": 5,
   "id": "491bbbdd-9073-48e5-8c46-57b8e8ebb2d4",
   "metadata": {
    "colab": {
     "base_uri": "https://localhost:8080/"
    },
    "executionInfo": {
     "elapsed": 109700,
     "status": "ok",
     "timestamp": 1746948333243,
     "user": {
      "displayName": "Suloni Praveen",
      "userId": "17262207939091849753"
     },
     "user_tz": 420
    },
    "id": "491bbbdd-9073-48e5-8c46-57b8e8ebb2d4",
    "outputId": "10f3e015-37a7-4e04-f560-9f9ceee3445a"
   },
   "outputs": [
    {
     "name": "stdout",
     "output_type": "stream",
     "text": [
      "Class 0: 1-Cardboard: 368 total train, 368 processed\n",
      "Class 0: 1-Cardboard: 93 total test, 93 processed\n",
      "Class 1: 2-Food Organics: 328 total train, 328 processed\n",
      "Class 1: 2-Food Organics: 83 total test, 83 processed\n",
      "Class 2: 3-Glass: 336 total train, 336 processed\n",
      "Class 2: 3-Glass: 84 total test, 84 processed\n",
      "Class 3: 4-Metal: 632 total train, 632 processed\n",
      "Class 3: 4-Metal: 158 total test, 158 processed\n",
      "Class 4: 5-Miscellaneous Trash: 396 total train, 396 processed\n",
      "Class 4: 5-Miscellaneous Trash: 99 total test, 99 processed\n",
      "Class 5: 6-Paper: 400 total train, 400 processed\n",
      "Class 5: 6-Paper: 100 total test, 100 processed\n",
      "Class 6: 7-Plastic: 736 total train, 736 processed\n",
      "Class 6: 7-Plastic: 185 total test, 185 processed\n",
      "Class 7: 8-Textile Trash: 254 total train, 254 processed\n",
      "Class 7: 8-Textile Trash: 64 total test, 64 processed\n",
      "Class 8: 9-Vegetation: 348 total train, 348 processed\n",
      "Class 8: 9-Vegetation: 88 total test, 88 processed\n",
      "\n",
      "Total images in training set (before processing): 3798\n",
      "Total images in test set (before processing): 954\n",
      "Total images processed for training: 3798\n",
      "Total images processed for testing: 954\n",
      "Final training set shape: (3798, 224, 224, 3)\n",
      "Final test set shape: (954, 224, 224, 3)\n",
      "One-hot encoded train labels shape: (3798, 9)\n",
      "One-hot encoded test labels shape: (954, 9)\n"
     ]
    }
   ],
   "source": [
    "total_train_files = 0\n",
    "total_test_files = 0\n",
    "processed_train_files = 0\n",
    "processed_test_files = 0\n",
    "\n",
    "for class_idx, class_name in enumerate(classes):\n",
    "    class_path = os.path.join(DATASET_PATH, class_name)\n",
    "\n",
    "    image_files = [f for f in os.listdir(class_path) if f.lower().endswith(('.jpg'))]\n",
    "\n",
    "    def get_image_number(filename):\n",
    "        try:\n",
    "            return int(filename.split('_')[-1].split('.')[0])\n",
    "        except:\n",
    "            return 0\n",
    "\n",
    "    image_files.sort(key=get_image_number)\n",
    "\n",
    "    # (80% for training and 20% for testing)\n",
    "    split_idx = int(len(image_files) * 0.8)\n",
    "\n",
    "    # Split into training and test sets\n",
    "    train_files = image_files[:split_idx]\n",
    "    test_files = image_files[split_idx:]\n",
    "\n",
    "    total_train_files += len(train_files)\n",
    "    total_test_files += len(test_files)\n",
    "\n",
    "    class_train_processed = 0\n",
    "    class_test_processed = 0\n",
    "\n",
    "    # Process training images\n",
    "    for img_file in train_files:\n",
    "        img_path = os.path.join(class_path, img_file)\n",
    "        img = cv2.imread(img_path)\n",
    "        if img is None:\n",
    "            print(f\"Warning: Could not load image {img_path}\")\n",
    "            continue\n",
    "\n",
    "        try:\n",
    "            img = cv2.cvtColor(img, cv2.COLOR_BGR2RGB)\n",
    "            img = cv2.resize(img, IMG_SIZE)\n",
    "            train_images.append(img)\n",
    "            train_labels.append(class_idx)\n",
    "            class_train_processed += 1\n",
    "            processed_train_files += 1\n",
    "\n",
    "        except Exception as e:\n",
    "            print(f\"Error processing training image {img_path}: {e}\")\n",
    "\n",
    "    # Process test images\n",
    "    for img_file in test_files:\n",
    "        img_path = os.path.join(class_path, img_file)\n",
    "        img = cv2.imread(img_path)\n",
    "\n",
    "        if img is None:\n",
    "            print(f\"Warning: Could not load image {img_path}\")\n",
    "            continue\n",
    "\n",
    "        try:\n",
    "            img = cv2.cvtColor(img, cv2.COLOR_BGR2RGB)\n",
    "            img = cv2.resize(img, IMG_SIZE)\n",
    "            test_images.append(img)\n",
    "            test_labels.append(class_idx)\n",
    "            class_test_processed += 1\n",
    "            processed_test_files += 1\n",
    "\n",
    "        except Exception as e:\n",
    "            print(f\"Error processing test image {img_path}: {e}\")\n",
    "\n",
    "    print(f\"Class {class_idx}: {class_name}: {len(train_files)} total train, {class_train_processed} processed\")\n",
    "    print(f\"Class {class_idx}: {class_name}: {len(test_files)} total test, {class_test_processed} processed\")\n",
    "\n",
    "train_images = np.array(train_images, dtype=np.float32)\n",
    "test_images = np.array(test_images, dtype=np.float32)\n",
    "\n",
    "# Normalize pixel values to [0, 1]\n",
    "# train_images = train_images / 255.0\n",
    "# test_images = test_images / 255.0\n",
    "\n",
    "train_labels = np.array(train_labels)\n",
    "test_labels = np.array(test_labels)\n",
    "\n",
    "# Converting to one-hot encoding\n",
    "lb = LabelBinarizer()\n",
    "train_labels_one_hot = lb.fit_transform(train_labels)\n",
    "test_labels_one_hot = lb.transform(test_labels)\n",
    "\n",
    "print(f\"\\nTotal images in training set (before processing): {total_train_files}\")\n",
    "print(f\"Total images in test set (before processing): {total_test_files}\")\n",
    "print(f\"Total images processed for training: {processed_train_files}\")\n",
    "print(f\"Total images processed for testing: {processed_test_files}\")\n",
    "print(f\"Final training set shape: {train_images.shape}\")\n",
    "print(f\"Final test set shape: {test_images.shape}\")\n",
    "print(f\"One-hot encoded train labels shape: {train_labels_one_hot.shape}\")\n",
    "print(f\"One-hot encoded test labels shape: {test_labels_one_hot.shape}\")\n"
   ]
  },
  {
   "cell_type": "markdown",
   "id": "05d91804-012c-4f6f-bc71-cbee5c728f7d",
   "metadata": {
    "id": "05d91804-012c-4f6f-bc71-cbee5c728f7d"
   },
   "source": [
    "### Validation data"
   ]
  },
  {
   "cell_type": "code",
   "execution_count": 6,
   "id": "a1c9f301-a011-49d5-a6fb-d32c2a562c8f",
   "metadata": {
    "colab": {
     "base_uri": "https://localhost:8080/"
    },
    "executionInfo": {
     "elapsed": 668,
     "status": "ok",
     "timestamp": 1746948358049,
     "user": {
      "displayName": "Suloni Praveen",
      "userId": "17262207939091849753"
     },
     "user_tz": 420
    },
    "id": "a1c9f301-a011-49d5-a6fb-d32c2a562c8f",
    "outputId": "1a437533-69dc-4f75-c207-8c224e4ab575"
   },
   "outputs": [
    {
     "name": "stdout",
     "output_type": "stream",
     "text": [
      "Final training set: 3038 images\n",
      "Validation set: 760 images\n",
      "Test set: 954 images\n",
      "Final training labels shape: (3038, 9)\n",
      "Validation labels shape: (760, 9)\n"
     ]
    }
   ],
   "source": [
    "train_images_final, val_images, train_labels_final, val_labels = train_test_split(\n",
    "    train_images,\n",
    "    train_labels,\n",
    "    test_size=0.2,\n",
    "    stratify=train_labels,\n",
    "    random_state=42\n",
    ")\n",
    "\n",
    "train_labels_one_hot_final = lb.transform(train_labels_final)\n",
    "val_labels_one_hot = lb.transform(val_labels)\n",
    "\n",
    "print(f\"Final training set: {train_images_final.shape[0]} images\")\n",
    "print(f\"Validation set: {val_images.shape[0]} images\")\n",
    "print(f\"Test set: {test_images.shape[0]} images\")\n",
    "print(f\"Final training labels shape: {train_labels_one_hot_final.shape}\")\n",
    "print(f\"Validation labels shape: {val_labels_one_hot.shape}\")"
   ]
  },
  {
   "cell_type": "code",
   "execution_count": 7,
   "id": "81525010-3845-4367-aa00-5038b973f571",
   "metadata": {
    "colab": {
     "base_uri": "https://localhost:8080/"
    },
    "executionInfo": {
     "elapsed": 15,
     "status": "ok",
     "timestamp": 1746948360016,
     "user": {
      "displayName": "Suloni Praveen",
      "userId": "17262207939091849753"
     },
     "user_tz": 420
    },
    "id": "81525010-3845-4367-aa00-5038b973f571",
    "outputId": "883752ca-f8d4-4de8-9263-6ea00a86a662"
   },
   "outputs": [
    {
     "name": "stdout",
     "output_type": "stream",
     "text": [
      "\n",
      "--- One-Hot Encoding ---\n",
      "Class 0: 1-Cardboard\n",
      "One-hot encoded: [1 0 0 0 0 0 0 0 0]\n",
      "\n",
      "Class 1: 2-Food Organics\n",
      "One-hot encoded: [0 1 0 0 0 0 0 0 0]\n",
      "\n",
      "Class 2: 3-Glass\n",
      "One-hot encoded: [0 0 1 0 0 0 0 0 0]\n",
      "\n",
      "Class 3: 4-Metal\n",
      "One-hot encoded: [0 0 0 1 0 0 0 0 0]\n",
      "\n",
      "Class 4: 5-Miscellaneous Trash\n",
      "One-hot encoded: [0 0 0 0 1 0 0 0 0]\n",
      "\n",
      "Class 5: 6-Paper\n",
      "One-hot encoded: [0 0 0 0 0 1 0 0 0]\n",
      "\n",
      "Class 6: 7-Plastic\n",
      "One-hot encoded: [0 0 0 0 0 0 1 0 0]\n",
      "\n",
      "Class 7: 8-Textile Trash\n",
      "One-hot encoded: [0 0 0 0 0 0 0 1 0]\n",
      "\n",
      "Class 8: 9-Vegetation\n",
      "One-hot encoded: [0 0 0 0 0 0 0 0 1]\n",
      "\n"
     ]
    }
   ],
   "source": [
    "print(\"\\n--- One-Hot Encoding ---\")\n",
    "for i in range(min(9, len(classes))):\n",
    "    indices = np.where(train_labels_final == i)[0]\n",
    "    if len(indices) > 0:\n",
    "        class_index = indices[0]\n",
    "        one_hot_label = train_labels_one_hot_final[class_index]\n",
    "        class_name = classes[i]\n",
    "        print(f\"Class {i}: {class_name}\")\n",
    "        print(f\"One-hot encoded: {one_hot_label}\")\n",
    "        print()"
   ]
  },
  {
   "cell_type": "markdown",
   "id": "c0e2b9e3-a168-408c-8241-46ae07edad2e",
   "metadata": {
    "id": "c0e2b9e3-a168-408c-8241-46ae07edad2e"
   },
   "source": [
    "## c) Transfer Learning"
   ]
  },
  {
   "cell_type": "markdown",
   "id": "6c83209b-0953-493e-874d-759b080a2abe",
   "metadata": {
    "id": "6c83209b-0953-493e-874d-759b080a2abe"
   },
   "source": [
    "### i) ii) iii) iv) Pre Trained models"
   ]
  },
  {
   "cell_type": "code",
   "execution_count": 12,
   "id": "A9gx4ZAS6o0u",
   "metadata": {
    "executionInfo": {
     "elapsed": 5,
     "status": "ok",
     "timestamp": 1746951333508,
     "user": {
      "displayName": "Suloni Praveen",
      "userId": "17262207939091849753"
     },
     "user_tz": 420
    },
    "id": "A9gx4ZAS6o0u"
   },
   "outputs": [],
   "source": [
    "\n",
    "def create_and_train_model(base_model_name, train_data, val_data, test_data=None, input_shape=(224, 224, 3), num_classes=9, epochs=100):\n",
    "\n",
    "    train_images, train_labels = train_data\n",
    "    val_images, val_labels = val_data\n",
    "    train_size = train_images.shape[0]\n",
    "    batch_size = 5\n",
    "    steps_per_epoch = math.ceil(train_size / batch_size)\n",
    "\n",
    "    data_augmentation = Sequential([\n",
    "        RandomFlip(\"horizontal\"),\n",
    "        RandomRotation(0.1),\n",
    "        RandomZoom(0.1),\n",
    "        RandomContrast(0.1)\n",
    "    ])\n",
    "\n",
    "    train_dataset = tf.data.Dataset.from_tensor_slices((train_images, train_labels))\n",
    "    train_dataset = train_dataset.shuffle(train_size * 10)\n",
    "    train_dataset = train_dataset.batch(batch_size).prefetch(buffer_size=tf.data.AUTOTUNE)\n",
    "\n",
    "    train_dataset = train_dataset.map(\n",
    "        lambda x, y: (data_augmentation(x), y),\n",
    "        num_parallel_calls=tf.data.AUTOTUNE\n",
    "    )\n",
    "\n",
    "    val_dataset = tf.data.Dataset.from_tensor_slices((val_images, val_labels))\n",
    "    val_dataset = val_dataset.batch(batch_size).prefetch(buffer_size=tf.data.AUTOTUNE)\n",
    "\n",
    "    if base_model_name == 'ResNet50':\n",
    "        base_model = ResNet50(weights='imagenet', include_top=False, input_shape=input_shape, pooling='avg')\n",
    "    elif base_model_name == 'ResNet101':\n",
    "        base_model = ResNet101(weights='imagenet', include_top=False, input_shape=input_shape, pooling='avg')\n",
    "    elif base_model_name == 'EfficientNetB0':\n",
    "        base_model = EfficientNetB0(weights='imagenet', include_top=False, input_shape=input_shape, pooling='avg')\n",
    "    elif base_model_name == 'VGG16':\n",
    "        base_model = VGG16(weights='imagenet', include_top=False, input_shape=input_shape, pooling='avg')\n",
    "    else:\n",
    "        raise ValueError(f\"Unsupported model: {base_model_name}\")\n",
    "\n",
    "    for layer in base_model.layers:\n",
    "        layer.trainable = False\n",
    "\n",
    "    model = Sequential([\n",
    "        base_model,\n",
    "        Flatten(),\n",
    "        Dense(512, activation='relu', kernel_regularizer=tf.keras.regularizers.l2(0.02)),\n",
    "        BatchNormalization(),\n",
    "        Dropout(0.4),\n",
    "        Dense(num_classes, activation='softmax', kernel_regularizer=tf.keras.regularizers.l2(0.02))\n",
    "    ])\n",
    "\n",
    "    metrics = [\n",
    "        'accuracy',\n",
    "        tf.keras.metrics.Precision(name='precision'),\n",
    "        tf.keras.metrics.Recall(name='recall'),\n",
    "        tf.keras.metrics.AUC(name='auc')\n",
    "    ]\n",
    "\n",
    "    try:\n",
    "        metrics.append(tf.keras.metrics.F1Score(name='f1_score'))\n",
    "    except:\n",
    "        print(\"F1Score metric not available\")\n",
    "\n",
    "    optimizer = tf.keras.optimizers.Adam(\n",
    "        learning_rate=0.0001,\n",
    "        beta_1=0.9,\n",
    "        beta_2=0.999\n",
    "    )\n",
    "\n",
    "    model.compile(\n",
    "        optimizer=optimizer,\n",
    "        loss='categorical_crossentropy',\n",
    "        metrics=metrics\n",
    "    )\n",
    "\n",
    "    model.summary()\n",
    "\n",
    "    callbacks = [\n",
    "        EarlyStopping(\n",
    "            monitor='val_loss',\n",
    "            patience=10,\n",
    "            verbose=1,\n",
    "            restore_best_weights=True,\n",
    "            min_delta=0.001\n",
    "        ),\n",
    "        ModelCheckpoint(\n",
    "            f\"{base_model_name}_best_model.h5\",\n",
    "            monitor='val_loss',\n",
    "            save_best_only=True,\n",
    "            verbose=1,\n",
    "            mode='min'\n",
    "        )\n",
    "    ]\n",
    "\n",
    "    print(f\"Training with {steps_per_epoch} steps per epoch\")\n",
    "\n",
    "    history = model.fit(\n",
    "        train_dataset,\n",
    "        validation_data=val_dataset,\n",
    "        epochs=epochs,\n",
    "        steps_per_epoch=steps_per_epoch,\n",
    "        callbacks=callbacks,\n",
    "        verbose=1\n",
    "    )\n",
    "\n",
    "    plt.figure(figsize=(10, 6))\n",
    "    plt.plot(history.history['loss'])\n",
    "    plt.plot(history.history['val_loss'])\n",
    "    plt.title(f'{base_model_name} Loss')\n",
    "    plt.ylabel('Loss')\n",
    "    plt.xlabel('Epoch')\n",
    "    plt.legend(['Train', 'Validation'], loc='upper right')\n",
    "    plt.tight_layout()\n",
    "    plt.savefig(f\"{base_model_name}_loss.png\")\n",
    "    plt.show()\n",
    "\n",
    "    # Load the best model\n",
    "    best_model = tf.keras.models.load_model(f\"{base_model_name}_best_model.h5\")\n",
    "\n",
    "\n",
    "    results = None\n",
    "    if test_data is not None:\n",
    "        test_images, test_labels = test_data\n",
    "        test_dataset = tf.data.Dataset.from_tensor_slices((test_images, test_labels))\n",
    "        test_dataset = test_dataset.batch(batch_size).prefetch(buffer_size=tf.data.AUTOTUNE)\n",
    "\n",
    "        tf_results = best_model.evaluate(test_dataset, verbose=0)\n",
    "        metrics_names = ['loss'] + [m.name if hasattr(m, 'name') else m for m in metrics]\n",
    "        results_dict = dict(zip(metrics_names, tf_results))\n",
    "\n",
    "        results = results_dict\n",
    "\n",
    "    return best_model, history, results"
   ]
  },
  {
   "cell_type": "markdown",
   "id": "862eafc0-df58-4dff-954b-6bef9813e933",
   "metadata": {
    "id": "862eafc0-df58-4dff-954b-6bef9813e933"
   },
   "source": [
    "### ResNet50"
   ]
  },
  {
   "cell_type": "code",
   "execution_count": 13,
   "id": "iZXKWpBXnZT-",
   "metadata": {
    "colab": {
     "base_uri": "https://localhost:8080/",
     "height": 1000
    },
    "executionInfo": {
     "elapsed": 1297788,
     "status": "ok",
     "timestamp": 1746952631298,
     "user": {
      "displayName": "Suloni Praveen",
      "userId": "17262207939091849753"
     },
     "user_tz": 420
    },
    "id": "iZXKWpBXnZT-",
    "outputId": "cc7d0b5a-72fa-4785-f47a-14f864a8fca8"
   },
   "outputs": [
    {
     "data": {
      "text/html": [
       "<pre style=\"white-space:pre;overflow-x:auto;line-height:normal;font-family:Menlo,'DejaVu Sans Mono',consolas,'Courier New',monospace\"><span style=\"font-weight: bold\">Model: \"sequential_5\"</span>\n",
       "</pre>\n"
      ],
      "text/plain": [
       "\u001b[1mModel: \"sequential_5\"\u001b[0m\n"
      ]
     },
     "metadata": {},
     "output_type": "display_data"
    },
    {
     "data": {
      "text/html": [
       "<pre style=\"white-space:pre;overflow-x:auto;line-height:normal;font-family:Menlo,'DejaVu Sans Mono',consolas,'Courier New',monospace\">┏━━━━━━━━━━━━━━━━━━━━━━━━━━━━━━━━━┳━━━━━━━━━━━━━━━━━━━━━━━━┳━━━━━━━━━━━━━━━┓\n",
       "┃<span style=\"font-weight: bold\"> Layer (type)                    </span>┃<span style=\"font-weight: bold\"> Output Shape           </span>┃<span style=\"font-weight: bold\">       Param # </span>┃\n",
       "┡━━━━━━━━━━━━━━━━━━━━━━━━━━━━━━━━━╇━━━━━━━━━━━━━━━━━━━━━━━━╇━━━━━━━━━━━━━━━┩\n",
       "│ resnet50 (<span style=\"color: #0087ff; text-decoration-color: #0087ff\">Functional</span>)           │ (<span style=\"color: #00d7ff; text-decoration-color: #00d7ff\">None</span>, <span style=\"color: #00af00; text-decoration-color: #00af00\">2048</span>)           │    <span style=\"color: #00af00; text-decoration-color: #00af00\">23,587,712</span> │\n",
       "├─────────────────────────────────┼────────────────────────┼───────────────┤\n",
       "│ flatten_2 (<span style=\"color: #0087ff; text-decoration-color: #0087ff\">Flatten</span>)             │ (<span style=\"color: #00d7ff; text-decoration-color: #00d7ff\">None</span>, <span style=\"color: #00af00; text-decoration-color: #00af00\">2048</span>)           │             <span style=\"color: #00af00; text-decoration-color: #00af00\">0</span> │\n",
       "├─────────────────────────────────┼────────────────────────┼───────────────┤\n",
       "│ dense_4 (<span style=\"color: #0087ff; text-decoration-color: #0087ff\">Dense</span>)                 │ (<span style=\"color: #00d7ff; text-decoration-color: #00d7ff\">None</span>, <span style=\"color: #00af00; text-decoration-color: #00af00\">512</span>)            │     <span style=\"color: #00af00; text-decoration-color: #00af00\">1,049,088</span> │\n",
       "├─────────────────────────────────┼────────────────────────┼───────────────┤\n",
       "│ batch_normalization_2           │ (<span style=\"color: #00d7ff; text-decoration-color: #00d7ff\">None</span>, <span style=\"color: #00af00; text-decoration-color: #00af00\">512</span>)            │         <span style=\"color: #00af00; text-decoration-color: #00af00\">2,048</span> │\n",
       "│ (<span style=\"color: #0087ff; text-decoration-color: #0087ff\">BatchNormalization</span>)            │                        │               │\n",
       "├─────────────────────────────────┼────────────────────────┼───────────────┤\n",
       "│ dropout_2 (<span style=\"color: #0087ff; text-decoration-color: #0087ff\">Dropout</span>)             │ (<span style=\"color: #00d7ff; text-decoration-color: #00d7ff\">None</span>, <span style=\"color: #00af00; text-decoration-color: #00af00\">512</span>)            │             <span style=\"color: #00af00; text-decoration-color: #00af00\">0</span> │\n",
       "├─────────────────────────────────┼────────────────────────┼───────────────┤\n",
       "│ dense_5 (<span style=\"color: #0087ff; text-decoration-color: #0087ff\">Dense</span>)                 │ (<span style=\"color: #00d7ff; text-decoration-color: #00d7ff\">None</span>, <span style=\"color: #00af00; text-decoration-color: #00af00\">9</span>)              │         <span style=\"color: #00af00; text-decoration-color: #00af00\">4,617</span> │\n",
       "└─────────────────────────────────┴────────────────────────┴───────────────┘\n",
       "</pre>\n"
      ],
      "text/plain": [
       "┏━━━━━━━━━━━━━━━━━━━━━━━━━━━━━━━━━┳━━━━━━━━━━━━━━━━━━━━━━━━┳━━━━━━━━━━━━━━━┓\n",
       "┃\u001b[1m \u001b[0m\u001b[1mLayer (type)                   \u001b[0m\u001b[1m \u001b[0m┃\u001b[1m \u001b[0m\u001b[1mOutput Shape          \u001b[0m\u001b[1m \u001b[0m┃\u001b[1m \u001b[0m\u001b[1m      Param #\u001b[0m\u001b[1m \u001b[0m┃\n",
       "┡━━━━━━━━━━━━━━━━━━━━━━━━━━━━━━━━━╇━━━━━━━━━━━━━━━━━━━━━━━━╇━━━━━━━━━━━━━━━┩\n",
       "│ resnet50 (\u001b[38;5;33mFunctional\u001b[0m)           │ (\u001b[38;5;45mNone\u001b[0m, \u001b[38;5;34m2048\u001b[0m)           │    \u001b[38;5;34m23,587,712\u001b[0m │\n",
       "├─────────────────────────────────┼────────────────────────┼───────────────┤\n",
       "│ flatten_2 (\u001b[38;5;33mFlatten\u001b[0m)             │ (\u001b[38;5;45mNone\u001b[0m, \u001b[38;5;34m2048\u001b[0m)           │             \u001b[38;5;34m0\u001b[0m │\n",
       "├─────────────────────────────────┼────────────────────────┼───────────────┤\n",
       "│ dense_4 (\u001b[38;5;33mDense\u001b[0m)                 │ (\u001b[38;5;45mNone\u001b[0m, \u001b[38;5;34m512\u001b[0m)            │     \u001b[38;5;34m1,049,088\u001b[0m │\n",
       "├─────────────────────────────────┼────────────────────────┼───────────────┤\n",
       "│ batch_normalization_2           │ (\u001b[38;5;45mNone\u001b[0m, \u001b[38;5;34m512\u001b[0m)            │         \u001b[38;5;34m2,048\u001b[0m │\n",
       "│ (\u001b[38;5;33mBatchNormalization\u001b[0m)            │                        │               │\n",
       "├─────────────────────────────────┼────────────────────────┼───────────────┤\n",
       "│ dropout_2 (\u001b[38;5;33mDropout\u001b[0m)             │ (\u001b[38;5;45mNone\u001b[0m, \u001b[38;5;34m512\u001b[0m)            │             \u001b[38;5;34m0\u001b[0m │\n",
       "├─────────────────────────────────┼────────────────────────┼───────────────┤\n",
       "│ dense_5 (\u001b[38;5;33mDense\u001b[0m)                 │ (\u001b[38;5;45mNone\u001b[0m, \u001b[38;5;34m9\u001b[0m)              │         \u001b[38;5;34m4,617\u001b[0m │\n",
       "└─────────────────────────────────┴────────────────────────┴───────────────┘\n"
      ]
     },
     "metadata": {},
     "output_type": "display_data"
    },
    {
     "data": {
      "text/html": [
       "<pre style=\"white-space:pre;overflow-x:auto;line-height:normal;font-family:Menlo,'DejaVu Sans Mono',consolas,'Courier New',monospace\"><span style=\"font-weight: bold\"> Total params: </span><span style=\"color: #00af00; text-decoration-color: #00af00\">24,643,465</span> (94.01 MB)\n",
       "</pre>\n"
      ],
      "text/plain": [
       "\u001b[1m Total params: \u001b[0m\u001b[38;5;34m24,643,465\u001b[0m (94.01 MB)\n"
      ]
     },
     "metadata": {},
     "output_type": "display_data"
    },
    {
     "data": {
      "text/html": [
       "<pre style=\"white-space:pre;overflow-x:auto;line-height:normal;font-family:Menlo,'DejaVu Sans Mono',consolas,'Courier New',monospace\"><span style=\"font-weight: bold\"> Trainable params: </span><span style=\"color: #00af00; text-decoration-color: #00af00\">1,054,729</span> (4.02 MB)\n",
       "</pre>\n"
      ],
      "text/plain": [
       "\u001b[1m Trainable params: \u001b[0m\u001b[38;5;34m1,054,729\u001b[0m (4.02 MB)\n"
      ]
     },
     "metadata": {},
     "output_type": "display_data"
    },
    {
     "data": {
      "text/html": [
       "<pre style=\"white-space:pre;overflow-x:auto;line-height:normal;font-family:Menlo,'DejaVu Sans Mono',consolas,'Courier New',monospace\"><span style=\"font-weight: bold\"> Non-trainable params: </span><span style=\"color: #00af00; text-decoration-color: #00af00\">23,588,736</span> (89.98 MB)\n",
       "</pre>\n"
      ],
      "text/plain": [
       "\u001b[1m Non-trainable params: \u001b[0m\u001b[38;5;34m23,588,736\u001b[0m (89.98 MB)\n"
      ]
     },
     "metadata": {},
     "output_type": "display_data"
    },
    {
     "name": "stdout",
     "output_type": "stream",
     "text": [
      "Training with 760 steps per epoch\n",
      "Epoch 1/100\n",
      "\u001b[1m760/760\u001b[0m \u001b[32m━━━━━━━━━━━━━━━━━━━━\u001b[0m\u001b[37m\u001b[0m \u001b[1m0s\u001b[0m 25ms/step - accuracy: 0.3639 - auc: 0.7535 - f1_score: 0.3545 - loss: 17.2894 - precision: 0.4626 - recall: 0.2694\n",
      "Epoch 1: val_loss improved from inf to 13.09976, saving model to ResNet50_best_model.h5\n"
     ]
    },
    {
     "name": "stderr",
     "output_type": "stream",
     "text": [
      "WARNING:absl:You are saving your model as an HDF5 file via `model.save()` or `keras.saving.save_model(model)`. This file format is considered legacy. We recommend using instead the native Keras format, e.g. `model.save('my_model.keras')` or `keras.saving.save_model(model, 'my_model.keras')`. \n"
     ]
    },
    {
     "name": "stdout",
     "output_type": "stream",
     "text": [
      "\b\b\b\b\b\b\b\b\b\b\b\b\b\b\b\b\b\b\b\b\b\b\b\b\b\b\b\b\b\b\b\b\b\b\b\b\b\b\b\b\b\b\b\b\b\b\b\b\b\b\b\b\b\b\b\b\b\b\b\b\b\b\b\b\b\b\b\b\b\b\b\b\b\b\b\b\b\b\b\b\b\b\b\b\b\b\b\b\b\b\b\b\b\b\b\b\b\b\b\b\b\b\b\b\b\b\b\b\b\b\b\b\b\b\b\b\b\b\b\b\b\b\b\b\b\b\b\b\b\b\b\b\b\b\b\b\b\b\b\b\b\b\b\b\b\b\r\n",
      "\u001b[1m760/760\u001b[0m \u001b[32m━━━━━━━━━━━━━━━━━━━━\u001b[0m\u001b[37m\u001b[0m \u001b[1m41s\u001b[0m 37ms/step - accuracy: 0.3640 - auc: 0.7536 - f1_score: 0.3547 - loss: 17.2874 - precision: 0.4628 - recall: 0.2696 - val_accuracy: 0.7316 - val_auc: 0.9554 - val_f1_score: 0.7297 - val_loss: 13.0998 - val_precision: 0.8024 - val_recall: 0.7053\n",
      "Epoch 2/100\n",
      "\u001b[1m760/760\u001b[0m \u001b[32m━━━━━━━━━━━━━━━━━━━━\u001b[0m\u001b[37m\u001b[0m \u001b[1m0s\u001b[0m 20ms/step - accuracy: 0.6539 - auc: 0.9317 - f1_score: 0.6501 - loss: 12.5145 - precision: 0.7449 - recall: 0.5803\n",
      "Epoch 2: val_loss improved from 13.09976 to 10.02390, saving model to ResNet50_best_model.h5\n"
     ]
    },
    {
     "name": "stderr",
     "output_type": "stream",
     "text": [
      "WARNING:absl:You are saving your model as an HDF5 file via `model.save()` or `keras.saving.save_model(model)`. This file format is considered legacy. We recommend using instead the native Keras format, e.g. `model.save('my_model.keras')` or `keras.saving.save_model(model, 'my_model.keras')`. \n"
     ]
    },
    {
     "name": "stdout",
     "output_type": "stream",
     "text": [
      "\b\b\b\b\b\b\b\b\b\b\b\b\b\b\b\b\b\b\b\b\b\b\b\b\b\b\b\b\b\b\b\b\b\b\b\b\b\b\b\b\b\b\b\b\b\b\b\b\b\b\b\b\b\b\b\b\b\b\b\b\b\b\b\b\b\b\b\b\b\b\b\b\b\b\b\b\b\b\b\b\b\b\b\b\b\b\b\b\b\b\b\b\b\b\b\b\b\b\b\b\b\b\b\b\b\b\b\b\b\b\b\b\b\b\b\b\b\b\b\b\b\b\b\b\b\b\b\b\b\b\b\b\b\b\b\b\b\b\b\b\b\b\b\b\b\b\r\n",
      "\u001b[1m760/760\u001b[0m \u001b[32m━━━━━━━━━━━━━━━━━━━━\u001b[0m\u001b[37m\u001b[0m \u001b[1m19s\u001b[0m 25ms/step - accuracy: 0.6539 - auc: 0.9317 - f1_score: 0.6501 - loss: 12.5135 - precision: 0.7449 - recall: 0.5803 - val_accuracy: 0.7776 - val_auc: 0.9712 - val_f1_score: 0.7798 - val_loss: 10.0239 - val_precision: 0.8343 - val_recall: 0.7487\n",
      "Epoch 3/100\n",
      "\u001b[1m760/760\u001b[0m \u001b[32m━━━━━━━━━━━━━━━━━━━━\u001b[0m\u001b[37m\u001b[0m \u001b[1m0s\u001b[0m 20ms/step - accuracy: 0.7115 - auc: 0.9483 - f1_score: 0.7111 - loss: 9.6410 - precision: 0.7796 - recall: 0.6377\n",
      "Epoch 3: val_loss improved from 10.02390 to 7.74389, saving model to ResNet50_best_model.h5\n"
     ]
    },
    {
     "name": "stderr",
     "output_type": "stream",
     "text": [
      "WARNING:absl:You are saving your model as an HDF5 file via `model.save()` or `keras.saving.save_model(model)`. This file format is considered legacy. We recommend using instead the native Keras format, e.g. `model.save('my_model.keras')` or `keras.saving.save_model(model, 'my_model.keras')`. \n"
     ]
    },
    {
     "name": "stdout",
     "output_type": "stream",
     "text": [
      "\b\b\b\b\b\b\b\b\b\b\b\b\b\b\b\b\b\b\b\b\b\b\b\b\b\b\b\b\b\b\b\b\b\b\b\b\b\b\b\b\b\b\b\b\b\b\b\b\b\b\b\b\b\b\b\b\b\b\b\b\b\b\b\b\b\b\b\b\b\b\b\b\b\b\b\b\b\b\b\b\b\b\b\b\b\b\b\b\b\b\b\b\b\b\b\b\b\b\b\b\b\b\b\b\b\b\b\b\b\b\b\b\b\b\b\b\b\b\b\b\b\b\b\b\b\b\b\b\b\b\b\b\b\b\b\b\b\b\b\b\b\b\b\b\b\r\n",
      "\u001b[1m760/760\u001b[0m \u001b[32m━━━━━━━━━━━━━━━━━━━━\u001b[0m\u001b[37m\u001b[0m \u001b[1m19s\u001b[0m 25ms/step - accuracy: 0.7115 - auc: 0.9483 - f1_score: 0.7111 - loss: 9.6403 - precision: 0.7796 - recall: 0.6377 - val_accuracy: 0.8066 - val_auc: 0.9760 - val_f1_score: 0.7972 - val_loss: 7.7439 - val_precision: 0.8482 - val_recall: 0.7868\n",
      "Epoch 4/100\n",
      "\u001b[1m759/760\u001b[0m \u001b[32m━━━━━━━━━━━━━━━━━━━\u001b[0m\u001b[37m━\u001b[0m \u001b[1m0s\u001b[0m 20ms/step - accuracy: 0.7650 - auc: 0.9601 - f1_score: 0.7649 - loss: 7.4469 - precision: 0.8327 - recall: 0.6994\n",
      "Epoch 4: val_loss improved from 7.74389 to 5.96028, saving model to ResNet50_best_model.h5\n"
     ]
    },
    {
     "name": "stderr",
     "output_type": "stream",
     "text": [
      "WARNING:absl:You are saving your model as an HDF5 file via `model.save()` or `keras.saving.save_model(model)`. This file format is considered legacy. We recommend using instead the native Keras format, e.g. `model.save('my_model.keras')` or `keras.saving.save_model(model, 'my_model.keras')`. \n"
     ]
    },
    {
     "name": "stdout",
     "output_type": "stream",
     "text": [
      "\b\b\b\b\b\b\b\b\b\b\b\b\b\b\b\b\b\b\b\b\b\b\b\b\b\b\b\b\b\b\b\b\b\b\b\b\b\b\b\b\b\b\b\b\b\b\b\b\b\b\b\b\b\b\b\b\b\b\b\b\b\b\b\b\b\b\b\b\b\b\b\b\b\b\b\b\b\b\b\b\b\b\b\b\b\b\b\b\b\b\b\b\b\b\b\b\b\b\b\b\b\b\b\b\b\b\b\b\b\b\b\b\b\b\b\b\b\b\b\b\b\b\b\b\b\b\b\b\b\b\b\b\b\b\b\b\b\b\b\b\b\b\b\b\b\r\n",
      "\u001b[1m760/760\u001b[0m \u001b[32m━━━━━━━━━━━━━━━━━━━━\u001b[0m\u001b[37m\u001b[0m \u001b[1m19s\u001b[0m 25ms/step - accuracy: 0.7650 - auc: 0.9601 - f1_score: 0.7648 - loss: 7.4459 - precision: 0.8326 - recall: 0.6993 - val_accuracy: 0.8342 - val_auc: 0.9818 - val_f1_score: 0.8259 - val_loss: 5.9603 - val_precision: 0.8722 - val_recall: 0.8171\n",
      "Epoch 5/100\n",
      "\u001b[1m759/760\u001b[0m \u001b[32m━━━━━━━━━━━━━━━━━━━\u001b[0m\u001b[37m━\u001b[0m \u001b[1m0s\u001b[0m 20ms/step - accuracy: 0.7523 - auc: 0.9622 - f1_score: 0.7542 - loss: 5.8777 - precision: 0.8199 - recall: 0.6940\n",
      "Epoch 5: val_loss improved from 5.96028 to 4.69540, saving model to ResNet50_best_model.h5\n"
     ]
    },
    {
     "name": "stderr",
     "output_type": "stream",
     "text": [
      "WARNING:absl:You are saving your model as an HDF5 file via `model.save()` or `keras.saving.save_model(model)`. This file format is considered legacy. We recommend using instead the native Keras format, e.g. `model.save('my_model.keras')` or `keras.saving.save_model(model, 'my_model.keras')`. \n"
     ]
    },
    {
     "name": "stdout",
     "output_type": "stream",
     "text": [
      "\b\b\b\b\b\b\b\b\b\b\b\b\b\b\b\b\b\b\b\b\b\b\b\b\b\b\b\b\b\b\b\b\b\b\b\b\b\b\b\b\b\b\b\b\b\b\b\b\b\b\b\b\b\b\b\b\b\b\b\b\b\b\b\b\b\b\b\b\b\b\b\b\b\b\b\b\b\b\b\b\b\b\b\b\b\b\b\b\b\b\b\b\b\b\b\b\b\b\b\b\b\b\b\b\b\b\b\b\b\b\b\b\b\b\b\b\b\b\b\b\b\b\b\b\b\b\b\b\b\b\b\b\b\b\b\b\b\b\b\b\b\b\b\b\b\r\n",
      "\u001b[1m760/760\u001b[0m \u001b[32m━━━━━━━━━━━━━━━━━━━━\u001b[0m\u001b[37m\u001b[0m \u001b[1m19s\u001b[0m 25ms/step - accuracy: 0.7523 - auc: 0.9622 - f1_score: 0.7542 - loss: 5.8769 - precision: 0.8199 - recall: 0.6939 - val_accuracy: 0.8447 - val_auc: 0.9812 - val_f1_score: 0.8428 - val_loss: 4.6954 - val_precision: 0.8764 - val_recall: 0.8211\n",
      "Epoch 6/100\n",
      "\u001b[1m760/760\u001b[0m \u001b[32m━━━━━━━━━━━━━━━━━━━━\u001b[0m\u001b[37m\u001b[0m \u001b[1m0s\u001b[0m 21ms/step - accuracy: 0.7672 - auc: 0.9688 - f1_score: 0.7670 - loss: 4.6505 - precision: 0.8316 - recall: 0.7063\n",
      "Epoch 6: val_loss improved from 4.69540 to 3.78456, saving model to ResNet50_best_model.h5\n"
     ]
    },
    {
     "name": "stderr",
     "output_type": "stream",
     "text": [
      "WARNING:absl:You are saving your model as an HDF5 file via `model.save()` or `keras.saving.save_model(model)`. This file format is considered legacy. We recommend using instead the native Keras format, e.g. `model.save('my_model.keras')` or `keras.saving.save_model(model, 'my_model.keras')`. \n"
     ]
    },
    {
     "name": "stdout",
     "output_type": "stream",
     "text": [
      "\b\b\b\b\b\b\b\b\b\b\b\b\b\b\b\b\b\b\b\b\b\b\b\b\b\b\b\b\b\b\b\b\b\b\b\b\b\b\b\b\b\b\b\b\b\b\b\b\b\b\b\b\b\b\b\b\b\b\b\b\b\b\b\b\b\b\b\b\b\b\b\b\b\b\b\b\b\b\b\b\b\b\b\b\b\b\b\b\b\b\b\b\b\b\b\b\b\b\b\b\b\b\b\b\b\b\b\b\b\b\b\b\b\b\b\b\b\b\b\b\b\b\b\b\b\b\b\b\b\b\b\b\b\b\b\b\b\b\b\b\b\b\b\b\b\r\n",
      "\u001b[1m760/760\u001b[0m \u001b[32m━━━━━━━━━━━━━━━━━━━━\u001b[0m\u001b[37m\u001b[0m \u001b[1m19s\u001b[0m 25ms/step - accuracy: 0.7672 - auc: 0.9688 - f1_score: 0.7671 - loss: 4.6502 - precision: 0.8316 - recall: 0.7063 - val_accuracy: 0.8368 - val_auc: 0.9821 - val_f1_score: 0.8374 - val_loss: 3.7846 - val_precision: 0.8688 - val_recall: 0.8013\n",
      "Epoch 7/100\n",
      "\u001b[1m758/760\u001b[0m \u001b[32m━━━━━━━━━━━━━━━━━━━\u001b[0m\u001b[37m━\u001b[0m \u001b[1m0s\u001b[0m 21ms/step - accuracy: 0.7766 - auc: 0.9695 - f1_score: 0.7775 - loss: 3.7784 - precision: 0.8387 - recall: 0.7058\n",
      "Epoch 7: val_loss improved from 3.78456 to 3.15730, saving model to ResNet50_best_model.h5\n"
     ]
    },
    {
     "name": "stderr",
     "output_type": "stream",
     "text": [
      "WARNING:absl:You are saving your model as an HDF5 file via `model.save()` or `keras.saving.save_model(model)`. This file format is considered legacy. We recommend using instead the native Keras format, e.g. `model.save('my_model.keras')` or `keras.saving.save_model(model, 'my_model.keras')`. \n"
     ]
    },
    {
     "name": "stdout",
     "output_type": "stream",
     "text": [
      "\b\b\b\b\b\b\b\b\b\b\b\b\b\b\b\b\b\b\b\b\b\b\b\b\b\b\b\b\b\b\b\b\b\b\b\b\b\b\b\b\b\b\b\b\b\b\b\b\b\b\b\b\b\b\b\b\b\b\b\b\b\b\b\b\b\b\b\b\b\b\b\b\b\b\b\b\b\b\b\b\b\b\b\b\b\b\b\b\b\b\b\b\b\b\b\b\b\b\b\b\b\b\b\b\b\b\b\b\b\b\b\b\b\b\b\b\b\b\b\b\b\b\b\b\b\b\b\b\b\b\b\b\b\b\b\b\b\b\b\b\b\b\b\b\b\r\n",
      "\u001b[1m760/760\u001b[0m \u001b[32m━━━━━━━━━━━━━━━━━━━━\u001b[0m\u001b[37m\u001b[0m \u001b[1m19s\u001b[0m 25ms/step - accuracy: 0.7766 - auc: 0.9695 - f1_score: 0.7775 - loss: 3.7778 - precision: 0.8387 - recall: 0.7058 - val_accuracy: 0.8118 - val_auc: 0.9775 - val_f1_score: 0.8090 - val_loss: 3.1573 - val_precision: 0.8540 - val_recall: 0.7697\n",
      "Epoch 8/100\n",
      "\u001b[1m760/760\u001b[0m \u001b[32m━━━━━━━━━━━━━━━━━━━━\u001b[0m\u001b[37m\u001b[0m \u001b[1m0s\u001b[0m 20ms/step - accuracy: 0.7856 - auc: 0.9725 - f1_score: 0.7879 - loss: 3.1216 - precision: 0.8468 - recall: 0.7269\n",
      "Epoch 8: val_loss improved from 3.15730 to 2.56432, saving model to ResNet50_best_model.h5\n"
     ]
    },
    {
     "name": "stderr",
     "output_type": "stream",
     "text": [
      "WARNING:absl:You are saving your model as an HDF5 file via `model.save()` or `keras.saving.save_model(model)`. This file format is considered legacy. We recommend using instead the native Keras format, e.g. `model.save('my_model.keras')` or `keras.saving.save_model(model, 'my_model.keras')`. \n"
     ]
    },
    {
     "name": "stdout",
     "output_type": "stream",
     "text": [
      "\b\b\b\b\b\b\b\b\b\b\b\b\b\b\b\b\b\b\b\b\b\b\b\b\b\b\b\b\b\b\b\b\b\b\b\b\b\b\b\b\b\b\b\b\b\b\b\b\b\b\b\b\b\b\b\b\b\b\b\b\b\b\b\b\b\b\b\b\b\b\b\b\b\b\b\b\b\b\b\b\b\b\b\b\b\b\b\b\b\b\b\b\b\b\b\b\b\b\b\b\b\b\b\b\b\b\b\b\b\b\b\b\b\b\b\b\b\b\b\b\b\b\b\b\b\b\b\b\b\b\b\b\b\b\b\b\b\b\b\b\b\b\b\b\b\r\n",
      "\u001b[1m760/760\u001b[0m \u001b[32m━━━━━━━━━━━━━━━━━━━━\u001b[0m\u001b[37m\u001b[0m \u001b[1m19s\u001b[0m 25ms/step - accuracy: 0.7855 - auc: 0.9725 - f1_score: 0.7879 - loss: 3.1214 - precision: 0.8468 - recall: 0.7269 - val_accuracy: 0.8474 - val_auc: 0.9850 - val_f1_score: 0.8468 - val_loss: 2.5643 - val_precision: 0.8720 - val_recall: 0.8158\n",
      "Epoch 9/100\n",
      "\u001b[1m758/760\u001b[0m \u001b[32m━━━━━━━━━━━━━━━━━━━\u001b[0m\u001b[37m━\u001b[0m \u001b[1m0s\u001b[0m 21ms/step - accuracy: 0.7915 - auc: 0.9760 - f1_score: 0.7936 - loss: 2.6111 - precision: 0.8565 - recall: 0.7389\n",
      "Epoch 9: val_loss improved from 2.56432 to 2.21967, saving model to ResNet50_best_model.h5\n"
     ]
    },
    {
     "name": "stderr",
     "output_type": "stream",
     "text": [
      "WARNING:absl:You are saving your model as an HDF5 file via `model.save()` or `keras.saving.save_model(model)`. This file format is considered legacy. We recommend using instead the native Keras format, e.g. `model.save('my_model.keras')` or `keras.saving.save_model(model, 'my_model.keras')`. \n"
     ]
    },
    {
     "name": "stdout",
     "output_type": "stream",
     "text": [
      "\b\b\b\b\b\b\b\b\b\b\b\b\b\b\b\b\b\b\b\b\b\b\b\b\b\b\b\b\b\b\b\b\b\b\b\b\b\b\b\b\b\b\b\b\b\b\b\b\b\b\b\b\b\b\b\b\b\b\b\b\b\b\b\b\b\b\b\b\b\b\b\b\b\b\b\b\b\b\b\b\b\b\b\b\b\b\b\b\b\b\b\b\b\b\b\b\b\b\b\b\b\b\b\b\b\b\b\b\b\b\b\b\b\b\b\b\b\b\b\b\b\b\b\b\b\b\b\b\b\b\b\b\b\b\b\b\b\b\b\b\b\b\b\b\b\r\n",
      "\u001b[1m760/760\u001b[0m \u001b[32m━━━━━━━━━━━━━━━━━━━━\u001b[0m\u001b[37m\u001b[0m \u001b[1m20s\u001b[0m 26ms/step - accuracy: 0.7915 - auc: 0.9760 - f1_score: 0.7936 - loss: 2.6109 - precision: 0.8565 - recall: 0.7389 - val_accuracy: 0.8368 - val_auc: 0.9826 - val_f1_score: 0.8389 - val_loss: 2.2197 - val_precision: 0.8660 - val_recall: 0.8079\n",
      "Epoch 10/100\n",
      "\u001b[1m760/760\u001b[0m \u001b[32m━━━━━━━━━━━━━━━━━━━━\u001b[0m\u001b[37m\u001b[0m \u001b[1m0s\u001b[0m 21ms/step - accuracy: 0.7905 - auc: 0.9750 - f1_score: 0.7945 - loss: 2.2699 - precision: 0.8475 - recall: 0.7272\n",
      "Epoch 10: val_loss improved from 2.21967 to 1.87614, saving model to ResNet50_best_model.h5\n"
     ]
    },
    {
     "name": "stderr",
     "output_type": "stream",
     "text": [
      "WARNING:absl:You are saving your model as an HDF5 file via `model.save()` or `keras.saving.save_model(model)`. This file format is considered legacy. We recommend using instead the native Keras format, e.g. `model.save('my_model.keras')` or `keras.saving.save_model(model, 'my_model.keras')`. \n"
     ]
    },
    {
     "name": "stdout",
     "output_type": "stream",
     "text": [
      "\b\b\b\b\b\b\b\b\b\b\b\b\b\b\b\b\b\b\b\b\b\b\b\b\b\b\b\b\b\b\b\b\b\b\b\b\b\b\b\b\b\b\b\b\b\b\b\b\b\b\b\b\b\b\b\b\b\b\b\b\b\b\b\b\b\b\b\b\b\b\b\b\b\b\b\b\b\b\b\b\b\b\b\b\b\b\b\b\b\b\b\b\b\b\b\b\b\b\b\b\b\b\b\b\b\b\b\b\b\b\b\b\b\b\b\b\b\b\b\b\b\b\b\b\b\b\b\b\b\b\b\b\b\b\b\b\b\b\b\b\b\b\b\b\b\r\n",
      "\u001b[1m760/760\u001b[0m \u001b[32m━━━━━━━━━━━━━━━━━━━━\u001b[0m\u001b[37m\u001b[0m \u001b[1m20s\u001b[0m 26ms/step - accuracy: 0.7905 - auc: 0.9750 - f1_score: 0.7945 - loss: 2.2699 - precision: 0.8475 - recall: 0.7272 - val_accuracy: 0.8447 - val_auc: 0.9870 - val_f1_score: 0.8410 - val_loss: 1.8761 - val_precision: 0.8793 - val_recall: 0.8053\n",
      "Epoch 11/100\n",
      "\u001b[1m758/760\u001b[0m \u001b[32m━━━━━━━━━━━━━━━━━━━\u001b[0m\u001b[37m━\u001b[0m \u001b[1m0s\u001b[0m 21ms/step - accuracy: 0.8127 - auc: 0.9754 - f1_score: 0.8157 - loss: 1.9839 - precision: 0.8682 - recall: 0.7454\n",
      "Epoch 11: val_loss improved from 1.87614 to 1.59607, saving model to ResNet50_best_model.h5\n"
     ]
    },
    {
     "name": "stderr",
     "output_type": "stream",
     "text": [
      "WARNING:absl:You are saving your model as an HDF5 file via `model.save()` or `keras.saving.save_model(model)`. This file format is considered legacy. We recommend using instead the native Keras format, e.g. `model.save('my_model.keras')` or `keras.saving.save_model(model, 'my_model.keras')`. \n"
     ]
    },
    {
     "name": "stdout",
     "output_type": "stream",
     "text": [
      "\b\b\b\b\b\b\b\b\b\b\b\b\b\b\b\b\b\b\b\b\b\b\b\b\b\b\b\b\b\b\b\b\b\b\b\b\b\b\b\b\b\b\b\b\b\b\b\b\b\b\b\b\b\b\b\b\b\b\b\b\b\b\b\b\b\b\b\b\b\b\b\b\b\b\b\b\b\b\b\b\b\b\b\b\b\b\b\b\b\b\b\b\b\b\b\b\b\b\b\b\b\b\b\b\b\b\b\b\b\b\b\b\b\b\b\b\b\b\b\b\b\b\b\b\b\b\b\b\b\b\b\b\b\b\b\b\b\b\b\b\b\b\b\b\b\r\n",
      "\u001b[1m760/760\u001b[0m \u001b[32m━━━━━━━━━━━━━━━━━━━━\u001b[0m\u001b[37m\u001b[0m \u001b[1m20s\u001b[0m 26ms/step - accuracy: 0.8127 - auc: 0.9754 - f1_score: 0.8156 - loss: 1.9837 - precision: 0.8682 - recall: 0.7453 - val_accuracy: 0.8750 - val_auc: 0.9907 - val_f1_score: 0.8738 - val_loss: 1.5961 - val_precision: 0.9035 - val_recall: 0.8382\n",
      "Epoch 12/100\n",
      "\u001b[1m760/760\u001b[0m \u001b[32m━━━━━━━━━━━━━━━━━━━━\u001b[0m\u001b[37m\u001b[0m \u001b[1m0s\u001b[0m 20ms/step - accuracy: 0.8034 - auc: 0.9761 - f1_score: 0.8122 - loss: 1.7782 - precision: 0.8639 - recall: 0.7307\n",
      "Epoch 12: val_loss improved from 1.59607 to 1.45904, saving model to ResNet50_best_model.h5\n"
     ]
    },
    {
     "name": "stderr",
     "output_type": "stream",
     "text": [
      "WARNING:absl:You are saving your model as an HDF5 file via `model.save()` or `keras.saving.save_model(model)`. This file format is considered legacy. We recommend using instead the native Keras format, e.g. `model.save('my_model.keras')` or `keras.saving.save_model(model, 'my_model.keras')`. \n"
     ]
    },
    {
     "name": "stdout",
     "output_type": "stream",
     "text": [
      "\b\b\b\b\b\b\b\b\b\b\b\b\b\b\b\b\b\b\b\b\b\b\b\b\b\b\b\b\b\b\b\b\b\b\b\b\b\b\b\b\b\b\b\b\b\b\b\b\b\b\b\b\b\b\b\b\b\b\b\b\b\b\b\b\b\b\b\b\b\b\b\b\b\b\b\b\b\b\b\b\b\b\b\b\b\b\b\b\b\b\b\b\b\b\b\b\b\b\b\b\b\b\b\b\b\b\b\b\b\b\b\b\b\b\b\b\b\b\b\b\b\b\b\b\b\b\b\b\b\b\b\b\b\b\b\b\b\b\b\b\b\b\b\b\b\r\n",
      "\u001b[1m760/760\u001b[0m \u001b[32m━━━━━━━━━━━━━━━━━━━━\u001b[0m\u001b[37m\u001b[0m \u001b[1m19s\u001b[0m 25ms/step - accuracy: 0.8034 - auc: 0.9761 - f1_score: 0.8122 - loss: 1.7782 - precision: 0.8639 - recall: 0.7306 - val_accuracy: 0.8658 - val_auc: 0.9879 - val_f1_score: 0.8673 - val_loss: 1.4590 - val_precision: 0.8898 - val_recall: 0.8395\n",
      "Epoch 13/100\n",
      "\u001b[1m759/760\u001b[0m \u001b[32m━━━━━━━━━━━━━━━━━━━\u001b[0m\u001b[37m━\u001b[0m \u001b[1m0s\u001b[0m 20ms/step - accuracy: 0.8212 - auc: 0.9784 - f1_score: 0.8211 - loss: 1.5847 - precision: 0.8776 - recall: 0.7548\n",
      "Epoch 13: val_loss improved from 1.45904 to 1.36187, saving model to ResNet50_best_model.h5\n"
     ]
    },
    {
     "name": "stderr",
     "output_type": "stream",
     "text": [
      "WARNING:absl:You are saving your model as an HDF5 file via `model.save()` or `keras.saving.save_model(model)`. This file format is considered legacy. We recommend using instead the native Keras format, e.g. `model.save('my_model.keras')` or `keras.saving.save_model(model, 'my_model.keras')`. \n"
     ]
    },
    {
     "name": "stdout",
     "output_type": "stream",
     "text": [
      "\b\b\b\b\b\b\b\b\b\b\b\b\b\b\b\b\b\b\b\b\b\b\b\b\b\b\b\b\b\b\b\b\b\b\b\b\b\b\b\b\b\b\b\b\b\b\b\b\b\b\b\b\b\b\b\b\b\b\b\b\b\b\b\b\b\b\b\b\b\b\b\b\b\b\b\b\b\b\b\b\b\b\b\b\b\b\b\b\b\b\b\b\b\b\b\b\b\b\b\b\b\b\b\b\b\b\b\b\b\b\b\b\b\b\b\b\b\b\b\b\b\b\b\b\b\b\b\b\b\b\b\b\b\b\b\b\b\b\b\b\b\b\b\b\b\r\n",
      "\u001b[1m760/760\u001b[0m \u001b[32m━━━━━━━━━━━━━━━━━━━━\u001b[0m\u001b[37m\u001b[0m \u001b[1m19s\u001b[0m 25ms/step - accuracy: 0.8211 - auc: 0.9784 - f1_score: 0.8211 - loss: 1.5847 - precision: 0.8776 - recall: 0.7548 - val_accuracy: 0.8421 - val_auc: 0.9866 - val_f1_score: 0.8414 - val_loss: 1.3619 - val_precision: 0.8727 - val_recall: 0.8118\n",
      "Epoch 14/100\n",
      "\u001b[1m759/760\u001b[0m \u001b[32m━━━━━━━━━━━━━━━━━━━\u001b[0m\u001b[37m━\u001b[0m \u001b[1m0s\u001b[0m 20ms/step - accuracy: 0.8118 - auc: 0.9796 - f1_score: 0.8150 - loss: 1.4511 - precision: 0.8726 - recall: 0.7404\n",
      "Epoch 14: val_loss improved from 1.36187 to 1.26186, saving model to ResNet50_best_model.h5\n"
     ]
    },
    {
     "name": "stderr",
     "output_type": "stream",
     "text": [
      "WARNING:absl:You are saving your model as an HDF5 file via `model.save()` or `keras.saving.save_model(model)`. This file format is considered legacy. We recommend using instead the native Keras format, e.g. `model.save('my_model.keras')` or `keras.saving.save_model(model, 'my_model.keras')`. \n"
     ]
    },
    {
     "name": "stdout",
     "output_type": "stream",
     "text": [
      "\b\b\b\b\b\b\b\b\b\b\b\b\b\b\b\b\b\b\b\b\b\b\b\b\b\b\b\b\b\b\b\b\b\b\b\b\b\b\b\b\b\b\b\b\b\b\b\b\b\b\b\b\b\b\b\b\b\b\b\b\b\b\b\b\b\b\b\b\b\b\b\b\b\b\b\b\b\b\b\b\b\b\b\b\b\b\b\b\b\b\b\b\b\b\b\b\b\b\b\b\b\b\b\b\b\b\b\b\b\b\b\b\b\b\b\b\b\b\b\b\b\b\b\b\b\b\b\b\b\b\b\b\b\b\b\b\b\b\b\b\b\b\b\b\b\r\n",
      "\u001b[1m760/760\u001b[0m \u001b[32m━━━━━━━━━━━━━━━━━━━━\u001b[0m\u001b[37m\u001b[0m \u001b[1m19s\u001b[0m 25ms/step - accuracy: 0.8118 - auc: 0.9796 - f1_score: 0.8150 - loss: 1.4512 - precision: 0.8726 - recall: 0.7404 - val_accuracy: 0.8421 - val_auc: 0.9863 - val_f1_score: 0.8454 - val_loss: 1.2619 - val_precision: 0.8813 - val_recall: 0.8013\n",
      "Epoch 15/100\n",
      "\u001b[1m759/760\u001b[0m \u001b[32m━━━━━━━━━━━━━━━━━━━\u001b[0m\u001b[37m━\u001b[0m \u001b[1m0s\u001b[0m 20ms/step - accuracy: 0.8189 - auc: 0.9792 - f1_score: 0.8231 - loss: 1.3614 - precision: 0.8719 - recall: 0.7507\n",
      "Epoch 15: val_loss improved from 1.26186 to 1.17192, saving model to ResNet50_best_model.h5\n"
     ]
    },
    {
     "name": "stderr",
     "output_type": "stream",
     "text": [
      "WARNING:absl:You are saving your model as an HDF5 file via `model.save()` or `keras.saving.save_model(model)`. This file format is considered legacy. We recommend using instead the native Keras format, e.g. `model.save('my_model.keras')` or `keras.saving.save_model(model, 'my_model.keras')`. \n"
     ]
    },
    {
     "name": "stdout",
     "output_type": "stream",
     "text": [
      "\b\b\b\b\b\b\b\b\b\b\b\b\b\b\b\b\b\b\b\b\b\b\b\b\b\b\b\b\b\b\b\b\b\b\b\b\b\b\b\b\b\b\b\b\b\b\b\b\b\b\b\b\b\b\b\b\b\b\b\b\b\b\b\b\b\b\b\b\b\b\b\b\b\b\b\b\b\b\b\b\b\b\b\b\b\b\b\b\b\b\b\b\b\b\b\b\b\b\b\b\b\b\b\b\b\b\b\b\b\b\b\b\b\b\b\b\b\b\b\b\b\b\b\b\b\b\b\b\b\b\b\b\b\b\b\b\b\b\b\b\b\b\b\b\b\r\n",
      "\u001b[1m760/760\u001b[0m \u001b[32m━━━━━━━━━━━━━━━━━━━━\u001b[0m\u001b[37m\u001b[0m \u001b[1m19s\u001b[0m 25ms/step - accuracy: 0.8189 - auc: 0.9792 - f1_score: 0.8230 - loss: 1.3614 - precision: 0.8718 - recall: 0.7507 - val_accuracy: 0.8500 - val_auc: 0.9872 - val_f1_score: 0.8560 - val_loss: 1.1719 - val_precision: 0.8815 - val_recall: 0.8224\n",
      "Epoch 16/100\n",
      "\u001b[1m759/760\u001b[0m \u001b[32m━━━━━━━━━━━━━━━━━━━\u001b[0m\u001b[37m━\u001b[0m \u001b[1m0s\u001b[0m 20ms/step - accuracy: 0.8249 - auc: 0.9814 - f1_score: 0.8255 - loss: 1.2493 - precision: 0.8855 - recall: 0.7547\n",
      "Epoch 16: val_loss improved from 1.17192 to 1.14825, saving model to ResNet50_best_model.h5\n"
     ]
    },
    {
     "name": "stderr",
     "output_type": "stream",
     "text": [
      "WARNING:absl:You are saving your model as an HDF5 file via `model.save()` or `keras.saving.save_model(model)`. This file format is considered legacy. We recommend using instead the native Keras format, e.g. `model.save('my_model.keras')` or `keras.saving.save_model(model, 'my_model.keras')`. \n"
     ]
    },
    {
     "name": "stdout",
     "output_type": "stream",
     "text": [
      "\b\b\b\b\b\b\b\b\b\b\b\b\b\b\b\b\b\b\b\b\b\b\b\b\b\b\b\b\b\b\b\b\b\b\b\b\b\b\b\b\b\b\b\b\b\b\b\b\b\b\b\b\b\b\b\b\b\b\b\b\b\b\b\b\b\b\b\b\b\b\b\b\b\b\b\b\b\b\b\b\b\b\b\b\b\b\b\b\b\b\b\b\b\b\b\b\b\b\b\b\b\b\b\b\b\b\b\b\b\b\b\b\b\b\b\b\b\b\b\b\b\b\b\b\b\b\b\b\b\b\b\b\b\b\b\b\b\b\b\b\b\b\b\b\b\r\n",
      "\u001b[1m760/760\u001b[0m \u001b[32m━━━━━━━━━━━━━━━━━━━━\u001b[0m\u001b[37m\u001b[0m \u001b[1m19s\u001b[0m 25ms/step - accuracy: 0.8249 - auc: 0.9814 - f1_score: 0.8254 - loss: 1.2494 - precision: 0.8855 - recall: 0.7546 - val_accuracy: 0.8303 - val_auc: 0.9837 - val_f1_score: 0.8260 - val_loss: 1.1482 - val_precision: 0.8616 - val_recall: 0.8026\n",
      "Epoch 17/100\n",
      "\u001b[1m759/760\u001b[0m \u001b[32m━━━━━━━━━━━━━━━━━━━\u001b[0m\u001b[37m━\u001b[0m \u001b[1m0s\u001b[0m 20ms/step - accuracy: 0.8166 - auc: 0.9796 - f1_score: 0.8170 - loss: 1.2091 - precision: 0.8716 - recall: 0.7420\n",
      "Epoch 17: val_loss improved from 1.14825 to 1.02078, saving model to ResNet50_best_model.h5\n"
     ]
    },
    {
     "name": "stderr",
     "output_type": "stream",
     "text": [
      "WARNING:absl:You are saving your model as an HDF5 file via `model.save()` or `keras.saving.save_model(model)`. This file format is considered legacy. We recommend using instead the native Keras format, e.g. `model.save('my_model.keras')` or `keras.saving.save_model(model, 'my_model.keras')`. \n"
     ]
    },
    {
     "name": "stdout",
     "output_type": "stream",
     "text": [
      "\b\b\b\b\b\b\b\b\b\b\b\b\b\b\b\b\b\b\b\b\b\b\b\b\b\b\b\b\b\b\b\b\b\b\b\b\b\b\b\b\b\b\b\b\b\b\b\b\b\b\b\b\b\b\b\b\b\b\b\b\b\b\b\b\b\b\b\b\b\b\b\b\b\b\b\b\b\b\b\b\b\b\b\b\b\b\b\b\b\b\b\b\b\b\b\b\b\b\b\b\b\b\b\b\b\b\b\b\b\b\b\b\b\b\b\b\b\b\b\b\b\b\b\b\b\b\b\b\b\b\b\b\b\b\b\b\b\b\b\b\b\b\b\b\b\r\n",
      "\u001b[1m760/760\u001b[0m \u001b[32m━━━━━━━━━━━━━━━━━━━━\u001b[0m\u001b[37m\u001b[0m \u001b[1m19s\u001b[0m 25ms/step - accuracy: 0.8166 - auc: 0.9795 - f1_score: 0.8169 - loss: 1.2092 - precision: 0.8716 - recall: 0.7419 - val_accuracy: 0.8592 - val_auc: 0.9883 - val_f1_score: 0.8564 - val_loss: 1.0208 - val_precision: 0.8977 - val_recall: 0.8316\n",
      "Epoch 18/100\n",
      "\u001b[1m758/760\u001b[0m \u001b[32m━━━━━━━━━━━━━━━━━━━\u001b[0m\u001b[37m━\u001b[0m \u001b[1m0s\u001b[0m 20ms/step - accuracy: 0.8041 - auc: 0.9788 - f1_score: 0.8040 - loss: 1.1915 - precision: 0.8632 - recall: 0.7291\n",
      "Epoch 18: val_loss improved from 1.02078 to 0.93318, saving model to ResNet50_best_model.h5\n"
     ]
    },
    {
     "name": "stderr",
     "output_type": "stream",
     "text": [
      "WARNING:absl:You are saving your model as an HDF5 file via `model.save()` or `keras.saving.save_model(model)`. This file format is considered legacy. We recommend using instead the native Keras format, e.g. `model.save('my_model.keras')` or `keras.saving.save_model(model, 'my_model.keras')`. \n"
     ]
    },
    {
     "name": "stdout",
     "output_type": "stream",
     "text": [
      "\b\b\b\b\b\b\b\b\b\b\b\b\b\b\b\b\b\b\b\b\b\b\b\b\b\b\b\b\b\b\b\b\b\b\b\b\b\b\b\b\b\b\b\b\b\b\b\b\b\b\b\b\b\b\b\b\b\b\b\b\b\b\b\b\b\b\b\b\b\b\b\b\b\b\b\b\b\b\b\b\b\b\b\b\b\b\b\b\b\b\b\b\b\b\b\b\b\b\b\b\b\b\b\b\b\b\b\b\b\b\b\b\b\b\b\b\b\b\b\b\b\b\b\b\b\b\b\b\b\b\b\b\b\b\b\b\b\b\b\b\b\b\b\b\b\r\n",
      "\u001b[1m760/760\u001b[0m \u001b[32m━━━━━━━━━━━━━━━━━━━━\u001b[0m\u001b[37m\u001b[0m \u001b[1m19s\u001b[0m 25ms/step - accuracy: 0.8041 - auc: 0.9787 - f1_score: 0.8040 - loss: 1.1915 - precision: 0.8632 - recall: 0.7291 - val_accuracy: 0.8724 - val_auc: 0.9908 - val_f1_score: 0.8704 - val_loss: 0.9332 - val_precision: 0.9056 - val_recall: 0.8461\n",
      "Epoch 19/100\n",
      "\u001b[1m758/760\u001b[0m \u001b[32m━━━━━━━━━━━━━━━━━━━\u001b[0m\u001b[37m━\u001b[0m \u001b[1m0s\u001b[0m 20ms/step - accuracy: 0.8215 - auc: 0.9820 - f1_score: 0.8218 - loss: 1.1005 - precision: 0.8743 - recall: 0.7561\n",
      "Epoch 19: val_loss did not improve from 0.93318\n",
      "\u001b[1m760/760\u001b[0m \u001b[32m━━━━━━━━━━━━━━━━━━━━\u001b[0m\u001b[37m\u001b[0m \u001b[1m18s\u001b[0m 24ms/step - accuracy: 0.8215 - auc: 0.9820 - f1_score: 0.8218 - loss: 1.1005 - precision: 0.8743 - recall: 0.7561 - val_accuracy: 0.8526 - val_auc: 0.9827 - val_f1_score: 0.8498 - val_loss: 1.0094 - val_precision: 0.8794 - val_recall: 0.8158\n",
      "Epoch 20/100\n",
      "\u001b[1m759/760\u001b[0m \u001b[32m━━━━━━━━━━━━━━━━━━━\u001b[0m\u001b[37m━\u001b[0m \u001b[1m0s\u001b[0m 21ms/step - accuracy: 0.7981 - auc: 0.9768 - f1_score: 0.7979 - loss: 1.1261 - precision: 0.8641 - recall: 0.7191\n",
      "Epoch 20: val_loss improved from 0.93318 to 0.93092, saving model to ResNet50_best_model.h5\n"
     ]
    },
    {
     "name": "stderr",
     "output_type": "stream",
     "text": [
      "WARNING:absl:You are saving your model as an HDF5 file via `model.save()` or `keras.saving.save_model(model)`. This file format is considered legacy. We recommend using instead the native Keras format, e.g. `model.save('my_model.keras')` or `keras.saving.save_model(model, 'my_model.keras')`. \n"
     ]
    },
    {
     "name": "stdout",
     "output_type": "stream",
     "text": [
      "\b\b\b\b\b\b\b\b\b\b\b\b\b\b\b\b\b\b\b\b\b\b\b\b\b\b\b\b\b\b\b\b\b\b\b\b\b\b\b\b\b\b\b\b\b\b\b\b\b\b\b\b\b\b\b\b\b\b\b\b\b\b\b\b\b\b\b\b\b\b\b\b\b\b\b\b\b\b\b\b\b\b\b\b\b\b\b\b\b\b\b\b\b\b\b\b\b\b\b\b\b\b\b\b\b\b\b\b\b\b\b\b\b\b\b\b\b\b\b\b\b\b\b\b\b\b\b\b\b\b\b\b\b\b\b\b\b\b\b\b\b\b\b\b\b\r\n",
      "\u001b[1m760/760\u001b[0m \u001b[32m━━━━━━━━━━━━━━━━━━━━\u001b[0m\u001b[37m\u001b[0m \u001b[1m20s\u001b[0m 26ms/step - accuracy: 0.7981 - auc: 0.9768 - f1_score: 0.7979 - loss: 1.1261 - precision: 0.8641 - recall: 0.7191 - val_accuracy: 0.8579 - val_auc: 0.9853 - val_f1_score: 0.8519 - val_loss: 0.9309 - val_precision: 0.8844 - val_recall: 0.8355\n",
      "Epoch 21/100\n",
      "\u001b[1m760/760\u001b[0m \u001b[32m━━━━━━━━━━━━━━━━━━━━\u001b[0m\u001b[37m\u001b[0m \u001b[1m0s\u001b[0m 21ms/step - accuracy: 0.8277 - auc: 0.9815 - f1_score: 0.8296 - loss: 1.0388 - precision: 0.8839 - recall: 0.7550\n",
      "Epoch 21: val_loss did not improve from 0.93092\n",
      "\u001b[1m760/760\u001b[0m \u001b[32m━━━━━━━━━━━━━━━━━━━━\u001b[0m\u001b[37m\u001b[0m \u001b[1m19s\u001b[0m 25ms/step - accuracy: 0.8277 - auc: 0.9815 - f1_score: 0.8296 - loss: 1.0388 - precision: 0.8839 - recall: 0.7549 - val_accuracy: 0.8289 - val_auc: 0.9849 - val_f1_score: 0.8310 - val_loss: 0.9484 - val_precision: 0.8634 - val_recall: 0.7987\n",
      "Epoch 22/100\n",
      "\u001b[1m760/760\u001b[0m \u001b[32m━━━━━━━━━━━━━━━━━━━━\u001b[0m\u001b[37m\u001b[0m \u001b[1m0s\u001b[0m 21ms/step - accuracy: 0.8246 - auc: 0.9806 - f1_score: 0.8267 - loss: 1.0303 - precision: 0.8875 - recall: 0.7450\n",
      "Epoch 22: val_loss improved from 0.93092 to 0.86057, saving model to ResNet50_best_model.h5\n"
     ]
    },
    {
     "name": "stderr",
     "output_type": "stream",
     "text": [
      "WARNING:absl:You are saving your model as an HDF5 file via `model.save()` or `keras.saving.save_model(model)`. This file format is considered legacy. We recommend using instead the native Keras format, e.g. `model.save('my_model.keras')` or `keras.saving.save_model(model, 'my_model.keras')`. \n"
     ]
    },
    {
     "name": "stdout",
     "output_type": "stream",
     "text": [
      "\b\b\b\b\b\b\b\b\b\b\b\b\b\b\b\b\b\b\b\b\b\b\b\b\b\b\b\b\b\b\b\b\b\b\b\b\b\b\b\b\b\b\b\b\b\b\b\b\b\b\b\b\b\b\b\b\b\b\b\b\b\b\b\b\b\b\b\b\b\b\b\b\b\b\b\b\b\b\b\b\b\b\b\b\b\b\b\b\b\b\b\b\b\b\b\b\b\b\b\b\b\b\b\b\b\b\b\b\b\b\b\b\b\b\b\b\b\b\b\b\b\b\b\b\b\b\b\b\b\b\b\b\b\b\b\b\b\b\b\b\b\b\b\b\b\r\n",
      "\u001b[1m760/760\u001b[0m \u001b[32m━━━━━━━━━━━━━━━━━━━━\u001b[0m\u001b[37m\u001b[0m \u001b[1m19s\u001b[0m 25ms/step - accuracy: 0.8246 - auc: 0.9806 - f1_score: 0.8267 - loss: 1.0303 - precision: 0.8875 - recall: 0.7450 - val_accuracy: 0.8671 - val_auc: 0.9877 - val_f1_score: 0.8639 - val_loss: 0.8606 - val_precision: 0.8936 - val_recall: 0.8289\n",
      "Epoch 23/100\n",
      "\u001b[1m759/760\u001b[0m \u001b[32m━━━━━━━━━━━━━━━━━━━\u001b[0m\u001b[37m━\u001b[0m \u001b[1m0s\u001b[0m 21ms/step - accuracy: 0.8236 - auc: 0.9838 - f1_score: 0.8277 - loss: 0.9780 - precision: 0.8796 - recall: 0.7505\n",
      "Epoch 23: val_loss did not improve from 0.86057\n",
      "\u001b[1m760/760\u001b[0m \u001b[32m━━━━━━━━━━━━━━━━━━━━\u001b[0m\u001b[37m\u001b[0m \u001b[1m19s\u001b[0m 24ms/step - accuracy: 0.8236 - auc: 0.9838 - f1_score: 0.8277 - loss: 0.9780 - precision: 0.8796 - recall: 0.7505 - val_accuracy: 0.8461 - val_auc: 0.9850 - val_f1_score: 0.8385 - val_loss: 0.8744 - val_precision: 0.8764 - val_recall: 0.8118\n",
      "Epoch 24/100\n",
      "\u001b[1m760/760\u001b[0m \u001b[32m━━━━━━━━━━━━━━━━━━━━\u001b[0m\u001b[37m\u001b[0m \u001b[1m0s\u001b[0m 20ms/step - accuracy: 0.8187 - auc: 0.9818 - f1_score: 0.8246 - loss: 0.9764 - precision: 0.8767 - recall: 0.7385\n",
      "Epoch 24: val_loss improved from 0.86057 to 0.78540, saving model to ResNet50_best_model.h5\n"
     ]
    },
    {
     "name": "stderr",
     "output_type": "stream",
     "text": [
      "WARNING:absl:You are saving your model as an HDF5 file via `model.save()` or `keras.saving.save_model(model)`. This file format is considered legacy. We recommend using instead the native Keras format, e.g. `model.save('my_model.keras')` or `keras.saving.save_model(model, 'my_model.keras')`. \n"
     ]
    },
    {
     "name": "stdout",
     "output_type": "stream",
     "text": [
      "\b\b\b\b\b\b\b\b\b\b\b\b\b\b\b\b\b\b\b\b\b\b\b\b\b\b\b\b\b\b\b\b\b\b\b\b\b\b\b\b\b\b\b\b\b\b\b\b\b\b\b\b\b\b\b\b\b\b\b\b\b\b\b\b\b\b\b\b\b\b\b\b\b\b\b\b\b\b\b\b\b\b\b\b\b\b\b\b\b\b\b\b\b\b\b\b\b\b\b\b\b\b\b\b\b\b\b\b\b\b\b\b\b\b\b\b\b\b\b\b\b\b\b\b\b\b\b\b\b\b\b\b\b\b\b\b\b\b\b\b\b\b\b\b\b\r\n",
      "\u001b[1m760/760\u001b[0m \u001b[32m━━━━━━━━━━━━━━━━━━━━\u001b[0m\u001b[37m\u001b[0m \u001b[1m19s\u001b[0m 25ms/step - accuracy: 0.8187 - auc: 0.9818 - f1_score: 0.8246 - loss: 0.9764 - precision: 0.8767 - recall: 0.7385 - val_accuracy: 0.8671 - val_auc: 0.9904 - val_f1_score: 0.8698 - val_loss: 0.7854 - val_precision: 0.8953 - val_recall: 0.8434\n",
      "Epoch 25/100\n",
      "\u001b[1m759/760\u001b[0m \u001b[32m━━━━━━━━━━━━━━━━━━━\u001b[0m\u001b[37m━\u001b[0m \u001b[1m0s\u001b[0m 20ms/step - accuracy: 0.8066 - auc: 0.9799 - f1_score: 0.8103 - loss: 0.9899 - precision: 0.8702 - recall: 0.7360\n",
      "Epoch 25: val_loss did not improve from 0.78540\n",
      "\u001b[1m760/760\u001b[0m \u001b[32m━━━━━━━━━━━━━━━━━━━━\u001b[0m\u001b[37m\u001b[0m \u001b[1m18s\u001b[0m 24ms/step - accuracy: 0.8066 - auc: 0.9799 - f1_score: 0.8103 - loss: 0.9899 - precision: 0.8702 - recall: 0.7359 - val_accuracy: 0.8711 - val_auc: 0.9868 - val_f1_score: 0.8713 - val_loss: 0.8278 - val_precision: 0.8948 - val_recall: 0.8395\n",
      "Epoch 26/100\n",
      "\u001b[1m760/760\u001b[0m \u001b[32m━━━━━━━━━━━━━━━━━━━━\u001b[0m\u001b[37m\u001b[0m \u001b[1m0s\u001b[0m 20ms/step - accuracy: 0.8101 - auc: 0.9800 - f1_score: 0.8136 - loss: 0.9728 - precision: 0.8819 - recall: 0.7427\n",
      "Epoch 26: val_loss improved from 0.78540 to 0.75689, saving model to ResNet50_best_model.h5\n"
     ]
    },
    {
     "name": "stderr",
     "output_type": "stream",
     "text": [
      "WARNING:absl:You are saving your model as an HDF5 file via `model.save()` or `keras.saving.save_model(model)`. This file format is considered legacy. We recommend using instead the native Keras format, e.g. `model.save('my_model.keras')` or `keras.saving.save_model(model, 'my_model.keras')`. \n"
     ]
    },
    {
     "name": "stdout",
     "output_type": "stream",
     "text": [
      "\b\b\b\b\b\b\b\b\b\b\b\b\b\b\b\b\b\b\b\b\b\b\b\b\b\b\b\b\b\b\b\b\b\b\b\b\b\b\b\b\b\b\b\b\b\b\b\b\b\b\b\b\b\b\b\b\b\b\b\b\b\b\b\b\b\b\b\b\b\b\b\b\b\b\b\b\b\b\b\b\b\b\b\b\b\b\b\b\b\b\b\b\b\b\b\b\b\b\b\b\b\b\b\b\b\b\b\b\b\b\b\b\b\b\b\b\b\b\b\b\b\b\b\b\b\b\b\b\b\b\b\b\b\b\b\b\b\b\b\b\b\b\b\b\b\r\n",
      "\u001b[1m760/760\u001b[0m \u001b[32m━━━━━━━━━━━━━━━━━━━━\u001b[0m\u001b[37m\u001b[0m \u001b[1m19s\u001b[0m 25ms/step - accuracy: 0.8101 - auc: 0.9800 - f1_score: 0.8136 - loss: 0.9728 - precision: 0.8819 - recall: 0.7427 - val_accuracy: 0.8789 - val_auc: 0.9913 - val_f1_score: 0.8757 - val_loss: 0.7569 - val_precision: 0.9049 - val_recall: 0.8513\n",
      "Epoch 27/100\n",
      "\u001b[1m759/760\u001b[0m \u001b[32m━━━━━━━━━━━━━━━━━━━\u001b[0m\u001b[37m━\u001b[0m \u001b[1m0s\u001b[0m 20ms/step - accuracy: 0.8115 - auc: 0.9795 - f1_score: 0.8180 - loss: 0.9719 - precision: 0.8744 - recall: 0.7397\n",
      "Epoch 27: val_loss did not improve from 0.75689\n",
      "\u001b[1m760/760\u001b[0m \u001b[32m━━━━━━━━━━━━━━━━━━━━\u001b[0m\u001b[37m\u001b[0m \u001b[1m18s\u001b[0m 24ms/step - accuracy: 0.8115 - auc: 0.9795 - f1_score: 0.8181 - loss: 0.9719 - precision: 0.8744 - recall: 0.7397 - val_accuracy: 0.8303 - val_auc: 0.9835 - val_f1_score: 0.8319 - val_loss: 0.8736 - val_precision: 0.8649 - val_recall: 0.7921\n",
      "Epoch 28/100\n",
      "\u001b[1m759/760\u001b[0m \u001b[32m━━━━━━━━━━━━━━━━━━━\u001b[0m\u001b[37m━\u001b[0m \u001b[1m0s\u001b[0m 20ms/step - accuracy: 0.8309 - auc: 0.9822 - f1_score: 0.8345 - loss: 0.9203 - precision: 0.8791 - recall: 0.7645\n",
      "Epoch 28: val_loss did not improve from 0.75689\n",
      "\u001b[1m760/760\u001b[0m \u001b[32m━━━━━━━━━━━━━━━━━━━━\u001b[0m\u001b[37m\u001b[0m \u001b[1m18s\u001b[0m 24ms/step - accuracy: 0.8309 - auc: 0.9821 - f1_score: 0.8345 - loss: 0.9203 - precision: 0.8791 - recall: 0.7644 - val_accuracy: 0.8539 - val_auc: 0.9854 - val_f1_score: 0.8524 - val_loss: 0.8454 - val_precision: 0.8846 - val_recall: 0.8171\n",
      "Epoch 29/100\n",
      "\u001b[1m760/760\u001b[0m \u001b[32m━━━━━━━━━━━━━━━━━━━━\u001b[0m\u001b[37m\u001b[0m \u001b[1m0s\u001b[0m 20ms/step - accuracy: 0.8229 - auc: 0.9826 - f1_score: 0.8231 - loss: 0.9217 - precision: 0.8868 - recall: 0.7585\n",
      "Epoch 29: val_loss did not improve from 0.75689\n",
      "\u001b[1m760/760\u001b[0m \u001b[32m━━━━━━━━━━━━━━━━━━━━\u001b[0m\u001b[37m\u001b[0m \u001b[1m18s\u001b[0m 24ms/step - accuracy: 0.8229 - auc: 0.9826 - f1_score: 0.8231 - loss: 0.9217 - precision: 0.8868 - recall: 0.7585 - val_accuracy: 0.8566 - val_auc: 0.9884 - val_f1_score: 0.8564 - val_loss: 0.8017 - val_precision: 0.8878 - val_recall: 0.8118\n",
      "Epoch 30/100\n",
      "\u001b[1m760/760\u001b[0m \u001b[32m━━━━━━━━━━━━━━━━━━━━\u001b[0m\u001b[37m\u001b[0m \u001b[1m0s\u001b[0m 20ms/step - accuracy: 0.8301 - auc: 0.9803 - f1_score: 0.8343 - loss: 0.9374 - precision: 0.8799 - recall: 0.7489\n",
      "Epoch 30: val_loss improved from 0.75689 to 0.75149, saving model to ResNet50_best_model.h5\n"
     ]
    },
    {
     "name": "stderr",
     "output_type": "stream",
     "text": [
      "WARNING:absl:You are saving your model as an HDF5 file via `model.save()` or `keras.saving.save_model(model)`. This file format is considered legacy. We recommend using instead the native Keras format, e.g. `model.save('my_model.keras')` or `keras.saving.save_model(model, 'my_model.keras')`. \n"
     ]
    },
    {
     "name": "stdout",
     "output_type": "stream",
     "text": [
      "\b\b\b\b\b\b\b\b\b\b\b\b\b\b\b\b\b\b\b\b\b\b\b\b\b\b\b\b\b\b\b\b\b\b\b\b\b\b\b\b\b\b\b\b\b\b\b\b\b\b\b\b\b\b\b\b\b\b\b\b\b\b\b\b\b\b\b\b\b\b\b\b\b\b\b\b\b\b\b\b\b\b\b\b\b\b\b\b\b\b\b\b\b\b\b\b\b\b\b\b\b\b\b\b\b\b\b\b\b\b\b\b\b\b\b\b\b\b\b\b\b\b\b\b\b\b\b\b\b\b\b\b\b\b\b\b\b\b\b\b\b\b\b\b\b\r\n",
      "\u001b[1m760/760\u001b[0m \u001b[32m━━━━━━━━━━━━━━━━━━━━\u001b[0m\u001b[37m\u001b[0m \u001b[1m19s\u001b[0m 25ms/step - accuracy: 0.8301 - auc: 0.9803 - f1_score: 0.8343 - loss: 0.9374 - precision: 0.8799 - recall: 0.7489 - val_accuracy: 0.8697 - val_auc: 0.9904 - val_f1_score: 0.8688 - val_loss: 0.7515 - val_precision: 0.8974 - val_recall: 0.8289\n",
      "Epoch 31/100\n",
      "\u001b[1m760/760\u001b[0m \u001b[32m━━━━━━━━━━━━━━━━━━━━\u001b[0m\u001b[37m\u001b[0m \u001b[1m0s\u001b[0m 20ms/step - accuracy: 0.8403 - auc: 0.9854 - f1_score: 0.8446 - loss: 0.8694 - precision: 0.8957 - recall: 0.7762\n",
      "Epoch 31: val_loss improved from 0.75149 to 0.74131, saving model to ResNet50_best_model.h5\n"
     ]
    },
    {
     "name": "stderr",
     "output_type": "stream",
     "text": [
      "WARNING:absl:You are saving your model as an HDF5 file via `model.save()` or `keras.saving.save_model(model)`. This file format is considered legacy. We recommend using instead the native Keras format, e.g. `model.save('my_model.keras')` or `keras.saving.save_model(model, 'my_model.keras')`. \n"
     ]
    },
    {
     "name": "stdout",
     "output_type": "stream",
     "text": [
      "\b\b\b\b\b\b\b\b\b\b\b\b\b\b\b\b\b\b\b\b\b\b\b\b\b\b\b\b\b\b\b\b\b\b\b\b\b\b\b\b\b\b\b\b\b\b\b\b\b\b\b\b\b\b\b\b\b\b\b\b\b\b\b\b\b\b\b\b\b\b\b\b\b\b\b\b\b\b\b\b\b\b\b\b\b\b\b\b\b\b\b\b\b\b\b\b\b\b\b\b\b\b\b\b\b\b\b\b\b\b\b\b\b\b\b\b\b\b\b\b\b\b\b\b\b\b\b\b\b\b\b\b\b\b\b\b\b\b\b\b\b\b\b\b\b\r\n",
      "\u001b[1m760/760\u001b[0m \u001b[32m━━━━━━━━━━━━━━━━━━━━\u001b[0m\u001b[37m\u001b[0m \u001b[1m19s\u001b[0m 25ms/step - accuracy: 0.8403 - auc: 0.9854 - f1_score: 0.8445 - loss: 0.8695 - precision: 0.8957 - recall: 0.7762 - val_accuracy: 0.8724 - val_auc: 0.9899 - val_f1_score: 0.8671 - val_loss: 0.7413 - val_precision: 0.9074 - val_recall: 0.8382\n",
      "Epoch 32/100\n",
      "\u001b[1m760/760\u001b[0m \u001b[32m━━━━━━━━━━━━━━━━━━━━\u001b[0m\u001b[37m\u001b[0m \u001b[1m0s\u001b[0m 20ms/step - accuracy: 0.8282 - auc: 0.9815 - f1_score: 0.8309 - loss: 0.9079 - precision: 0.8867 - recall: 0.7507\n",
      "Epoch 32: val_loss improved from 0.74131 to 0.73912, saving model to ResNet50_best_model.h5\n"
     ]
    },
    {
     "name": "stderr",
     "output_type": "stream",
     "text": [
      "WARNING:absl:You are saving your model as an HDF5 file via `model.save()` or `keras.saving.save_model(model)`. This file format is considered legacy. We recommend using instead the native Keras format, e.g. `model.save('my_model.keras')` or `keras.saving.save_model(model, 'my_model.keras')`. \n"
     ]
    },
    {
     "name": "stdout",
     "output_type": "stream",
     "text": [
      "\b\b\b\b\b\b\b\b\b\b\b\b\b\b\b\b\b\b\b\b\b\b\b\b\b\b\b\b\b\b\b\b\b\b\b\b\b\b\b\b\b\b\b\b\b\b\b\b\b\b\b\b\b\b\b\b\b\b\b\b\b\b\b\b\b\b\b\b\b\b\b\b\b\b\b\b\b\b\b\b\b\b\b\b\b\b\b\b\b\b\b\b\b\b\b\b\b\b\b\b\b\b\b\b\b\b\b\b\b\b\b\b\b\b\b\b\b\b\b\b\b\b\b\b\b\b\b\b\b\b\b\b\b\b\b\b\b\b\b\b\b\b\b\b\b\r\n",
      "\u001b[1m760/760\u001b[0m \u001b[32m━━━━━━━━━━━━━━━━━━━━\u001b[0m\u001b[37m\u001b[0m \u001b[1m19s\u001b[0m 25ms/step - accuracy: 0.8282 - auc: 0.9815 - f1_score: 0.8309 - loss: 0.9079 - precision: 0.8866 - recall: 0.7507 - val_accuracy: 0.8592 - val_auc: 0.9902 - val_f1_score: 0.8618 - val_loss: 0.7391 - val_precision: 0.8920 - val_recall: 0.8368\n",
      "Epoch 33/100\n",
      "\u001b[1m760/760\u001b[0m \u001b[32m━━━━━━━━━━━━━━━━━━━━\u001b[0m\u001b[37m\u001b[0m \u001b[1m0s\u001b[0m 20ms/step - accuracy: 0.8096 - auc: 0.9769 - f1_score: 0.8119 - loss: 0.9580 - precision: 0.8774 - recall: 0.7269\n",
      "Epoch 33: val_loss did not improve from 0.73912\n",
      "\u001b[1m760/760\u001b[0m \u001b[32m━━━━━━━━━━━━━━━━━━━━\u001b[0m\u001b[37m\u001b[0m \u001b[1m18s\u001b[0m 24ms/step - accuracy: 0.8096 - auc: 0.9769 - f1_score: 0.8119 - loss: 0.9580 - precision: 0.8774 - recall: 0.7270 - val_accuracy: 0.8816 - val_auc: 0.9882 - val_f1_score: 0.8818 - val_loss: 0.7473 - val_precision: 0.9004 - val_recall: 0.8447\n",
      "Epoch 34/100\n",
      "\u001b[1m760/760\u001b[0m \u001b[32m━━━━━━━━━━━━━━━━━━━━\u001b[0m\u001b[37m\u001b[0m \u001b[1m0s\u001b[0m 20ms/step - accuracy: 0.8167 - auc: 0.9798 - f1_score: 0.8192 - loss: 0.9186 - precision: 0.8765 - recall: 0.7403\n",
      "Epoch 34: val_loss improved from 0.73912 to 0.72277, saving model to ResNet50_best_model.h5\n"
     ]
    },
    {
     "name": "stderr",
     "output_type": "stream",
     "text": [
      "WARNING:absl:You are saving your model as an HDF5 file via `model.save()` or `keras.saving.save_model(model)`. This file format is considered legacy. We recommend using instead the native Keras format, e.g. `model.save('my_model.keras')` or `keras.saving.save_model(model, 'my_model.keras')`. \n"
     ]
    },
    {
     "name": "stdout",
     "output_type": "stream",
     "text": [
      "\b\b\b\b\b\b\b\b\b\b\b\b\b\b\b\b\b\b\b\b\b\b\b\b\b\b\b\b\b\b\b\b\b\b\b\b\b\b\b\b\b\b\b\b\b\b\b\b\b\b\b\b\b\b\b\b\b\b\b\b\b\b\b\b\b\b\b\b\b\b\b\b\b\b\b\b\b\b\b\b\b\b\b\b\b\b\b\b\b\b\b\b\b\b\b\b\b\b\b\b\b\b\b\b\b\b\b\b\b\b\b\b\b\b\b\b\b\b\b\b\b\b\b\b\b\b\b\b\b\b\b\b\b\b\b\b\b\b\b\b\b\b\b\b\b\r\n",
      "\u001b[1m760/760\u001b[0m \u001b[32m━━━━━━━━━━━━━━━━━━━━\u001b[0m\u001b[37m\u001b[0m \u001b[1m19s\u001b[0m 25ms/step - accuracy: 0.8167 - auc: 0.9798 - f1_score: 0.8192 - loss: 0.9186 - precision: 0.8765 - recall: 0.7403 - val_accuracy: 0.8750 - val_auc: 0.9908 - val_f1_score: 0.8755 - val_loss: 0.7228 - val_precision: 0.8961 - val_recall: 0.8395\n",
      "Epoch 35/100\n",
      "\u001b[1m760/760\u001b[0m \u001b[32m━━━━━━━━━━━━━━━━━━━━\u001b[0m\u001b[37m\u001b[0m \u001b[1m0s\u001b[0m 20ms/step - accuracy: 0.8393 - auc: 0.9835 - f1_score: 0.8406 - loss: 0.8673 - precision: 0.8989 - recall: 0.7674\n",
      "Epoch 35: val_loss did not improve from 0.72277\n",
      "\u001b[1m760/760\u001b[0m \u001b[32m━━━━━━━━━━━━━━━━━━━━\u001b[0m\u001b[37m\u001b[0m \u001b[1m18s\u001b[0m 24ms/step - accuracy: 0.8393 - auc: 0.9835 - f1_score: 0.8406 - loss: 0.8673 - precision: 0.8989 - recall: 0.7674 - val_accuracy: 0.8421 - val_auc: 0.9868 - val_f1_score: 0.8382 - val_loss: 0.7780 - val_precision: 0.8817 - val_recall: 0.8039\n",
      "Epoch 36/100\n",
      "\u001b[1m760/760\u001b[0m \u001b[32m━━━━━━━━━━━━━━━━━━━━\u001b[0m\u001b[37m\u001b[0m \u001b[1m0s\u001b[0m 20ms/step - accuracy: 0.8211 - auc: 0.9798 - f1_score: 0.8234 - loss: 0.9008 - precision: 0.8808 - recall: 0.7457\n",
      "Epoch 36: val_loss improved from 0.72277 to 0.72242, saving model to ResNet50_best_model.h5\n"
     ]
    },
    {
     "name": "stderr",
     "output_type": "stream",
     "text": [
      "WARNING:absl:You are saving your model as an HDF5 file via `model.save()` or `keras.saving.save_model(model)`. This file format is considered legacy. We recommend using instead the native Keras format, e.g. `model.save('my_model.keras')` or `keras.saving.save_model(model, 'my_model.keras')`. \n"
     ]
    },
    {
     "name": "stdout",
     "output_type": "stream",
     "text": [
      "\b\b\b\b\b\b\b\b\b\b\b\b\b\b\b\b\b\b\b\b\b\b\b\b\b\b\b\b\b\b\b\b\b\b\b\b\b\b\b\b\b\b\b\b\b\b\b\b\b\b\b\b\b\b\b\b\b\b\b\b\b\b\b\b\b\b\b\b\b\b\b\b\b\b\b\b\b\b\b\b\b\b\b\b\b\b\b\b\b\b\b\b\b\b\b\b\b\b\b\b\b\b\b\b\b\b\b\b\b\b\b\b\b\b\b\b\b\b\b\b\b\b\b\b\b\b\b\b\b\b\b\b\b\b\b\b\b\b\b\b\b\b\b\b\b\r\n",
      "\u001b[1m760/760\u001b[0m \u001b[32m━━━━━━━━━━━━━━━━━━━━\u001b[0m\u001b[37m\u001b[0m \u001b[1m19s\u001b[0m 24ms/step - accuracy: 0.8211 - auc: 0.9798 - f1_score: 0.8234 - loss: 0.9008 - precision: 0.8808 - recall: 0.7457 - val_accuracy: 0.8671 - val_auc: 0.9902 - val_f1_score: 0.8647 - val_loss: 0.7224 - val_precision: 0.8967 - val_recall: 0.8342\n",
      "Epoch 37/100\n",
      "\u001b[1m759/760\u001b[0m \u001b[32m━━━━━━━━━━━━━━━━━━━\u001b[0m\u001b[37m━\u001b[0m \u001b[1m0s\u001b[0m 21ms/step - accuracy: 0.8370 - auc: 0.9839 - f1_score: 0.8404 - loss: 0.8510 - precision: 0.8963 - recall: 0.7595\n",
      "Epoch 37: val_loss did not improve from 0.72242\n",
      "\u001b[1m760/760\u001b[0m \u001b[32m━━━━━━━━━━━━━━━━━━━━\u001b[0m\u001b[37m\u001b[0m \u001b[1m19s\u001b[0m 24ms/step - accuracy: 0.8370 - auc: 0.9838 - f1_score: 0.8403 - loss: 0.8511 - precision: 0.8963 - recall: 0.7594 - val_accuracy: 0.8776 - val_auc: 0.9894 - val_f1_score: 0.8793 - val_loss: 0.7230 - val_precision: 0.9042 - val_recall: 0.8447\n",
      "Epoch 38/100\n",
      "\u001b[1m760/760\u001b[0m \u001b[32m━━━━━━━━━━━━━━━━━━━━\u001b[0m\u001b[37m\u001b[0m \u001b[1m0s\u001b[0m 21ms/step - accuracy: 0.8278 - auc: 0.9828 - f1_score: 0.8323 - loss: 0.8685 - precision: 0.8876 - recall: 0.7537\n",
      "Epoch 38: val_loss did not improve from 0.72242\n",
      "\u001b[1m760/760\u001b[0m \u001b[32m━━━━━━━━━━━━━━━━━━━━\u001b[0m\u001b[37m\u001b[0m \u001b[1m19s\u001b[0m 24ms/step - accuracy: 0.8278 - auc: 0.9828 - f1_score: 0.8323 - loss: 0.8685 - precision: 0.8876 - recall: 0.7537 - val_accuracy: 0.8671 - val_auc: 0.9877 - val_f1_score: 0.8601 - val_loss: 0.7353 - val_precision: 0.8883 - val_recall: 0.8474\n",
      "Epoch 39/100\n",
      "\u001b[1m760/760\u001b[0m \u001b[32m━━━━━━━━━━━━━━━━━━━━\u001b[0m\u001b[37m\u001b[0m \u001b[1m0s\u001b[0m 21ms/step - accuracy: 0.8158 - auc: 0.9824 - f1_score: 0.8163 - loss: 0.8721 - precision: 0.8850 - recall: 0.7538\n",
      "Epoch 39: val_loss did not improve from 0.72242\n",
      "\u001b[1m760/760\u001b[0m \u001b[32m━━━━━━━━━━━━━━━━━━━━\u001b[0m\u001b[37m\u001b[0m \u001b[1m19s\u001b[0m 24ms/step - accuracy: 0.8158 - auc: 0.9824 - f1_score: 0.8163 - loss: 0.8721 - precision: 0.8850 - recall: 0.7538 - val_accuracy: 0.8487 - val_auc: 0.9841 - val_f1_score: 0.8438 - val_loss: 0.7844 - val_precision: 0.8785 - val_recall: 0.8184\n",
      "Epoch 40/100\n",
      "\u001b[1m760/760\u001b[0m \u001b[32m━━━━━━━━━━━━━━━━━━━━\u001b[0m\u001b[37m\u001b[0m \u001b[1m0s\u001b[0m 21ms/step - accuracy: 0.8315 - auc: 0.9824 - f1_score: 0.8321 - loss: 0.8556 - precision: 0.8974 - recall: 0.7648\n",
      "Epoch 40: val_loss improved from 0.72242 to 0.72019, saving model to ResNet50_best_model.h5\n"
     ]
    },
    {
     "name": "stderr",
     "output_type": "stream",
     "text": [
      "WARNING:absl:You are saving your model as an HDF5 file via `model.save()` or `keras.saving.save_model(model)`. This file format is considered legacy. We recommend using instead the native Keras format, e.g. `model.save('my_model.keras')` or `keras.saving.save_model(model, 'my_model.keras')`. \n"
     ]
    },
    {
     "name": "stdout",
     "output_type": "stream",
     "text": [
      "\b\b\b\b\b\b\b\b\b\b\b\b\b\b\b\b\b\b\b\b\b\b\b\b\b\b\b\b\b\b\b\b\b\b\b\b\b\b\b\b\b\b\b\b\b\b\b\b\b\b\b\b\b\b\b\b\b\b\b\b\b\b\b\b\b\b\b\b\b\b\b\b\b\b\b\b\b\b\b\b\b\b\b\b\b\b\b\b\b\b\b\b\b\b\b\b\b\b\b\b\b\b\b\b\b\b\b\b\b\b\b\b\b\b\b\b\b\b\b\b\b\b\b\b\b\b\b\b\b\b\b\b\b\b\b\b\b\b\b\b\b\b\b\b\b\r\n",
      "\u001b[1m760/760\u001b[0m \u001b[32m━━━━━━━━━━━━━━━━━━━━\u001b[0m\u001b[37m\u001b[0m \u001b[1m20s\u001b[0m 26ms/step - accuracy: 0.8315 - auc: 0.9824 - f1_score: 0.8321 - loss: 0.8556 - precision: 0.8974 - recall: 0.7648 - val_accuracy: 0.8632 - val_auc: 0.9893 - val_f1_score: 0.8630 - val_loss: 0.7202 - val_precision: 0.8881 - val_recall: 0.8355\n",
      "Epoch 41/100\n",
      "\u001b[1m760/760\u001b[0m \u001b[32m━━━━━━━━━━━━━━━━━━━━\u001b[0m\u001b[37m\u001b[0m \u001b[1m0s\u001b[0m 21ms/step - accuracy: 0.8130 - auc: 0.9801 - f1_score: 0.8148 - loss: 0.8961 - precision: 0.8793 - recall: 0.7445\n",
      "Epoch 41: val_loss improved from 0.72019 to 0.70474, saving model to ResNet50_best_model.h5\n"
     ]
    },
    {
     "name": "stderr",
     "output_type": "stream",
     "text": [
      "WARNING:absl:You are saving your model as an HDF5 file via `model.save()` or `keras.saving.save_model(model)`. This file format is considered legacy. We recommend using instead the native Keras format, e.g. `model.save('my_model.keras')` or `keras.saving.save_model(model, 'my_model.keras')`. \n"
     ]
    },
    {
     "name": "stdout",
     "output_type": "stream",
     "text": [
      "\b\b\b\b\b\b\b\b\b\b\b\b\b\b\b\b\b\b\b\b\b\b\b\b\b\b\b\b\b\b\b\b\b\b\b\b\b\b\b\b\b\b\b\b\b\b\b\b\b\b\b\b\b\b\b\b\b\b\b\b\b\b\b\b\b\b\b\b\b\b\b\b\b\b\b\b\b\b\b\b\b\b\b\b\b\b\b\b\b\b\b\b\b\b\b\b\b\b\b\b\b\b\b\b\b\b\b\b\b\b\b\b\b\b\b\b\b\b\b\b\b\b\b\b\b\b\b\b\b\b\b\b\b\b\b\b\b\b\b\b\b\b\b\b\b\r\n",
      "\u001b[1m760/760\u001b[0m \u001b[32m━━━━━━━━━━━━━━━━━━━━\u001b[0m\u001b[37m\u001b[0m \u001b[1m20s\u001b[0m 26ms/step - accuracy: 0.8130 - auc: 0.9801 - f1_score: 0.8148 - loss: 0.8960 - precision: 0.8793 - recall: 0.7445 - val_accuracy: 0.8671 - val_auc: 0.9901 - val_f1_score: 0.8670 - val_loss: 0.7047 - val_precision: 0.9027 - val_recall: 0.8421\n",
      "Epoch 42/100\n",
      "\u001b[1m759/760\u001b[0m \u001b[32m━━━━━━━━━━━━━━━━━━━\u001b[0m\u001b[37m━\u001b[0m \u001b[1m0s\u001b[0m 21ms/step - accuracy: 0.8289 - auc: 0.9830 - f1_score: 0.8350 - loss: 0.8575 - precision: 0.8878 - recall: 0.7581\n",
      "Epoch 42: val_loss improved from 0.70474 to 0.70179, saving model to ResNet50_best_model.h5\n"
     ]
    },
    {
     "name": "stderr",
     "output_type": "stream",
     "text": [
      "WARNING:absl:You are saving your model as an HDF5 file via `model.save()` or `keras.saving.save_model(model)`. This file format is considered legacy. We recommend using instead the native Keras format, e.g. `model.save('my_model.keras')` or `keras.saving.save_model(model, 'my_model.keras')`. \n"
     ]
    },
    {
     "name": "stdout",
     "output_type": "stream",
     "text": [
      "\b\b\b\b\b\b\b\b\b\b\b\b\b\b\b\b\b\b\b\b\b\b\b\b\b\b\b\b\b\b\b\b\b\b\b\b\b\b\b\b\b\b\b\b\b\b\b\b\b\b\b\b\b\b\b\b\b\b\b\b\b\b\b\b\b\b\b\b\b\b\b\b\b\b\b\b\b\b\b\b\b\b\b\b\b\b\b\b\b\b\b\b\b\b\b\b\b\b\b\b\b\b\b\b\b\b\b\b\b\b\b\b\b\b\b\b\b\b\b\b\b\b\b\b\b\b\b\b\b\b\b\b\b\b\b\b\b\b\b\b\b\b\b\b\b\r\n",
      "\u001b[1m760/760\u001b[0m \u001b[32m━━━━━━━━━━━━━━━━━━━━\u001b[0m\u001b[37m\u001b[0m \u001b[1m19s\u001b[0m 25ms/step - accuracy: 0.8288 - auc: 0.9830 - f1_score: 0.8350 - loss: 0.8576 - precision: 0.8878 - recall: 0.7581 - val_accuracy: 0.8855 - val_auc: 0.9899 - val_f1_score: 0.8845 - val_loss: 0.7018 - val_precision: 0.9081 - val_recall: 0.8447\n",
      "Epoch 43/100\n",
      "\u001b[1m760/760\u001b[0m \u001b[32m━━━━━━━━━━━━━━━━━━━━\u001b[0m\u001b[37m\u001b[0m \u001b[1m0s\u001b[0m 20ms/step - accuracy: 0.8273 - auc: 0.9831 - f1_score: 0.8307 - loss: 0.8516 - precision: 0.8947 - recall: 0.7562\n",
      "Epoch 43: val_loss did not improve from 0.70179\n",
      "\u001b[1m760/760\u001b[0m \u001b[32m━━━━━━━━━━━━━━━━━━━━\u001b[0m\u001b[37m\u001b[0m \u001b[1m18s\u001b[0m 24ms/step - accuracy: 0.8273 - auc: 0.9831 - f1_score: 0.8306 - loss: 0.8516 - precision: 0.8947 - recall: 0.7562 - val_accuracy: 0.8697 - val_auc: 0.9877 - val_f1_score: 0.8735 - val_loss: 0.7231 - val_precision: 0.8942 - val_recall: 0.8342\n",
      "Epoch 44/100\n",
      "\u001b[1m760/760\u001b[0m \u001b[32m━━━━━━━━━━━━━━━━━━━━\u001b[0m\u001b[37m\u001b[0m \u001b[1m0s\u001b[0m 20ms/step - accuracy: 0.8461 - auc: 0.9829 - f1_score: 0.8509 - loss: 0.8388 - precision: 0.8943 - recall: 0.7690\n",
      "Epoch 44: val_loss did not improve from 0.70179\n",
      "\u001b[1m760/760\u001b[0m \u001b[32m━━━━━━━━━━━━━━━━━━━━\u001b[0m\u001b[37m\u001b[0m \u001b[1m18s\u001b[0m 24ms/step - accuracy: 0.8461 - auc: 0.9829 - f1_score: 0.8509 - loss: 0.8388 - precision: 0.8943 - recall: 0.7690 - val_accuracy: 0.8618 - val_auc: 0.9866 - val_f1_score: 0.8530 - val_loss: 0.7506 - val_precision: 0.8941 - val_recall: 0.8224\n",
      "Epoch 45/100\n",
      "\u001b[1m758/760\u001b[0m \u001b[32m━━━━━━━━━━━━━━━━━━━\u001b[0m\u001b[37m━\u001b[0m \u001b[1m0s\u001b[0m 20ms/step - accuracy: 0.8090 - auc: 0.9776 - f1_score: 0.8110 - loss: 0.9147 - precision: 0.8819 - recall: 0.7287\n",
      "Epoch 45: val_loss did not improve from 0.70179\n",
      "\u001b[1m760/760\u001b[0m \u001b[32m━━━━━━━━━━━━━━━━━━━━\u001b[0m\u001b[37m\u001b[0m \u001b[1m18s\u001b[0m 24ms/step - accuracy: 0.8090 - auc: 0.9776 - f1_score: 0.8110 - loss: 0.9147 - precision: 0.8819 - recall: 0.7287 - val_accuracy: 0.8539 - val_auc: 0.9858 - val_f1_score: 0.8527 - val_loss: 0.7508 - val_precision: 0.8902 - val_recall: 0.8211\n",
      "Epoch 46/100\n",
      "\u001b[1m760/760\u001b[0m \u001b[32m━━━━━━━━━━━━━━━━━━━━\u001b[0m\u001b[37m\u001b[0m \u001b[1m0s\u001b[0m 20ms/step - accuracy: 0.8259 - auc: 0.9833 - f1_score: 0.8296 - loss: 0.8505 - precision: 0.8906 - recall: 0.7510\n",
      "Epoch 46: val_loss did not improve from 0.70179\n",
      "\u001b[1m760/760\u001b[0m \u001b[32m━━━━━━━━━━━━━━━━━━━━\u001b[0m\u001b[37m\u001b[0m \u001b[1m18s\u001b[0m 24ms/step - accuracy: 0.8259 - auc: 0.9833 - f1_score: 0.8296 - loss: 0.8505 - precision: 0.8906 - recall: 0.7510 - val_accuracy: 0.8579 - val_auc: 0.9849 - val_f1_score: 0.8569 - val_loss: 0.7638 - val_precision: 0.8848 - val_recall: 0.8184\n",
      "Epoch 47/100\n",
      "\u001b[1m760/760\u001b[0m \u001b[32m━━━━━━━━━━━━━━━━━━━━\u001b[0m\u001b[37m\u001b[0m \u001b[1m0s\u001b[0m 20ms/step - accuracy: 0.8359 - auc: 0.9828 - f1_score: 0.8390 - loss: 0.8405 - precision: 0.8904 - recall: 0.7658\n",
      "Epoch 47: val_loss improved from 0.70179 to 0.70085, saving model to ResNet50_best_model.h5\n"
     ]
    },
    {
     "name": "stderr",
     "output_type": "stream",
     "text": [
      "WARNING:absl:You are saving your model as an HDF5 file via `model.save()` or `keras.saving.save_model(model)`. This file format is considered legacy. We recommend using instead the native Keras format, e.g. `model.save('my_model.keras')` or `keras.saving.save_model(model, 'my_model.keras')`. \n"
     ]
    },
    {
     "name": "stdout",
     "output_type": "stream",
     "text": [
      "\b\b\b\b\b\b\b\b\b\b\b\b\b\b\b\b\b\b\b\b\b\b\b\b\b\b\b\b\b\b\b\b\b\b\b\b\b\b\b\b\b\b\b\b\b\b\b\b\b\b\b\b\b\b\b\b\b\b\b\b\b\b\b\b\b\b\b\b\b\b\b\b\b\b\b\b\b\b\b\b\b\b\b\b\b\b\b\b\b\b\b\b\b\b\b\b\b\b\b\b\b\b\b\b\b\b\b\b\b\b\b\b\b\b\b\b\b\b\b\b\b\b\b\b\b\b\b\b\b\b\b\b\b\b\b\b\b\b\b\b\b\b\b\b\b\r\n",
      "\u001b[1m760/760\u001b[0m \u001b[32m━━━━━━━━━━━━━━━━━━━━\u001b[0m\u001b[37m\u001b[0m \u001b[1m19s\u001b[0m 24ms/step - accuracy: 0.8358 - auc: 0.9828 - f1_score: 0.8390 - loss: 0.8405 - precision: 0.8904 - recall: 0.7658 - val_accuracy: 0.8697 - val_auc: 0.9901 - val_f1_score: 0.8679 - val_loss: 0.7008 - val_precision: 0.8978 - val_recall: 0.8434\n",
      "Epoch 48/100\n",
      "\u001b[1m760/760\u001b[0m \u001b[32m━━━━━━━━━━━━━━━━━━━━\u001b[0m\u001b[37m\u001b[0m \u001b[1m0s\u001b[0m 20ms/step - accuracy: 0.8298 - auc: 0.9844 - f1_score: 0.8305 - loss: 0.8270 - precision: 0.8867 - recall: 0.7595\n",
      "Epoch 48: val_loss did not improve from 0.70085\n",
      "\u001b[1m760/760\u001b[0m \u001b[32m━━━━━━━━━━━━━━━━━━━━\u001b[0m\u001b[37m\u001b[0m \u001b[1m18s\u001b[0m 24ms/step - accuracy: 0.8298 - auc: 0.9844 - f1_score: 0.8305 - loss: 0.8270 - precision: 0.8867 - recall: 0.7595 - val_accuracy: 0.8513 - val_auc: 0.9877 - val_f1_score: 0.8509 - val_loss: 0.7309 - val_precision: 0.8848 - val_recall: 0.8184\n",
      "Epoch 49/100\n",
      "\u001b[1m760/760\u001b[0m \u001b[32m━━━━━━━━━━━━━━━━━━━━\u001b[0m\u001b[37m\u001b[0m \u001b[1m0s\u001b[0m 20ms/step - accuracy: 0.8298 - auc: 0.9824 - f1_score: 0.8334 - loss: 0.8353 - precision: 0.8879 - recall: 0.7631\n",
      "Epoch 49: val_loss did not improve from 0.70085\n",
      "\u001b[1m760/760\u001b[0m \u001b[32m━━━━━━━━━━━━━━━━━━━━\u001b[0m\u001b[37m\u001b[0m \u001b[1m18s\u001b[0m 24ms/step - accuracy: 0.8298 - auc: 0.9824 - f1_score: 0.8334 - loss: 0.8353 - precision: 0.8879 - recall: 0.7630 - val_accuracy: 0.8539 - val_auc: 0.9872 - val_f1_score: 0.8536 - val_loss: 0.7400 - val_precision: 0.8850 - val_recall: 0.8303\n",
      "Epoch 50/100\n",
      "\u001b[1m759/760\u001b[0m \u001b[32m━━━━━━━━━━━━━━━━━━━\u001b[0m\u001b[37m━\u001b[0m \u001b[1m0s\u001b[0m 20ms/step - accuracy: 0.8378 - auc: 0.9844 - f1_score: 0.8397 - loss: 0.8130 - precision: 0.8954 - recall: 0.7750\n",
      "Epoch 50: val_loss did not improve from 0.70085\n",
      "\u001b[1m760/760\u001b[0m \u001b[32m━━━━━━━━━━━━━━━━━━━━\u001b[0m\u001b[37m\u001b[0m \u001b[1m18s\u001b[0m 24ms/step - accuracy: 0.8377 - auc: 0.9844 - f1_score: 0.8397 - loss: 0.8131 - precision: 0.8954 - recall: 0.7750 - val_accuracy: 0.8421 - val_auc: 0.9860 - val_f1_score: 0.8410 - val_loss: 0.7558 - val_precision: 0.8679 - val_recall: 0.8039\n",
      "Epoch 51/100\n",
      "\u001b[1m760/760\u001b[0m \u001b[32m━━━━━━━━━━━━━━━━━━━━\u001b[0m\u001b[37m\u001b[0m \u001b[1m0s\u001b[0m 20ms/step - accuracy: 0.8337 - auc: 0.9838 - f1_score: 0.8370 - loss: 0.8148 - precision: 0.8966 - recall: 0.7708\n",
      "Epoch 51: val_loss did not improve from 0.70085\n",
      "\u001b[1m760/760\u001b[0m \u001b[32m━━━━━━━━━━━━━━━━━━━━\u001b[0m\u001b[37m\u001b[0m \u001b[1m18s\u001b[0m 24ms/step - accuracy: 0.8337 - auc: 0.9838 - f1_score: 0.8370 - loss: 0.8148 - precision: 0.8966 - recall: 0.7708 - val_accuracy: 0.8724 - val_auc: 0.9854 - val_f1_score: 0.8679 - val_loss: 0.7338 - val_precision: 0.8931 - val_recall: 0.8355\n",
      "Epoch 52/100\n",
      "\u001b[1m760/760\u001b[0m \u001b[32m━━━━━━━━━━━━━━━━━━━━\u001b[0m\u001b[37m\u001b[0m \u001b[1m0s\u001b[0m 20ms/step - accuracy: 0.8133 - auc: 0.9800 - f1_score: 0.8181 - loss: 0.8681 - precision: 0.8769 - recall: 0.7460\n",
      "Epoch 52: val_loss improved from 0.70085 to 0.61645, saving model to ResNet50_best_model.h5\n"
     ]
    },
    {
     "name": "stderr",
     "output_type": "stream",
     "text": [
      "WARNING:absl:You are saving your model as an HDF5 file via `model.save()` or `keras.saving.save_model(model)`. This file format is considered legacy. We recommend using instead the native Keras format, e.g. `model.save('my_model.keras')` or `keras.saving.save_model(model, 'my_model.keras')`. \n"
     ]
    },
    {
     "name": "stdout",
     "output_type": "stream",
     "text": [
      "\b\b\b\b\b\b\b\b\b\b\b\b\b\b\b\b\b\b\b\b\b\b\b\b\b\b\b\b\b\b\b\b\b\b\b\b\b\b\b\b\b\b\b\b\b\b\b\b\b\b\b\b\b\b\b\b\b\b\b\b\b\b\b\b\b\b\b\b\b\b\b\b\b\b\b\b\b\b\b\b\b\b\b\b\b\b\b\b\b\b\b\b\b\b\b\b\b\b\b\b\b\b\b\b\b\b\b\b\b\b\b\b\b\b\b\b\b\b\b\b\b\b\b\b\b\b\b\b\b\b\b\b\b\b\b\b\b\b\b\b\b\b\b\b\b\r\n",
      "\u001b[1m760/760\u001b[0m \u001b[32m━━━━━━━━━━━━━━━━━━━━\u001b[0m\u001b[37m\u001b[0m \u001b[1m19s\u001b[0m 25ms/step - accuracy: 0.8133 - auc: 0.9800 - f1_score: 0.8181 - loss: 0.8681 - precision: 0.8769 - recall: 0.7460 - val_accuracy: 0.9000 - val_auc: 0.9940 - val_f1_score: 0.9042 - val_loss: 0.6164 - val_precision: 0.9256 - val_recall: 0.8671\n",
      "Epoch 53/100\n",
      "\u001b[1m760/760\u001b[0m \u001b[32m━━━━━━━━━━━━━━━━━━━━\u001b[0m\u001b[37m\u001b[0m \u001b[1m0s\u001b[0m 20ms/step - accuracy: 0.8352 - auc: 0.9845 - f1_score: 0.8375 - loss: 0.8048 - precision: 0.9047 - recall: 0.7642\n",
      "Epoch 53: val_loss did not improve from 0.61645\n",
      "\u001b[1m760/760\u001b[0m \u001b[32m━━━━━━━━━━━━━━━━━━━━\u001b[0m\u001b[37m\u001b[0m \u001b[1m18s\u001b[0m 24ms/step - accuracy: 0.8352 - auc: 0.9845 - f1_score: 0.8374 - loss: 0.8048 - precision: 0.9047 - recall: 0.7642 - val_accuracy: 0.8711 - val_auc: 0.9892 - val_f1_score: 0.8670 - val_loss: 0.6983 - val_precision: 0.8919 - val_recall: 0.8355\n",
      "Epoch 54/100\n",
      "\u001b[1m760/760\u001b[0m \u001b[32m━━━━━━━━━━━━━━━━━━━━\u001b[0m\u001b[37m\u001b[0m \u001b[1m0s\u001b[0m 20ms/step - accuracy: 0.8388 - auc: 0.9834 - f1_score: 0.8419 - loss: 0.8136 - precision: 0.8998 - recall: 0.7694\n",
      "Epoch 54: val_loss did not improve from 0.61645\n",
      "\u001b[1m760/760\u001b[0m \u001b[32m━━━━━━━━━━━━━━━━━━━━\u001b[0m\u001b[37m\u001b[0m \u001b[1m18s\u001b[0m 24ms/step - accuracy: 0.8388 - auc: 0.9834 - f1_score: 0.8419 - loss: 0.8136 - precision: 0.8998 - recall: 0.7694 - val_accuracy: 0.8737 - val_auc: 0.9891 - val_f1_score: 0.8761 - val_loss: 0.6858 - val_precision: 0.8958 - val_recall: 0.8368\n",
      "Epoch 55/100\n",
      "\u001b[1m760/760\u001b[0m \u001b[32m━━━━━━━━━━━━━━━━━━━━\u001b[0m\u001b[37m\u001b[0m \u001b[1m0s\u001b[0m 20ms/step - accuracy: 0.8332 - auc: 0.9820 - f1_score: 0.8349 - loss: 0.8268 - precision: 0.8847 - recall: 0.7590\n",
      "Epoch 55: val_loss did not improve from 0.61645\n",
      "\u001b[1m760/760\u001b[0m \u001b[32m━━━━━━━━━━━━━━━━━━━━\u001b[0m\u001b[37m\u001b[0m \u001b[1m18s\u001b[0m 24ms/step - accuracy: 0.8332 - auc: 0.9820 - f1_score: 0.8349 - loss: 0.8268 - precision: 0.8847 - recall: 0.7590 - val_accuracy: 0.8671 - val_auc: 0.9901 - val_f1_score: 0.8656 - val_loss: 0.6775 - val_precision: 0.8925 - val_recall: 0.8408\n",
      "Epoch 56/100\n",
      "\u001b[1m758/760\u001b[0m \u001b[32m━━━━━━━━━━━━━━━━━━━\u001b[0m\u001b[37m━\u001b[0m \u001b[1m0s\u001b[0m 21ms/step - accuracy: 0.8449 - auc: 0.9847 - f1_score: 0.8463 - loss: 0.7929 - precision: 0.9002 - recall: 0.7768\n",
      "Epoch 56: val_loss did not improve from 0.61645\n",
      "\u001b[1m760/760\u001b[0m \u001b[32m━━━━━━━━━━━━━━━━━━━━\u001b[0m\u001b[37m\u001b[0m \u001b[1m19s\u001b[0m 25ms/step - accuracy: 0.8448 - auc: 0.9847 - f1_score: 0.8462 - loss: 0.7930 - precision: 0.9001 - recall: 0.7767 - val_accuracy: 0.8408 - val_auc: 0.9863 - val_f1_score: 0.8360 - val_loss: 0.7384 - val_precision: 0.8723 - val_recall: 0.8092\n",
      "Epoch 57/100\n",
      "\u001b[1m759/760\u001b[0m \u001b[32m━━━━━━━━━━━━━━━━━━━\u001b[0m\u001b[37m━\u001b[0m \u001b[1m0s\u001b[0m 21ms/step - accuracy: 0.8410 - auc: 0.9853 - f1_score: 0.8441 - loss: 0.7924 - precision: 0.8990 - recall: 0.7710\n",
      "Epoch 57: val_loss improved from 0.61645 to 0.59954, saving model to ResNet50_best_model.h5\n"
     ]
    },
    {
     "name": "stderr",
     "output_type": "stream",
     "text": [
      "WARNING:absl:You are saving your model as an HDF5 file via `model.save()` or `keras.saving.save_model(model)`. This file format is considered legacy. We recommend using instead the native Keras format, e.g. `model.save('my_model.keras')` or `keras.saving.save_model(model, 'my_model.keras')`. \n"
     ]
    },
    {
     "name": "stdout",
     "output_type": "stream",
     "text": [
      "\b\b\b\b\b\b\b\b\b\b\b\b\b\b\b\b\b\b\b\b\b\b\b\b\b\b\b\b\b\b\b\b\b\b\b\b\b\b\b\b\b\b\b\b\b\b\b\b\b\b\b\b\b\b\b\b\b\b\b\b\b\b\b\b\b\b\b\b\b\b\b\b\b\b\b\b\b\b\b\b\b\b\b\b\b\b\b\b\b\b\b\b\b\b\b\b\b\b\b\b\b\b\b\b\b\b\b\b\b\b\b\b\b\b\b\b\b\b\b\b\b\b\b\b\b\b\b\b\b\b\b\b\b\b\b\b\b\b\b\b\b\b\b\b\b\r\n",
      "\u001b[1m760/760\u001b[0m \u001b[32m━━━━━━━━━━━━━━━━━━━━\u001b[0m\u001b[37m\u001b[0m \u001b[1m20s\u001b[0m 26ms/step - accuracy: 0.8410 - auc: 0.9853 - f1_score: 0.8441 - loss: 0.7924 - precision: 0.8989 - recall: 0.7710 - val_accuracy: 0.9026 - val_auc: 0.9943 - val_f1_score: 0.9031 - val_loss: 0.5995 - val_precision: 0.9207 - val_recall: 0.8711\n",
      "Epoch 58/100\n",
      "\u001b[1m760/760\u001b[0m \u001b[32m━━━━━━━━━━━━━━━━━━━━\u001b[0m\u001b[37m\u001b[0m \u001b[1m0s\u001b[0m 21ms/step - accuracy: 0.8296 - auc: 0.9830 - f1_score: 0.8395 - loss: 0.8240 - precision: 0.8819 - recall: 0.7477\n",
      "Epoch 58: val_loss did not improve from 0.59954\n",
      "\u001b[1m760/760\u001b[0m \u001b[32m━━━━━━━━━━━━━━━━━━━━\u001b[0m\u001b[37m\u001b[0m \u001b[1m19s\u001b[0m 25ms/step - accuracy: 0.8296 - auc: 0.9830 - f1_score: 0.8395 - loss: 0.8241 - precision: 0.8819 - recall: 0.7477 - val_accuracy: 0.8461 - val_auc: 0.9867 - val_f1_score: 0.8477 - val_loss: 0.7333 - val_precision: 0.8771 - val_recall: 0.8079\n",
      "Epoch 59/100\n",
      "\u001b[1m759/760\u001b[0m \u001b[32m━━━━━━━━━━━━━━━━━━━\u001b[0m\u001b[37m━\u001b[0m \u001b[1m0s\u001b[0m 21ms/step - accuracy: 0.8299 - auc: 0.9819 - f1_score: 0.8307 - loss: 0.8348 - precision: 0.8952 - recall: 0.7530\n",
      "Epoch 59: val_loss did not improve from 0.59954\n",
      "\u001b[1m760/760\u001b[0m \u001b[32m━━━━━━━━━━━━━━━━━━━━\u001b[0m\u001b[37m\u001b[0m \u001b[1m18s\u001b[0m 24ms/step - accuracy: 0.8299 - auc: 0.9819 - f1_score: 0.8307 - loss: 0.8348 - precision: 0.8952 - recall: 0.7530 - val_accuracy: 0.8895 - val_auc: 0.9931 - val_f1_score: 0.8938 - val_loss: 0.6350 - val_precision: 0.9235 - val_recall: 0.8579\n",
      "Epoch 60/100\n",
      "\u001b[1m760/760\u001b[0m \u001b[32m━━━━━━━━━━━━━━━━━━━━\u001b[0m\u001b[37m\u001b[0m \u001b[1m0s\u001b[0m 20ms/step - accuracy: 0.8429 - auc: 0.9842 - f1_score: 0.8465 - loss: 0.7996 - precision: 0.8929 - recall: 0.7748\n",
      "Epoch 60: val_loss did not improve from 0.59954\n",
      "\u001b[1m760/760\u001b[0m \u001b[32m━━━━━━━━━━━━━━━━━━━━\u001b[0m\u001b[37m\u001b[0m \u001b[1m18s\u001b[0m 24ms/step - accuracy: 0.8429 - auc: 0.9842 - f1_score: 0.8465 - loss: 0.7996 - precision: 0.8929 - recall: 0.7748 - val_accuracy: 0.8961 - val_auc: 0.9916 - val_f1_score: 0.8980 - val_loss: 0.6373 - val_precision: 0.9043 - val_recall: 0.8579\n",
      "Epoch 61/100\n",
      "\u001b[1m759/760\u001b[0m \u001b[32m━━━━━━━━━━━━━━━━━━━\u001b[0m\u001b[37m━\u001b[0m \u001b[1m0s\u001b[0m 20ms/step - accuracy: 0.8278 - auc: 0.9822 - f1_score: 0.8299 - loss: 0.8172 - precision: 0.8936 - recall: 0.7635\n",
      "Epoch 61: val_loss did not improve from 0.59954\n",
      "\u001b[1m760/760\u001b[0m \u001b[32m━━━━━━━━━━━━━━━━━━━━\u001b[0m\u001b[37m\u001b[0m \u001b[1m18s\u001b[0m 24ms/step - accuracy: 0.8278 - auc: 0.9822 - f1_score: 0.8299 - loss: 0.8171 - precision: 0.8936 - recall: 0.7635 - val_accuracy: 0.8789 - val_auc: 0.9896 - val_f1_score: 0.8747 - val_loss: 0.6651 - val_precision: 0.9097 - val_recall: 0.8487\n",
      "Epoch 62/100\n",
      "\u001b[1m759/760\u001b[0m \u001b[32m━━━━━━━━━━━━━━━━━━━\u001b[0m\u001b[37m━\u001b[0m \u001b[1m0s\u001b[0m 20ms/step - accuracy: 0.8405 - auc: 0.9830 - f1_score: 0.8433 - loss: 0.8074 - precision: 0.8941 - recall: 0.7614\n",
      "Epoch 62: val_loss did not improve from 0.59954\n",
      "\u001b[1m760/760\u001b[0m \u001b[32m━━━━━━━━━━━━━━━━━━━━\u001b[0m\u001b[37m\u001b[0m \u001b[1m18s\u001b[0m 24ms/step - accuracy: 0.8404 - auc: 0.9830 - f1_score: 0.8432 - loss: 0.8075 - precision: 0.8941 - recall: 0.7614 - val_accuracy: 0.8842 - val_auc: 0.9917 - val_f1_score: 0.8840 - val_loss: 0.6449 - val_precision: 0.9157 - val_recall: 0.8434\n",
      "Epoch 63/100\n",
      "\u001b[1m759/760\u001b[0m \u001b[32m━━━━━━━━━━━━━━━━━━━\u001b[0m\u001b[37m━\u001b[0m \u001b[1m0s\u001b[0m 21ms/step - accuracy: 0.8139 - auc: 0.9809 - f1_score: 0.8158 - loss: 0.8558 - precision: 0.8809 - recall: 0.7377\n",
      "Epoch 63: val_loss did not improve from 0.59954\n",
      "\u001b[1m760/760\u001b[0m \u001b[32m━━━━━━━━━━━━━━━━━━━━\u001b[0m\u001b[37m\u001b[0m \u001b[1m19s\u001b[0m 24ms/step - accuracy: 0.8140 - auc: 0.9809 - f1_score: 0.8159 - loss: 0.8558 - precision: 0.8809 - recall: 0.7377 - val_accuracy: 0.8579 - val_auc: 0.9897 - val_f1_score: 0.8567 - val_loss: 0.6836 - val_precision: 0.8954 - val_recall: 0.8224\n",
      "Epoch 64/100\n",
      "\u001b[1m759/760\u001b[0m \u001b[32m━━━━━━━━━━━━━━━━━━━\u001b[0m\u001b[37m━\u001b[0m \u001b[1m0s\u001b[0m 21ms/step - accuracy: 0.8159 - auc: 0.9786 - f1_score: 0.8213 - loss: 0.8775 - precision: 0.8814 - recall: 0.7292\n",
      "Epoch 64: val_loss did not improve from 0.59954\n",
      "\u001b[1m760/760\u001b[0m \u001b[32m━━━━━━━━━━━━━━━━━━━━\u001b[0m\u001b[37m\u001b[0m \u001b[1m19s\u001b[0m 24ms/step - accuracy: 0.8159 - auc: 0.9787 - f1_score: 0.8213 - loss: 0.8775 - precision: 0.8814 - recall: 0.7292 - val_accuracy: 0.8934 - val_auc: 0.9939 - val_f1_score: 0.8958 - val_loss: 0.6101 - val_precision: 0.9215 - val_recall: 0.8500\n",
      "Epoch 65/100\n",
      "\u001b[1m758/760\u001b[0m \u001b[32m━━━━━━━━━━━━━━━━━━━\u001b[0m\u001b[37m━\u001b[0m \u001b[1m0s\u001b[0m 20ms/step - accuracy: 0.8371 - auc: 0.9838 - f1_score: 0.8436 - loss: 0.7996 - precision: 0.8914 - recall: 0.7662\n",
      "Epoch 65: val_loss did not improve from 0.59954\n",
      "\u001b[1m760/760\u001b[0m \u001b[32m━━━━━━━━━━━━━━━━━━━━\u001b[0m\u001b[37m\u001b[0m \u001b[1m18s\u001b[0m 24ms/step - accuracy: 0.8371 - auc: 0.9838 - f1_score: 0.8436 - loss: 0.7996 - precision: 0.8915 - recall: 0.7662 - val_accuracy: 0.8579 - val_auc: 0.9878 - val_f1_score: 0.8604 - val_loss: 0.7070 - val_precision: 0.8814 - val_recall: 0.8211\n",
      "Epoch 66/100\n",
      "\u001b[1m760/760\u001b[0m \u001b[32m━━━━━━━━━━━━━━━━━━━━\u001b[0m\u001b[37m\u001b[0m \u001b[1m0s\u001b[0m 20ms/step - accuracy: 0.8261 - auc: 0.9836 - f1_score: 0.8281 - loss: 0.8071 - precision: 0.8911 - recall: 0.7546\n",
      "Epoch 66: val_loss did not improve from 0.59954\n",
      "\u001b[1m760/760\u001b[0m \u001b[32m━━━━━━━━━━━━━━━━━━━━\u001b[0m\u001b[37m\u001b[0m \u001b[1m18s\u001b[0m 24ms/step - accuracy: 0.8261 - auc: 0.9836 - f1_score: 0.8281 - loss: 0.8071 - precision: 0.8911 - recall: 0.7546 - val_accuracy: 0.8697 - val_auc: 0.9838 - val_f1_score: 0.8699 - val_loss: 0.7344 - val_precision: 0.8953 - val_recall: 0.8329\n",
      "Epoch 67/100\n",
      "\u001b[1m759/760\u001b[0m \u001b[32m━━━━━━━━━━━━━━━━━━━\u001b[0m\u001b[37m━\u001b[0m \u001b[1m0s\u001b[0m 21ms/step - accuracy: 0.8420 - auc: 0.9830 - f1_score: 0.8453 - loss: 0.8015 - precision: 0.9033 - recall: 0.7695\n",
      "Epoch 67: val_loss did not improve from 0.59954\n",
      "\u001b[1m760/760\u001b[0m \u001b[32m━━━━━━━━━━━━━━━━━━━━\u001b[0m\u001b[37m\u001b[0m \u001b[1m19s\u001b[0m 25ms/step - accuracy: 0.8420 - auc: 0.9830 - f1_score: 0.8453 - loss: 0.8015 - precision: 0.9033 - recall: 0.7695 - val_accuracy: 0.8921 - val_auc: 0.9923 - val_f1_score: 0.8906 - val_loss: 0.6288 - val_precision: 0.9069 - val_recall: 0.8592\n",
      "Epoch 67: early stopping\n",
      "Restoring model weights from the end of the best epoch: 57.\n"
     ]
    },
    {
     "data": {
      "image/png": "[encoded data removed]",
      "text/plain": [
       "<Figure size 1000x600 with 1 Axes>"
      ]
     },
     "metadata": {},
     "output_type": "display_data"
    },
    {
     "name": "stderr",
     "output_type": "stream",
     "text": [
      "WARNING:absl:Compiled the loaded model, but the compiled metrics have yet to be built. `model.compile_metrics` will be empty until you train or evaluate the model.\n"
     ]
    }
   ],
   "source": [
    "best_model, history, results = create_and_train_model(\n",
    "    'ResNet50',\n",
    "    (train_images, train_labels_one_hot),\n",
    "    (val_images, val_labels_one_hot),\n",
    "    (test_images, test_labels_one_hot)\n",
    ")"
   ]
  },
  {
   "cell_type": "markdown",
   "id": "6ecce7d3-c5e8-490a-9fcd-443d4407aae7",
   "metadata": {
    "id": "6ecce7d3-c5e8-490a-9fcd-443d4407aae7"
   },
   "source": [
    "### v) Display metrics"
   ]
  },
  {
   "cell_type": "code",
   "execution_count": 14,
   "id": "1tp8-dwH7QFZ",
   "metadata": {
    "executionInfo": {
     "elapsed": 7,
     "status": "ok",
     "timestamp": 1746952631319,
     "user": {
      "displayName": "Suloni Praveen",
      "userId": "17262207939091849753"
     },
     "user_tz": 420
    },
    "id": "1tp8-dwH7QFZ"
   },
   "outputs": [],
   "source": [
    "def display_metrics(best_model, train_data, val_data, test_data=None, history=None):\n",
    "\n",
    "    def to_scalar(value):\n",
    "        if hasattr(value, 'numpy'):\n",
    "            value = value.numpy()\n",
    "\n",
    "        if isinstance(value, np.ndarray):\n",
    "            if value.size == 1:\n",
    "                return value.item()\n",
    "            else:\n",
    "                return float(np.mean(value))\n",
    "\n",
    "        return float(value)\n",
    "\n",
    "    train_images, train_labels = train_data\n",
    "    val_images, val_labels = val_data\n",
    "\n",
    "    datasets = [\n",
    "        ('Training', train_images, train_labels),\n",
    "        ('Validation', val_images, val_labels)\n",
    "    ]\n",
    "\n",
    "    if test_data is not None:\n",
    "        test_images, test_labels = test_data\n",
    "        datasets.append(('Test', test_images, test_labels))\n",
    "\n",
    "    all_metrics = {}\n",
    "\n",
    "    print(\"\\n\" + \"=\"*80)\n",
    "    print(f\"MODEL PERFORMANCE METRICS\".center(80))\n",
    "    print(\"=\"*80)\n",
    "\n",
    "    header = f\"{'Metric':<15}\"\n",
    "    for dataset_name, _, _ in datasets:\n",
    "        header += f\"{dataset_name:<25}\"\n",
    "    print(header)\n",
    "    print(\"-\"*80)\n",
    "\n",
    "    for name, images, labels in datasets:\n",
    "        print(f\"Evaluating on {name} data...\")\n",
    "\n",
    "        batch_size = 5\n",
    "        all_preds = []\n",
    "\n",
    "        if len(labels.shape) > 1:\n",
    "            true_classes = np.argmax(labels, axis=1)\n",
    "        else:\n",
    "            true_classes = labels\n",
    "\n",
    "        for i in range(0, len(images), batch_size):\n",
    "            batch_images = images[i:i+batch_size]\n",
    "            batch_preds = best_model.predict(batch_images, verbose=0)\n",
    "            all_preds.append(batch_preds)\n",
    "\n",
    "        predictions = np.vstack(all_preds)\n",
    "        pred_classes = np.argmax(predictions, axis=1)\n",
    "\n",
    "        accuracy = to_scalar(accuracy_score(true_classes, pred_classes))\n",
    "        precision = to_scalar(precision_score(true_classes, pred_classes, average='weighted', zero_division=0))\n",
    "        recall = to_scalar(recall_score(true_classes, pred_classes, average='weighted', zero_division=0))\n",
    "        f1 = to_scalar(f1_score(true_classes, pred_classes, average='weighted', zero_division=0))\n",
    "\n",
    "        y_true_one_hot = labels if len(labels.shape) > 1 else tf.keras.utils.to_categorical(labels, num_classes=predictions.shape[1])\n",
    "        auc = to_scalar(roc_auc_score(y_true_one_hot, predictions, average='weighted', multi_class='ovr'))\n",
    "\n",
    "        evaluation = best_model.evaluate(images, labels, verbose=0)\n",
    "        loss = to_scalar(evaluation[0])\n",
    "\n",
    "        all_metrics[name] = {\n",
    "            'Accuracy': accuracy,\n",
    "            'Precision': precision,\n",
    "            'Recall': recall,\n",
    "            'AUC': auc,\n",
    "            'F1 Score': f1,\n",
    "            'Loss': loss\n",
    "        }\n",
    "\n",
    "    metrics_to_display = ['Accuracy', 'Precision', 'Recall', 'AUC', 'F1 Score']\n",
    "\n",
    "    for metric in metrics_to_display:\n",
    "        row = f\"{metric:<15}\"\n",
    "        for dataset_name, _, _ in datasets:\n",
    "            if dataset_name in all_metrics and metric in all_metrics[dataset_name]:\n",
    "                value = all_metrics[dataset_name][metric]\n",
    "                row += f\"{value:.4f}\".ljust(25)\n",
    "            else:\n",
    "                row += \"N/A\".ljust(25)\n",
    "        print(row)\n",
    "\n",
    "    print(\"=\"*80)\n",
    "\n",
    "    if test_data is not None and 'Test' in all_metrics:\n",
    "        print(\"\\nDetailed Test Metrics:\")\n",
    "        test_results = all_metrics['Test']\n",
    "        print(f\"Test Loss: {test_results['Loss']:.4f}\")\n",
    "        print(f\"Test Accuracy: {test_results['Accuracy']:.4f}\")\n",
    "        print(f\"Test Precision: {test_results['Precision']:.4f}\")\n",
    "        print(f\"Test F1 Score: {test_results['F1 Score']:.4f}\")\n",
    "        print(f\"Test Recall: {test_results['Recall']:.4f}\")\n",
    "        print(f\"Test AUC: {test_results['AUC']:.4f}\")\n",
    "\n",
    "        print(\"\\nClassification Report on Test Data:\")\n",
    "        print(classification_report(true_classes, pred_classes))\n",
    "\n",
    "    return all_metrics"
   ]
  },
  {
   "cell_type": "code",
   "execution_count": 17,
   "id": "fVb9C0l67V4e",
   "metadata": {
    "colab": {
     "base_uri": "https://localhost:8080/"
    },
    "executionInfo": {
     "elapsed": 135987,
     "status": "ok",
     "timestamp": 1746953888532,
     "user": {
      "displayName": "Suloni Praveen",
      "userId": "17262207939091849753"
     },
     "user_tz": 420
    },
    "id": "fVb9C0l67V4e",
    "outputId": "ccb9acb2-a056-4397-d3e4-4a1d65e5d9dc"
   },
   "outputs": [
    {
     "name": "stdout",
     "output_type": "stream",
     "text": [
      "\n",
      "================================================================================\n",
      "                           MODEL PERFORMANCE METRICS                            \n",
      "================================================================================\n",
      "Metric         Training                 Validation               Test                     \n",
      "--------------------------------------------------------------------------------\n",
      "Evaluating on Training data...\n",
      "Evaluating on Validation data...\n",
      "Evaluating on Test data...\n",
      "Accuracy       0.8936                   0.9026                   0.7495                   \n",
      "Precision      0.8969                   0.9092                   0.7640                   \n",
      "Recall         0.8936                   0.9026                   0.7495                   \n",
      "AUC            0.9935                   0.9942                   0.9658                   \n",
      "F1 Score       0.8937                   0.9031                   0.7485                   \n",
      "================================================================================\n",
      "\n",
      "Detailed Test Metrics:\n",
      "Test Loss: 1.0001\n",
      "Test Accuracy: 0.7495\n",
      "Test Precision: 0.7640\n",
      "Test F1 Score: 0.7485\n",
      "Test Recall: 0.7495\n",
      "Test AUC: 0.9658\n",
      "\n",
      "Classification Report on Test Data:\n",
      "              precision    recall  f1-score   support\n",
      "\n",
      "           0       0.81      0.85      0.83        93\n",
      "           1       0.91      0.59      0.72        83\n",
      "           2       0.78      0.70      0.74        84\n",
      "           3       0.78      0.85      0.82       158\n",
      "           4       0.54      0.55      0.54        99\n",
      "           5       0.88      0.81      0.84       100\n",
      "           6       0.79      0.71      0.75       185\n",
      "           7       0.75      0.64      0.69        64\n",
      "           8       0.61      0.98      0.75        88\n",
      "\n",
      "    accuracy                           0.75       954\n",
      "   macro avg       0.76      0.74      0.74       954\n",
      "weighted avg       0.76      0.75      0.75       954\n",
      "\n"
     ]
    }
   ],
   "source": [
    "metrics = display_metrics(\n",
    "    best_model,\n",
    "    (train_images, train_labels_one_hot),\n",
    "    (val_images, val_labels_one_hot),\n",
    "    (test_images, test_labels_one_hot),\n",
    "\n",
    ")"
   ]
  },
  {
   "cell_type": "markdown",
   "id": "7678828c-06bf-423b-8d95-15a66e729771",
   "metadata": {
    "id": "7678828c-06bf-423b-8d95-15a66e729771"
   },
   "source": [
    "### ResNet101"
   ]
  },
  {
   "cell_type": "code",
   "execution_count": 18,
   "id": "s_kjAUAZ0lNC",
   "metadata": {
    "colab": {
     "base_uri": "https://localhost:8080/",
     "height": 1000
    },
    "executionInfo": {
     "elapsed": 1836737,
     "status": "ok",
     "timestamp": 1746955845116,
     "user": {
      "displayName": "Suloni Praveen",
      "userId": "17262207939091849753"
     },
     "user_tz": 420
    },
    "id": "s_kjAUAZ0lNC",
    "outputId": "03093b6f-a715-490b-8131-cfe735c5777c"
   },
   "outputs": [
    {
     "name": "stdout",
     "output_type": "stream",
     "text": [
      "Downloading data from https://storage.googleapis.com/tensorflow/keras-applications/resnet/resnet101_weights_tf_dim_ordering_tf_kernels_notop.h5\n",
      "\u001b[1m171446536/171446536\u001b[0m \u001b[32m━━━━━━━━━━━━━━━━━━━━\u001b[0m\u001b[37m\u001b[0m \u001b[1m5s\u001b[0m 0us/step\n"
     ]
    },
    {
     "data": {
      "text/html": [
       "<pre style=\"white-space:pre;overflow-x:auto;line-height:normal;font-family:Menlo,'DejaVu Sans Mono',consolas,'Courier New',monospace\"><span style=\"font-weight: bold\">Model: \"sequential_7\"</span>\n",
       "</pre>\n"
      ],
      "text/plain": [
       "\u001b[1mModel: \"sequential_7\"\u001b[0m\n"
      ]
     },
     "metadata": {},
     "output_type": "display_data"
    },
    {
     "data": {
      "text/html": [
       "<pre style=\"white-space:pre;overflow-x:auto;line-height:normal;font-family:Menlo,'DejaVu Sans Mono',consolas,'Courier New',monospace\">┏━━━━━━━━━━━━━━━━━━━━━━━━━━━━━━━━━┳━━━━━━━━━━━━━━━━━━━━━━━━┳━━━━━━━━━━━━━━━┓\n",
       "┃<span style=\"font-weight: bold\"> Layer (type)                    </span>┃<span style=\"font-weight: bold\"> Output Shape           </span>┃<span style=\"font-weight: bold\">       Param # </span>┃\n",
       "┡━━━━━━━━━━━━━━━━━━━━━━━━━━━━━━━━━╇━━━━━━━━━━━━━━━━━━━━━━━━╇━━━━━━━━━━━━━━━┩\n",
       "│ resnet101 (<span style=\"color: #0087ff; text-decoration-color: #0087ff\">Functional</span>)          │ (<span style=\"color: #00d7ff; text-decoration-color: #00d7ff\">None</span>, <span style=\"color: #00af00; text-decoration-color: #00af00\">2048</span>)           │    <span style=\"color: #00af00; text-decoration-color: #00af00\">42,658,176</span> │\n",
       "├─────────────────────────────────┼────────────────────────┼───────────────┤\n",
       "│ flatten_3 (<span style=\"color: #0087ff; text-decoration-color: #0087ff\">Flatten</span>)             │ (<span style=\"color: #00d7ff; text-decoration-color: #00d7ff\">None</span>, <span style=\"color: #00af00; text-decoration-color: #00af00\">2048</span>)           │             <span style=\"color: #00af00; text-decoration-color: #00af00\">0</span> │\n",
       "├─────────────────────────────────┼────────────────────────┼───────────────┤\n",
       "│ dense_6 (<span style=\"color: #0087ff; text-decoration-color: #0087ff\">Dense</span>)                 │ (<span style=\"color: #00d7ff; text-decoration-color: #00d7ff\">None</span>, <span style=\"color: #00af00; text-decoration-color: #00af00\">512</span>)            │     <span style=\"color: #00af00; text-decoration-color: #00af00\">1,049,088</span> │\n",
       "├─────────────────────────────────┼────────────────────────┼───────────────┤\n",
       "│ batch_normalization_3           │ (<span style=\"color: #00d7ff; text-decoration-color: #00d7ff\">None</span>, <span style=\"color: #00af00; text-decoration-color: #00af00\">512</span>)            │         <span style=\"color: #00af00; text-decoration-color: #00af00\">2,048</span> │\n",
       "│ (<span style=\"color: #0087ff; text-decoration-color: #0087ff\">BatchNormalization</span>)            │                        │               │\n",
       "├─────────────────────────────────┼────────────────────────┼───────────────┤\n",
       "│ dropout_3 (<span style=\"color: #0087ff; text-decoration-color: #0087ff\">Dropout</span>)             │ (<span style=\"color: #00d7ff; text-decoration-color: #00d7ff\">None</span>, <span style=\"color: #00af00; text-decoration-color: #00af00\">512</span>)            │             <span style=\"color: #00af00; text-decoration-color: #00af00\">0</span> │\n",
       "├─────────────────────────────────┼────────────────────────┼───────────────┤\n",
       "│ dense_7 (<span style=\"color: #0087ff; text-decoration-color: #0087ff\">Dense</span>)                 │ (<span style=\"color: #00d7ff; text-decoration-color: #00d7ff\">None</span>, <span style=\"color: #00af00; text-decoration-color: #00af00\">9</span>)              │         <span style=\"color: #00af00; text-decoration-color: #00af00\">4,617</span> │\n",
       "└─────────────────────────────────┴────────────────────────┴───────────────┘\n",
       "</pre>\n"
      ],
      "text/plain": [
       "┏━━━━━━━━━━━━━━━━━━━━━━━━━━━━━━━━━┳━━━━━━━━━━━━━━━━━━━━━━━━┳━━━━━━━━━━━━━━━┓\n",
       "┃\u001b[1m \u001b[0m\u001b[1mLayer (type)                   \u001b[0m\u001b[1m \u001b[0m┃\u001b[1m \u001b[0m\u001b[1mOutput Shape          \u001b[0m\u001b[1m \u001b[0m┃\u001b[1m \u001b[0m\u001b[1m      Param #\u001b[0m\u001b[1m \u001b[0m┃\n",
       "┡━━━━━━━━━━━━━━━━━━━━━━━━━━━━━━━━━╇━━━━━━━━━━━━━━━━━━━━━━━━╇━━━━━━━━━━━━━━━┩\n",
       "│ resnet101 (\u001b[38;5;33mFunctional\u001b[0m)          │ (\u001b[38;5;45mNone\u001b[0m, \u001b[38;5;34m2048\u001b[0m)           │    \u001b[38;5;34m42,658,176\u001b[0m │\n",
       "├─────────────────────────────────┼────────────────────────┼───────────────┤\n",
       "│ flatten_3 (\u001b[38;5;33mFlatten\u001b[0m)             │ (\u001b[38;5;45mNone\u001b[0m, \u001b[38;5;34m2048\u001b[0m)           │             \u001b[38;5;34m0\u001b[0m │\n",
       "├─────────────────────────────────┼────────────────────────┼───────────────┤\n",
       "│ dense_6 (\u001b[38;5;33mDense\u001b[0m)                 │ (\u001b[38;5;45mNone\u001b[0m, \u001b[38;5;34m512\u001b[0m)            │     \u001b[38;5;34m1,049,088\u001b[0m │\n",
       "├─────────────────────────────────┼────────────────────────┼───────────────┤\n",
       "│ batch_normalization_3           │ (\u001b[38;5;45mNone\u001b[0m, \u001b[38;5;34m512\u001b[0m)            │         \u001b[38;5;34m2,048\u001b[0m │\n",
       "│ (\u001b[38;5;33mBatchNormalization\u001b[0m)            │                        │               │\n",
       "├─────────────────────────────────┼────────────────────────┼───────────────┤\n",
       "│ dropout_3 (\u001b[38;5;33mDropout\u001b[0m)             │ (\u001b[38;5;45mNone\u001b[0m, \u001b[38;5;34m512\u001b[0m)            │             \u001b[38;5;34m0\u001b[0m │\n",
       "├─────────────────────────────────┼────────────────────────┼───────────────┤\n",
       "│ dense_7 (\u001b[38;5;33mDense\u001b[0m)                 │ (\u001b[38;5;45mNone\u001b[0m, \u001b[38;5;34m9\u001b[0m)              │         \u001b[38;5;34m4,617\u001b[0m │\n",
       "└─────────────────────────────────┴────────────────────────┴───────────────┘\n"
      ]
     },
     "metadata": {},
     "output_type": "display_data"
    },
    {
     "data": {
      "text/html": [
       "<pre style=\"white-space:pre;overflow-x:auto;line-height:normal;font-family:Menlo,'DejaVu Sans Mono',consolas,'Courier New',monospace\"><span style=\"font-weight: bold\"> Total params: </span><span style=\"color: #00af00; text-decoration-color: #00af00\">43,713,929</span> (166.76 MB)\n",
       "</pre>\n"
      ],
      "text/plain": [
       "\u001b[1m Total params: \u001b[0m\u001b[38;5;34m43,713,929\u001b[0m (166.76 MB)\n"
      ]
     },
     "metadata": {},
     "output_type": "display_data"
    },
    {
     "data": {
      "text/html": [
       "<pre style=\"white-space:pre;overflow-x:auto;line-height:normal;font-family:Menlo,'DejaVu Sans Mono',consolas,'Courier New',monospace\"><span style=\"font-weight: bold\"> Trainable params: </span><span style=\"color: #00af00; text-decoration-color: #00af00\">1,054,729</span> (4.02 MB)\n",
       "</pre>\n"
      ],
      "text/plain": [
       "\u001b[1m Trainable params: \u001b[0m\u001b[38;5;34m1,054,729\u001b[0m (4.02 MB)\n"
      ]
     },
     "metadata": {},
     "output_type": "display_data"
    },
    {
     "data": {
      "text/html": [
       "<pre style=\"white-space:pre;overflow-x:auto;line-height:normal;font-family:Menlo,'DejaVu Sans Mono',consolas,'Courier New',monospace\"><span style=\"font-weight: bold\"> Non-trainable params: </span><span style=\"color: #00af00; text-decoration-color: #00af00\">42,659,200</span> (162.73 MB)\n",
       "</pre>\n"
      ],
      "text/plain": [
       "\u001b[1m Non-trainable params: \u001b[0m\u001b[38;5;34m42,659,200\u001b[0m (162.73 MB)\n"
      ]
     },
     "metadata": {},
     "output_type": "display_data"
    },
    {
     "name": "stdout",
     "output_type": "stream",
     "text": [
      "Training with 760 steps per epoch\n",
      "Epoch 1/100\n",
      "\u001b[1m760/760\u001b[0m \u001b[32m━━━━━━━━━━━━━━━━━━━━\u001b[0m\u001b[37m\u001b[0m \u001b[1m0s\u001b[0m 41ms/step - accuracy: 0.3917 - auc: 0.7850 - f1_score: 0.3809 - loss: 17.0981 - precision: 0.4743 - recall: 0.2815\n",
      "Epoch 1: val_loss improved from inf to 12.95937, saving model to ResNet101_best_model.h5\n"
     ]
    },
    {
     "name": "stderr",
     "output_type": "stream",
     "text": [
      "WARNING:absl:You are saving your model as an HDF5 file via `model.save()` or `keras.saving.save_model(model)`. This file format is considered legacy. We recommend using instead the native Keras format, e.g. `model.save('my_model.keras')` or `keras.saving.save_model(model, 'my_model.keras')`. \n"
     ]
    },
    {
     "name": "stdout",
     "output_type": "stream",
     "text": [
      "\b\b\b\b\b\b\b\b\b\b\b\b\b\b\b\b\b\b\b\b\b\b\b\b\b\b\b\b\b\b\b\b\b\b\b\b\b\b\b\b\b\b\b\b\b\b\b\b\b\b\b\b\b\b\b\b\b\b\b\b\b\b\b\b\b\b\b\b\b\b\b\b\b\b\b\b\b\b\b\b\b\b\b\b\b\b\b\b\b\b\b\b\b\b\b\b\b\b\b\b\b\b\b\b\b\b\b\b\b\b\b\b\b\b\b\b\b\b\b\b\b\b\b\b\b\b\b\b\b\b\b\b\b\b\b\b\b\b\b\b\b\b\b\b\b\b\r\n",
      "\u001b[1m760/760\u001b[0m \u001b[32m━━━━━━━━━━━━━━━━━━━━\u001b[0m\u001b[37m\u001b[0m \u001b[1m67s\u001b[0m 59ms/step - accuracy: 0.3918 - auc: 0.7851 - f1_score: 0.3811 - loss: 17.0962 - precision: 0.4745 - recall: 0.2817 - val_accuracy: 0.7539 - val_auc: 0.9590 - val_f1_score: 0.7450 - val_loss: 12.9594 - val_precision: 0.8090 - val_recall: 0.7079\n",
      "Epoch 2/100\n",
      "\u001b[1m759/760\u001b[0m \u001b[32m━━━━━━━━━━━━━━━━━━━\u001b[0m\u001b[37m━\u001b[0m \u001b[1m0s\u001b[0m 34ms/step - accuracy: 0.6455 - auc: 0.9245 - f1_score: 0.6414 - loss: 12.4892 - precision: 0.7302 - recall: 0.5586\n",
      "Epoch 2: val_loss improved from 12.95937 to 9.91100, saving model to ResNet101_best_model.h5\n"
     ]
    },
    {
     "name": "stderr",
     "output_type": "stream",
     "text": [
      "WARNING:absl:You are saving your model as an HDF5 file via `model.save()` or `keras.saving.save_model(model)`. This file format is considered legacy. We recommend using instead the native Keras format, e.g. `model.save('my_model.keras')` or `keras.saving.save_model(model, 'my_model.keras')`. \n"
     ]
    },
    {
     "name": "stdout",
     "output_type": "stream",
     "text": [
      "\b\b\b\b\b\b\b\b\b\b\b\b\b\b\b\b\b\b\b\b\b\b\b\b\b\b\b\b\b\b\b\b\b\b\b\b\b\b\b\b\b\b\b\b\b\b\b\b\b\b\b\b\b\b\b\b\b\b\b\b\b\b\b\b\b\b\b\b\b\b\b\b\b\b\b\b\b\b\b\b\b\b\b\b\b\b\b\b\b\b\b\b\b\b\b\b\b\b\b\b\b\b\b\b\b\b\b\b\b\b\b\b\b\b\b\b\b\b\b\b\b\b\b\b\b\b\b\b\b\b\b\b\b\b\b\b\b\b\b\b\b\b\b\b\b\b\r\n",
      "\u001b[1m760/760\u001b[0m \u001b[32m━━━━━━━━━━━━━━━━━━━━\u001b[0m\u001b[37m\u001b[0m \u001b[1m31s\u001b[0m 41ms/step - accuracy: 0.6455 - auc: 0.9245 - f1_score: 0.6414 - loss: 12.4872 - precision: 0.7302 - recall: 0.5586 - val_accuracy: 0.8026 - val_auc: 0.9721 - val_f1_score: 0.7992 - val_loss: 9.9110 - val_precision: 0.8470 - val_recall: 0.7500\n",
      "Epoch 3/100\n",
      "\u001b[1m759/760\u001b[0m \u001b[32m━━━━━━━━━━━━━━━━━━━\u001b[0m\u001b[37m━\u001b[0m \u001b[1m0s\u001b[0m 34ms/step - accuracy: 0.7123 - auc: 0.9505 - f1_score: 0.7166 - loss: 9.5652 - precision: 0.7904 - recall: 0.6350\n",
      "Epoch 3: val_loss improved from 9.91100 to 7.62546, saving model to ResNet101_best_model.h5\n"
     ]
    },
    {
     "name": "stderr",
     "output_type": "stream",
     "text": [
      "WARNING:absl:You are saving your model as an HDF5 file via `model.save()` or `keras.saving.save_model(model)`. This file format is considered legacy. We recommend using instead the native Keras format, e.g. `model.save('my_model.keras')` or `keras.saving.save_model(model, 'my_model.keras')`. \n"
     ]
    },
    {
     "name": "stdout",
     "output_type": "stream",
     "text": [
      "\b\b\b\b\b\b\b\b\b\b\b\b\b\b\b\b\b\b\b\b\b\b\b\b\b\b\b\b\b\b\b\b\b\b\b\b\b\b\b\b\b\b\b\b\b\b\b\b\b\b\b\b\b\b\b\b\b\b\b\b\b\b\b\b\b\b\b\b\b\b\b\b\b\b\b\b\b\b\b\b\b\b\b\b\b\b\b\b\b\b\b\b\b\b\b\b\b\b\b\b\b\b\b\b\b\b\b\b\b\b\b\b\b\b\b\b\b\b\b\b\b\b\b\b\b\b\b\b\b\b\b\b\b\b\b\b\b\b\b\b\b\b\b\b\b\r\n",
      "\u001b[1m760/760\u001b[0m \u001b[32m━━━━━━━━━━━━━━━━━━━━\u001b[0m\u001b[37m\u001b[0m \u001b[1m31s\u001b[0m 41ms/step - accuracy: 0.7123 - auc: 0.9505 - f1_score: 0.7166 - loss: 9.5637 - precision: 0.7904 - recall: 0.6350 - val_accuracy: 0.8132 - val_auc: 0.9817 - val_f1_score: 0.8148 - val_loss: 7.6255 - val_precision: 0.8479 - val_recall: 0.7776\n",
      "Epoch 4/100\n",
      "\u001b[1m759/760\u001b[0m \u001b[32m━━━━━━━━━━━━━━━━━━━\u001b[0m\u001b[37m━\u001b[0m \u001b[1m0s\u001b[0m 34ms/step - accuracy: 0.7156 - auc: 0.9533 - f1_score: 0.7157 - loss: 7.5075 - precision: 0.7832 - recall: 0.6441\n",
      "Epoch 4: val_loss improved from 7.62546 to 5.99656, saving model to ResNet101_best_model.h5\n"
     ]
    },
    {
     "name": "stderr",
     "output_type": "stream",
     "text": [
      "WARNING:absl:You are saving your model as an HDF5 file via `model.save()` or `keras.saving.save_model(model)`. This file format is considered legacy. We recommend using instead the native Keras format, e.g. `model.save('my_model.keras')` or `keras.saving.save_model(model, 'my_model.keras')`. \n"
     ]
    },
    {
     "name": "stdout",
     "output_type": "stream",
     "text": [
      "\b\b\b\b\b\b\b\b\b\b\b\b\b\b\b\b\b\b\b\b\b\b\b\b\b\b\b\b\b\b\b\b\b\b\b\b\b\b\b\b\b\b\b\b\b\b\b\b\b\b\b\b\b\b\b\b\b\b\b\b\b\b\b\b\b\b\b\b\b\b\b\b\b\b\b\b\b\b\b\b\b\b\b\b\b\b\b\b\b\b\b\b\b\b\b\b\b\b\b\b\b\b\b\b\b\b\b\b\b\b\b\b\b\b\b\b\b\b\b\b\b\b\b\b\b\b\b\b\b\b\b\b\b\b\b\b\b\b\b\b\b\b\b\b\b\r\n",
      "\u001b[1m760/760\u001b[0m \u001b[32m━━━━━━━━━━━━━━━━━━━━\u001b[0m\u001b[37m\u001b[0m \u001b[1m31s\u001b[0m 41ms/step - accuracy: 0.7156 - auc: 0.9533 - f1_score: 0.7157 - loss: 7.5063 - precision: 0.7832 - recall: 0.6441 - val_accuracy: 0.8289 - val_auc: 0.9811 - val_f1_score: 0.8228 - val_loss: 5.9966 - val_precision: 0.8638 - val_recall: 0.8092\n",
      "Epoch 5/100\n",
      "\u001b[1m759/760\u001b[0m \u001b[32m━━━━━━━━━━━━━━━━━━━\u001b[0m\u001b[37m━\u001b[0m \u001b[1m0s\u001b[0m 34ms/step - accuracy: 0.7329 - auc: 0.9618 - f1_score: 0.7370 - loss: 5.9200 - precision: 0.8111 - recall: 0.6618\n",
      "Epoch 5: val_loss improved from 5.99656 to 4.73912, saving model to ResNet101_best_model.h5\n"
     ]
    },
    {
     "name": "stderr",
     "output_type": "stream",
     "text": [
      "WARNING:absl:You are saving your model as an HDF5 file via `model.save()` or `keras.saving.save_model(model)`. This file format is considered legacy. We recommend using instead the native Keras format, e.g. `model.save('my_model.keras')` or `keras.saving.save_model(model, 'my_model.keras')`. \n"
     ]
    },
    {
     "name": "stdout",
     "output_type": "stream",
     "text": [
      "\b\b\b\b\b\b\b\b\b\b\b\b\b\b\b\b\b\b\b\b\b\b\b\b\b\b\b\b\b\b\b\b\b\b\b\b\b\b\b\b\b\b\b\b\b\b\b\b\b\b\b\b\b\b\b\b\b\b\b\b\b\b\b\b\b\b\b\b\b\b\b\b\b\b\b\b\b\b\b\b\b\b\b\b\b\b\b\b\b\b\b\b\b\b\b\b\b\b\b\b\b\b\b\b\b\b\b\b\b\b\b\b\b\b\b\b\b\b\b\b\b\b\b\b\b\b\b\b\b\b\b\b\b\b\b\b\b\b\b\b\b\b\b\b\b\r\n",
      "\u001b[1m760/760\u001b[0m \u001b[32m━━━━━━━━━━━━━━━━━━━━\u001b[0m\u001b[37m\u001b[0m \u001b[1m31s\u001b[0m 41ms/step - accuracy: 0.7329 - auc: 0.9618 - f1_score: 0.7370 - loss: 5.9191 - precision: 0.8111 - recall: 0.6618 - val_accuracy: 0.8408 - val_auc: 0.9839 - val_f1_score: 0.8362 - val_loss: 4.7391 - val_precision: 0.8761 - val_recall: 0.8092\n",
      "Epoch 6/100\n",
      "\u001b[1m759/760\u001b[0m \u001b[32m━━━━━━━━━━━━━━━━━━━\u001b[0m\u001b[37m━\u001b[0m \u001b[1m0s\u001b[0m 33ms/step - accuracy: 0.7804 - auc: 0.9710 - f1_score: 0.7808 - loss: 4.6704 - precision: 0.8464 - recall: 0.7110\n",
      "Epoch 6: val_loss improved from 4.73912 to 3.77292, saving model to ResNet101_best_model.h5\n"
     ]
    },
    {
     "name": "stderr",
     "output_type": "stream",
     "text": [
      "WARNING:absl:You are saving your model as an HDF5 file via `model.save()` or `keras.saving.save_model(model)`. This file format is considered legacy. We recommend using instead the native Keras format, e.g. `model.save('my_model.keras')` or `keras.saving.save_model(model, 'my_model.keras')`. \n"
     ]
    },
    {
     "name": "stdout",
     "output_type": "stream",
     "text": [
      "\b\b\b\b\b\b\b\b\b\b\b\b\b\b\b\b\b\b\b\b\b\b\b\b\b\b\b\b\b\b\b\b\b\b\b\b\b\b\b\b\b\b\b\b\b\b\b\b\b\b\b\b\b\b\b\b\b\b\b\b\b\b\b\b\b\b\b\b\b\b\b\b\b\b\b\b\b\b\b\b\b\b\b\b\b\b\b\b\b\b\b\b\b\b\b\b\b\b\b\b\b\b\b\b\b\b\b\b\b\b\b\b\b\b\b\b\b\b\b\b\b\b\b\b\b\b\b\b\b\b\b\b\b\b\b\b\b\b\b\b\b\b\b\b\b\r\n",
      "\u001b[1m760/760\u001b[0m \u001b[32m━━━━━━━━━━━━━━━━━━━━\u001b[0m\u001b[37m\u001b[0m \u001b[1m31s\u001b[0m 41ms/step - accuracy: 0.7804 - auc: 0.9710 - f1_score: 0.7808 - loss: 4.6699 - precision: 0.8464 - recall: 0.7110 - val_accuracy: 0.8513 - val_auc: 0.9881 - val_f1_score: 0.8584 - val_loss: 3.7729 - val_precision: 0.8803 - val_recall: 0.8224\n",
      "Epoch 7/100\n",
      "\u001b[1m759/760\u001b[0m \u001b[32m━━━━━━━━━━━━━━━━━━━\u001b[0m\u001b[37m━\u001b[0m \u001b[1m0s\u001b[0m 34ms/step - accuracy: 0.7678 - auc: 0.9695 - f1_score: 0.7669 - loss: 3.8470 - precision: 0.8280 - recall: 0.7096\n",
      "Epoch 7: val_loss improved from 3.77292 to 3.05296, saving model to ResNet101_best_model.h5\n"
     ]
    },
    {
     "name": "stderr",
     "output_type": "stream",
     "text": [
      "WARNING:absl:You are saving your model as an HDF5 file via `model.save()` or `keras.saving.save_model(model)`. This file format is considered legacy. We recommend using instead the native Keras format, e.g. `model.save('my_model.keras')` or `keras.saving.save_model(model, 'my_model.keras')`. \n"
     ]
    },
    {
     "name": "stdout",
     "output_type": "stream",
     "text": [
      "\b\b\b\b\b\b\b\b\b\b\b\b\b\b\b\b\b\b\b\b\b\b\b\b\b\b\b\b\b\b\b\b\b\b\b\b\b\b\b\b\b\b\b\b\b\b\b\b\b\b\b\b\b\b\b\b\b\b\b\b\b\b\b\b\b\b\b\b\b\b\b\b\b\b\b\b\b\b\b\b\b\b\b\b\b\b\b\b\b\b\b\b\b\b\b\b\b\b\b\b\b\b\b\b\b\b\b\b\b\b\b\b\b\b\b\b\b\b\b\b\b\b\b\b\b\b\b\b\b\b\b\b\b\b\b\b\b\b\b\b\b\b\b\b\b\r\n",
      "\u001b[1m760/760\u001b[0m \u001b[32m━━━━━━━━━━━━━━━━━━━━\u001b[0m\u001b[37m\u001b[0m \u001b[1m31s\u001b[0m 41ms/step - accuracy: 0.7678 - auc: 0.9695 - f1_score: 0.7669 - loss: 3.8466 - precision: 0.8279 - recall: 0.7095 - val_accuracy: 0.8697 - val_auc: 0.9897 - val_f1_score: 0.8709 - val_loss: 3.0530 - val_precision: 0.8872 - val_recall: 0.8276\n",
      "Epoch 8/100\n",
      "\u001b[1m759/760\u001b[0m \u001b[32m━━━━━━━━━━━━━━━━━━━\u001b[0m\u001b[37m━\u001b[0m \u001b[1m0s\u001b[0m 34ms/step - accuracy: 0.7783 - auc: 0.9737 - f1_score: 0.7781 - loss: 3.1706 - precision: 0.8438 - recall: 0.7152\n",
      "Epoch 8: val_loss improved from 3.05296 to 2.59389, saving model to ResNet101_best_model.h5\n"
     ]
    },
    {
     "name": "stderr",
     "output_type": "stream",
     "text": [
      "WARNING:absl:You are saving your model as an HDF5 file via `model.save()` or `keras.saving.save_model(model)`. This file format is considered legacy. We recommend using instead the native Keras format, e.g. `model.save('my_model.keras')` or `keras.saving.save_model(model, 'my_model.keras')`. \n"
     ]
    },
    {
     "name": "stdout",
     "output_type": "stream",
     "text": [
      "\b\b\b\b\b\b\b\b\b\b\b\b\b\b\b\b\b\b\b\b\b\b\b\b\b\b\b\b\b\b\b\b\b\b\b\b\b\b\b\b\b\b\b\b\b\b\b\b\b\b\b\b\b\b\b\b\b\b\b\b\b\b\b\b\b\b\b\b\b\b\b\b\b\b\b\b\b\b\b\b\b\b\b\b\b\b\b\b\b\b\b\b\b\b\b\b\b\b\b\b\b\b\b\b\b\b\b\b\b\b\b\b\b\b\b\b\b\b\b\b\b\b\b\b\b\b\b\b\b\b\b\b\b\b\b\b\b\b\b\b\b\b\b\b\b\r\n",
      "\u001b[1m760/760\u001b[0m \u001b[32m━━━━━━━━━━━━━━━━━━━━\u001b[0m\u001b[37m\u001b[0m \u001b[1m31s\u001b[0m 41ms/step - accuracy: 0.7783 - auc: 0.9737 - f1_score: 0.7781 - loss: 3.1703 - precision: 0.8438 - recall: 0.7152 - val_accuracy: 0.8566 - val_auc: 0.9876 - val_f1_score: 0.8581 - val_loss: 2.5939 - val_precision: 0.8890 - val_recall: 0.8224\n",
      "Epoch 9/100\n",
      "\u001b[1m759/760\u001b[0m \u001b[32m━━━━━━━━━━━━━━━━━━━\u001b[0m\u001b[37m━\u001b[0m \u001b[1m0s\u001b[0m 34ms/step - accuracy: 0.7818 - auc: 0.9730 - f1_score: 0.7872 - loss: 2.7140 - precision: 0.8329 - recall: 0.7113\n",
      "Epoch 9: val_loss improved from 2.59389 to 2.14954, saving model to ResNet101_best_model.h5\n"
     ]
    },
    {
     "name": "stderr",
     "output_type": "stream",
     "text": [
      "WARNING:absl:You are saving your model as an HDF5 file via `model.save()` or `keras.saving.save_model(model)`. This file format is considered legacy. We recommend using instead the native Keras format, e.g. `model.save('my_model.keras')` or `keras.saving.save_model(model, 'my_model.keras')`. \n"
     ]
    },
    {
     "name": "stdout",
     "output_type": "stream",
     "text": [
      "\b\b\b\b\b\b\b\b\b\b\b\b\b\b\b\b\b\b\b\b\b\b\b\b\b\b\b\b\b\b\b\b\b\b\b\b\b\b\b\b\b\b\b\b\b\b\b\b\b\b\b\b\b\b\b\b\b\b\b\b\b\b\b\b\b\b\b\b\b\b\b\b\b\b\b\b\b\b\b\b\b\b\b\b\b\b\b\b\b\b\b\b\b\b\b\b\b\b\b\b\b\b\b\b\b\b\b\b\b\b\b\b\b\b\b\b\b\b\b\b\b\b\b\b\b\b\b\b\b\b\b\b\b\b\b\b\b\b\b\b\b\b\b\b\b\r\n",
      "\u001b[1m760/760\u001b[0m \u001b[32m━━━━━━━━━━━━━━━━━━━━\u001b[0m\u001b[37m\u001b[0m \u001b[1m31s\u001b[0m 41ms/step - accuracy: 0.7818 - auc: 0.9730 - f1_score: 0.7872 - loss: 2.7137 - precision: 0.8329 - recall: 0.7113 - val_accuracy: 0.8671 - val_auc: 0.9908 - val_f1_score: 0.8709 - val_loss: 2.1495 - val_precision: 0.8990 - val_recall: 0.8434\n",
      "Epoch 10/100\n",
      "\u001b[1m759/760\u001b[0m \u001b[32m━━━━━━━━━━━━━━━━━━━\u001b[0m\u001b[37m━\u001b[0m \u001b[1m0s\u001b[0m 33ms/step - accuracy: 0.7998 - auc: 0.9741 - f1_score: 0.7992 - loss: 2.3211 - precision: 0.8585 - recall: 0.7392\n",
      "Epoch 10: val_loss improved from 2.14954 to 1.90330, saving model to ResNet101_best_model.h5\n"
     ]
    },
    {
     "name": "stderr",
     "output_type": "stream",
     "text": [
      "WARNING:absl:You are saving your model as an HDF5 file via `model.save()` or `keras.saving.save_model(model)`. This file format is considered legacy. We recommend using instead the native Keras format, e.g. `model.save('my_model.keras')` or `keras.saving.save_model(model, 'my_model.keras')`. \n"
     ]
    },
    {
     "name": "stdout",
     "output_type": "stream",
     "text": [
      "\b\b\b\b\b\b\b\b\b\b\b\b\b\b\b\b\b\b\b\b\b\b\b\b\b\b\b\b\b\b\b\b\b\b\b\b\b\b\b\b\b\b\b\b\b\b\b\b\b\b\b\b\b\b\b\b\b\b\b\b\b\b\b\b\b\b\b\b\b\b\b\b\b\b\b\b\b\b\b\b\b\b\b\b\b\b\b\b\b\b\b\b\b\b\b\b\b\b\b\b\b\b\b\b\b\b\b\b\b\b\b\b\b\b\b\b\b\b\b\b\b\b\b\b\b\b\b\b\b\b\b\b\b\b\b\b\b\b\b\b\b\b\b\b\b\r\n",
      "\u001b[1m760/760\u001b[0m \u001b[32m━━━━━━━━━━━━━━━━━━━━\u001b[0m\u001b[37m\u001b[0m \u001b[1m31s\u001b[0m 41ms/step - accuracy: 0.7998 - auc: 0.9741 - f1_score: 0.7992 - loss: 2.3210 - precision: 0.8585 - recall: 0.7392 - val_accuracy: 0.8553 - val_auc: 0.9885 - val_f1_score: 0.8588 - val_loss: 1.9033 - val_precision: 0.8844 - val_recall: 0.8355\n",
      "Epoch 11/100\n",
      "\u001b[1m759/760\u001b[0m \u001b[32m━━━━━━━━━━━━━━━━━━━\u001b[0m\u001b[37m━\u001b[0m \u001b[1m0s\u001b[0m 34ms/step - accuracy: 0.8060 - auc: 0.9776 - f1_score: 0.8101 - loss: 2.0171 - precision: 0.8658 - recall: 0.7432\n",
      "Epoch 11: val_loss improved from 1.90330 to 1.60632, saving model to ResNet101_best_model.h5\n"
     ]
    },
    {
     "name": "stderr",
     "output_type": "stream",
     "text": [
      "WARNING:absl:You are saving your model as an HDF5 file via `model.save()` or `keras.saving.save_model(model)`. This file format is considered legacy. We recommend using instead the native Keras format, e.g. `model.save('my_model.keras')` or `keras.saving.save_model(model, 'my_model.keras')`. \n"
     ]
    },
    {
     "name": "stdout",
     "output_type": "stream",
     "text": [
      "\b\b\b\b\b\b\b\b\b\b\b\b\b\b\b\b\b\b\b\b\b\b\b\b\b\b\b\b\b\b\b\b\b\b\b\b\b\b\b\b\b\b\b\b\b\b\b\b\b\b\b\b\b\b\b\b\b\b\b\b\b\b\b\b\b\b\b\b\b\b\b\b\b\b\b\b\b\b\b\b\b\b\b\b\b\b\b\b\b\b\b\b\b\b\b\b\b\b\b\b\b\b\b\b\b\b\b\b\b\b\b\b\b\b\b\b\b\b\b\b\b\b\b\b\b\b\b\b\b\b\b\b\b\b\b\b\b\b\b\b\b\b\b\b\b\r\n",
      "\u001b[1m760/760\u001b[0m \u001b[32m━━━━━━━━━━━━━━━━━━━━\u001b[0m\u001b[37m\u001b[0m \u001b[1m31s\u001b[0m 41ms/step - accuracy: 0.8060 - auc: 0.9776 - f1_score: 0.8101 - loss: 2.0170 - precision: 0.8658 - recall: 0.7432 - val_accuracy: 0.8750 - val_auc: 0.9921 - val_f1_score: 0.8783 - val_loss: 1.6063 - val_precision: 0.9096 - val_recall: 0.8474\n",
      "Epoch 12/100\n",
      "\u001b[1m759/760\u001b[0m \u001b[32m━━━━━━━━━━━━━━━━━━━\u001b[0m\u001b[37m━\u001b[0m \u001b[1m0s\u001b[0m 34ms/step - accuracy: 0.7934 - auc: 0.9762 - f1_score: 0.7950 - loss: 1.8316 - precision: 0.8550 - recall: 0.7253\n",
      "Epoch 12: val_loss improved from 1.60632 to 1.49267, saving model to ResNet101_best_model.h5\n"
     ]
    },
    {
     "name": "stderr",
     "output_type": "stream",
     "text": [
      "WARNING:absl:You are saving your model as an HDF5 file via `model.save()` or `keras.saving.save_model(model)`. This file format is considered legacy. We recommend using instead the native Keras format, e.g. `model.save('my_model.keras')` or `keras.saving.save_model(model, 'my_model.keras')`. \n"
     ]
    },
    {
     "name": "stdout",
     "output_type": "stream",
     "text": [
      "\b\b\b\b\b\b\b\b\b\b\b\b\b\b\b\b\b\b\b\b\b\b\b\b\b\b\b\b\b\b\b\b\b\b\b\b\b\b\b\b\b\b\b\b\b\b\b\b\b\b\b\b\b\b\b\b\b\b\b\b\b\b\b\b\b\b\b\b\b\b\b\b\b\b\b\b\b\b\b\b\b\b\b\b\b\b\b\b\b\b\b\b\b\b\b\b\b\b\b\b\b\b\b\b\b\b\b\b\b\b\b\b\b\b\b\b\b\b\b\b\b\b\b\b\b\b\b\b\b\b\b\b\b\b\b\b\b\b\b\b\b\b\b\b\b\r\n",
      "\u001b[1m760/760\u001b[0m \u001b[32m━━━━━━━━━━━━━━━━━━━━\u001b[0m\u001b[37m\u001b[0m \u001b[1m31s\u001b[0m 41ms/step - accuracy: 0.7935 - auc: 0.9762 - f1_score: 0.7950 - loss: 1.8314 - precision: 0.8550 - recall: 0.7253 - val_accuracy: 0.8553 - val_auc: 0.9886 - val_f1_score: 0.8594 - val_loss: 1.4927 - val_precision: 0.8838 - val_recall: 0.8303\n",
      "Epoch 13/100\n",
      "\u001b[1m759/760\u001b[0m \u001b[32m━━━━━━━━━━━━━━━━━━━\u001b[0m\u001b[37m━\u001b[0m \u001b[1m0s\u001b[0m 34ms/step - accuracy: 0.8057 - auc: 0.9750 - f1_score: 0.8068 - loss: 1.6629 - precision: 0.8579 - recall: 0.7382\n",
      "Epoch 13: val_loss improved from 1.49267 to 1.35700, saving model to ResNet101_best_model.h5\n"
     ]
    },
    {
     "name": "stderr",
     "output_type": "stream",
     "text": [
      "WARNING:absl:You are saving your model as an HDF5 file via `model.save()` or `keras.saving.save_model(model)`. This file format is considered legacy. We recommend using instead the native Keras format, e.g. `model.save('my_model.keras')` or `keras.saving.save_model(model, 'my_model.keras')`. \n"
     ]
    },
    {
     "name": "stdout",
     "output_type": "stream",
     "text": [
      "\b\b\b\b\b\b\b\b\b\b\b\b\b\b\b\b\b\b\b\b\b\b\b\b\b\b\b\b\b\b\b\b\b\b\b\b\b\b\b\b\b\b\b\b\b\b\b\b\b\b\b\b\b\b\b\b\b\b\b\b\b\b\b\b\b\b\b\b\b\b\b\b\b\b\b\b\b\b\b\b\b\b\b\b\b\b\b\b\b\b\b\b\b\b\b\b\b\b\b\b\b\b\b\b\b\b\b\b\b\b\b\b\b\b\b\b\b\b\b\b\b\b\b\b\b\b\b\b\b\b\b\b\b\b\b\b\b\b\b\b\b\b\b\b\b\r\n",
      "\u001b[1m760/760\u001b[0m \u001b[32m━━━━━━━━━━━━━━━━━━━━\u001b[0m\u001b[37m\u001b[0m \u001b[1m32s\u001b[0m 42ms/step - accuracy: 0.8057 - auc: 0.9750 - f1_score: 0.8068 - loss: 1.6629 - precision: 0.8579 - recall: 0.7382 - val_accuracy: 0.8579 - val_auc: 0.9877 - val_f1_score: 0.8627 - val_loss: 1.3570 - val_precision: 0.8984 - val_recall: 0.8382\n",
      "Epoch 14/100\n",
      "\u001b[1m759/760\u001b[0m \u001b[32m━━━━━━━━━━━━━━━━━━━\u001b[0m\u001b[37m━\u001b[0m \u001b[1m0s\u001b[0m 34ms/step - accuracy: 0.8123 - auc: 0.9788 - f1_score: 0.8158 - loss: 1.4969 - precision: 0.8803 - recall: 0.7501\n",
      "Epoch 14: val_loss improved from 1.35700 to 1.25204, saving model to ResNet101_best_model.h5\n"
     ]
    },
    {
     "name": "stderr",
     "output_type": "stream",
     "text": [
      "WARNING:absl:You are saving your model as an HDF5 file via `model.save()` or `keras.saving.save_model(model)`. This file format is considered legacy. We recommend using instead the native Keras format, e.g. `model.save('my_model.keras')` or `keras.saving.save_model(model, 'my_model.keras')`. \n"
     ]
    },
    {
     "name": "stdout",
     "output_type": "stream",
     "text": [
      "\b\b\b\b\b\b\b\b\b\b\b\b\b\b\b\b\b\b\b\b\b\b\b\b\b\b\b\b\b\b\b\b\b\b\b\b\b\b\b\b\b\b\b\b\b\b\b\b\b\b\b\b\b\b\b\b\b\b\b\b\b\b\b\b\b\b\b\b\b\b\b\b\b\b\b\b\b\b\b\b\b\b\b\b\b\b\b\b\b\b\b\b\b\b\b\b\b\b\b\b\b\b\b\b\b\b\b\b\b\b\b\b\b\b\b\b\b\b\b\b\b\b\b\b\b\b\b\b\b\b\b\b\b\b\b\b\b\b\b\b\b\b\b\b\b\r\n",
      "\u001b[1m760/760\u001b[0m \u001b[32m━━━━━━━━━━━━━━━━━━━━\u001b[0m\u001b[37m\u001b[0m \u001b[1m32s\u001b[0m 41ms/step - accuracy: 0.8123 - auc: 0.9787 - f1_score: 0.8158 - loss: 1.4969 - precision: 0.8803 - recall: 0.7501 - val_accuracy: 0.8658 - val_auc: 0.9889 - val_f1_score: 0.8665 - val_loss: 1.2520 - val_precision: 0.8922 - val_recall: 0.8382\n",
      "Epoch 15/100\n",
      "\u001b[1m759/760\u001b[0m \u001b[32m━━━━━━━━━━━━━━━━━━━\u001b[0m\u001b[37m━\u001b[0m \u001b[1m0s\u001b[0m 34ms/step - accuracy: 0.8022 - auc: 0.9794 - f1_score: 0.8043 - loss: 1.3949 - precision: 0.8630 - recall: 0.7253\n",
      "Epoch 15: val_loss improved from 1.25204 to 1.15718, saving model to ResNet101_best_model.h5\n"
     ]
    },
    {
     "name": "stderr",
     "output_type": "stream",
     "text": [
      "WARNING:absl:You are saving your model as an HDF5 file via `model.save()` or `keras.saving.save_model(model)`. This file format is considered legacy. We recommend using instead the native Keras format, e.g. `model.save('my_model.keras')` or `keras.saving.save_model(model, 'my_model.keras')`. \n"
     ]
    },
    {
     "name": "stdout",
     "output_type": "stream",
     "text": [
      "\b\b\b\b\b\b\b\b\b\b\b\b\b\b\b\b\b\b\b\b\b\b\b\b\b\b\b\b\b\b\b\b\b\b\b\b\b\b\b\b\b\b\b\b\b\b\b\b\b\b\b\b\b\b\b\b\b\b\b\b\b\b\b\b\b\b\b\b\b\b\b\b\b\b\b\b\b\b\b\b\b\b\b\b\b\b\b\b\b\b\b\b\b\b\b\b\b\b\b\b\b\b\b\b\b\b\b\b\b\b\b\b\b\b\b\b\b\b\b\b\b\b\b\b\b\b\b\b\b\b\b\b\b\b\b\b\b\b\b\b\b\b\b\b\b\r\n",
      "\u001b[1m760/760\u001b[0m \u001b[32m━━━━━━━━━━━━━━━━━━━━\u001b[0m\u001b[37m\u001b[0m \u001b[1m31s\u001b[0m 41ms/step - accuracy: 0.8022 - auc: 0.9794 - f1_score: 0.8043 - loss: 1.3949 - precision: 0.8630 - recall: 0.7253 - val_accuracy: 0.8671 - val_auc: 0.9887 - val_f1_score: 0.8714 - val_loss: 1.1572 - val_precision: 0.8969 - val_recall: 0.8355\n",
      "Epoch 16/100\n",
      "\u001b[1m759/760\u001b[0m \u001b[32m━━━━━━━━━━━━━━━━━━━\u001b[0m\u001b[37m━\u001b[0m \u001b[1m0s\u001b[0m 34ms/step - accuracy: 0.8021 - auc: 0.9792 - f1_score: 0.8023 - loss: 1.3155 - precision: 0.8657 - recall: 0.7312\n",
      "Epoch 16: val_loss improved from 1.15718 to 1.11792, saving model to ResNet101_best_model.h5\n"
     ]
    },
    {
     "name": "stderr",
     "output_type": "stream",
     "text": [
      "WARNING:absl:You are saving your model as an HDF5 file via `model.save()` or `keras.saving.save_model(model)`. This file format is considered legacy. We recommend using instead the native Keras format, e.g. `model.save('my_model.keras')` or `keras.saving.save_model(model, 'my_model.keras')`. \n"
     ]
    },
    {
     "name": "stdout",
     "output_type": "stream",
     "text": [
      "\b\b\b\b\b\b\b\b\b\b\b\b\b\b\b\b\b\b\b\b\b\b\b\b\b\b\b\b\b\b\b\b\b\b\b\b\b\b\b\b\b\b\b\b\b\b\b\b\b\b\b\b\b\b\b\b\b\b\b\b\b\b\b\b\b\b\b\b\b\b\b\b\b\b\b\b\b\b\b\b\b\b\b\b\b\b\b\b\b\b\b\b\b\b\b\b\b\b\b\b\b\b\b\b\b\b\b\b\b\b\b\b\b\b\b\b\b\b\b\b\b\b\b\b\b\b\b\b\b\b\b\b\b\b\b\b\b\b\b\b\b\b\b\b\b\r\n",
      "\u001b[1m760/760\u001b[0m \u001b[32m━━━━━━━━━━━━━━━━━━━━\u001b[0m\u001b[37m\u001b[0m \u001b[1m32s\u001b[0m 41ms/step - accuracy: 0.8021 - auc: 0.9792 - f1_score: 0.8023 - loss: 1.3156 - precision: 0.8657 - recall: 0.7312 - val_accuracy: 0.8539 - val_auc: 0.9879 - val_f1_score: 0.8566 - val_loss: 1.1179 - val_precision: 0.8910 - val_recall: 0.8171\n",
      "Epoch 17/100\n",
      "\u001b[1m759/760\u001b[0m \u001b[32m━━━━━━━━━━━━━━━━━━━\u001b[0m\u001b[37m━\u001b[0m \u001b[1m0s\u001b[0m 34ms/step - accuracy: 0.8036 - auc: 0.9772 - f1_score: 0.8099 - loss: 1.2737 - precision: 0.8730 - recall: 0.7350\n",
      "Epoch 17: val_loss improved from 1.11792 to 1.04228, saving model to ResNet101_best_model.h5\n"
     ]
    },
    {
     "name": "stderr",
     "output_type": "stream",
     "text": [
      "WARNING:absl:You are saving your model as an HDF5 file via `model.save()` or `keras.saving.save_model(model)`. This file format is considered legacy. We recommend using instead the native Keras format, e.g. `model.save('my_model.keras')` or `keras.saving.save_model(model, 'my_model.keras')`. \n"
     ]
    },
    {
     "name": "stdout",
     "output_type": "stream",
     "text": [
      "\b\b\b\b\b\b\b\b\b\b\b\b\b\b\b\b\b\b\b\b\b\b\b\b\b\b\b\b\b\b\b\b\b\b\b\b\b\b\b\b\b\b\b\b\b\b\b\b\b\b\b\b\b\b\b\b\b\b\b\b\b\b\b\b\b\b\b\b\b\b\b\b\b\b\b\b\b\b\b\b\b\b\b\b\b\b\b\b\b\b\b\b\b\b\b\b\b\b\b\b\b\b\b\b\b\b\b\b\b\b\b\b\b\b\b\b\b\b\b\b\b\b\b\b\b\b\b\b\b\b\b\b\b\b\b\b\b\b\b\b\b\b\b\b\b\r\n",
      "\u001b[1m760/760\u001b[0m \u001b[32m━━━━━━━━━━━━━━━━━━━━\u001b[0m\u001b[37m\u001b[0m \u001b[1m32s\u001b[0m 41ms/step - accuracy: 0.8036 - auc: 0.9772 - f1_score: 0.8099 - loss: 1.2736 - precision: 0.8729 - recall: 0.7350 - val_accuracy: 0.8605 - val_auc: 0.9886 - val_f1_score: 0.8626 - val_loss: 1.0423 - val_precision: 0.8884 - val_recall: 0.8276\n",
      "Epoch 18/100\n",
      "\u001b[1m759/760\u001b[0m \u001b[32m━━━━━━━━━━━━━━━━━━━\u001b[0m\u001b[37m━\u001b[0m \u001b[1m0s\u001b[0m 34ms/step - accuracy: 0.8167 - auc: 0.9793 - f1_score: 0.8178 - loss: 1.1856 - precision: 0.8768 - recall: 0.7446\n",
      "Epoch 18: val_loss improved from 1.04228 to 0.99500, saving model to ResNet101_best_model.h5\n"
     ]
    },
    {
     "name": "stderr",
     "output_type": "stream",
     "text": [
      "WARNING:absl:You are saving your model as an HDF5 file via `model.save()` or `keras.saving.save_model(model)`. This file format is considered legacy. We recommend using instead the native Keras format, e.g. `model.save('my_model.keras')` or `keras.saving.save_model(model, 'my_model.keras')`. \n"
     ]
    },
    {
     "name": "stdout",
     "output_type": "stream",
     "text": [
      "\b\b\b\b\b\b\b\b\b\b\b\b\b\b\b\b\b\b\b\b\b\b\b\b\b\b\b\b\b\b\b\b\b\b\b\b\b\b\b\b\b\b\b\b\b\b\b\b\b\b\b\b\b\b\b\b\b\b\b\b\b\b\b\b\b\b\b\b\b\b\b\b\b\b\b\b\b\b\b\b\b\b\b\b\b\b\b\b\b\b\b\b\b\b\b\b\b\b\b\b\b\b\b\b\b\b\b\b\b\b\b\b\b\b\b\b\b\b\b\b\b\b\b\b\b\b\b\b\b\b\b\b\b\b\b\b\b\b\b\b\b\b\b\b\b\r\n",
      "\u001b[1m760/760\u001b[0m \u001b[32m━━━━━━━━━━━━━━━━━━━━\u001b[0m\u001b[37m\u001b[0m \u001b[1m31s\u001b[0m 41ms/step - accuracy: 0.8167 - auc: 0.9793 - f1_score: 0.8178 - loss: 1.1857 - precision: 0.8767 - recall: 0.7445 - val_accuracy: 0.8539 - val_auc: 0.9875 - val_f1_score: 0.8588 - val_loss: 0.9950 - val_precision: 0.8986 - val_recall: 0.8158\n",
      "Epoch 19/100\n",
      "\u001b[1m759/760\u001b[0m \u001b[32m━━━━━━━━━━━━━━━━━━━\u001b[0m\u001b[37m━\u001b[0m \u001b[1m0s\u001b[0m 34ms/step - accuracy: 0.8086 - auc: 0.9779 - f1_score: 0.8159 - loss: 1.1459 - precision: 0.8892 - recall: 0.7394\n",
      "Epoch 19: val_loss improved from 0.99500 to 0.93077, saving model to ResNet101_best_model.h5\n"
     ]
    },
    {
     "name": "stderr",
     "output_type": "stream",
     "text": [
      "WARNING:absl:You are saving your model as an HDF5 file via `model.save()` or `keras.saving.save_model(model)`. This file format is considered legacy. We recommend using instead the native Keras format, e.g. `model.save('my_model.keras')` or `keras.saving.save_model(model, 'my_model.keras')`. \n"
     ]
    },
    {
     "name": "stdout",
     "output_type": "stream",
     "text": [
      "\b\b\b\b\b\b\b\b\b\b\b\b\b\b\b\b\b\b\b\b\b\b\b\b\b\b\b\b\b\b\b\b\b\b\b\b\b\b\b\b\b\b\b\b\b\b\b\b\b\b\b\b\b\b\b\b\b\b\b\b\b\b\b\b\b\b\b\b\b\b\b\b\b\b\b\b\b\b\b\b\b\b\b\b\b\b\b\b\b\b\b\b\b\b\b\b\b\b\b\b\b\b\b\b\b\b\b\b\b\b\b\b\b\b\b\b\b\b\b\b\b\b\b\b\b\b\b\b\b\b\b\b\b\b\b\b\b\b\b\b\b\b\b\b\b\r\n",
      "\u001b[1m760/760\u001b[0m \u001b[32m━━━━━━━━━━━━━━━━━━━━\u001b[0m\u001b[37m\u001b[0m \u001b[1m31s\u001b[0m 41ms/step - accuracy: 0.8086 - auc: 0.9779 - f1_score: 0.8159 - loss: 1.1459 - precision: 0.8892 - recall: 0.7394 - val_accuracy: 0.8526 - val_auc: 0.9893 - val_f1_score: 0.8532 - val_loss: 0.9308 - val_precision: 0.8912 - val_recall: 0.8303\n",
      "Epoch 20/100\n",
      "\u001b[1m759/760\u001b[0m \u001b[32m━━━━━━━━━━━━━━━━━━━\u001b[0m\u001b[37m━\u001b[0m \u001b[1m0s\u001b[0m 34ms/step - accuracy: 0.8251 - auc: 0.9817 - f1_score: 0.8274 - loss: 1.0708 - precision: 0.8899 - recall: 0.7533\n",
      "Epoch 20: val_loss improved from 0.93077 to 0.85187, saving model to ResNet101_best_model.h5\n"
     ]
    },
    {
     "name": "stderr",
     "output_type": "stream",
     "text": [
      "WARNING:absl:You are saving your model as an HDF5 file via `model.save()` or `keras.saving.save_model(model)`. This file format is considered legacy. We recommend using instead the native Keras format, e.g. `model.save('my_model.keras')` or `keras.saving.save_model(model, 'my_model.keras')`. \n"
     ]
    },
    {
     "name": "stdout",
     "output_type": "stream",
     "text": [
      "\b\b\b\b\b\b\b\b\b\b\b\b\b\b\b\b\b\b\b\b\b\b\b\b\b\b\b\b\b\b\b\b\b\b\b\b\b\b\b\b\b\b\b\b\b\b\b\b\b\b\b\b\b\b\b\b\b\b\b\b\b\b\b\b\b\b\b\b\b\b\b\b\b\b\b\b\b\b\b\b\b\b\b\b\b\b\b\b\b\b\b\b\b\b\b\b\b\b\b\b\b\b\b\b\b\b\b\b\b\b\b\b\b\b\b\b\b\b\b\b\b\b\b\b\b\b\b\b\b\b\b\b\b\b\b\b\b\b\b\b\b\b\b\b\b\r\n",
      "\u001b[1m760/760\u001b[0m \u001b[32m━━━━━━━━━━━━━━━━━━━━\u001b[0m\u001b[37m\u001b[0m \u001b[1m31s\u001b[0m 41ms/step - accuracy: 0.8250 - auc: 0.9817 - f1_score: 0.8273 - loss: 1.0708 - precision: 0.8899 - recall: 0.7532 - val_accuracy: 0.8776 - val_auc: 0.9931 - val_f1_score: 0.8822 - val_loss: 0.8519 - val_precision: 0.9111 - val_recall: 0.8500\n",
      "Epoch 21/100\n",
      "\u001b[1m759/760\u001b[0m \u001b[32m━━━━━━━━━━━━━━━━━━━\u001b[0m\u001b[37m━\u001b[0m \u001b[1m0s\u001b[0m 34ms/step - accuracy: 0.8078 - auc: 0.9820 - f1_score: 0.8119 - loss: 1.0603 - precision: 0.8843 - recall: 0.7447\n",
      "Epoch 21: val_loss did not improve from 0.85187\n",
      "\u001b[1m760/760\u001b[0m \u001b[32m━━━━━━━━━━━━━━━━━━━━\u001b[0m\u001b[37m\u001b[0m \u001b[1m30s\u001b[0m 40ms/step - accuracy: 0.8077 - auc: 0.9820 - f1_score: 0.8119 - loss: 1.0604 - precision: 0.8843 - recall: 0.7446 - val_accuracy: 0.8474 - val_auc: 0.9896 - val_f1_score: 0.8452 - val_loss: 0.8982 - val_precision: 0.8752 - val_recall: 0.8211\n",
      "Epoch 22/100\n",
      "\u001b[1m759/760\u001b[0m \u001b[32m━━━━━━━━━━━━━━━━━━━\u001b[0m\u001b[37m━\u001b[0m \u001b[1m0s\u001b[0m 34ms/step - accuracy: 0.8029 - auc: 0.9795 - f1_score: 0.8073 - loss: 1.0583 - precision: 0.8803 - recall: 0.7372\n",
      "Epoch 22: val_loss improved from 0.85187 to 0.83554, saving model to ResNet101_best_model.h5\n"
     ]
    },
    {
     "name": "stderr",
     "output_type": "stream",
     "text": [
      "WARNING:absl:You are saving your model as an HDF5 file via `model.save()` or `keras.saving.save_model(model)`. This file format is considered legacy. We recommend using instead the native Keras format, e.g. `model.save('my_model.keras')` or `keras.saving.save_model(model, 'my_model.keras')`. \n"
     ]
    },
    {
     "name": "stdout",
     "output_type": "stream",
     "text": [
      "\b\b\b\b\b\b\b\b\b\b\b\b\b\b\b\b\b\b\b\b\b\b\b\b\b\b\b\b\b\b\b\b\b\b\b\b\b\b\b\b\b\b\b\b\b\b\b\b\b\b\b\b\b\b\b\b\b\b\b\b\b\b\b\b\b\b\b\b\b\b\b\b\b\b\b\b\b\b\b\b\b\b\b\b\b\b\b\b\b\b\b\b\b\b\b\b\b\b\b\b\b\b\b\b\b\b\b\b\b\b\b\b\b\b\b\b\b\b\b\b\b\b\b\b\b\b\b\b\b\b\b\b\b\b\b\b\b\b\b\b\b\b\b\b\b\r\n",
      "\u001b[1m760/760\u001b[0m \u001b[32m━━━━━━━━━━━━━━━━━━━━\u001b[0m\u001b[37m\u001b[0m \u001b[1m31s\u001b[0m 41ms/step - accuracy: 0.8029 - auc: 0.9795 - f1_score: 0.8073 - loss: 1.0584 - precision: 0.8803 - recall: 0.7372 - val_accuracy: 0.8789 - val_auc: 0.9906 - val_f1_score: 0.8798 - val_loss: 0.8355 - val_precision: 0.8975 - val_recall: 0.8408\n",
      "Epoch 23/100\n",
      "\u001b[1m759/760\u001b[0m \u001b[32m━━━━━━━━━━━━━━━━━━━\u001b[0m\u001b[37m━\u001b[0m \u001b[1m0s\u001b[0m 34ms/step - accuracy: 0.8234 - auc: 0.9815 - f1_score: 0.8278 - loss: 1.0096 - precision: 0.8882 - recall: 0.7461\n",
      "Epoch 23: val_loss improved from 0.83554 to 0.82001, saving model to ResNet101_best_model.h5\n"
     ]
    },
    {
     "name": "stderr",
     "output_type": "stream",
     "text": [
      "WARNING:absl:You are saving your model as an HDF5 file via `model.save()` or `keras.saving.save_model(model)`. This file format is considered legacy. We recommend using instead the native Keras format, e.g. `model.save('my_model.keras')` or `keras.saving.save_model(model, 'my_model.keras')`. \n"
     ]
    },
    {
     "name": "stdout",
     "output_type": "stream",
     "text": [
      "\b\b\b\b\b\b\b\b\b\b\b\b\b\b\b\b\b\b\b\b\b\b\b\b\b\b\b\b\b\b\b\b\b\b\b\b\b\b\b\b\b\b\b\b\b\b\b\b\b\b\b\b\b\b\b\b\b\b\b\b\b\b\b\b\b\b\b\b\b\b\b\b\b\b\b\b\b\b\b\b\b\b\b\b\b\b\b\b\b\b\b\b\b\b\b\b\b\b\b\b\b\b\b\b\b\b\b\b\b\b\b\b\b\b\b\b\b\b\b\b\b\b\b\b\b\b\b\b\b\b\b\b\b\b\b\b\b\b\b\b\b\b\b\b\b\r\n",
      "\u001b[1m760/760\u001b[0m \u001b[32m━━━━━━━━━━━━━━━━━━━━\u001b[0m\u001b[37m\u001b[0m \u001b[1m31s\u001b[0m 41ms/step - accuracy: 0.8234 - auc: 0.9815 - f1_score: 0.8278 - loss: 1.0097 - precision: 0.8882 - recall: 0.7461 - val_accuracy: 0.8671 - val_auc: 0.9914 - val_f1_score: 0.8708 - val_loss: 0.8200 - val_precision: 0.9100 - val_recall: 0.8382\n",
      "Epoch 24/100\n",
      "\u001b[1m759/760\u001b[0m \u001b[32m━━━━━━━━━━━━━━━━━━━\u001b[0m\u001b[37m━\u001b[0m \u001b[1m0s\u001b[0m 34ms/step - accuracy: 0.8188 - auc: 0.9810 - f1_score: 0.8219 - loss: 0.9998 - precision: 0.8831 - recall: 0.7415\n",
      "Epoch 24: val_loss improved from 0.82001 to 0.81316, saving model to ResNet101_best_model.h5\n"
     ]
    },
    {
     "name": "stderr",
     "output_type": "stream",
     "text": [
      "WARNING:absl:You are saving your model as an HDF5 file via `model.save()` or `keras.saving.save_model(model)`. This file format is considered legacy. We recommend using instead the native Keras format, e.g. `model.save('my_model.keras')` or `keras.saving.save_model(model, 'my_model.keras')`. \n"
     ]
    },
    {
     "name": "stdout",
     "output_type": "stream",
     "text": [
      "\b\b\b\b\b\b\b\b\b\b\b\b\b\b\b\b\b\b\b\b\b\b\b\b\b\b\b\b\b\b\b\b\b\b\b\b\b\b\b\b\b\b\b\b\b\b\b\b\b\b\b\b\b\b\b\b\b\b\b\b\b\b\b\b\b\b\b\b\b\b\b\b\b\b\b\b\b\b\b\b\b\b\b\b\b\b\b\b\b\b\b\b\b\b\b\b\b\b\b\b\b\b\b\b\b\b\b\b\b\b\b\b\b\b\b\b\b\b\b\b\b\b\b\b\b\b\b\b\b\b\b\b\b\b\b\b\b\b\b\b\b\b\b\b\b\r\n",
      "\u001b[1m760/760\u001b[0m \u001b[32m━━━━━━━━━━━━━━━━━━━━\u001b[0m\u001b[37m\u001b[0m \u001b[1m32s\u001b[0m 42ms/step - accuracy: 0.8187 - auc: 0.9810 - f1_score: 0.8218 - loss: 0.9999 - precision: 0.8831 - recall: 0.7414 - val_accuracy: 0.8697 - val_auc: 0.9910 - val_f1_score: 0.8704 - val_loss: 0.8132 - val_precision: 0.9026 - val_recall: 0.8289\n",
      "Epoch 25/100\n",
      "\u001b[1m759/760\u001b[0m \u001b[32m━━━━━━━━━━━━━━━━━━━\u001b[0m\u001b[37m━\u001b[0m \u001b[1m0s\u001b[0m 34ms/step - accuracy: 0.8113 - auc: 0.9799 - f1_score: 0.8148 - loss: 1.0025 - precision: 0.8843 - recall: 0.7382\n",
      "Epoch 25: val_loss did not improve from 0.81316\n",
      "\u001b[1m760/760\u001b[0m \u001b[32m━━━━━━━━━━━━━━━━━━━━\u001b[0m\u001b[37m\u001b[0m \u001b[1m30s\u001b[0m 40ms/step - accuracy: 0.8113 - auc: 0.9799 - f1_score: 0.8148 - loss: 1.0025 - precision: 0.8843 - recall: 0.7382 - val_accuracy: 0.8487 - val_auc: 0.9881 - val_f1_score: 0.8566 - val_loss: 0.8419 - val_precision: 0.8704 - val_recall: 0.8132\n",
      "Epoch 26/100\n",
      "\u001b[1m759/760\u001b[0m \u001b[32m━━━━━━━━━━━━━━━━━━━\u001b[0m\u001b[37m━\u001b[0m \u001b[1m0s\u001b[0m 34ms/step - accuracy: 0.8247 - auc: 0.9821 - f1_score: 0.8257 - loss: 0.9570 - precision: 0.8936 - recall: 0.7561\n",
      "Epoch 26: val_loss improved from 0.81316 to 0.76662, saving model to ResNet101_best_model.h5\n"
     ]
    },
    {
     "name": "stderr",
     "output_type": "stream",
     "text": [
      "WARNING:absl:You are saving your model as an HDF5 file via `model.save()` or `keras.saving.save_model(model)`. This file format is considered legacy. We recommend using instead the native Keras format, e.g. `model.save('my_model.keras')` or `keras.saving.save_model(model, 'my_model.keras')`. \n"
     ]
    },
    {
     "name": "stdout",
     "output_type": "stream",
     "text": [
      "\b\b\b\b\b\b\b\b\b\b\b\b\b\b\b\b\b\b\b\b\b\b\b\b\b\b\b\b\b\b\b\b\b\b\b\b\b\b\b\b\b\b\b\b\b\b\b\b\b\b\b\b\b\b\b\b\b\b\b\b\b\b\b\b\b\b\b\b\b\b\b\b\b\b\b\b\b\b\b\b\b\b\b\b\b\b\b\b\b\b\b\b\b\b\b\b\b\b\b\b\b\b\b\b\b\b\b\b\b\b\b\b\b\b\b\b\b\b\b\b\b\b\b\b\b\b\b\b\b\b\b\b\b\b\b\b\b\b\b\b\b\b\b\b\b\r\n",
      "\u001b[1m760/760\u001b[0m \u001b[32m━━━━━━━━━━━━━━━━━━━━\u001b[0m\u001b[37m\u001b[0m \u001b[1m32s\u001b[0m 41ms/step - accuracy: 0.8247 - auc: 0.9821 - f1_score: 0.8256 - loss: 0.9571 - precision: 0.8935 - recall: 0.7561 - val_accuracy: 0.8737 - val_auc: 0.9920 - val_f1_score: 0.8798 - val_loss: 0.7666 - val_precision: 0.9168 - val_recall: 0.8408\n",
      "Epoch 27/100\n",
      "\u001b[1m759/760\u001b[0m \u001b[32m━━━━━━━━━━━━━━━━━━━\u001b[0m\u001b[37m━\u001b[0m \u001b[1m0s\u001b[0m 34ms/step - accuracy: 0.8285 - auc: 0.9846 - f1_score: 0.8321 - loss: 0.9136 - precision: 0.8865 - recall: 0.7704\n",
      "Epoch 27: val_loss improved from 0.76662 to 0.75279, saving model to ResNet101_best_model.h5\n"
     ]
    },
    {
     "name": "stderr",
     "output_type": "stream",
     "text": [
      "WARNING:absl:You are saving your model as an HDF5 file via `model.save()` or `keras.saving.save_model(model)`. This file format is considered legacy. We recommend using instead the native Keras format, e.g. `model.save('my_model.keras')` or `keras.saving.save_model(model, 'my_model.keras')`. \n"
     ]
    },
    {
     "name": "stdout",
     "output_type": "stream",
     "text": [
      "\b\b\b\b\b\b\b\b\b\b\b\b\b\b\b\b\b\b\b\b\b\b\b\b\b\b\b\b\b\b\b\b\b\b\b\b\b\b\b\b\b\b\b\b\b\b\b\b\b\b\b\b\b\b\b\b\b\b\b\b\b\b\b\b\b\b\b\b\b\b\b\b\b\b\b\b\b\b\b\b\b\b\b\b\b\b\b\b\b\b\b\b\b\b\b\b\b\b\b\b\b\b\b\b\b\b\b\b\b\b\b\b\b\b\b\b\b\b\b\b\b\b\b\b\b\b\b\b\b\b\b\b\b\b\b\b\b\b\b\b\b\b\b\b\b\r\n",
      "\u001b[1m760/760\u001b[0m \u001b[32m━━━━━━━━━━━━━━━━━━━━\u001b[0m\u001b[37m\u001b[0m \u001b[1m31s\u001b[0m 41ms/step - accuracy: 0.8284 - auc: 0.9846 - f1_score: 0.8321 - loss: 0.9137 - precision: 0.8864 - recall: 0.7704 - val_accuracy: 0.8868 - val_auc: 0.9910 - val_f1_score: 0.8932 - val_loss: 0.7528 - val_precision: 0.9083 - val_recall: 0.8474\n",
      "Epoch 28/100\n",
      "\u001b[1m759/760\u001b[0m \u001b[32m━━━━━━━━━━━━━━━━━━━\u001b[0m\u001b[37m━\u001b[0m \u001b[1m0s\u001b[0m 34ms/step - accuracy: 0.8200 - auc: 0.9801 - f1_score: 0.8232 - loss: 0.9622 - precision: 0.8854 - recall: 0.7402\n",
      "Epoch 28: val_loss improved from 0.75279 to 0.75163, saving model to ResNet101_best_model.h5\n"
     ]
    },
    {
     "name": "stderr",
     "output_type": "stream",
     "text": [
      "WARNING:absl:You are saving your model as an HDF5 file via `model.save()` or `keras.saving.save_model(model)`. This file format is considered legacy. We recommend using instead the native Keras format, e.g. `model.save('my_model.keras')` or `keras.saving.save_model(model, 'my_model.keras')`. \n"
     ]
    },
    {
     "name": "stdout",
     "output_type": "stream",
     "text": [
      "\b\b\b\b\b\b\b\b\b\b\b\b\b\b\b\b\b\b\b\b\b\b\b\b\b\b\b\b\b\b\b\b\b\b\b\b\b\b\b\b\b\b\b\b\b\b\b\b\b\b\b\b\b\b\b\b\b\b\b\b\b\b\b\b\b\b\b\b\b\b\b\b\b\b\b\b\b\b\b\b\b\b\b\b\b\b\b\b\b\b\b\b\b\b\b\b\b\b\b\b\b\b\b\b\b\b\b\b\b\b\b\b\b\b\b\b\b\b\b\b\b\b\b\b\b\b\b\b\b\b\b\b\b\b\b\b\b\b\b\b\b\b\b\b\b\r\n",
      "\u001b[1m760/760\u001b[0m \u001b[32m━━━━━━━━━━━━━━━━━━━━\u001b[0m\u001b[37m\u001b[0m \u001b[1m32s\u001b[0m 42ms/step - accuracy: 0.8199 - auc: 0.9801 - f1_score: 0.8232 - loss: 0.9623 - precision: 0.8853 - recall: 0.7402 - val_accuracy: 0.8711 - val_auc: 0.9923 - val_f1_score: 0.8794 - val_loss: 0.7516 - val_precision: 0.8972 - val_recall: 0.8382\n",
      "Epoch 29/100\n",
      "\u001b[1m759/760\u001b[0m \u001b[32m━━━━━━━━━━━━━━━━━━━\u001b[0m\u001b[37m━\u001b[0m \u001b[1m0s\u001b[0m 34ms/step - accuracy: 0.8113 - auc: 0.9801 - f1_score: 0.8182 - loss: 0.9610 - precision: 0.8754 - recall: 0.7296\n",
      "Epoch 29: val_loss improved from 0.75163 to 0.71528, saving model to ResNet101_best_model.h5\n"
     ]
    },
    {
     "name": "stderr",
     "output_type": "stream",
     "text": [
      "WARNING:absl:You are saving your model as an HDF5 file via `model.save()` or `keras.saving.save_model(model)`. This file format is considered legacy. We recommend using instead the native Keras format, e.g. `model.save('my_model.keras')` or `keras.saving.save_model(model, 'my_model.keras')`. \n"
     ]
    },
    {
     "name": "stdout",
     "output_type": "stream",
     "text": [
      "\b\b\b\b\b\b\b\b\b\b\b\b\b\b\b\b\b\b\b\b\b\b\b\b\b\b\b\b\b\b\b\b\b\b\b\b\b\b\b\b\b\b\b\b\b\b\b\b\b\b\b\b\b\b\b\b\b\b\b\b\b\b\b\b\b\b\b\b\b\b\b\b\b\b\b\b\b\b\b\b\b\b\b\b\b\b\b\b\b\b\b\b\b\b\b\b\b\b\b\b\b\b\b\b\b\b\b\b\b\b\b\b\b\b\b\b\b\b\b\b\b\b\b\b\b\b\b\b\b\b\b\b\b\b\b\b\b\b\b\b\b\b\b\b\b\r\n",
      "\u001b[1m760/760\u001b[0m \u001b[32m━━━━━━━━━━━━━━━━━━━━\u001b[0m\u001b[37m\u001b[0m \u001b[1m32s\u001b[0m 42ms/step - accuracy: 0.8112 - auc: 0.9801 - f1_score: 0.8182 - loss: 0.9610 - precision: 0.8754 - recall: 0.7296 - val_accuracy: 0.8974 - val_auc: 0.9932 - val_f1_score: 0.9006 - val_loss: 0.7153 - val_precision: 0.9257 - val_recall: 0.8526\n",
      "Epoch 30/100\n",
      "\u001b[1m759/760\u001b[0m \u001b[32m━━━━━━━━━━━━━━━━━━━\u001b[0m\u001b[37m━\u001b[0m \u001b[1m0s\u001b[0m 34ms/step - accuracy: 0.8274 - auc: 0.9815 - f1_score: 0.8304 - loss: 0.9183 - precision: 0.8890 - recall: 0.7606\n",
      "Epoch 30: val_loss improved from 0.71528 to 0.71290, saving model to ResNet101_best_model.h5\n"
     ]
    },
    {
     "name": "stderr",
     "output_type": "stream",
     "text": [
      "WARNING:absl:You are saving your model as an HDF5 file via `model.save()` or `keras.saving.save_model(model)`. This file format is considered legacy. We recommend using instead the native Keras format, e.g. `model.save('my_model.keras')` or `keras.saving.save_model(model, 'my_model.keras')`. \n"
     ]
    },
    {
     "name": "stdout",
     "output_type": "stream",
     "text": [
      "\b\b\b\b\b\b\b\b\b\b\b\b\b\b\b\b\b\b\b\b\b\b\b\b\b\b\b\b\b\b\b\b\b\b\b\b\b\b\b\b\b\b\b\b\b\b\b\b\b\b\b\b\b\b\b\b\b\b\b\b\b\b\b\b\b\b\b\b\b\b\b\b\b\b\b\b\b\b\b\b\b\b\b\b\b\b\b\b\b\b\b\b\b\b\b\b\b\b\b\b\b\b\b\b\b\b\b\b\b\b\b\b\b\b\b\b\b\b\b\b\b\b\b\b\b\b\b\b\b\b\b\b\b\b\b\b\b\b\b\b\b\b\b\b\b\r\n",
      "\u001b[1m760/760\u001b[0m \u001b[32m━━━━━━━━━━━━━━━━━━━━\u001b[0m\u001b[37m\u001b[0m \u001b[1m32s\u001b[0m 42ms/step - accuracy: 0.8273 - auc: 0.9815 - f1_score: 0.8304 - loss: 0.9184 - precision: 0.8890 - recall: 0.7605 - val_accuracy: 0.8974 - val_auc: 0.9931 - val_f1_score: 0.9029 - val_loss: 0.7129 - val_precision: 0.9133 - val_recall: 0.8592\n",
      "Epoch 31/100\n",
      "\u001b[1m759/760\u001b[0m \u001b[32m━━━━━━━━━━━━━━━━━━━\u001b[0m\u001b[37m━\u001b[0m \u001b[1m0s\u001b[0m 34ms/step - accuracy: 0.8194 - auc: 0.9806 - f1_score: 0.8272 - loss: 0.9295 - precision: 0.8826 - recall: 0.7481\n",
      "Epoch 31: val_loss improved from 0.71290 to 0.69446, saving model to ResNet101_best_model.h5\n"
     ]
    },
    {
     "name": "stderr",
     "output_type": "stream",
     "text": [
      "WARNING:absl:You are saving your model as an HDF5 file via `model.save()` or `keras.saving.save_model(model)`. This file format is considered legacy. We recommend using instead the native Keras format, e.g. `model.save('my_model.keras')` or `keras.saving.save_model(model, 'my_model.keras')`. \n"
     ]
    },
    {
     "name": "stdout",
     "output_type": "stream",
     "text": [
      "\b\b\b\b\b\b\b\b\b\b\b\b\b\b\b\b\b\b\b\b\b\b\b\b\b\b\b\b\b\b\b\b\b\b\b\b\b\b\b\b\b\b\b\b\b\b\b\b\b\b\b\b\b\b\b\b\b\b\b\b\b\b\b\b\b\b\b\b\b\b\b\b\b\b\b\b\b\b\b\b\b\b\b\b\b\b\b\b\b\b\b\b\b\b\b\b\b\b\b\b\b\b\b\b\b\b\b\b\b\b\b\b\b\b\b\b\b\b\b\b\b\b\b\b\b\b\b\b\b\b\b\b\b\b\b\b\b\b\b\b\b\b\b\b\b\r\n",
      "\u001b[1m760/760\u001b[0m \u001b[32m━━━━━━━━━━━━━━━━━━━━\u001b[0m\u001b[37m\u001b[0m \u001b[1m32s\u001b[0m 41ms/step - accuracy: 0.8194 - auc: 0.9806 - f1_score: 0.8271 - loss: 0.9295 - precision: 0.8826 - recall: 0.7481 - val_accuracy: 0.8868 - val_auc: 0.9930 - val_f1_score: 0.8917 - val_loss: 0.6945 - val_precision: 0.9093 - val_recall: 0.8579\n",
      "Epoch 32/100\n",
      "\u001b[1m759/760\u001b[0m \u001b[32m━━━━━━━━━━━━━━━━━━━\u001b[0m\u001b[37m━\u001b[0m \u001b[1m0s\u001b[0m 34ms/step - accuracy: 0.8123 - auc: 0.9806 - f1_score: 0.8146 - loss: 0.9247 - precision: 0.8712 - recall: 0.7481\n",
      "Epoch 32: val_loss did not improve from 0.69446\n",
      "\u001b[1m760/760\u001b[0m \u001b[32m━━━━━━━━━━━━━━━━━━━━\u001b[0m\u001b[37m\u001b[0m \u001b[1m31s\u001b[0m 40ms/step - accuracy: 0.8123 - auc: 0.9806 - f1_score: 0.8146 - loss: 0.9248 - precision: 0.8712 - recall: 0.7480 - val_accuracy: 0.8724 - val_auc: 0.9927 - val_f1_score: 0.8765 - val_loss: 0.7104 - val_precision: 0.9026 - val_recall: 0.8289\n",
      "Epoch 33/100\n",
      "\u001b[1m759/760\u001b[0m \u001b[32m━━━━━━━━━━━━━━━━━━━\u001b[0m\u001b[37m━\u001b[0m \u001b[1m0s\u001b[0m 34ms/step - accuracy: 0.8167 - auc: 0.9821 - f1_score: 0.8171 - loss: 0.8994 - precision: 0.8789 - recall: 0.7575\n",
      "Epoch 33: val_loss did not improve from 0.69446\n",
      "\u001b[1m760/760\u001b[0m \u001b[32m━━━━━━━━━━━━━━━━━━━━\u001b[0m\u001b[37m\u001b[0m \u001b[1m31s\u001b[0m 40ms/step - accuracy: 0.8167 - auc: 0.9821 - f1_score: 0.8172 - loss: 0.8994 - precision: 0.8789 - recall: 0.7575 - val_accuracy: 0.8645 - val_auc: 0.9906 - val_f1_score: 0.8689 - val_loss: 0.7452 - val_precision: 0.8867 - val_recall: 0.8237\n",
      "Epoch 34/100\n",
      "\u001b[1m759/760\u001b[0m \u001b[32m━━━━━━━━━━━━━━━━━━━\u001b[0m\u001b[37m━\u001b[0m \u001b[1m0s\u001b[0m 34ms/step - accuracy: 0.8279 - auc: 0.9817 - f1_score: 0.8289 - loss: 0.9043 - precision: 0.8917 - recall: 0.7502\n",
      "Epoch 34: val_loss did not improve from 0.69446\n",
      "\u001b[1m760/760\u001b[0m \u001b[32m━━━━━━━━━━━━━━━━━━━━\u001b[0m\u001b[37m\u001b[0m \u001b[1m30s\u001b[0m 40ms/step - accuracy: 0.8278 - auc: 0.9817 - f1_score: 0.8289 - loss: 0.9044 - precision: 0.8917 - recall: 0.7501 - val_accuracy: 0.8724 - val_auc: 0.9911 - val_f1_score: 0.8720 - val_loss: 0.7288 - val_precision: 0.8980 - val_recall: 0.8342\n",
      "Epoch 35/100\n",
      "\u001b[1m759/760\u001b[0m \u001b[32m━━━━━━━━━━━━━━━━━━━\u001b[0m\u001b[37m━\u001b[0m \u001b[1m0s\u001b[0m 34ms/step - accuracy: 0.8343 - auc: 0.9841 - f1_score: 0.8391 - loss: 0.8687 - precision: 0.8949 - recall: 0.7563\n",
      "Epoch 35: val_loss did not improve from 0.69446\n",
      "\u001b[1m760/760\u001b[0m \u001b[32m━━━━━━━━━━━━━━━━━━━━\u001b[0m\u001b[37m\u001b[0m \u001b[1m30s\u001b[0m 40ms/step - accuracy: 0.8343 - auc: 0.9841 - f1_score: 0.8391 - loss: 0.8688 - precision: 0.8948 - recall: 0.7562 - val_accuracy: 0.8618 - val_auc: 0.9894 - val_f1_score: 0.8670 - val_loss: 0.7345 - val_precision: 0.8886 - val_recall: 0.8289\n",
      "Epoch 36/100\n",
      "\u001b[1m759/760\u001b[0m \u001b[32m━━━━━━━━━━━━━━━━━━━\u001b[0m\u001b[37m━\u001b[0m \u001b[1m0s\u001b[0m 34ms/step - accuracy: 0.8353 - auc: 0.9807 - f1_score: 0.8395 - loss: 0.9052 - precision: 0.8919 - recall: 0.7547\n",
      "Epoch 36: val_loss improved from 0.69446 to 0.67709, saving model to ResNet101_best_model.h5\n"
     ]
    },
    {
     "name": "stderr",
     "output_type": "stream",
     "text": [
      "WARNING:absl:You are saving your model as an HDF5 file via `model.save()` or `keras.saving.save_model(model)`. This file format is considered legacy. We recommend using instead the native Keras format, e.g. `model.save('my_model.keras')` or `keras.saving.save_model(model, 'my_model.keras')`. \n"
     ]
    },
    {
     "name": "stdout",
     "output_type": "stream",
     "text": [
      "\b\b\b\b\b\b\b\b\b\b\b\b\b\b\b\b\b\b\b\b\b\b\b\b\b\b\b\b\b\b\b\b\b\b\b\b\b\b\b\b\b\b\b\b\b\b\b\b\b\b\b\b\b\b\b\b\b\b\b\b\b\b\b\b\b\b\b\b\b\b\b\b\b\b\b\b\b\b\b\b\b\b\b\b\b\b\b\b\b\b\b\b\b\b\b\b\b\b\b\b\b\b\b\b\b\b\b\b\b\b\b\b\b\b\b\b\b\b\b\b\b\b\b\b\b\b\b\b\b\b\b\b\b\b\b\b\b\b\b\b\b\b\b\b\b\r\n",
      "\u001b[1m760/760\u001b[0m \u001b[32m━━━━━━━━━━━━━━━━━━━━\u001b[0m\u001b[37m\u001b[0m \u001b[1m31s\u001b[0m 41ms/step - accuracy: 0.8353 - auc: 0.9807 - f1_score: 0.8395 - loss: 0.9052 - precision: 0.8919 - recall: 0.7547 - val_accuracy: 0.8789 - val_auc: 0.9931 - val_f1_score: 0.8873 - val_loss: 0.6771 - val_precision: 0.9141 - val_recall: 0.8539\n",
      "Epoch 37/100\n",
      "\u001b[1m759/760\u001b[0m \u001b[32m━━━━━━━━━━━━━━━━━━━\u001b[0m\u001b[37m━\u001b[0m \u001b[1m0s\u001b[0m 34ms/step - accuracy: 0.8098 - auc: 0.9813 - f1_score: 0.8148 - loss: 0.8970 - precision: 0.8715 - recall: 0.7436\n",
      "Epoch 37: val_loss improved from 0.67709 to 0.66740, saving model to ResNet101_best_model.h5\n"
     ]
    },
    {
     "name": "stderr",
     "output_type": "stream",
     "text": [
      "WARNING:absl:You are saving your model as an HDF5 file via `model.save()` or `keras.saving.save_model(model)`. This file format is considered legacy. We recommend using instead the native Keras format, e.g. `model.save('my_model.keras')` or `keras.saving.save_model(model, 'my_model.keras')`. \n"
     ]
    },
    {
     "name": "stdout",
     "output_type": "stream",
     "text": [
      "\b\b\b\b\b\b\b\b\b\b\b\b\b\b\b\b\b\b\b\b\b\b\b\b\b\b\b\b\b\b\b\b\b\b\b\b\b\b\b\b\b\b\b\b\b\b\b\b\b\b\b\b\b\b\b\b\b\b\b\b\b\b\b\b\b\b\b\b\b\b\b\b\b\b\b\b\b\b\b\b\b\b\b\b\b\b\b\b\b\b\b\b\b\b\b\b\b\b\b\b\b\b\b\b\b\b\b\b\b\b\b\b\b\b\b\b\b\b\b\b\b\b\b\b\b\b\b\b\b\b\b\b\b\b\b\b\b\b\b\b\b\b\b\b\b\r\n",
      "\u001b[1m760/760\u001b[0m \u001b[32m━━━━━━━━━━━━━━━━━━━━\u001b[0m\u001b[37m\u001b[0m \u001b[1m31s\u001b[0m 41ms/step - accuracy: 0.8098 - auc: 0.9813 - f1_score: 0.8148 - loss: 0.8970 - precision: 0.8715 - recall: 0.7436 - val_accuracy: 0.8868 - val_auc: 0.9933 - val_f1_score: 0.8905 - val_loss: 0.6674 - val_precision: 0.9171 - val_recall: 0.8447\n",
      "Epoch 38/100\n",
      "\u001b[1m759/760\u001b[0m \u001b[32m━━━━━━━━━━━━━━━━━━━\u001b[0m\u001b[37m━\u001b[0m \u001b[1m0s\u001b[0m 34ms/step - accuracy: 0.8400 - auc: 0.9835 - f1_score: 0.8377 - loss: 0.8495 - precision: 0.9049 - recall: 0.7721\n",
      "Epoch 38: val_loss did not improve from 0.66740\n",
      "\u001b[1m760/760\u001b[0m \u001b[32m━━━━━━━━━━━━━━━━━━━━\u001b[0m\u001b[37m\u001b[0m \u001b[1m30s\u001b[0m 40ms/step - accuracy: 0.8399 - auc: 0.9835 - f1_score: 0.8377 - loss: 0.8495 - precision: 0.9049 - recall: 0.7721 - val_accuracy: 0.8684 - val_auc: 0.9906 - val_f1_score: 0.8757 - val_loss: 0.7008 - val_precision: 0.9093 - val_recall: 0.8447\n",
      "Epoch 39/100\n",
      "\u001b[1m759/760\u001b[0m \u001b[32m━━━━━━━━━━━━━━━━━━━\u001b[0m\u001b[37m━\u001b[0m \u001b[1m0s\u001b[0m 34ms/step - accuracy: 0.8259 - auc: 0.9813 - f1_score: 0.8312 - loss: 0.8841 - precision: 0.8863 - recall: 0.7541\n",
      "Epoch 39: val_loss improved from 0.66740 to 0.66608, saving model to ResNet101_best_model.h5\n"
     ]
    },
    {
     "name": "stderr",
     "output_type": "stream",
     "text": [
      "WARNING:absl:You are saving your model as an HDF5 file via `model.save()` or `keras.saving.save_model(model)`. This file format is considered legacy. We recommend using instead the native Keras format, e.g. `model.save('my_model.keras')` or `keras.saving.save_model(model, 'my_model.keras')`. \n"
     ]
    },
    {
     "name": "stdout",
     "output_type": "stream",
     "text": [
      "\b\b\b\b\b\b\b\b\b\b\b\b\b\b\b\b\b\b\b\b\b\b\b\b\b\b\b\b\b\b\b\b\b\b\b\b\b\b\b\b\b\b\b\b\b\b\b\b\b\b\b\b\b\b\b\b\b\b\b\b\b\b\b\b\b\b\b\b\b\b\b\b\b\b\b\b\b\b\b\b\b\b\b\b\b\b\b\b\b\b\b\b\b\b\b\b\b\b\b\b\b\b\b\b\b\b\b\b\b\b\b\b\b\b\b\b\b\b\b\b\b\b\b\b\b\b\b\b\b\b\b\b\b\b\b\b\b\b\b\b\b\b\b\b\b\r\n",
      "\u001b[1m760/760\u001b[0m \u001b[32m━━━━━━━━━━━━━━━━━━━━\u001b[0m\u001b[37m\u001b[0m \u001b[1m31s\u001b[0m 41ms/step - accuracy: 0.8259 - auc: 0.9813 - f1_score: 0.8312 - loss: 0.8842 - precision: 0.8863 - recall: 0.7541 - val_accuracy: 0.8895 - val_auc: 0.9928 - val_f1_score: 0.8998 - val_loss: 0.6661 - val_precision: 0.9116 - val_recall: 0.8553\n",
      "Epoch 40/100\n",
      "\u001b[1m759/760\u001b[0m \u001b[32m━━━━━━━━━━━━━━━━━━━\u001b[0m\u001b[37m━\u001b[0m \u001b[1m0s\u001b[0m 34ms/step - accuracy: 0.8295 - auc: 0.9839 - f1_score: 0.8299 - loss: 0.8504 - precision: 0.8928 - recall: 0.7664\n",
      "Epoch 40: val_loss did not improve from 0.66608\n",
      "\u001b[1m760/760\u001b[0m \u001b[32m━━━━━━━━━━━━━━━━━━━━\u001b[0m\u001b[37m\u001b[0m \u001b[1m30s\u001b[0m 40ms/step - accuracy: 0.8295 - auc: 0.9839 - f1_score: 0.8299 - loss: 0.8505 - precision: 0.8928 - recall: 0.7664 - val_accuracy: 0.8658 - val_auc: 0.9897 - val_f1_score: 0.8711 - val_loss: 0.7197 - val_precision: 0.8935 - val_recall: 0.8276\n",
      "Epoch 41/100\n",
      "\u001b[1m759/760\u001b[0m \u001b[32m━━━━━━━━━━━━━━━━━━━\u001b[0m\u001b[37m━\u001b[0m \u001b[1m0s\u001b[0m 34ms/step - accuracy: 0.8284 - auc: 0.9831 - f1_score: 0.8341 - loss: 0.8547 - precision: 0.8868 - recall: 0.7676\n",
      "Epoch 41: val_loss did not improve from 0.66608\n",
      "\u001b[1m760/760\u001b[0m \u001b[32m━━━━━━━━━━━━━━━━━━━━\u001b[0m\u001b[37m\u001b[0m \u001b[1m30s\u001b[0m 40ms/step - accuracy: 0.8284 - auc: 0.9831 - f1_score: 0.8341 - loss: 0.8548 - precision: 0.8868 - recall: 0.7675 - val_accuracy: 0.8513 - val_auc: 0.9895 - val_f1_score: 0.8539 - val_loss: 0.7270 - val_precision: 0.8908 - val_recall: 0.8158\n",
      "Epoch 42/100\n",
      "\u001b[1m759/760\u001b[0m \u001b[32m━━━━━━━━━━━━━━━━━━━\u001b[0m\u001b[37m━\u001b[0m \u001b[1m0s\u001b[0m 34ms/step - accuracy: 0.8225 - auc: 0.9815 - f1_score: 0.8267 - loss: 0.8784 - precision: 0.8817 - recall: 0.7458\n",
      "Epoch 42: val_loss did not improve from 0.66608\n",
      "\u001b[1m760/760\u001b[0m \u001b[32m━━━━━━━━━━━━━━━━━━━━\u001b[0m\u001b[37m\u001b[0m \u001b[1m30s\u001b[0m 40ms/step - accuracy: 0.8225 - auc: 0.9815 - f1_score: 0.8268 - loss: 0.8784 - precision: 0.8817 - recall: 0.7458 - val_accuracy: 0.8658 - val_auc: 0.9908 - val_f1_score: 0.8683 - val_loss: 0.7018 - val_precision: 0.8993 - val_recall: 0.8342\n",
      "Epoch 43/100\n",
      "\u001b[1m759/760\u001b[0m \u001b[32m━━━━━━━━━━━━━━━━━━━\u001b[0m\u001b[37m━\u001b[0m \u001b[1m0s\u001b[0m 34ms/step - accuracy: 0.8217 - auc: 0.9819 - f1_score: 0.8254 - loss: 0.8698 - precision: 0.8860 - recall: 0.7592\n",
      "Epoch 43: val_loss did not improve from 0.66608\n",
      "\u001b[1m760/760\u001b[0m \u001b[32m━━━━━━━━━━━━━━━━━━━━\u001b[0m\u001b[37m\u001b[0m \u001b[1m30s\u001b[0m 40ms/step - accuracy: 0.8217 - auc: 0.9819 - f1_score: 0.8254 - loss: 0.8698 - precision: 0.8860 - recall: 0.7592 - val_accuracy: 0.8882 - val_auc: 0.9921 - val_f1_score: 0.8916 - val_loss: 0.6685 - val_precision: 0.9162 - val_recall: 0.8487\n",
      "Epoch 44/100\n",
      "\u001b[1m759/760\u001b[0m \u001b[32m━━━━━━━━━━━━━━━━━━━\u001b[0m\u001b[37m━\u001b[0m \u001b[1m0s\u001b[0m 34ms/step - accuracy: 0.8359 - auc: 0.9835 - f1_score: 0.8389 - loss: 0.8388 - precision: 0.8873 - recall: 0.7653\n",
      "Epoch 44: val_loss did not improve from 0.66608\n",
      "\u001b[1m760/760\u001b[0m \u001b[32m━━━━━━━━━━━━━━━━━━━━\u001b[0m\u001b[37m\u001b[0m \u001b[1m30s\u001b[0m 40ms/step - accuracy: 0.8358 - auc: 0.9835 - f1_score: 0.8388 - loss: 0.8389 - precision: 0.8873 - recall: 0.7653 - val_accuracy: 0.8645 - val_auc: 0.9908 - val_f1_score: 0.8679 - val_loss: 0.6970 - val_precision: 0.8901 - val_recall: 0.8316\n",
      "Epoch 45/100\n",
      "\u001b[1m759/760\u001b[0m \u001b[32m━━━━━━━━━━━━━━━━━━━\u001b[0m\u001b[37m━\u001b[0m \u001b[1m0s\u001b[0m 34ms/step - accuracy: 0.8277 - auc: 0.9820 - f1_score: 0.8312 - loss: 0.8651 - precision: 0.8850 - recall: 0.7534\n",
      "Epoch 45: val_loss did not improve from 0.66608\n",
      "\u001b[1m760/760\u001b[0m \u001b[32m━━━━━━━━━━━━━━━━━━━━\u001b[0m\u001b[37m\u001b[0m \u001b[1m30s\u001b[0m 40ms/step - accuracy: 0.8277 - auc: 0.9820 - f1_score: 0.8312 - loss: 0.8651 - precision: 0.8850 - recall: 0.7534 - val_accuracy: 0.8737 - val_auc: 0.9921 - val_f1_score: 0.8744 - val_loss: 0.6717 - val_precision: 0.8954 - val_recall: 0.8447\n",
      "Epoch 46/100\n",
      "\u001b[1m759/760\u001b[0m \u001b[32m━━━━━━━━━━━━━━━━━━━\u001b[0m\u001b[37m━\u001b[0m \u001b[1m0s\u001b[0m 34ms/step - accuracy: 0.8354 - auc: 0.9837 - f1_score: 0.8406 - loss: 0.8395 - precision: 0.8964 - recall: 0.7633\n",
      "Epoch 46: val_loss did not improve from 0.66608\n",
      "\u001b[1m760/760\u001b[0m \u001b[32m━━━━━━━━━━━━━━━━━━━━\u001b[0m\u001b[37m\u001b[0m \u001b[1m30s\u001b[0m 40ms/step - accuracy: 0.8353 - auc: 0.9837 - f1_score: 0.8406 - loss: 0.8396 - precision: 0.8964 - recall: 0.7632 - val_accuracy: 0.8763 - val_auc: 0.9902 - val_f1_score: 0.8829 - val_loss: 0.6802 - val_precision: 0.9027 - val_recall: 0.8421\n",
      "Epoch 47/100\n",
      "\u001b[1m759/760\u001b[0m \u001b[32m━━━━━━━━━━━━━━━━━━━\u001b[0m\u001b[37m━\u001b[0m \u001b[1m0s\u001b[0m 34ms/step - accuracy: 0.8425 - auc: 0.9850 - f1_score: 0.8450 - loss: 0.8156 - precision: 0.9107 - recall: 0.7729\n",
      "Epoch 47: val_loss improved from 0.66608 to 0.62333, saving model to ResNet101_best_model.h5\n"
     ]
    },
    {
     "name": "stderr",
     "output_type": "stream",
     "text": [
      "WARNING:absl:You are saving your model as an HDF5 file via `model.save()` or `keras.saving.save_model(model)`. This file format is considered legacy. We recommend using instead the native Keras format, e.g. `model.save('my_model.keras')` or `keras.saving.save_model(model, 'my_model.keras')`. \n"
     ]
    },
    {
     "name": "stdout",
     "output_type": "stream",
     "text": [
      "\b\b\b\b\b\b\b\b\b\b\b\b\b\b\b\b\b\b\b\b\b\b\b\b\b\b\b\b\b\b\b\b\b\b\b\b\b\b\b\b\b\b\b\b\b\b\b\b\b\b\b\b\b\b\b\b\b\b\b\b\b\b\b\b\b\b\b\b\b\b\b\b\b\b\b\b\b\b\b\b\b\b\b\b\b\b\b\b\b\b\b\b\b\b\b\b\b\b\b\b\b\b\b\b\b\b\b\b\b\b\b\b\b\b\b\b\b\b\b\b\b\b\b\b\b\b\b\b\b\b\b\b\b\b\b\b\b\b\b\b\b\b\b\b\b\r\n",
      "\u001b[1m760/760\u001b[0m \u001b[32m━━━━━━━━━━━━━━━━━━━━\u001b[0m\u001b[37m\u001b[0m \u001b[1m31s\u001b[0m 41ms/step - accuracy: 0.8425 - auc: 0.9850 - f1_score: 0.8450 - loss: 0.8156 - precision: 0.9107 - recall: 0.7729 - val_accuracy: 0.8895 - val_auc: 0.9934 - val_f1_score: 0.8915 - val_loss: 0.6233 - val_precision: 0.9100 - val_recall: 0.8645\n",
      "Epoch 48/100\n",
      "\u001b[1m759/760\u001b[0m \u001b[32m━━━━━━━━━━━━━━━━━━━\u001b[0m\u001b[37m━\u001b[0m \u001b[1m0s\u001b[0m 34ms/step - accuracy: 0.8337 - auc: 0.9827 - f1_score: 0.8385 - loss: 0.8227 - precision: 0.8927 - recall: 0.7706\n",
      "Epoch 48: val_loss did not improve from 0.62333\n",
      "\u001b[1m760/760\u001b[0m \u001b[32m━━━━━━━━━━━━━━━━━━━━\u001b[0m\u001b[37m\u001b[0m \u001b[1m30s\u001b[0m 40ms/step - accuracy: 0.8337 - auc: 0.9827 - f1_score: 0.8385 - loss: 0.8227 - precision: 0.8927 - recall: 0.7706 - val_accuracy: 0.8671 - val_auc: 0.9908 - val_f1_score: 0.8726 - val_loss: 0.6824 - val_precision: 0.8934 - val_recall: 0.8382\n",
      "Epoch 49/100\n",
      "\u001b[1m759/760\u001b[0m \u001b[32m━━━━━━━━━━━━━━━━━━━\u001b[0m\u001b[37m━\u001b[0m \u001b[1m0s\u001b[0m 34ms/step - accuracy: 0.8270 - auc: 0.9836 - f1_score: 0.8344 - loss: 0.8337 - precision: 0.8844 - recall: 0.7580\n",
      "Epoch 49: val_loss did not improve from 0.62333\n",
      "\u001b[1m760/760\u001b[0m \u001b[32m━━━━━━━━━━━━━━━━━━━━\u001b[0m\u001b[37m\u001b[0m \u001b[1m30s\u001b[0m 40ms/step - accuracy: 0.8270 - auc: 0.9836 - f1_score: 0.8344 - loss: 0.8338 - precision: 0.8843 - recall: 0.7579 - val_accuracy: 0.8895 - val_auc: 0.9925 - val_f1_score: 0.8966 - val_loss: 0.6444 - val_precision: 0.9115 - val_recall: 0.8539\n",
      "Epoch 50/100\n",
      "\u001b[1m759/760\u001b[0m \u001b[32m━━━━━━━━━━━━━━━━━━━\u001b[0m\u001b[37m━\u001b[0m \u001b[1m0s\u001b[0m 34ms/step - accuracy: 0.8287 - auc: 0.9816 - f1_score: 0.8320 - loss: 0.8529 - precision: 0.8837 - recall: 0.7515\n",
      "Epoch 50: val_loss did not improve from 0.62333\n",
      "\u001b[1m760/760\u001b[0m \u001b[32m━━━━━━━━━━━━━━━━━━━━\u001b[0m\u001b[37m\u001b[0m \u001b[1m30s\u001b[0m 40ms/step - accuracy: 0.8287 - auc: 0.9816 - f1_score: 0.8320 - loss: 0.8529 - precision: 0.8837 - recall: 0.7515 - val_accuracy: 0.8684 - val_auc: 0.9916 - val_f1_score: 0.8716 - val_loss: 0.6521 - val_precision: 0.9001 - val_recall: 0.8421\n",
      "Epoch 51/100\n",
      "\u001b[1m759/760\u001b[0m \u001b[32m━━━━━━━━━━━━━━━━━━━\u001b[0m\u001b[37m━\u001b[0m \u001b[1m0s\u001b[0m 34ms/step - accuracy: 0.8274 - auc: 0.9813 - f1_score: 0.8346 - loss: 0.8462 - precision: 0.8922 - recall: 0.7563\n",
      "Epoch 51: val_loss did not improve from 0.62333\n",
      "\u001b[1m760/760\u001b[0m \u001b[32m━━━━━━━━━━━━━━━━━━━━\u001b[0m\u001b[37m\u001b[0m \u001b[1m30s\u001b[0m 40ms/step - accuracy: 0.8274 - auc: 0.9813 - f1_score: 0.8346 - loss: 0.8463 - precision: 0.8921 - recall: 0.7563 - val_accuracy: 0.8855 - val_auc: 0.9919 - val_f1_score: 0.8926 - val_loss: 0.6569 - val_precision: 0.9148 - val_recall: 0.8474\n",
      "Epoch 52/100\n",
      "\u001b[1m759/760\u001b[0m \u001b[32m━━━━━━━━━━━━━━━━━━━\u001b[0m\u001b[37m━\u001b[0m \u001b[1m0s\u001b[0m 34ms/step - accuracy: 0.8307 - auc: 0.9841 - f1_score: 0.8362 - loss: 0.8214 - precision: 0.8878 - recall: 0.7587\n",
      "Epoch 52: val_loss did not improve from 0.62333\n",
      "\u001b[1m760/760\u001b[0m \u001b[32m━━━━━━━━━━━━━━━━━━━━\u001b[0m\u001b[37m\u001b[0m \u001b[1m30s\u001b[0m 40ms/step - accuracy: 0.8307 - auc: 0.9841 - f1_score: 0.8362 - loss: 0.8214 - precision: 0.8877 - recall: 0.7587 - val_accuracy: 0.8803 - val_auc: 0.9910 - val_f1_score: 0.8817 - val_loss: 0.6711 - val_precision: 0.9090 - val_recall: 0.8408\n",
      "Epoch 53/100\n",
      "\u001b[1m759/760\u001b[0m \u001b[32m━━━━━━━━━━━━━━━━━━━\u001b[0m\u001b[37m━\u001b[0m \u001b[1m0s\u001b[0m 34ms/step - accuracy: 0.8361 - auc: 0.9837 - f1_score: 0.8367 - loss: 0.8255 - precision: 0.8972 - recall: 0.7558\n",
      "Epoch 53: val_loss did not improve from 0.62333\n",
      "\u001b[1m760/760\u001b[0m \u001b[32m━━━━━━━━━━━━━━━━━━━━\u001b[0m\u001b[37m\u001b[0m \u001b[1m30s\u001b[0m 40ms/step - accuracy: 0.8361 - auc: 0.9837 - f1_score: 0.8367 - loss: 0.8255 - precision: 0.8972 - recall: 0.7558 - val_accuracy: 0.8776 - val_auc: 0.9915 - val_f1_score: 0.8812 - val_loss: 0.6569 - val_precision: 0.9110 - val_recall: 0.8487\n",
      "Epoch 54/100\n",
      "\u001b[1m759/760\u001b[0m \u001b[32m━━━━━━━━━━━━━━━━━━━\u001b[0m\u001b[37m━\u001b[0m \u001b[1m0s\u001b[0m 34ms/step - accuracy: 0.8215 - auc: 0.9805 - f1_score: 0.8269 - loss: 0.8617 - precision: 0.8780 - recall: 0.7443\n",
      "Epoch 54: val_loss did not improve from 0.62333\n",
      "\u001b[1m760/760\u001b[0m \u001b[32m━━━━━━━━━━━━━━━━━━━━\u001b[0m\u001b[37m\u001b[0m \u001b[1m30s\u001b[0m 40ms/step - accuracy: 0.8215 - auc: 0.9805 - f1_score: 0.8268 - loss: 0.8617 - precision: 0.8780 - recall: 0.7443 - val_accuracy: 0.8789 - val_auc: 0.9921 - val_f1_score: 0.8846 - val_loss: 0.6542 - val_precision: 0.9044 - val_recall: 0.8342\n",
      "Epoch 55/100\n",
      "\u001b[1m759/760\u001b[0m \u001b[32m━━━━━━━━━━━━━━━━━━━\u001b[0m\u001b[37m━\u001b[0m \u001b[1m0s\u001b[0m 34ms/step - accuracy: 0.8359 - auc: 0.9842 - f1_score: 0.8395 - loss: 0.8128 - precision: 0.9009 - recall: 0.7674\n",
      "Epoch 55: val_loss did not improve from 0.62333\n",
      "\u001b[1m760/760\u001b[0m \u001b[32m━━━━━━━━━━━━━━━━━━━━\u001b[0m\u001b[37m\u001b[0m \u001b[1m30s\u001b[0m 40ms/step - accuracy: 0.8358 - auc: 0.9842 - f1_score: 0.8394 - loss: 0.8129 - precision: 0.9008 - recall: 0.7674 - val_accuracy: 0.8724 - val_auc: 0.9918 - val_f1_score: 0.8716 - val_loss: 0.6508 - val_precision: 0.9087 - val_recall: 0.8382\n",
      "Epoch 56/100\n",
      "\u001b[1m759/760\u001b[0m \u001b[32m━━━━━━━━━━━━━━━━━━━\u001b[0m\u001b[37m━\u001b[0m \u001b[1m0s\u001b[0m 34ms/step - accuracy: 0.8245 - auc: 0.9815 - f1_score: 0.8271 - loss: 0.8387 - precision: 0.8809 - recall: 0.7431\n",
      "Epoch 56: val_loss did not improve from 0.62333\n",
      "\u001b[1m760/760\u001b[0m \u001b[32m━━━━━━━━━━━━━━━━━━━━\u001b[0m\u001b[37m\u001b[0m \u001b[1m30s\u001b[0m 40ms/step - accuracy: 0.8245 - auc: 0.9815 - f1_score: 0.8271 - loss: 0.8388 - precision: 0.8808 - recall: 0.7431 - val_accuracy: 0.8974 - val_auc: 0.9926 - val_f1_score: 0.9025 - val_loss: 0.6389 - val_precision: 0.9230 - val_recall: 0.8513\n",
      "Epoch 57/100\n",
      "\u001b[1m759/760\u001b[0m \u001b[32m━━━━━━━━━━━━━━━━━━━\u001b[0m\u001b[37m━\u001b[0m \u001b[1m0s\u001b[0m 34ms/step - accuracy: 0.8403 - auc: 0.9842 - f1_score: 0.8419 - loss: 0.7959 - precision: 0.8923 - recall: 0.7690\n",
      "Epoch 57: val_loss did not improve from 0.62333\n",
      "\u001b[1m760/760\u001b[0m \u001b[32m━━━━━━━━━━━━━━━━━━━━\u001b[0m\u001b[37m\u001b[0m \u001b[1m30s\u001b[0m 40ms/step - accuracy: 0.8403 - auc: 0.9842 - f1_score: 0.8419 - loss: 0.7960 - precision: 0.8923 - recall: 0.7690 - val_accuracy: 0.8842 - val_auc: 0.9928 - val_f1_score: 0.8905 - val_loss: 0.6248 - val_precision: 0.9137 - val_recall: 0.8500\n",
      "Epoch 57: early stopping\n",
      "Restoring model weights from the end of the best epoch: 47.\n"
     ]
    },
    {
     "data": {
      "image/png": "[encoded data removed]",
      "text/plain": [
       "<Figure size 1000x600 with 1 Axes>"
      ]
     },
     "metadata": {},
     "output_type": "display_data"
    },
    {
     "name": "stderr",
     "output_type": "stream",
     "text": [
      "WARNING:absl:Compiled the loaded model, but the compiled metrics have yet to be built. `model.compile_metrics` will be empty until you train or evaluate the model.\n"
     ]
    }
   ],
   "source": [
    "best_model, history, results = create_and_train_model(\n",
    "    'ResNet101',\n",
    "    (train_images, train_labels_one_hot),\n",
    "    (val_images, val_labels_one_hot),\n",
    "    (test_images, test_labels_one_hot)\n",
    ")"
   ]
  },
  {
   "cell_type": "markdown",
   "id": "496a77b1-ef35-40f9-bd44-1e98fc4b7d6d",
   "metadata": {
    "id": "496a77b1-ef35-40f9-bd44-1e98fc4b7d6d"
   },
   "source": [
    "### v) Display metrics"
   ]
  },
  {
   "cell_type": "code",
   "execution_count": 19,
   "id": "g4gbgNk-8bS2",
   "metadata": {
    "colab": {
     "base_uri": "https://localhost:8080/"
    },
    "executionInfo": {
     "elapsed": 185797,
     "status": "ok",
     "timestamp": 1746956030928,
     "user": {
      "displayName": "Suloni Praveen",
      "userId": "17262207939091849753"
     },
     "user_tz": 420
    },
    "id": "g4gbgNk-8bS2",
    "outputId": "7aee347b-b16d-44a5-825e-6f040f785632"
   },
   "outputs": [
    {
     "name": "stdout",
     "output_type": "stream",
     "text": [
      "\n",
      "================================================================================\n",
      "                           MODEL PERFORMANCE METRICS                            \n",
      "================================================================================\n",
      "Metric         Training                 Validation               Test                     \n",
      "--------------------------------------------------------------------------------\n",
      "Evaluating on Training data...\n",
      "Evaluating on Validation data...\n",
      "Evaluating on Test data...\n",
      "Accuracy       0.8968                   0.8895                   0.7621                   \n",
      "Precision      0.9028                   0.8990                   0.7721                   \n",
      "Recall         0.8968                   0.8895                   0.7621                   \n",
      "AUC            0.9944                   0.9939                   0.9674                   \n",
      "F1 Score       0.8959                   0.8880                   0.7507                   \n",
      "================================================================================\n",
      "\n",
      "Detailed Test Metrics:\n",
      "Test Loss: 1.0535\n",
      "Test Accuracy: 0.7621\n",
      "Test Precision: 0.7721\n",
      "Test F1 Score: 0.7507\n",
      "Test Recall: 0.7621\n",
      "Test AUC: 0.9674\n",
      "\n",
      "Classification Report on Test Data:\n",
      "              precision    recall  f1-score   support\n",
      "\n",
      "           0       0.72      0.96      0.82        93\n",
      "           1       0.84      0.65      0.73        83\n",
      "           2       0.75      0.56      0.64        84\n",
      "           3       0.75      0.89      0.81       158\n",
      "           4       0.74      0.34      0.47        99\n",
      "           5       0.92      0.84      0.88       100\n",
      "           6       0.80      0.77      0.78       185\n",
      "           7       0.77      0.75      0.76        64\n",
      "           8       0.64      1.00      0.78        88\n",
      "\n",
      "    accuracy                           0.76       954\n",
      "   macro avg       0.77      0.75      0.74       954\n",
      "weighted avg       0.77      0.76      0.75       954\n",
      "\n"
     ]
    }
   ],
   "source": [
    "metrics = display_metrics(\n",
    "    best_model,\n",
    "    (train_images, train_labels_one_hot),\n",
    "    (val_images, val_labels_one_hot),\n",
    "    (test_images, test_labels_one_hot),\n",
    "\n",
    ")"
   ]
  },
  {
   "cell_type": "markdown",
   "id": "84ca01fb-e6a6-4772-ac94-1d379a17f40f",
   "metadata": {
    "id": "84ca01fb-e6a6-4772-ac94-1d379a17f40f"
   },
   "source": [
    "### EfficientNetB0"
   ]
  },
  {
   "cell_type": "code",
   "execution_count": 20,
   "id": "VaYfmJ5a-2y8",
   "metadata": {
    "colab": {
     "base_uri": "https://localhost:8080/",
     "height": 1000
    },
    "executionInfo": {
     "elapsed": 726520,
     "status": "ok",
     "timestamp": 1746956757438,
     "user": {
      "displayName": "Suloni Praveen",
      "userId": "17262207939091849753"
     },
     "user_tz": 420
    },
    "id": "VaYfmJ5a-2y8",
    "outputId": "cabc0fa3-9075-488f-a9e6-2ccd08a072a9"
   },
   "outputs": [
    {
     "name": "stdout",
     "output_type": "stream",
     "text": [
      "Downloading data from https://storage.googleapis.com/keras-applications/efficientnetb0_notop.h5\n",
      "\u001b[1m16705208/16705208\u001b[0m \u001b[32m━━━━━━━━━━━━━━━━━━━━\u001b[0m\u001b[37m\u001b[0m \u001b[1m1s\u001b[0m 0us/step\n"
     ]
    },
    {
     "data": {
      "text/html": [
       "<pre style=\"white-space:pre;overflow-x:auto;line-height:normal;font-family:Menlo,'DejaVu Sans Mono',consolas,'Courier New',monospace\"><span style=\"font-weight: bold\">Model: \"sequential_9\"</span>\n",
       "</pre>\n"
      ],
      "text/plain": [
       "\u001b[1mModel: \"sequential_9\"\u001b[0m\n"
      ]
     },
     "metadata": {},
     "output_type": "display_data"
    },
    {
     "data": {
      "text/html": [
       "<pre style=\"white-space:pre;overflow-x:auto;line-height:normal;font-family:Menlo,'DejaVu Sans Mono',consolas,'Courier New',monospace\">┏━━━━━━━━━━━━━━━━━━━━━━━━━━━━━━━━━┳━━━━━━━━━━━━━━━━━━━━━━━━┳━━━━━━━━━━━━━━━┓\n",
       "┃<span style=\"font-weight: bold\"> Layer (type)                    </span>┃<span style=\"font-weight: bold\"> Output Shape           </span>┃<span style=\"font-weight: bold\">       Param # </span>┃\n",
       "┡━━━━━━━━━━━━━━━━━━━━━━━━━━━━━━━━━╇━━━━━━━━━━━━━━━━━━━━━━━━╇━━━━━━━━━━━━━━━┩\n",
       "│ efficientnetb0 (<span style=\"color: #0087ff; text-decoration-color: #0087ff\">Functional</span>)     │ (<span style=\"color: #00d7ff; text-decoration-color: #00d7ff\">None</span>, <span style=\"color: #00af00; text-decoration-color: #00af00\">1280</span>)           │     <span style=\"color: #00af00; text-decoration-color: #00af00\">4,049,571</span> │\n",
       "├─────────────────────────────────┼────────────────────────┼───────────────┤\n",
       "│ flatten_4 (<span style=\"color: #0087ff; text-decoration-color: #0087ff\">Flatten</span>)             │ (<span style=\"color: #00d7ff; text-decoration-color: #00d7ff\">None</span>, <span style=\"color: #00af00; text-decoration-color: #00af00\">1280</span>)           │             <span style=\"color: #00af00; text-decoration-color: #00af00\">0</span> │\n",
       "├─────────────────────────────────┼────────────────────────┼───────────────┤\n",
       "│ dense_8 (<span style=\"color: #0087ff; text-decoration-color: #0087ff\">Dense</span>)                 │ (<span style=\"color: #00d7ff; text-decoration-color: #00d7ff\">None</span>, <span style=\"color: #00af00; text-decoration-color: #00af00\">512</span>)            │       <span style=\"color: #00af00; text-decoration-color: #00af00\">655,872</span> │\n",
       "├─────────────────────────────────┼────────────────────────┼───────────────┤\n",
       "│ batch_normalization_4           │ (<span style=\"color: #00d7ff; text-decoration-color: #00d7ff\">None</span>, <span style=\"color: #00af00; text-decoration-color: #00af00\">512</span>)            │         <span style=\"color: #00af00; text-decoration-color: #00af00\">2,048</span> │\n",
       "│ (<span style=\"color: #0087ff; text-decoration-color: #0087ff\">BatchNormalization</span>)            │                        │               │\n",
       "├─────────────────────────────────┼────────────────────────┼───────────────┤\n",
       "│ dropout_4 (<span style=\"color: #0087ff; text-decoration-color: #0087ff\">Dropout</span>)             │ (<span style=\"color: #00d7ff; text-decoration-color: #00d7ff\">None</span>, <span style=\"color: #00af00; text-decoration-color: #00af00\">512</span>)            │             <span style=\"color: #00af00; text-decoration-color: #00af00\">0</span> │\n",
       "├─────────────────────────────────┼────────────────────────┼───────────────┤\n",
       "│ dense_9 (<span style=\"color: #0087ff; text-decoration-color: #0087ff\">Dense</span>)                 │ (<span style=\"color: #00d7ff; text-decoration-color: #00d7ff\">None</span>, <span style=\"color: #00af00; text-decoration-color: #00af00\">9</span>)              │         <span style=\"color: #00af00; text-decoration-color: #00af00\">4,617</span> │\n",
       "└─────────────────────────────────┴────────────────────────┴───────────────┘\n",
       "</pre>\n"
      ],
      "text/plain": [
       "┏━━━━━━━━━━━━━━━━━━━━━━━━━━━━━━━━━┳━━━━━━━━━━━━━━━━━━━━━━━━┳━━━━━━━━━━━━━━━┓\n",
       "┃\u001b[1m \u001b[0m\u001b[1mLayer (type)                   \u001b[0m\u001b[1m \u001b[0m┃\u001b[1m \u001b[0m\u001b[1mOutput Shape          \u001b[0m\u001b[1m \u001b[0m┃\u001b[1m \u001b[0m\u001b[1m      Param #\u001b[0m\u001b[1m \u001b[0m┃\n",
       "┡━━━━━━━━━━━━━━━━━━━━━━━━━━━━━━━━━╇━━━━━━━━━━━━━━━━━━━━━━━━╇━━━━━━━━━━━━━━━┩\n",
       "│ efficientnetb0 (\u001b[38;5;33mFunctional\u001b[0m)     │ (\u001b[38;5;45mNone\u001b[0m, \u001b[38;5;34m1280\u001b[0m)           │     \u001b[38;5;34m4,049,571\u001b[0m │\n",
       "├─────────────────────────────────┼────────────────────────┼───────────────┤\n",
       "│ flatten_4 (\u001b[38;5;33mFlatten\u001b[0m)             │ (\u001b[38;5;45mNone\u001b[0m, \u001b[38;5;34m1280\u001b[0m)           │             \u001b[38;5;34m0\u001b[0m │\n",
       "├─────────────────────────────────┼────────────────────────┼───────────────┤\n",
       "│ dense_8 (\u001b[38;5;33mDense\u001b[0m)                 │ (\u001b[38;5;45mNone\u001b[0m, \u001b[38;5;34m512\u001b[0m)            │       \u001b[38;5;34m655,872\u001b[0m │\n",
       "├─────────────────────────────────┼────────────────────────┼───────────────┤\n",
       "│ batch_normalization_4           │ (\u001b[38;5;45mNone\u001b[0m, \u001b[38;5;34m512\u001b[0m)            │         \u001b[38;5;34m2,048\u001b[0m │\n",
       "│ (\u001b[38;5;33mBatchNormalization\u001b[0m)            │                        │               │\n",
       "├─────────────────────────────────┼────────────────────────┼───────────────┤\n",
       "│ dropout_4 (\u001b[38;5;33mDropout\u001b[0m)             │ (\u001b[38;5;45mNone\u001b[0m, \u001b[38;5;34m512\u001b[0m)            │             \u001b[38;5;34m0\u001b[0m │\n",
       "├─────────────────────────────────┼────────────────────────┼───────────────┤\n",
       "│ dense_9 (\u001b[38;5;33mDense\u001b[0m)                 │ (\u001b[38;5;45mNone\u001b[0m, \u001b[38;5;34m9\u001b[0m)              │         \u001b[38;5;34m4,617\u001b[0m │\n",
       "└─────────────────────────────────┴────────────────────────┴───────────────┘\n"
      ]
     },
     "metadata": {},
     "output_type": "display_data"
    },
    {
     "data": {
      "text/html": [
       "<pre style=\"white-space:pre;overflow-x:auto;line-height:normal;font-family:Menlo,'DejaVu Sans Mono',consolas,'Courier New',monospace\"><span style=\"font-weight: bold\"> Total params: </span><span style=\"color: #00af00; text-decoration-color: #00af00\">4,712,108</span> (17.98 MB)\n",
       "</pre>\n"
      ],
      "text/plain": [
       "\u001b[1m Total params: \u001b[0m\u001b[38;5;34m4,712,108\u001b[0m (17.98 MB)\n"
      ]
     },
     "metadata": {},
     "output_type": "display_data"
    },
    {
     "data": {
      "text/html": [
       "<pre style=\"white-space:pre;overflow-x:auto;line-height:normal;font-family:Menlo,'DejaVu Sans Mono',consolas,'Courier New',monospace\"><span style=\"font-weight: bold\"> Trainable params: </span><span style=\"color: #00af00; text-decoration-color: #00af00\">661,513</span> (2.52 MB)\n",
       "</pre>\n"
      ],
      "text/plain": [
       "\u001b[1m Trainable params: \u001b[0m\u001b[38;5;34m661,513\u001b[0m (2.52 MB)\n"
      ]
     },
     "metadata": {},
     "output_type": "display_data"
    },
    {
     "data": {
      "text/html": [
       "<pre style=\"white-space:pre;overflow-x:auto;line-height:normal;font-family:Menlo,'DejaVu Sans Mono',consolas,'Courier New',monospace\"><span style=\"font-weight: bold\"> Non-trainable params: </span><span style=\"color: #00af00; text-decoration-color: #00af00\">4,050,595</span> (15.45 MB)\n",
       "</pre>\n"
      ],
      "text/plain": [
       "\u001b[1m Non-trainable params: \u001b[0m\u001b[38;5;34m4,050,595\u001b[0m (15.45 MB)\n"
      ]
     },
     "metadata": {},
     "output_type": "display_data"
    },
    {
     "name": "stdout",
     "output_type": "stream",
     "text": [
      "Training with 760 steps per epoch\n",
      "Epoch 1/100\n",
      "\u001b[1m760/760\u001b[0m \u001b[32m━━━━━━━━━━━━━━━━━━━━\u001b[0m\u001b[37m\u001b[0m \u001b[1m0s\u001b[0m 27ms/step - accuracy: 0.3779 - auc: 0.7725 - f1_score: 0.3723 - loss: 16.1448 - precision: 0.4798 - recall: 0.2716\n",
      "Epoch 1: val_loss improved from inf to 12.85787, saving model to EfficientNetB0_best_model.h5\n"
     ]
    },
    {
     "name": "stderr",
     "output_type": "stream",
     "text": [
      "WARNING:absl:You are saving your model as an HDF5 file via `model.save()` or `keras.saving.save_model(model)`. This file format is considered legacy. We recommend using instead the native Keras format, e.g. `model.save('my_model.keras')` or `keras.saving.save_model(model, 'my_model.keras')`. \n"
     ]
    },
    {
     "name": "stdout",
     "output_type": "stream",
     "text": [
      "\b\b\b\b\b\b\b\b\b\b\b\b\b\b\b\b\b\b\b\b\b\b\b\b\b\b\b\b\b\b\b\b\b\b\b\b\b\b\b\b\b\b\b\b\b\b\b\b\b\b\b\b\b\b\b\b\b\b\b\b\b\b\b\b\b\b\b\b\b\b\b\b\b\b\b\b\b\b\b\b\b\b\b\b\b\b\b\b\b\b\b\b\b\b\b\b\b\b\b\b\b\b\b\b\b\b\b\b\b\b\b\b\b\b\b\b\b\b\b\b\b\b\b\b\b\b\b\b\b\b\b\b\b\b\b\b\b\b\b\b\b\b\b\b\b\b\r\n",
      "\u001b[1m760/760\u001b[0m \u001b[32m━━━━━━━━━━━━━━━━━━━━\u001b[0m\u001b[37m\u001b[0m \u001b[1m54s\u001b[0m 39ms/step - accuracy: 0.3780 - auc: 0.7726 - f1_score: 0.3725 - loss: 16.1433 - precision: 0.4800 - recall: 0.2718 - val_accuracy: 0.7737 - val_auc: 0.9631 - val_f1_score: 0.7708 - val_loss: 12.8579 - val_precision: 0.8289 - val_recall: 0.7395\n",
      "Epoch 2/100\n",
      "\u001b[1m756/760\u001b[0m \u001b[32m━━━━━━━━━━━━━━━━━━━\u001b[0m\u001b[37m━\u001b[0m \u001b[1m0s\u001b[0m 14ms/step - accuracy: 0.6574 - auc: 0.9299 - f1_score: 0.6556 - loss: 12.5689 - precision: 0.7383 - recall: 0.5744\n",
      "Epoch 2: val_loss improved from 12.85787 to 10.19162, saving model to EfficientNetB0_best_model.h5\n"
     ]
    },
    {
     "name": "stderr",
     "output_type": "stream",
     "text": [
      "WARNING:absl:You are saving your model as an HDF5 file via `model.save()` or `keras.saving.save_model(model)`. This file format is considered legacy. We recommend using instead the native Keras format, e.g. `model.save('my_model.keras')` or `keras.saving.save_model(model, 'my_model.keras')`. \n"
     ]
    },
    {
     "name": "stdout",
     "output_type": "stream",
     "text": [
      "\b\b\b\b\b\b\b\b\b\b\b\b\b\b\b\b\b\b\b\b\b\b\b\b\b\b\b\b\b\b\b\b\b\b\b\b\b\b\b\b\b\b\b\b\b\b\b\b\b\b\b\b\b\b\b\b\b\b\b\b\b\b\b\b\b\b\b\b\b\b\b\b\b\b\b\b\b\b\b\b\b\b\b\b\b\b\b\b\b\b\b\b\b\b\b\b\b\b\b\b\b\b\b\b\b\b\b\b\b\b\b\b\b\b\b\b\b\b\b\b\b\b\b\b\b\b\b\b\b\b\b\b\b\b\b\b\b\b\b\b\b\b\b\b\b\b\r\n",
      "\u001b[1m760/760\u001b[0m \u001b[32m━━━━━━━━━━━━━━━━━━━━\u001b[0m\u001b[37m\u001b[0m \u001b[1m13s\u001b[0m 17ms/step - accuracy: 0.6576 - auc: 0.9299 - f1_score: 0.6558 - loss: 12.5645 - precision: 0.7384 - recall: 0.5746 - val_accuracy: 0.8605 - val_auc: 0.9859 - val_f1_score: 0.8620 - val_loss: 10.1916 - val_precision: 0.8862 - val_recall: 0.8303\n",
      "Epoch 3/100\n",
      "\u001b[1m759/760\u001b[0m \u001b[32m━━━━━━━━━━━━━━━━━━━\u001b[0m\u001b[37m━\u001b[0m \u001b[1m0s\u001b[0m 14ms/step - accuracy: 0.7448 - auc: 0.9635 - f1_score: 0.7378 - loss: 9.9588 - precision: 0.8132 - recall: 0.6767\n",
      "Epoch 3: val_loss improved from 10.19162 to 8.09083, saving model to EfficientNetB0_best_model.h5\n"
     ]
    },
    {
     "name": "stderr",
     "output_type": "stream",
     "text": [
      "WARNING:absl:You are saving your model as an HDF5 file via `model.save()` or `keras.saving.save_model(model)`. This file format is considered legacy. We recommend using instead the native Keras format, e.g. `model.save('my_model.keras')` or `keras.saving.save_model(model, 'my_model.keras')`. \n"
     ]
    },
    {
     "name": "stdout",
     "output_type": "stream",
     "text": [
      "\b\b\b\b\b\b\b\b\b\b\b\b\b\b\b\b\b\b\b\b\b\b\b\b\b\b\b\b\b\b\b\b\b\b\b\b\b\b\b\b\b\b\b\b\b\b\b\b\b\b\b\b\b\b\b\b\b\b\b\b\b\b\b\b\b\b\b\b\b\b\b\b\b\b\b\b\b\b\b\b\b\b\b\b\b\b\b\b\b\b\b\b\b\b\b\b\b\b\b\b\b\b\b\b\b\b\b\b\b\b\b\b\b\b\b\b\b\b\b\b\b\b\b\b\b\b\b\b\b\b\b\b\b\b\b\b\b\b\b\b\b\b\b\b\b\r\n",
      "\u001b[1m760/760\u001b[0m \u001b[32m━━━━━━━━━━━━━━━━━━━━\u001b[0m\u001b[37m\u001b[0m \u001b[1m13s\u001b[0m 17ms/step - accuracy: 0.7448 - auc: 0.9635 - f1_score: 0.7378 - loss: 9.9575 - precision: 0.8132 - recall: 0.6767 - val_accuracy: 0.8816 - val_auc: 0.9891 - val_f1_score: 0.8830 - val_loss: 8.0908 - val_precision: 0.9134 - val_recall: 0.8605\n",
      "Epoch 4/100\n",
      "\u001b[1m758/760\u001b[0m \u001b[32m━━━━━━━━━━━━━━━━━━━\u001b[0m\u001b[37m━\u001b[0m \u001b[1m0s\u001b[0m 14ms/step - accuracy: 0.7651 - auc: 0.9673 - f1_score: 0.7660 - loss: 7.9967 - precision: 0.8290 - recall: 0.6993\n",
      "Epoch 4: val_loss improved from 8.09083 to 6.42673, saving model to EfficientNetB0_best_model.h5\n"
     ]
    },
    {
     "name": "stderr",
     "output_type": "stream",
     "text": [
      "WARNING:absl:You are saving your model as an HDF5 file via `model.save()` or `keras.saving.save_model(model)`. This file format is considered legacy. We recommend using instead the native Keras format, e.g. `model.save('my_model.keras')` or `keras.saving.save_model(model, 'my_model.keras')`. \n"
     ]
    },
    {
     "name": "stdout",
     "output_type": "stream",
     "text": [
      "\b\b\b\b\b\b\b\b\b\b\b\b\b\b\b\b\b\b\b\b\b\b\b\b\b\b\b\b\b\b\b\b\b\b\b\b\b\b\b\b\b\b\b\b\b\b\b\b\b\b\b\b\b\b\b\b\b\b\b\b\b\b\b\b\b\b\b\b\b\b\b\b\b\b\b\b\b\b\b\b\b\b\b\b\b\b\b\b\b\b\b\b\b\b\b\b\b\b\b\b\b\b\b\b\b\b\b\b\b\b\b\b\b\b\b\b\b\b\b\b\b\b\b\b\b\b\b\b\b\b\b\b\b\b\b\b\b\b\b\b\b\b\b\b\b\r\n",
      "\u001b[1m760/760\u001b[0m \u001b[32m━━━━━━━━━━━━━━━━━━━━\u001b[0m\u001b[37m\u001b[0m \u001b[1m13s\u001b[0m 16ms/step - accuracy: 0.7652 - auc: 0.9673 - f1_score: 0.7661 - loss: 7.9951 - precision: 0.8290 - recall: 0.6993 - val_accuracy: 0.8947 - val_auc: 0.9915 - val_f1_score: 0.8951 - val_loss: 6.4267 - val_precision: 0.9115 - val_recall: 0.8671\n",
      "Epoch 5/100\n",
      "\u001b[1m758/760\u001b[0m \u001b[32m━━━━━━━━━━━━━━━━━━━\u001b[0m\u001b[37m━\u001b[0m \u001b[1m0s\u001b[0m 14ms/step - accuracy: 0.8154 - auc: 0.9774 - f1_score: 0.8189 - loss: 6.3440 - precision: 0.8727 - recall: 0.7567\n",
      "Epoch 5: val_loss improved from 6.42673 to 5.12491, saving model to EfficientNetB0_best_model.h5\n"
     ]
    },
    {
     "name": "stderr",
     "output_type": "stream",
     "text": [
      "WARNING:absl:You are saving your model as an HDF5 file via `model.save()` or `keras.saving.save_model(model)`. This file format is considered legacy. We recommend using instead the native Keras format, e.g. `model.save('my_model.keras')` or `keras.saving.save_model(model, 'my_model.keras')`. \n"
     ]
    },
    {
     "name": "stdout",
     "output_type": "stream",
     "text": [
      "\b\b\b\b\b\b\b\b\b\b\b\b\b\b\b\b\b\b\b\b\b\b\b\b\b\b\b\b\b\b\b\b\b\b\b\b\b\b\b\b\b\b\b\b\b\b\b\b\b\b\b\b\b\b\b\b\b\b\b\b\b\b\b\b\b\b\b\b\b\b\b\b\b\b\b\b\b\b\b\b\b\b\b\b\b\b\b\b\b\b\b\b\b\b\b\b\b\b\b\b\b\b\b\b\b\b\b\b\b\b\b\b\b\b\b\b\b\b\b\b\b\b\b\b\b\b\b\b\b\b\b\b\b\b\b\b\b\b\b\b\b\b\b\b\b\r\n",
      "\u001b[1m760/760\u001b[0m \u001b[32m━━━━━━━━━━━━━━━━━━━━\u001b[0m\u001b[37m\u001b[0m \u001b[1m13s\u001b[0m 17ms/step - accuracy: 0.8153 - auc: 0.9773 - f1_score: 0.8188 - loss: 6.3429 - precision: 0.8727 - recall: 0.7567 - val_accuracy: 0.9145 - val_auc: 0.9930 - val_f1_score: 0.9158 - val_loss: 5.1249 - val_precision: 0.9332 - val_recall: 0.9000\n",
      "Epoch 6/100\n",
      "\u001b[1m760/760\u001b[0m \u001b[32m━━━━━━━━━━━━━━━━━━━━\u001b[0m\u001b[37m\u001b[0m \u001b[1m0s\u001b[0m 14ms/step - accuracy: 0.8168 - auc: 0.9804 - f1_score: 0.8180 - loss: 5.1124 - precision: 0.8797 - recall: 0.7650\n",
      "Epoch 6: val_loss improved from 5.12491 to 4.09536, saving model to EfficientNetB0_best_model.h5\n"
     ]
    },
    {
     "name": "stderr",
     "output_type": "stream",
     "text": [
      "WARNING:absl:You are saving your model as an HDF5 file via `model.save()` or `keras.saving.save_model(model)`. This file format is considered legacy. We recommend using instead the native Keras format, e.g. `model.save('my_model.keras')` or `keras.saving.save_model(model, 'my_model.keras')`. \n"
     ]
    },
    {
     "name": "stdout",
     "output_type": "stream",
     "text": [
      "\b\b\b\b\b\b\b\b\b\b\b\b\b\b\b\b\b\b\b\b\b\b\b\b\b\b\b\b\b\b\b\b\b\b\b\b\b\b\b\b\b\b\b\b\b\b\b\b\b\b\b\b\b\b\b\b\b\b\b\b\b\b\b\b\b\b\b\b\b\b\b\b\b\b\b\b\b\b\b\b\b\b\b\b\b\b\b\b\b\b\b\b\b\b\b\b\b\b\b\b\b\b\b\b\b\b\b\b\b\b\b\b\b\b\b\b\b\b\b\b\b\b\b\b\b\b\b\b\b\b\b\b\b\b\b\b\b\b\b\b\b\b\b\b\b\r\n",
      "\u001b[1m760/760\u001b[0m \u001b[32m━━━━━━━━━━━━━━━━━━━━\u001b[0m\u001b[37m\u001b[0m \u001b[1m13s\u001b[0m 16ms/step - accuracy: 0.8168 - auc: 0.9804 - f1_score: 0.8180 - loss: 5.1122 - precision: 0.8797 - recall: 0.7650 - val_accuracy: 0.9289 - val_auc: 0.9941 - val_f1_score: 0.9300 - val_loss: 4.0954 - val_precision: 0.9403 - val_recall: 0.9118\n",
      "Epoch 7/100\n",
      "\u001b[1m759/760\u001b[0m \u001b[32m━━━━━━━━━━━━━━━━━━━\u001b[0m\u001b[37m━\u001b[0m \u001b[1m0s\u001b[0m 14ms/step - accuracy: 0.8297 - auc: 0.9821 - f1_score: 0.8276 - loss: 4.1603 - precision: 0.8861 - recall: 0.7855\n",
      "Epoch 7: val_loss improved from 4.09536 to 3.35316, saving model to EfficientNetB0_best_model.h5\n"
     ]
    },
    {
     "name": "stderr",
     "output_type": "stream",
     "text": [
      "WARNING:absl:You are saving your model as an HDF5 file via `model.save()` or `keras.saving.save_model(model)`. This file format is considered legacy. We recommend using instead the native Keras format, e.g. `model.save('my_model.keras')` or `keras.saving.save_model(model, 'my_model.keras')`. \n"
     ]
    },
    {
     "name": "stdout",
     "output_type": "stream",
     "text": [
      "\b\b\b\b\b\b\b\b\b\b\b\b\b\b\b\b\b\b\b\b\b\b\b\b\b\b\b\b\b\b\b\b\b\b\b\b\b\b\b\b\b\b\b\b\b\b\b\b\b\b\b\b\b\b\b\b\b\b\b\b\b\b\b\b\b\b\b\b\b\b\b\b\b\b\b\b\b\b\b\b\b\b\b\b\b\b\b\b\b\b\b\b\b\b\b\b\b\b\b\b\b\b\b\b\b\b\b\b\b\b\b\b\b\b\b\b\b\b\b\b\b\b\b\b\b\b\b\b\b\b\b\b\b\b\b\b\b\b\b\b\b\b\b\b\b\r\n",
      "\u001b[1m760/760\u001b[0m \u001b[32m━━━━━━━━━━━━━━━━━━━━\u001b[0m\u001b[37m\u001b[0m \u001b[1m13s\u001b[0m 16ms/step - accuracy: 0.8297 - auc: 0.9821 - f1_score: 0.8275 - loss: 4.1599 - precision: 0.8861 - recall: 0.7854 - val_accuracy: 0.9237 - val_auc: 0.9944 - val_f1_score: 0.9260 - val_loss: 3.3532 - val_precision: 0.9388 - val_recall: 0.9079\n",
      "Epoch 8/100\n",
      "\u001b[1m756/760\u001b[0m \u001b[32m━━━━━━━━━━━━━━━━━━━\u001b[0m\u001b[37m━\u001b[0m \u001b[1m0s\u001b[0m 14ms/step - accuracy: 0.8358 - auc: 0.9833 - f1_score: 0.8387 - loss: 3.4495 - precision: 0.8828 - recall: 0.7783\n",
      "Epoch 8: val_loss improved from 3.35316 to 2.74314, saving model to EfficientNetB0_best_model.h5\n"
     ]
    },
    {
     "name": "stderr",
     "output_type": "stream",
     "text": [
      "WARNING:absl:You are saving your model as an HDF5 file via `model.save()` or `keras.saving.save_model(model)`. This file format is considered legacy. We recommend using instead the native Keras format, e.g. `model.save('my_model.keras')` or `keras.saving.save_model(model, 'my_model.keras')`. \n"
     ]
    },
    {
     "name": "stdout",
     "output_type": "stream",
     "text": [
      "\b\b\b\b\b\b\b\b\b\b\b\b\b\b\b\b\b\b\b\b\b\b\b\b\b\b\b\b\b\b\b\b\b\b\b\b\b\b\b\b\b\b\b\b\b\b\b\b\b\b\b\b\b\b\b\b\b\b\b\b\b\b\b\b\b\b\b\b\b\b\b\b\b\b\b\b\b\b\b\b\b\b\b\b\b\b\b\b\b\b\b\b\b\b\b\b\b\b\b\b\b\b\b\b\b\b\b\b\b\b\b\b\b\b\b\b\b\b\b\b\b\b\b\b\b\b\b\b\b\b\b\b\b\b\b\b\b\b\b\b\b\b\b\b\b\r\n",
      "\u001b[1m760/760\u001b[0m \u001b[32m━━━━━━━━━━━━━━━━━━━━\u001b[0m\u001b[37m\u001b[0m \u001b[1m13s\u001b[0m 17ms/step - accuracy: 0.8357 - auc: 0.9833 - f1_score: 0.8386 - loss: 3.4487 - precision: 0.8827 - recall: 0.7782 - val_accuracy: 0.9289 - val_auc: 0.9960 - val_f1_score: 0.9286 - val_loss: 2.7431 - val_precision: 0.9459 - val_recall: 0.9211\n",
      "Epoch 9/100\n",
      "\u001b[1m759/760\u001b[0m \u001b[32m━━━━━━━━━━━━━━━━━━━\u001b[0m\u001b[37m━\u001b[0m \u001b[1m0s\u001b[0m 14ms/step - accuracy: 0.8357 - auc: 0.9856 - f1_score: 0.8358 - loss: 2.8863 - precision: 0.8868 - recall: 0.7779\n",
      "Epoch 9: val_loss improved from 2.74314 to 2.31967, saving model to EfficientNetB0_best_model.h5\n"
     ]
    },
    {
     "name": "stderr",
     "output_type": "stream",
     "text": [
      "WARNING:absl:You are saving your model as an HDF5 file via `model.save()` or `keras.saving.save_model(model)`. This file format is considered legacy. We recommend using instead the native Keras format, e.g. `model.save('my_model.keras')` or `keras.saving.save_model(model, 'my_model.keras')`. \n"
     ]
    },
    {
     "name": "stdout",
     "output_type": "stream",
     "text": [
      "\b\b\b\b\b\b\b\b\b\b\b\b\b\b\b\b\b\b\b\b\b\b\b\b\b\b\b\b\b\b\b\b\b\b\b\b\b\b\b\b\b\b\b\b\b\b\b\b\b\b\b\b\b\b\b\b\b\b\b\b\b\b\b\b\b\b\b\b\b\b\b\b\b\b\b\b\b\b\b\b\b\b\b\b\b\b\b\b\b\b\b\b\b\b\b\b\b\b\b\b\b\b\b\b\b\b\b\b\b\b\b\b\b\b\b\b\b\b\b\b\b\b\b\b\b\b\b\b\b\b\b\b\b\b\b\b\b\b\b\b\b\b\b\b\b\r\n",
      "\u001b[1m760/760\u001b[0m \u001b[32m━━━━━━━━━━━━━━━━━━━━\u001b[0m\u001b[37m\u001b[0m \u001b[1m13s\u001b[0m 16ms/step - accuracy: 0.8357 - auc: 0.9856 - f1_score: 0.8358 - loss: 2.8861 - precision: 0.8868 - recall: 0.7779 - val_accuracy: 0.9224 - val_auc: 0.9947 - val_f1_score: 0.9240 - val_loss: 2.3197 - val_precision: 0.9326 - val_recall: 0.9105\n",
      "Epoch 10/100\n",
      "\u001b[1m758/760\u001b[0m \u001b[32m━━━━━━━━━━━━━━━━━━━\u001b[0m\u001b[37m━\u001b[0m \u001b[1m0s\u001b[0m 14ms/step - accuracy: 0.8533 - auc: 0.9857 - f1_score: 0.8544 - loss: 2.4505 - precision: 0.9013 - recall: 0.8080\n",
      "Epoch 10: val_loss improved from 2.31967 to 1.94248, saving model to EfficientNetB0_best_model.h5\n"
     ]
    },
    {
     "name": "stderr",
     "output_type": "stream",
     "text": [
      "WARNING:absl:You are saving your model as an HDF5 file via `model.save()` or `keras.saving.save_model(model)`. This file format is considered legacy. We recommend using instead the native Keras format, e.g. `model.save('my_model.keras')` or `keras.saving.save_model(model, 'my_model.keras')`. \n"
     ]
    },
    {
     "name": "stdout",
     "output_type": "stream",
     "text": [
      "\b\b\b\b\b\b\b\b\b\b\b\b\b\b\b\b\b\b\b\b\b\b\b\b\b\b\b\b\b\b\b\b\b\b\b\b\b\b\b\b\b\b\b\b\b\b\b\b\b\b\b\b\b\b\b\b\b\b\b\b\b\b\b\b\b\b\b\b\b\b\b\b\b\b\b\b\b\b\b\b\b\b\b\b\b\b\b\b\b\b\b\b\b\b\b\b\b\b\b\b\b\b\b\b\b\b\b\b\b\b\b\b\b\b\b\b\b\b\b\b\b\b\b\b\b\b\b\b\b\b\b\b\b\b\b\b\b\b\b\b\b\b\b\b\b\r\n",
      "\u001b[1m760/760\u001b[0m \u001b[32m━━━━━━━━━━━━━━━━━━━━\u001b[0m\u001b[37m\u001b[0m \u001b[1m13s\u001b[0m 16ms/step - accuracy: 0.8533 - auc: 0.9857 - f1_score: 0.8544 - loss: 2.4503 - precision: 0.9012 - recall: 0.8079 - val_accuracy: 0.9303 - val_auc: 0.9963 - val_f1_score: 0.9319 - val_loss: 1.9425 - val_precision: 0.9484 - val_recall: 0.9197\n",
      "Epoch 11/100\n",
      "\u001b[1m756/760\u001b[0m \u001b[32m━━━━━━━━━━━━━━━━━━━\u001b[0m\u001b[37m━\u001b[0m \u001b[1m0s\u001b[0m 14ms/step - accuracy: 0.8461 - auc: 0.9850 - f1_score: 0.8476 - loss: 2.1415 - precision: 0.8905 - recall: 0.8034\n",
      "Epoch 11: val_loss improved from 1.94248 to 1.70583, saving model to EfficientNetB0_best_model.h5\n"
     ]
    },
    {
     "name": "stderr",
     "output_type": "stream",
     "text": [
      "WARNING:absl:You are saving your model as an HDF5 file via `model.save()` or `keras.saving.save_model(model)`. This file format is considered legacy. We recommend using instead the native Keras format, e.g. `model.save('my_model.keras')` or `keras.saving.save_model(model, 'my_model.keras')`. \n"
     ]
    },
    {
     "name": "stdout",
     "output_type": "stream",
     "text": [
      "\b\b\b\b\b\b\b\b\b\b\b\b\b\b\b\b\b\b\b\b\b\b\b\b\b\b\b\b\b\b\b\b\b\b\b\b\b\b\b\b\b\b\b\b\b\b\b\b\b\b\b\b\b\b\b\b\b\b\b\b\b\b\b\b\b\b\b\b\b\b\b\b\b\b\b\b\b\b\b\b\b\b\b\b\b\b\b\b\b\b\b\b\b\b\b\b\b\b\b\b\b\b\b\b\b\b\b\b\b\b\b\b\b\b\b\b\b\b\b\b\b\b\b\b\b\b\b\b\b\b\b\b\b\b\b\b\b\b\b\b\b\b\b\b\b\r\n",
      "\u001b[1m760/760\u001b[0m \u001b[32m━━━━━━━━━━━━━━━━━━━━\u001b[0m\u001b[37m\u001b[0m \u001b[1m13s\u001b[0m 16ms/step - accuracy: 0.8461 - auc: 0.9850 - f1_score: 0.8476 - loss: 2.1411 - precision: 0.8905 - recall: 0.8033 - val_accuracy: 0.9303 - val_auc: 0.9955 - val_f1_score: 0.9319 - val_loss: 1.7058 - val_precision: 0.9406 - val_recall: 0.9171\n",
      "Epoch 12/100\n",
      "\u001b[1m760/760\u001b[0m \u001b[32m━━━━━━━━━━━━━━━━━━━━\u001b[0m\u001b[37m\u001b[0m \u001b[1m0s\u001b[0m 14ms/step - accuracy: 0.8444 - auc: 0.9854 - f1_score: 0.8479 - loss: 1.9000 - precision: 0.8928 - recall: 0.7931\n",
      "Epoch 12: val_loss improved from 1.70583 to 1.48055, saving model to EfficientNetB0_best_model.h5\n"
     ]
    },
    {
     "name": "stderr",
     "output_type": "stream",
     "text": [
      "WARNING:absl:You are saving your model as an HDF5 file via `model.save()` or `keras.saving.save_model(model)`. This file format is considered legacy. We recommend using instead the native Keras format, e.g. `model.save('my_model.keras')` or `keras.saving.save_model(model, 'my_model.keras')`. \n"
     ]
    },
    {
     "name": "stdout",
     "output_type": "stream",
     "text": [
      "\b\b\b\b\b\b\b\b\b\b\b\b\b\b\b\b\b\b\b\b\b\b\b\b\b\b\b\b\b\b\b\b\b\b\b\b\b\b\b\b\b\b\b\b\b\b\b\b\b\b\b\b\b\b\b\b\b\b\b\b\b\b\b\b\b\b\b\b\b\b\b\b\b\b\b\b\b\b\b\b\b\b\b\b\b\b\b\b\b\b\b\b\b\b\b\b\b\b\b\b\b\b\b\b\b\b\b\b\b\b\b\b\b\b\b\b\b\b\b\b\b\b\b\b\b\b\b\b\b\b\b\b\b\b\b\b\b\b\b\b\b\b\b\b\b\r\n",
      "\u001b[1m760/760\u001b[0m \u001b[32m━━━━━━━━━━━━━━━━━━━━\u001b[0m\u001b[37m\u001b[0m \u001b[1m13s\u001b[0m 17ms/step - accuracy: 0.8444 - auc: 0.9854 - f1_score: 0.8479 - loss: 1.8999 - precision: 0.8928 - recall: 0.7932 - val_accuracy: 0.9250 - val_auc: 0.9954 - val_f1_score: 0.9254 - val_loss: 1.4806 - val_precision: 0.9420 - val_recall: 0.9184\n",
      "Epoch 13/100\n",
      "\u001b[1m757/760\u001b[0m \u001b[32m━━━━━━━━━━━━━━━━━━━\u001b[0m\u001b[37m━\u001b[0m \u001b[1m0s\u001b[0m 14ms/step - accuracy: 0.8565 - auc: 0.9856 - f1_score: 0.8606 - loss: 1.6829 - precision: 0.8977 - recall: 0.8173\n",
      "Epoch 13: val_loss improved from 1.48055 to 1.31303, saving model to EfficientNetB0_best_model.h5\n"
     ]
    },
    {
     "name": "stderr",
     "output_type": "stream",
     "text": [
      "WARNING:absl:You are saving your model as an HDF5 file via `model.save()` or `keras.saving.save_model(model)`. This file format is considered legacy. We recommend using instead the native Keras format, e.g. `model.save('my_model.keras')` or `keras.saving.save_model(model, 'my_model.keras')`. \n"
     ]
    },
    {
     "name": "stdout",
     "output_type": "stream",
     "text": [
      "\b\b\b\b\b\b\b\b\b\b\b\b\b\b\b\b\b\b\b\b\b\b\b\b\b\b\b\b\b\b\b\b\b\b\b\b\b\b\b\b\b\b\b\b\b\b\b\b\b\b\b\b\b\b\b\b\b\b\b\b\b\b\b\b\b\b\b\b\b\b\b\b\b\b\b\b\b\b\b\b\b\b\b\b\b\b\b\b\b\b\b\b\b\b\b\b\b\b\b\b\b\b\b\b\b\b\b\b\b\b\b\b\b\b\b\b\b\b\b\b\b\b\b\b\b\b\b\b\b\b\b\b\b\b\b\b\b\b\b\b\b\b\b\b\b\r\n",
      "\u001b[1m760/760\u001b[0m \u001b[32m━━━━━━━━━━━━━━━━━━━━\u001b[0m\u001b[37m\u001b[0m \u001b[1m13s\u001b[0m 17ms/step - accuracy: 0.8565 - auc: 0.9856 - f1_score: 0.8606 - loss: 1.6828 - precision: 0.8976 - recall: 0.8172 - val_accuracy: 0.9368 - val_auc: 0.9960 - val_f1_score: 0.9382 - val_loss: 1.3130 - val_precision: 0.9487 - val_recall: 0.9250\n",
      "Epoch 14/100\n",
      "\u001b[1m757/760\u001b[0m \u001b[32m━━━━━━━━━━━━━━━━━━━\u001b[0m\u001b[37m━\u001b[0m \u001b[1m0s\u001b[0m 14ms/step - accuracy: 0.8562 - auc: 0.9874 - f1_score: 0.8614 - loss: 1.5131 - precision: 0.9035 - recall: 0.8023\n",
      "Epoch 14: val_loss improved from 1.31303 to 1.21338, saving model to EfficientNetB0_best_model.h5\n"
     ]
    },
    {
     "name": "stderr",
     "output_type": "stream",
     "text": [
      "WARNING:absl:You are saving your model as an HDF5 file via `model.save()` or `keras.saving.save_model(model)`. This file format is considered legacy. We recommend using instead the native Keras format, e.g. `model.save('my_model.keras')` or `keras.saving.save_model(model, 'my_model.keras')`. \n"
     ]
    },
    {
     "name": "stdout",
     "output_type": "stream",
     "text": [
      "\b\b\b\b\b\b\b\b\b\b\b\b\b\b\b\b\b\b\b\b\b\b\b\b\b\b\b\b\b\b\b\b\b\b\b\b\b\b\b\b\b\b\b\b\b\b\b\b\b\b\b\b\b\b\b\b\b\b\b\b\b\b\b\b\b\b\b\b\b\b\b\b\b\b\b\b\b\b\b\b\b\b\b\b\b\b\b\b\b\b\b\b\b\b\b\b\b\b\b\b\b\b\b\b\b\b\b\b\b\b\b\b\b\b\b\b\b\b\b\b\b\b\b\b\b\b\b\b\b\b\b\b\b\b\b\b\b\b\b\b\b\b\b\b\b\r\n",
      "\u001b[1m760/760\u001b[0m \u001b[32m━━━━━━━━━━━━━━━━━━━━\u001b[0m\u001b[37m\u001b[0m \u001b[1m13s\u001b[0m 17ms/step - accuracy: 0.8561 - auc: 0.9874 - f1_score: 0.8613 - loss: 1.5131 - precision: 0.9034 - recall: 0.8023 - val_accuracy: 0.9303 - val_auc: 0.9958 - val_f1_score: 0.9297 - val_loss: 1.2134 - val_precision: 0.9406 - val_recall: 0.9171\n",
      "Epoch 15/100\n",
      "\u001b[1m757/760\u001b[0m \u001b[32m━━━━━━━━━━━━━━━━━━━\u001b[0m\u001b[37m━\u001b[0m \u001b[1m0s\u001b[0m 14ms/step - accuracy: 0.8634 - auc: 0.9874 - f1_score: 0.8647 - loss: 1.3956 - precision: 0.9057 - recall: 0.8072\n",
      "Epoch 15: val_loss improved from 1.21338 to 1.09648, saving model to EfficientNetB0_best_model.h5\n"
     ]
    },
    {
     "name": "stderr",
     "output_type": "stream",
     "text": [
      "WARNING:absl:You are saving your model as an HDF5 file via `model.save()` or `keras.saving.save_model(model)`. This file format is considered legacy. We recommend using instead the native Keras format, e.g. `model.save('my_model.keras')` or `keras.saving.save_model(model, 'my_model.keras')`. \n"
     ]
    },
    {
     "name": "stdout",
     "output_type": "stream",
     "text": [
      "\b\b\b\b\b\b\b\b\b\b\b\b\b\b\b\b\b\b\b\b\b\b\b\b\b\b\b\b\b\b\b\b\b\b\b\b\b\b\b\b\b\b\b\b\b\b\b\b\b\b\b\b\b\b\b\b\b\b\b\b\b\b\b\b\b\b\b\b\b\b\b\b\b\b\b\b\b\b\b\b\b\b\b\b\b\b\b\b\b\b\b\b\b\b\b\b\b\b\b\b\b\b\b\b\b\b\b\b\b\b\b\b\b\b\b\b\b\b\b\b\b\b\b\b\b\b\b\b\b\b\b\b\b\b\b\b\b\b\b\b\b\b\b\b\b\r\n",
      "\u001b[1m760/760\u001b[0m \u001b[32m━━━━━━━━━━━━━━━━━━━━\u001b[0m\u001b[37m\u001b[0m \u001b[1m13s\u001b[0m 17ms/step - accuracy: 0.8634 - auc: 0.9874 - f1_score: 0.8647 - loss: 1.3955 - precision: 0.9057 - recall: 0.8072 - val_accuracy: 0.9316 - val_auc: 0.9949 - val_f1_score: 0.9348 - val_loss: 1.0965 - val_precision: 0.9394 - val_recall: 0.9171\n",
      "Epoch 16/100\n",
      "\u001b[1m760/760\u001b[0m \u001b[32m━━━━━━━━━━━━━━━━━━━━\u001b[0m\u001b[37m\u001b[0m \u001b[1m0s\u001b[0m 14ms/step - accuracy: 0.8597 - auc: 0.9880 - f1_score: 0.8624 - loss: 1.2709 - precision: 0.9070 - recall: 0.8228\n",
      "Epoch 16: val_loss improved from 1.09648 to 1.00361, saving model to EfficientNetB0_best_model.h5\n"
     ]
    },
    {
     "name": "stderr",
     "output_type": "stream",
     "text": [
      "WARNING:absl:You are saving your model as an HDF5 file via `model.save()` or `keras.saving.save_model(model)`. This file format is considered legacy. We recommend using instead the native Keras format, e.g. `model.save('my_model.keras')` or `keras.saving.save_model(model, 'my_model.keras')`. \n"
     ]
    },
    {
     "name": "stdout",
     "output_type": "stream",
     "text": [
      "\b\b\b\b\b\b\b\b\b\b\b\b\b\b\b\b\b\b\b\b\b\b\b\b\b\b\b\b\b\b\b\b\b\b\b\b\b\b\b\b\b\b\b\b\b\b\b\b\b\b\b\b\b\b\b\b\b\b\b\b\b\b\b\b\b\b\b\b\b\b\b\b\b\b\b\b\b\b\b\b\b\b\b\b\b\b\b\b\b\b\b\b\b\b\b\b\b\b\b\b\b\b\b\b\b\b\b\b\b\b\b\b\b\b\b\b\b\b\b\b\b\b\b\b\b\b\b\b\b\b\b\b\b\b\b\b\b\b\b\b\b\b\b\b\b\r\n",
      "\u001b[1m760/760\u001b[0m \u001b[32m━━━━━━━━━━━━━━━━━━━━\u001b[0m\u001b[37m\u001b[0m \u001b[1m13s\u001b[0m 17ms/step - accuracy: 0.8597 - auc: 0.9880 - f1_score: 0.8624 - loss: 1.2709 - precision: 0.9070 - recall: 0.8228 - val_accuracy: 0.9303 - val_auc: 0.9959 - val_f1_score: 0.9351 - val_loss: 1.0036 - val_precision: 0.9383 - val_recall: 0.9197\n",
      "Epoch 17/100\n",
      "\u001b[1m757/760\u001b[0m \u001b[32m━━━━━━━━━━━━━━━━━━━\u001b[0m\u001b[37m━\u001b[0m \u001b[1m0s\u001b[0m 14ms/step - accuracy: 0.8606 - auc: 0.9886 - f1_score: 0.8661 - loss: 1.2005 - precision: 0.9121 - recall: 0.8135\n",
      "Epoch 17: val_loss improved from 1.00361 to 0.93581, saving model to EfficientNetB0_best_model.h5\n"
     ]
    },
    {
     "name": "stderr",
     "output_type": "stream",
     "text": [
      "WARNING:absl:You are saving your model as an HDF5 file via `model.save()` or `keras.saving.save_model(model)`. This file format is considered legacy. We recommend using instead the native Keras format, e.g. `model.save('my_model.keras')` or `keras.saving.save_model(model, 'my_model.keras')`. \n"
     ]
    },
    {
     "name": "stdout",
     "output_type": "stream",
     "text": [
      "\b\b\b\b\b\b\b\b\b\b\b\b\b\b\b\b\b\b\b\b\b\b\b\b\b\b\b\b\b\b\b\b\b\b\b\b\b\b\b\b\b\b\b\b\b\b\b\b\b\b\b\b\b\b\b\b\b\b\b\b\b\b\b\b\b\b\b\b\b\b\b\b\b\b\b\b\b\b\b\b\b\b\b\b\b\b\b\b\b\b\b\b\b\b\b\b\b\b\b\b\b\b\b\b\b\b\b\b\b\b\b\b\b\b\b\b\b\b\b\b\b\b\b\b\b\b\b\b\b\b\b\b\b\b\b\b\b\b\b\b\b\b\b\b\b\r\n",
      "\u001b[1m760/760\u001b[0m \u001b[32m━━━━━━━━━━━━━━━━━━━━\u001b[0m\u001b[37m\u001b[0m \u001b[1m13s\u001b[0m 17ms/step - accuracy: 0.8606 - auc: 0.9886 - f1_score: 0.8661 - loss: 1.2005 - precision: 0.9121 - recall: 0.8134 - val_accuracy: 0.9368 - val_auc: 0.9970 - val_f1_score: 0.9388 - val_loss: 0.9358 - val_precision: 0.9448 - val_recall: 0.9237\n",
      "Epoch 18/100\n",
      "\u001b[1m759/760\u001b[0m \u001b[32m━━━━━━━━━━━━━━━━━━━\u001b[0m\u001b[37m━\u001b[0m \u001b[1m0s\u001b[0m 14ms/step - accuracy: 0.8646 - auc: 0.9894 - f1_score: 0.8678 - loss: 1.1283 - precision: 0.9084 - recall: 0.8099\n",
      "Epoch 18: val_loss improved from 0.93581 to 0.86879, saving model to EfficientNetB0_best_model.h5\n"
     ]
    },
    {
     "name": "stderr",
     "output_type": "stream",
     "text": [
      "WARNING:absl:You are saving your model as an HDF5 file via `model.save()` or `keras.saving.save_model(model)`. This file format is considered legacy. We recommend using instead the native Keras format, e.g. `model.save('my_model.keras')` or `keras.saving.save_model(model, 'my_model.keras')`. \n"
     ]
    },
    {
     "name": "stdout",
     "output_type": "stream",
     "text": [
      "\b\b\b\b\b\b\b\b\b\b\b\b\b\b\b\b\b\b\b\b\b\b\b\b\b\b\b\b\b\b\b\b\b\b\b\b\b\b\b\b\b\b\b\b\b\b\b\b\b\b\b\b\b\b\b\b\b\b\b\b\b\b\b\b\b\b\b\b\b\b\b\b\b\b\b\b\b\b\b\b\b\b\b\b\b\b\b\b\b\b\b\b\b\b\b\b\b\b\b\b\b\b\b\b\b\b\b\b\b\b\b\b\b\b\b\b\b\b\b\b\b\b\b\b\b\b\b\b\b\b\b\b\b\b\b\b\b\b\b\b\b\b\b\b\b\r\n",
      "\u001b[1m760/760\u001b[0m \u001b[32m━━━━━━━━━━━━━━━━━━━━\u001b[0m\u001b[37m\u001b[0m \u001b[1m13s\u001b[0m 16ms/step - accuracy: 0.8646 - auc: 0.9894 - f1_score: 0.8678 - loss: 1.1283 - precision: 0.9084 - recall: 0.8099 - val_accuracy: 0.9342 - val_auc: 0.9971 - val_f1_score: 0.9368 - val_loss: 0.8688 - val_precision: 0.9512 - val_recall: 0.9237\n",
      "Epoch 19/100\n",
      "\u001b[1m757/760\u001b[0m \u001b[32m━━━━━━━━━━━━━━━━━━━\u001b[0m\u001b[37m━\u001b[0m \u001b[1m0s\u001b[0m 14ms/step - accuracy: 0.8630 - auc: 0.9898 - f1_score: 0.8629 - loss: 1.0692 - precision: 0.9156 - recall: 0.8155\n",
      "Epoch 19: val_loss improved from 0.86879 to 0.83943, saving model to EfficientNetB0_best_model.h5\n"
     ]
    },
    {
     "name": "stderr",
     "output_type": "stream",
     "text": [
      "WARNING:absl:You are saving your model as an HDF5 file via `model.save()` or `keras.saving.save_model(model)`. This file format is considered legacy. We recommend using instead the native Keras format, e.g. `model.save('my_model.keras')` or `keras.saving.save_model(model, 'my_model.keras')`. \n"
     ]
    },
    {
     "name": "stdout",
     "output_type": "stream",
     "text": [
      "\b\b\b\b\b\b\b\b\b\b\b\b\b\b\b\b\b\b\b\b\b\b\b\b\b\b\b\b\b\b\b\b\b\b\b\b\b\b\b\b\b\b\b\b\b\b\b\b\b\b\b\b\b\b\b\b\b\b\b\b\b\b\b\b\b\b\b\b\b\b\b\b\b\b\b\b\b\b\b\b\b\b\b\b\b\b\b\b\b\b\b\b\b\b\b\b\b\b\b\b\b\b\b\b\b\b\b\b\b\b\b\b\b\b\b\b\b\b\b\b\b\b\b\b\b\b\b\b\b\b\b\b\b\b\b\b\b\b\b\b\b\b\b\b\b\r\n",
      "\u001b[1m760/760\u001b[0m \u001b[32m━━━━━━━━━━━━━━━━━━━━\u001b[0m\u001b[37m\u001b[0m \u001b[1m13s\u001b[0m 17ms/step - accuracy: 0.8630 - auc: 0.9898 - f1_score: 0.8628 - loss: 1.0692 - precision: 0.9156 - recall: 0.8154 - val_accuracy: 0.9342 - val_auc: 0.9940 - val_f1_score: 0.9356 - val_loss: 0.8394 - val_precision: 0.9472 - val_recall: 0.9211\n",
      "Epoch 20/100\n",
      "\u001b[1m760/760\u001b[0m \u001b[32m━━━━━━━━━━━━━━━━━━━━\u001b[0m\u001b[37m\u001b[0m \u001b[1m0s\u001b[0m 15ms/step - accuracy: 0.8596 - auc: 0.9866 - f1_score: 0.8605 - loss: 1.0548 - precision: 0.9054 - recall: 0.8132\n",
      "Epoch 20: val_loss improved from 0.83943 to 0.78370, saving model to EfficientNetB0_best_model.h5\n"
     ]
    },
    {
     "name": "stderr",
     "output_type": "stream",
     "text": [
      "WARNING:absl:You are saving your model as an HDF5 file via `model.save()` or `keras.saving.save_model(model)`. This file format is considered legacy. We recommend using instead the native Keras format, e.g. `model.save('my_model.keras')` or `keras.saving.save_model(model, 'my_model.keras')`. \n"
     ]
    },
    {
     "name": "stdout",
     "output_type": "stream",
     "text": [
      "\b\b\b\b\b\b\b\b\b\b\b\b\b\b\b\b\b\b\b\b\b\b\b\b\b\b\b\b\b\b\b\b\b\b\b\b\b\b\b\b\b\b\b\b\b\b\b\b\b\b\b\b\b\b\b\b\b\b\b\b\b\b\b\b\b\b\b\b\b\b\b\b\b\b\b\b\b\b\b\b\b\b\b\b\b\b\b\b\b\b\b\b\b\b\b\b\b\b\b\b\b\b\b\b\b\b\b\b\b\b\b\b\b\b\b\b\b\b\b\b\b\b\b\b\b\b\b\b\b\b\b\b\b\b\b\b\b\b\b\b\b\b\b\b\b\r\n",
      "\u001b[1m760/760\u001b[0m \u001b[32m━━━━━━━━━━━━━━━━━━━━\u001b[0m\u001b[37m\u001b[0m \u001b[1m13s\u001b[0m 18ms/step - accuracy: 0.8596 - auc: 0.9866 - f1_score: 0.8605 - loss: 1.0549 - precision: 0.9054 - recall: 0.8132 - val_accuracy: 0.9421 - val_auc: 0.9964 - val_f1_score: 0.9432 - val_loss: 0.7837 - val_precision: 0.9528 - val_recall: 0.9289\n",
      "Epoch 21/100\n",
      "\u001b[1m759/760\u001b[0m \u001b[32m━━━━━━━━━━━━━━━━━━━\u001b[0m\u001b[37m━\u001b[0m \u001b[1m0s\u001b[0m 16ms/step - accuracy: 0.8581 - auc: 0.9874 - f1_score: 0.8597 - loss: 1.0266 - precision: 0.9026 - recall: 0.8095\n",
      "Epoch 21: val_loss improved from 0.78370 to 0.72803, saving model to EfficientNetB0_best_model.h5\n"
     ]
    },
    {
     "name": "stderr",
     "output_type": "stream",
     "text": [
      "WARNING:absl:You are saving your model as an HDF5 file via `model.save()` or `keras.saving.save_model(model)`. This file format is considered legacy. We recommend using instead the native Keras format, e.g. `model.save('my_model.keras')` or `keras.saving.save_model(model, 'my_model.keras')`. \n"
     ]
    },
    {
     "name": "stdout",
     "output_type": "stream",
     "text": [
      "\b\b\b\b\b\b\b\b\b\b\b\b\b\b\b\b\b\b\b\b\b\b\b\b\b\b\b\b\b\b\b\b\b\b\b\b\b\b\b\b\b\b\b\b\b\b\b\b\b\b\b\b\b\b\b\b\b\b\b\b\b\b\b\b\b\b\b\b\b\b\b\b\b\b\b\b\b\b\b\b\b\b\b\b\b\b\b\b\b\b\b\b\b\b\b\b\b\b\b\b\b\b\b\b\b\b\b\b\b\b\b\b\b\b\b\b\b\b\b\b\b\b\b\b\b\b\b\b\b\b\b\b\b\b\b\b\b\b\b\b\b\b\b\b\b\r\n",
      "\u001b[1m760/760\u001b[0m \u001b[32m━━━━━━━━━━━━━━━━━━━━\u001b[0m\u001b[37m\u001b[0m \u001b[1m14s\u001b[0m 18ms/step - accuracy: 0.8581 - auc: 0.9874 - f1_score: 0.8597 - loss: 1.0266 - precision: 0.9026 - recall: 0.8095 - val_accuracy: 0.9474 - val_auc: 0.9978 - val_f1_score: 0.9486 - val_loss: 0.7280 - val_precision: 0.9557 - val_recall: 0.9368\n",
      "Epoch 22/100\n",
      "\u001b[1m756/760\u001b[0m \u001b[32m━━━━━━━━━━━━━━━━━━━\u001b[0m\u001b[37m━\u001b[0m \u001b[1m0s\u001b[0m 16ms/step - accuracy: 0.8741 - auc: 0.9890 - f1_score: 0.8762 - loss: 0.9648 - precision: 0.9135 - recall: 0.8337\n",
      "Epoch 22: val_loss did not improve from 0.72803\n",
      "\u001b[1m760/760\u001b[0m \u001b[32m━━━━━━━━━━━━━━━━━━━━\u001b[0m\u001b[37m\u001b[0m \u001b[1m14s\u001b[0m 18ms/step - accuracy: 0.8740 - auc: 0.9890 - f1_score: 0.8761 - loss: 0.9650 - precision: 0.9135 - recall: 0.8336 - val_accuracy: 0.9342 - val_auc: 0.9966 - val_f1_score: 0.9360 - val_loss: 0.7399 - val_precision: 0.9484 - val_recall: 0.9197\n",
      "Epoch 23/100\n",
      "\u001b[1m757/760\u001b[0m \u001b[32m━━━━━━━━━━━━━━━━━━━\u001b[0m\u001b[37m━\u001b[0m \u001b[1m0s\u001b[0m 16ms/step - accuracy: 0.8688 - auc: 0.9890 - f1_score: 0.8702 - loss: 0.9459 - precision: 0.9077 - recall: 0.8195\n",
      "Epoch 23: val_loss improved from 0.72803 to 0.70591, saving model to EfficientNetB0_best_model.h5\n"
     ]
    },
    {
     "name": "stderr",
     "output_type": "stream",
     "text": [
      "WARNING:absl:You are saving your model as an HDF5 file via `model.save()` or `keras.saving.save_model(model)`. This file format is considered legacy. We recommend using instead the native Keras format, e.g. `model.save('my_model.keras')` or `keras.saving.save_model(model, 'my_model.keras')`. \n"
     ]
    },
    {
     "name": "stdout",
     "output_type": "stream",
     "text": [
      "\b\b\b\b\b\b\b\b\b\b\b\b\b\b\b\b\b\b\b\b\b\b\b\b\b\b\b\b\b\b\b\b\b\b\b\b\b\b\b\b\b\b\b\b\b\b\b\b\b\b\b\b\b\b\b\b\b\b\b\b\b\b\b\b\b\b\b\b\b\b\b\b\b\b\b\b\b\b\b\b\b\b\b\b\b\b\b\b\b\b\b\b\b\b\b\b\b\b\b\b\b\b\b\b\b\b\b\b\b\b\b\b\b\b\b\b\b\b\b\b\b\b\b\b\b\b\b\b\b\b\b\b\b\b\b\b\b\b\b\b\b\b\b\b\b\r\n",
      "\u001b[1m760/760\u001b[0m \u001b[32m━━━━━━━━━━━━━━━━━━━━\u001b[0m\u001b[37m\u001b[0m \u001b[1m14s\u001b[0m 19ms/step - accuracy: 0.8688 - auc: 0.9890 - f1_score: 0.8702 - loss: 0.9460 - precision: 0.9076 - recall: 0.8194 - val_accuracy: 0.9434 - val_auc: 0.9959 - val_f1_score: 0.9430 - val_loss: 0.7059 - val_precision: 0.9530 - val_recall: 0.9329\n",
      "Epoch 24/100\n",
      "\u001b[1m757/760\u001b[0m \u001b[32m━━━━━━━━━━━━━━━━━━━\u001b[0m\u001b[37m━\u001b[0m \u001b[1m0s\u001b[0m 16ms/step - accuracy: 0.8548 - auc: 0.9884 - f1_score: 0.8616 - loss: 0.9465 - precision: 0.8991 - recall: 0.8011\n",
      "Epoch 24: val_loss did not improve from 0.70591\n",
      "\u001b[1m760/760\u001b[0m \u001b[32m━━━━━━━━━━━━━━━━━━━━\u001b[0m\u001b[37m\u001b[0m \u001b[1m14s\u001b[0m 18ms/step - accuracy: 0.8548 - auc: 0.9884 - f1_score: 0.8616 - loss: 0.9465 - precision: 0.8991 - recall: 0.8011 - val_accuracy: 0.9303 - val_auc: 0.9964 - val_f1_score: 0.9296 - val_loss: 0.7061 - val_precision: 0.9432 - val_recall: 0.9184\n",
      "Epoch 25/100\n",
      "\u001b[1m760/760\u001b[0m \u001b[32m━━━━━━━━━━━━━━━━━━━━\u001b[0m\u001b[37m\u001b[0m \u001b[1m0s\u001b[0m 16ms/step - accuracy: 0.8599 - auc: 0.9864 - f1_score: 0.8615 - loss: 0.9438 - precision: 0.9035 - recall: 0.8101\n",
      "Epoch 25: val_loss did not improve from 0.70591\n",
      "\u001b[1m760/760\u001b[0m \u001b[32m━━━━━━━━━━━━━━━━━━━━\u001b[0m\u001b[37m\u001b[0m \u001b[1m14s\u001b[0m 18ms/step - accuracy: 0.8599 - auc: 0.9864 - f1_score: 0.8615 - loss: 0.9438 - precision: 0.9035 - recall: 0.8101 - val_accuracy: 0.9263 - val_auc: 0.9950 - val_f1_score: 0.9293 - val_loss: 0.7219 - val_precision: 0.9364 - val_recall: 0.9105\n",
      "Epoch 26/100\n",
      "\u001b[1m760/760\u001b[0m \u001b[32m━━━━━━━━━━━━━━━━━━━━\u001b[0m\u001b[37m\u001b[0m \u001b[1m0s\u001b[0m 16ms/step - accuracy: 0.8692 - auc: 0.9889 - f1_score: 0.8720 - loss: 0.8964 - precision: 0.9093 - recall: 0.8243\n",
      "Epoch 26: val_loss improved from 0.70591 to 0.67178, saving model to EfficientNetB0_best_model.h5\n"
     ]
    },
    {
     "name": "stderr",
     "output_type": "stream",
     "text": [
      "WARNING:absl:You are saving your model as an HDF5 file via `model.save()` or `keras.saving.save_model(model)`. This file format is considered legacy. We recommend using instead the native Keras format, e.g. `model.save('my_model.keras')` or `keras.saving.save_model(model, 'my_model.keras')`. \n"
     ]
    },
    {
     "name": "stdout",
     "output_type": "stream",
     "text": [
      "\b\b\b\b\b\b\b\b\b\b\b\b\b\b\b\b\b\b\b\b\b\b\b\b\b\b\b\b\b\b\b\b\b\b\b\b\b\b\b\b\b\b\b\b\b\b\b\b\b\b\b\b\b\b\b\b\b\b\b\b\b\b\b\b\b\b\b\b\b\b\b\b\b\b\b\b\b\b\b\b\b\b\b\b\b\b\b\b\b\b\b\b\b\b\b\b\b\b\b\b\b\b\b\b\b\b\b\b\b\b\b\b\b\b\b\b\b\b\b\b\b\b\b\b\b\b\b\b\b\b\b\b\b\b\b\b\b\b\b\b\b\b\b\b\b\r\n",
      "\u001b[1m760/760\u001b[0m \u001b[32m━━━━━━━━━━━━━━━━━━━━\u001b[0m\u001b[37m\u001b[0m \u001b[1m14s\u001b[0m 19ms/step - accuracy: 0.8692 - auc: 0.9889 - f1_score: 0.8720 - loss: 0.8964 - precision: 0.9093 - recall: 0.8242 - val_accuracy: 0.9303 - val_auc: 0.9962 - val_f1_score: 0.9312 - val_loss: 0.6718 - val_precision: 0.9481 - val_recall: 0.9132\n",
      "Epoch 27/100\n",
      "\u001b[1m756/760\u001b[0m \u001b[32m━━━━━━━━━━━━━━━━━━━\u001b[0m\u001b[37m━\u001b[0m \u001b[1m0s\u001b[0m 16ms/step - accuracy: 0.8614 - auc: 0.9880 - f1_score: 0.8602 - loss: 0.9046 - precision: 0.9044 - recall: 0.8144\n",
      "Epoch 27: val_loss improved from 0.67178 to 0.64689, saving model to EfficientNetB0_best_model.h5\n"
     ]
    },
    {
     "name": "stderr",
     "output_type": "stream",
     "text": [
      "WARNING:absl:You are saving your model as an HDF5 file via `model.save()` or `keras.saving.save_model(model)`. This file format is considered legacy. We recommend using instead the native Keras format, e.g. `model.save('my_model.keras')` or `keras.saving.save_model(model, 'my_model.keras')`. \n"
     ]
    },
    {
     "name": "stdout",
     "output_type": "stream",
     "text": [
      "\b\b\b\b\b\b\b\b\b\b\b\b\b\b\b\b\b\b\b\b\b\b\b\b\b\b\b\b\b\b\b\b\b\b\b\b\b\b\b\b\b\b\b\b\b\b\b\b\b\b\b\b\b\b\b\b\b\b\b\b\b\b\b\b\b\b\b\b\b\b\b\b\b\b\b\b\b\b\b\b\b\b\b\b\b\b\b\b\b\b\b\b\b\b\b\b\b\b\b\b\b\b\b\b\b\b\b\b\b\b\b\b\b\b\b\b\b\b\b\b\b\b\b\b\b\b\b\b\b\b\b\b\b\b\b\b\b\b\b\b\b\b\b\b\b\r\n",
      "\u001b[1m760/760\u001b[0m \u001b[32m━━━━━━━━━━━━━━━━━━━━\u001b[0m\u001b[37m\u001b[0m \u001b[1m14s\u001b[0m 19ms/step - accuracy: 0.8613 - auc: 0.9880 - f1_score: 0.8602 - loss: 0.9046 - precision: 0.9044 - recall: 0.8144 - val_accuracy: 0.9382 - val_auc: 0.9972 - val_f1_score: 0.9391 - val_loss: 0.6469 - val_precision: 0.9512 - val_recall: 0.9237\n",
      "Epoch 28/100\n",
      "\u001b[1m758/760\u001b[0m \u001b[32m━━━━━━━━━━━━━━━━━━━\u001b[0m\u001b[37m━\u001b[0m \u001b[1m0s\u001b[0m 16ms/step - accuracy: 0.8560 - auc: 0.9880 - f1_score: 0.8613 - loss: 0.8873 - precision: 0.9060 - recall: 0.8119\n",
      "Epoch 28: val_loss did not improve from 0.64689\n",
      "\u001b[1m760/760\u001b[0m \u001b[32m━━━━━━━━━━━━━━━━━━━━\u001b[0m\u001b[37m\u001b[0m \u001b[1m14s\u001b[0m 18ms/step - accuracy: 0.8559 - auc: 0.9880 - f1_score: 0.8612 - loss: 0.8873 - precision: 0.9060 - recall: 0.8118 - val_accuracy: 0.9289 - val_auc: 0.9956 - val_f1_score: 0.9344 - val_loss: 0.6657 - val_precision: 0.9389 - val_recall: 0.9105\n",
      "Epoch 29/100\n",
      "\u001b[1m760/760\u001b[0m \u001b[32m━━━━━━━━━━━━━━━━━━━━\u001b[0m\u001b[37m\u001b[0m \u001b[1m0s\u001b[0m 14ms/step - accuracy: 0.8807 - auc: 0.9895 - f1_score: 0.8809 - loss: 0.8446 - precision: 0.9244 - recall: 0.8398\n",
      "Epoch 29: val_loss improved from 0.64689 to 0.64303, saving model to EfficientNetB0_best_model.h5\n"
     ]
    },
    {
     "name": "stderr",
     "output_type": "stream",
     "text": [
      "WARNING:absl:You are saving your model as an HDF5 file via `model.save()` or `keras.saving.save_model(model)`. This file format is considered legacy. We recommend using instead the native Keras format, e.g. `model.save('my_model.keras')` or `keras.saving.save_model(model, 'my_model.keras')`. \n"
     ]
    },
    {
     "name": "stdout",
     "output_type": "stream",
     "text": [
      "\b\b\b\b\b\b\b\b\b\b\b\b\b\b\b\b\b\b\b\b\b\b\b\b\b\b\b\b\b\b\b\b\b\b\b\b\b\b\b\b\b\b\b\b\b\b\b\b\b\b\b\b\b\b\b\b\b\b\b\b\b\b\b\b\b\b\b\b\b\b\b\b\b\b\b\b\b\b\b\b\b\b\b\b\b\b\b\b\b\b\b\b\b\b\b\b\b\b\b\b\b\b\b\b\b\b\b\b\b\b\b\b\b\b\b\b\b\b\b\b\b\b\b\b\b\b\b\b\b\b\b\b\b\b\b\b\b\b\b\b\b\b\b\b\b\r\n",
      "\u001b[1m760/760\u001b[0m \u001b[32m━━━━━━━━━━━━━━━━━━━━\u001b[0m\u001b[37m\u001b[0m \u001b[1m13s\u001b[0m 17ms/step - accuracy: 0.8806 - auc: 0.9895 - f1_score: 0.8809 - loss: 0.8447 - precision: 0.9244 - recall: 0.8398 - val_accuracy: 0.9368 - val_auc: 0.9959 - val_f1_score: 0.9388 - val_loss: 0.6430 - val_precision: 0.9450 - val_recall: 0.9263\n",
      "Epoch 30/100\n",
      "\u001b[1m756/760\u001b[0m \u001b[32m━━━━━━━━━━━━━━━━━━━\u001b[0m\u001b[37m━\u001b[0m \u001b[1m0s\u001b[0m 14ms/step - accuracy: 0.8613 - auc: 0.9886 - f1_score: 0.8602 - loss: 0.8668 - precision: 0.9133 - recall: 0.8048\n",
      "Epoch 30: val_loss improved from 0.64303 to 0.63053, saving model to EfficientNetB0_best_model.h5\n"
     ]
    },
    {
     "name": "stderr",
     "output_type": "stream",
     "text": [
      "WARNING:absl:You are saving your model as an HDF5 file via `model.save()` or `keras.saving.save_model(model)`. This file format is considered legacy. We recommend using instead the native Keras format, e.g. `model.save('my_model.keras')` or `keras.saving.save_model(model, 'my_model.keras')`. \n"
     ]
    },
    {
     "name": "stdout",
     "output_type": "stream",
     "text": [
      "\b\b\b\b\b\b\b\b\b\b\b\b\b\b\b\b\b\b\b\b\b\b\b\b\b\b\b\b\b\b\b\b\b\b\b\b\b\b\b\b\b\b\b\b\b\b\b\b\b\b\b\b\b\b\b\b\b\b\b\b\b\b\b\b\b\b\b\b\b\b\b\b\b\b\b\b\b\b\b\b\b\b\b\b\b\b\b\b\b\b\b\b\b\b\b\b\b\b\b\b\b\b\b\b\b\b\b\b\b\b\b\b\b\b\b\b\b\b\b\b\b\b\b\b\b\b\b\b\b\b\b\b\b\b\b\b\b\b\b\b\b\b\b\b\b\r\n",
      "\u001b[1m760/760\u001b[0m \u001b[32m━━━━━━━━━━━━━━━━━━━━\u001b[0m\u001b[37m\u001b[0m \u001b[1m13s\u001b[0m 17ms/step - accuracy: 0.8613 - auc: 0.9886 - f1_score: 0.8602 - loss: 0.8669 - precision: 0.9133 - recall: 0.8048 - val_accuracy: 0.9368 - val_auc: 0.9960 - val_f1_score: 0.9384 - val_loss: 0.6305 - val_precision: 0.9472 - val_recall: 0.9211\n",
      "Epoch 31/100\n",
      "\u001b[1m757/760\u001b[0m \u001b[32m━━━━━━━━━━━━━━━━━━━\u001b[0m\u001b[37m━\u001b[0m \u001b[1m0s\u001b[0m 14ms/step - accuracy: 0.8620 - auc: 0.9884 - f1_score: 0.8627 - loss: 0.8586 - precision: 0.9105 - recall: 0.8101\n",
      "Epoch 31: val_loss improved from 0.63053 to 0.61627, saving model to EfficientNetB0_best_model.h5\n"
     ]
    },
    {
     "name": "stderr",
     "output_type": "stream",
     "text": [
      "WARNING:absl:You are saving your model as an HDF5 file via `model.save()` or `keras.saving.save_model(model)`. This file format is considered legacy. We recommend using instead the native Keras format, e.g. `model.save('my_model.keras')` or `keras.saving.save_model(model, 'my_model.keras')`. \n"
     ]
    },
    {
     "name": "stdout",
     "output_type": "stream",
     "text": [
      "\b\b\b\b\b\b\b\b\b\b\b\b\b\b\b\b\b\b\b\b\b\b\b\b\b\b\b\b\b\b\b\b\b\b\b\b\b\b\b\b\b\b\b\b\b\b\b\b\b\b\b\b\b\b\b\b\b\b\b\b\b\b\b\b\b\b\b\b\b\b\b\b\b\b\b\b\b\b\b\b\b\b\b\b\b\b\b\b\b\b\b\b\b\b\b\b\b\b\b\b\b\b\b\b\b\b\b\b\b\b\b\b\b\b\b\b\b\b\b\b\b\b\b\b\b\b\b\b\b\b\b\b\b\b\b\b\b\b\b\b\b\b\b\b\b\r\n",
      "\u001b[1m760/760\u001b[0m \u001b[32m━━━━━━━━━━━━━━━━━━━━\u001b[0m\u001b[37m\u001b[0m \u001b[1m13s\u001b[0m 17ms/step - accuracy: 0.8620 - auc: 0.9884 - f1_score: 0.8627 - loss: 0.8586 - precision: 0.9105 - recall: 0.8101 - val_accuracy: 0.9382 - val_auc: 0.9970 - val_f1_score: 0.9413 - val_loss: 0.6163 - val_precision: 0.9465 - val_recall: 0.9303\n",
      "Epoch 32/100\n",
      "\u001b[1m759/760\u001b[0m \u001b[32m━━━━━━━━━━━━━━━━━━━\u001b[0m\u001b[37m━\u001b[0m \u001b[1m0s\u001b[0m 14ms/step - accuracy: 0.8623 - auc: 0.9871 - f1_score: 0.8661 - loss: 0.8619 - precision: 0.9063 - recall: 0.8087\n",
      "Epoch 32: val_loss improved from 0.61627 to 0.60115, saving model to EfficientNetB0_best_model.h5\n"
     ]
    },
    {
     "name": "stderr",
     "output_type": "stream",
     "text": [
      "WARNING:absl:You are saving your model as an HDF5 file via `model.save()` or `keras.saving.save_model(model)`. This file format is considered legacy. We recommend using instead the native Keras format, e.g. `model.save('my_model.keras')` or `keras.saving.save_model(model, 'my_model.keras')`. \n"
     ]
    },
    {
     "name": "stdout",
     "output_type": "stream",
     "text": [
      "\b\b\b\b\b\b\b\b\b\b\b\b\b\b\b\b\b\b\b\b\b\b\b\b\b\b\b\b\b\b\b\b\b\b\b\b\b\b\b\b\b\b\b\b\b\b\b\b\b\b\b\b\b\b\b\b\b\b\b\b\b\b\b\b\b\b\b\b\b\b\b\b\b\b\b\b\b\b\b\b\b\b\b\b\b\b\b\b\b\b\b\b\b\b\b\b\b\b\b\b\b\b\b\b\b\b\b\b\b\b\b\b\b\b\b\b\b\b\b\b\b\b\b\b\b\b\b\b\b\b\b\b\b\b\b\b\b\b\b\b\b\b\b\b\b\r\n",
      "\u001b[1m760/760\u001b[0m \u001b[32m━━━━━━━━━━━━━━━━━━━━\u001b[0m\u001b[37m\u001b[0m \u001b[1m13s\u001b[0m 17ms/step - accuracy: 0.8623 - auc: 0.9871 - f1_score: 0.8661 - loss: 0.8619 - precision: 0.9064 - recall: 0.8087 - val_accuracy: 0.9355 - val_auc: 0.9972 - val_f1_score: 0.9349 - val_loss: 0.6011 - val_precision: 0.9491 - val_recall: 0.9316\n",
      "Epoch 33/100\n",
      "\u001b[1m758/760\u001b[0m \u001b[32m━━━━━━━━━━━━━━━━━━━\u001b[0m\u001b[37m━\u001b[0m \u001b[1m0s\u001b[0m 14ms/step - accuracy: 0.8740 - auc: 0.9894 - f1_score: 0.8767 - loss: 0.8210 - precision: 0.9169 - recall: 0.8246\n",
      "Epoch 33: val_loss did not improve from 0.60115\n",
      "\u001b[1m760/760\u001b[0m \u001b[32m━━━━━━━━━━━━━━━━━━━━\u001b[0m\u001b[37m\u001b[0m \u001b[1m12s\u001b[0m 16ms/step - accuracy: 0.8739 - auc: 0.9894 - f1_score: 0.8767 - loss: 0.8211 - precision: 0.9169 - recall: 0.8246 - val_accuracy: 0.9329 - val_auc: 0.9950 - val_f1_score: 0.9355 - val_loss: 0.6379 - val_precision: 0.9402 - val_recall: 0.9105\n",
      "Epoch 34/100\n",
      "\u001b[1m760/760\u001b[0m \u001b[32m━━━━━━━━━━━━━━━━━━━━\u001b[0m\u001b[37m\u001b[0m \u001b[1m0s\u001b[0m 14ms/step - accuracy: 0.8713 - auc: 0.9884 - f1_score: 0.8730 - loss: 0.8423 - precision: 0.9165 - recall: 0.8210\n",
      "Epoch 34: val_loss did not improve from 0.60115\n",
      "\u001b[1m760/760\u001b[0m \u001b[32m━━━━━━━━━━━━━━━━━━━━\u001b[0m\u001b[37m\u001b[0m \u001b[1m12s\u001b[0m 16ms/step - accuracy: 0.8713 - auc: 0.9884 - f1_score: 0.8730 - loss: 0.8423 - precision: 0.9165 - recall: 0.8210 - val_accuracy: 0.9434 - val_auc: 0.9959 - val_f1_score: 0.9467 - val_loss: 0.6081 - val_precision: 0.9579 - val_recall: 0.9289\n",
      "Epoch 35/100\n",
      "\u001b[1m757/760\u001b[0m \u001b[32m━━━━━━━━━━━━━━━━━━━\u001b[0m\u001b[37m━\u001b[0m \u001b[1m0s\u001b[0m 14ms/step - accuracy: 0.8569 - auc: 0.9880 - f1_score: 0.8552 - loss: 0.8524 - precision: 0.9074 - recall: 0.8044\n",
      "Epoch 35: val_loss improved from 0.60115 to 0.59562, saving model to EfficientNetB0_best_model.h5\n"
     ]
    },
    {
     "name": "stderr",
     "output_type": "stream",
     "text": [
      "WARNING:absl:You are saving your model as an HDF5 file via `model.save()` or `keras.saving.save_model(model)`. This file format is considered legacy. We recommend using instead the native Keras format, e.g. `model.save('my_model.keras')` or `keras.saving.save_model(model, 'my_model.keras')`. \n"
     ]
    },
    {
     "name": "stdout",
     "output_type": "stream",
     "text": [
      "\b\b\b\b\b\b\b\b\b\b\b\b\b\b\b\b\b\b\b\b\b\b\b\b\b\b\b\b\b\b\b\b\b\b\b\b\b\b\b\b\b\b\b\b\b\b\b\b\b\b\b\b\b\b\b\b\b\b\b\b\b\b\b\b\b\b\b\b\b\b\b\b\b\b\b\b\b\b\b\b\b\b\b\b\b\b\b\b\b\b\b\b\b\b\b\b\b\b\b\b\b\b\b\b\b\b\b\b\b\b\b\b\b\b\b\b\b\b\b\b\b\b\b\b\b\b\b\b\b\b\b\b\b\b\b\b\b\b\b\b\b\b\b\b\b\r\n",
      "\u001b[1m760/760\u001b[0m \u001b[32m━━━━━━━━━━━━━━━━━━━━\u001b[0m\u001b[37m\u001b[0m \u001b[1m13s\u001b[0m 17ms/step - accuracy: 0.8569 - auc: 0.9880 - f1_score: 0.8552 - loss: 0.8524 - precision: 0.9073 - recall: 0.8044 - val_accuracy: 0.9447 - val_auc: 0.9970 - val_f1_score: 0.9459 - val_loss: 0.5956 - val_precision: 0.9517 - val_recall: 0.9342\n",
      "Epoch 36/100\n",
      "\u001b[1m758/760\u001b[0m \u001b[32m━━━━━━━━━━━━━━━━━━━\u001b[0m\u001b[37m━\u001b[0m \u001b[1m0s\u001b[0m 14ms/step - accuracy: 0.8653 - auc: 0.9882 - f1_score: 0.8675 - loss: 0.8391 - precision: 0.9083 - recall: 0.8211\n",
      "Epoch 36: val_loss did not improve from 0.59562\n",
      "\u001b[1m760/760\u001b[0m \u001b[32m━━━━━━━━━━━━━━━━━━━━\u001b[0m\u001b[37m\u001b[0m \u001b[1m12s\u001b[0m 16ms/step - accuracy: 0.8653 - auc: 0.9882 - f1_score: 0.8675 - loss: 0.8391 - precision: 0.9083 - recall: 0.8210 - val_accuracy: 0.9355 - val_auc: 0.9961 - val_f1_score: 0.9391 - val_loss: 0.6158 - val_precision: 0.9488 - val_recall: 0.9263\n",
      "Epoch 37/100\n",
      "\u001b[1m757/760\u001b[0m \u001b[32m━━━━━━━━━━━━━━━━━━━\u001b[0m\u001b[37m━\u001b[0m \u001b[1m0s\u001b[0m 14ms/step - accuracy: 0.8462 - auc: 0.9851 - f1_score: 0.8471 - loss: 0.8741 - precision: 0.8990 - recall: 0.7993\n",
      "Epoch 37: val_loss improved from 0.59562 to 0.58726, saving model to EfficientNetB0_best_model.h5\n"
     ]
    },
    {
     "name": "stderr",
     "output_type": "stream",
     "text": [
      "WARNING:absl:You are saving your model as an HDF5 file via `model.save()` or `keras.saving.save_model(model)`. This file format is considered legacy. We recommend using instead the native Keras format, e.g. `model.save('my_model.keras')` or `keras.saving.save_model(model, 'my_model.keras')`. \n"
     ]
    },
    {
     "name": "stdout",
     "output_type": "stream",
     "text": [
      "\b\b\b\b\b\b\b\b\b\b\b\b\b\b\b\b\b\b\b\b\b\b\b\b\b\b\b\b\b\b\b\b\b\b\b\b\b\b\b\b\b\b\b\b\b\b\b\b\b\b\b\b\b\b\b\b\b\b\b\b\b\b\b\b\b\b\b\b\b\b\b\b\b\b\b\b\b\b\b\b\b\b\b\b\b\b\b\b\b\b\b\b\b\b\b\b\b\b\b\b\b\b\b\b\b\b\b\b\b\b\b\b\b\b\b\b\b\b\b\b\b\b\b\b\b\b\b\b\b\b\b\b\b\b\b\b\b\b\b\b\b\b\b\b\b\r\n",
      "\u001b[1m760/760\u001b[0m \u001b[32m━━━━━━━━━━━━━━━━━━━━\u001b[0m\u001b[37m\u001b[0m \u001b[1m13s\u001b[0m 17ms/step - accuracy: 0.8462 - auc: 0.9851 - f1_score: 0.8471 - loss: 0.8740 - precision: 0.8991 - recall: 0.7994 - val_accuracy: 0.9421 - val_auc: 0.9973 - val_f1_score: 0.9454 - val_loss: 0.5873 - val_precision: 0.9527 - val_recall: 0.9276\n",
      "Epoch 38/100\n",
      "\u001b[1m757/760\u001b[0m \u001b[32m━━━━━━━━━━━━━━━━━━━\u001b[0m\u001b[37m━\u001b[0m \u001b[1m0s\u001b[0m 14ms/step - accuracy: 0.8718 - auc: 0.9884 - f1_score: 0.8729 - loss: 0.8231 - precision: 0.9117 - recall: 0.8277\n",
      "Epoch 38: val_loss did not improve from 0.58726\n",
      "\u001b[1m760/760\u001b[0m \u001b[32m━━━━━━━━━━━━━━━━━━━━\u001b[0m\u001b[37m\u001b[0m \u001b[1m12s\u001b[0m 16ms/step - accuracy: 0.8718 - auc: 0.9884 - f1_score: 0.8729 - loss: 0.8231 - precision: 0.9117 - recall: 0.8277 - val_accuracy: 0.9408 - val_auc: 0.9960 - val_f1_score: 0.9433 - val_loss: 0.5987 - val_precision: 0.9502 - val_recall: 0.9289\n",
      "Epoch 39/100\n",
      "\u001b[1m760/760\u001b[0m \u001b[32m━━━━━━━━━━━━━━━━━━━━\u001b[0m\u001b[37m\u001b[0m \u001b[1m0s\u001b[0m 14ms/step - accuracy: 0.8664 - auc: 0.9883 - f1_score: 0.8693 - loss: 0.8298 - precision: 0.9070 - recall: 0.8159\n",
      "Epoch 39: val_loss improved from 0.58726 to 0.56598, saving model to EfficientNetB0_best_model.h5\n"
     ]
    },
    {
     "name": "stderr",
     "output_type": "stream",
     "text": [
      "WARNING:absl:You are saving your model as an HDF5 file via `model.save()` or `keras.saving.save_model(model)`. This file format is considered legacy. We recommend using instead the native Keras format, e.g. `model.save('my_model.keras')` or `keras.saving.save_model(model, 'my_model.keras')`. \n"
     ]
    },
    {
     "name": "stdout",
     "output_type": "stream",
     "text": [
      "\b\b\b\b\b\b\b\b\b\b\b\b\b\b\b\b\b\b\b\b\b\b\b\b\b\b\b\b\b\b\b\b\b\b\b\b\b\b\b\b\b\b\b\b\b\b\b\b\b\b\b\b\b\b\b\b\b\b\b\b\b\b\b\b\b\b\b\b\b\b\b\b\b\b\b\b\b\b\b\b\b\b\b\b\b\b\b\b\b\b\b\b\b\b\b\b\b\b\b\b\b\b\b\b\b\b\b\b\b\b\b\b\b\b\b\b\b\b\b\b\b\b\b\b\b\b\b\b\b\b\b\b\b\b\b\b\b\b\b\b\b\b\b\b\b\r\n",
      "\u001b[1m760/760\u001b[0m \u001b[32m━━━━━━━━━━━━━━━━━━━━\u001b[0m\u001b[37m\u001b[0m \u001b[1m13s\u001b[0m 17ms/step - accuracy: 0.8664 - auc: 0.9883 - f1_score: 0.8693 - loss: 0.8298 - precision: 0.9070 - recall: 0.8158 - val_accuracy: 0.9474 - val_auc: 0.9976 - val_f1_score: 0.9465 - val_loss: 0.5660 - val_precision: 0.9569 - val_recall: 0.9355\n",
      "Epoch 40/100\n",
      "\u001b[1m760/760\u001b[0m \u001b[32m━━━━━━━━━━━━━━━━━━━━\u001b[0m\u001b[37m\u001b[0m \u001b[1m0s\u001b[0m 14ms/step - accuracy: 0.8637 - auc: 0.9885 - f1_score: 0.8656 - loss: 0.8304 - precision: 0.9008 - recall: 0.8159\n",
      "Epoch 40: val_loss did not improve from 0.56598\n",
      "\u001b[1m760/760\u001b[0m \u001b[32m━━━━━━━━━━━━━━━━━━━━\u001b[0m\u001b[37m\u001b[0m \u001b[1m12s\u001b[0m 16ms/step - accuracy: 0.8637 - auc: 0.9885 - f1_score: 0.8656 - loss: 0.8304 - precision: 0.9008 - recall: 0.8159 - val_accuracy: 0.9408 - val_auc: 0.9957 - val_f1_score: 0.9425 - val_loss: 0.5869 - val_precision: 0.9489 - val_recall: 0.9289\n",
      "Epoch 41/100\n",
      "\u001b[1m756/760\u001b[0m \u001b[32m━━━━━━━━━━━━━━━━━━━\u001b[0m\u001b[37m━\u001b[0m \u001b[1m0s\u001b[0m 14ms/step - accuracy: 0.8769 - auc: 0.9907 - f1_score: 0.8801 - loss: 0.7891 - precision: 0.9169 - recall: 0.8336\n",
      "Epoch 41: val_loss improved from 0.56598 to 0.55790, saving model to EfficientNetB0_best_model.h5\n"
     ]
    },
    {
     "name": "stderr",
     "output_type": "stream",
     "text": [
      "WARNING:absl:You are saving your model as an HDF5 file via `model.save()` or `keras.saving.save_model(model)`. This file format is considered legacy. We recommend using instead the native Keras format, e.g. `model.save('my_model.keras')` or `keras.saving.save_model(model, 'my_model.keras')`. \n"
     ]
    },
    {
     "name": "stdout",
     "output_type": "stream",
     "text": [
      "\b\b\b\b\b\b\b\b\b\b\b\b\b\b\b\b\b\b\b\b\b\b\b\b\b\b\b\b\b\b\b\b\b\b\b\b\b\b\b\b\b\b\b\b\b\b\b\b\b\b\b\b\b\b\b\b\b\b\b\b\b\b\b\b\b\b\b\b\b\b\b\b\b\b\b\b\b\b\b\b\b\b\b\b\b\b\b\b\b\b\b\b\b\b\b\b\b\b\b\b\b\b\b\b\b\b\b\b\b\b\b\b\b\b\b\b\b\b\b\b\b\b\b\b\b\b\b\b\b\b\b\b\b\b\b\b\b\b\b\b\b\b\b\b\b\r\n",
      "\u001b[1m760/760\u001b[0m \u001b[32m━━━━━━━━━━━━━━━━━━━━\u001b[0m\u001b[37m\u001b[0m \u001b[1m13s\u001b[0m 17ms/step - accuracy: 0.8769 - auc: 0.9907 - f1_score: 0.8801 - loss: 0.7892 - precision: 0.9169 - recall: 0.8335 - val_accuracy: 0.9539 - val_auc: 0.9980 - val_f1_score: 0.9540 - val_loss: 0.5579 - val_precision: 0.9583 - val_recall: 0.9382\n",
      "Epoch 42/100\n",
      "\u001b[1m758/760\u001b[0m \u001b[32m━━━━━━━━━━━━━━━━━━━\u001b[0m\u001b[37m━\u001b[0m \u001b[1m0s\u001b[0m 14ms/step - accuracy: 0.8780 - auc: 0.9904 - f1_score: 0.8826 - loss: 0.7835 - precision: 0.9152 - recall: 0.8299\n",
      "Epoch 42: val_loss did not improve from 0.55790\n",
      "\u001b[1m760/760\u001b[0m \u001b[32m━━━━━━━━━━━━━━━━━━━━\u001b[0m\u001b[37m\u001b[0m \u001b[1m12s\u001b[0m 16ms/step - accuracy: 0.8780 - auc: 0.9904 - f1_score: 0.8826 - loss: 0.7836 - precision: 0.9152 - recall: 0.8298 - val_accuracy: 0.9500 - val_auc: 0.9974 - val_f1_score: 0.9517 - val_loss: 0.5634 - val_precision: 0.9610 - val_recall: 0.9395\n",
      "Epoch 43/100\n",
      "\u001b[1m757/760\u001b[0m \u001b[32m━━━━━━━━━━━━━━━━━━━\u001b[0m\u001b[37m━\u001b[0m \u001b[1m0s\u001b[0m 14ms/step - accuracy: 0.8656 - auc: 0.9880 - f1_score: 0.8675 - loss: 0.8244 - precision: 0.9134 - recall: 0.8131\n",
      "Epoch 43: val_loss did not improve from 0.55790\n",
      "\u001b[1m760/760\u001b[0m \u001b[32m━━━━━━━━━━━━━━━━━━━━\u001b[0m\u001b[37m\u001b[0m \u001b[1m13s\u001b[0m 17ms/step - accuracy: 0.8655 - auc: 0.9880 - f1_score: 0.8675 - loss: 0.8244 - precision: 0.9134 - recall: 0.8130 - val_accuracy: 0.9500 - val_auc: 0.9961 - val_f1_score: 0.9516 - val_loss: 0.5668 - val_precision: 0.9593 - val_recall: 0.9303\n",
      "Epoch 44/100\n",
      "\u001b[1m759/760\u001b[0m \u001b[32m━━━━━━━━━━━━━━━━━━━\u001b[0m\u001b[37m━\u001b[0m \u001b[1m0s\u001b[0m 15ms/step - accuracy: 0.8726 - auc: 0.9893 - f1_score: 0.8745 - loss: 0.8022 - precision: 0.9058 - recall: 0.8246\n",
      "Epoch 44: val_loss did not improve from 0.55790\n",
      "\u001b[1m760/760\u001b[0m \u001b[32m━━━━━━━━━━━━━━━━━━━━\u001b[0m\u001b[37m\u001b[0m \u001b[1m13s\u001b[0m 17ms/step - accuracy: 0.8725 - auc: 0.9893 - f1_score: 0.8745 - loss: 0.8022 - precision: 0.9058 - recall: 0.8245 - val_accuracy: 0.9461 - val_auc: 0.9981 - val_f1_score: 0.9463 - val_loss: 0.5624 - val_precision: 0.9520 - val_recall: 0.9395\n",
      "Epoch 45/100\n",
      "\u001b[1m759/760\u001b[0m \u001b[32m━━━━━━━━━━━━━━━━━━━\u001b[0m\u001b[37m━\u001b[0m \u001b[1m0s\u001b[0m 15ms/step - accuracy: 0.8726 - auc: 0.9895 - f1_score: 0.8747 - loss: 0.7992 - precision: 0.9160 - recall: 0.8248\n",
      "Epoch 45: val_loss did not improve from 0.55790\n",
      "\u001b[1m760/760\u001b[0m \u001b[32m━━━━━━━━━━━━━━━━━━━━\u001b[0m\u001b[37m\u001b[0m \u001b[1m13s\u001b[0m 17ms/step - accuracy: 0.8725 - auc: 0.9895 - f1_score: 0.8747 - loss: 0.7993 - precision: 0.9159 - recall: 0.8248 - val_accuracy: 0.9421 - val_auc: 0.9964 - val_f1_score: 0.9429 - val_loss: 0.5813 - val_precision: 0.9490 - val_recall: 0.9303\n",
      "Epoch 46/100\n",
      "\u001b[1m758/760\u001b[0m \u001b[32m━━━━━━━━━━━━━━━━━━━\u001b[0m\u001b[37m━\u001b[0m \u001b[1m0s\u001b[0m 15ms/step - accuracy: 0.8747 - auc: 0.9895 - f1_score: 0.8779 - loss: 0.7923 - precision: 0.9201 - recall: 0.8183\n",
      "Epoch 46: val_loss did not improve from 0.55790\n",
      "\u001b[1m760/760\u001b[0m \u001b[32m━━━━━━━━━━━━━━━━━━━━\u001b[0m\u001b[37m\u001b[0m \u001b[1m13s\u001b[0m 17ms/step - accuracy: 0.8747 - auc: 0.9895 - f1_score: 0.8779 - loss: 0.7924 - precision: 0.9201 - recall: 0.8183 - val_accuracy: 0.9408 - val_auc: 0.9962 - val_f1_score: 0.9424 - val_loss: 0.5883 - val_precision: 0.9490 - val_recall: 0.9303\n",
      "Epoch 47/100\n",
      "\u001b[1m757/760\u001b[0m \u001b[32m━━━━━━━━━━━━━━━━━━━\u001b[0m\u001b[37m━\u001b[0m \u001b[1m0s\u001b[0m 15ms/step - accuracy: 0.8729 - auc: 0.9899 - f1_score: 0.8727 - loss: 0.7902 - precision: 0.9112 - recall: 0.8213\n",
      "Epoch 47: val_loss did not improve from 0.55790\n",
      "\u001b[1m760/760\u001b[0m \u001b[32m━━━━━━━━━━━━━━━━━━━━\u001b[0m\u001b[37m\u001b[0m \u001b[1m13s\u001b[0m 17ms/step - accuracy: 0.8728 - auc: 0.9899 - f1_score: 0.8726 - loss: 0.7903 - precision: 0.9112 - recall: 0.8212 - val_accuracy: 0.9395 - val_auc: 0.9962 - val_f1_score: 0.9408 - val_loss: 0.5871 - val_precision: 0.9453 - val_recall: 0.9329\n",
      "Epoch 48/100\n",
      "\u001b[1m757/760\u001b[0m \u001b[32m━━━━━━━━━━━━━━━━━━━\u001b[0m\u001b[37m━\u001b[0m \u001b[1m0s\u001b[0m 15ms/step - accuracy: 0.8710 - auc: 0.9898 - f1_score: 0.8735 - loss: 0.7877 - precision: 0.9156 - recall: 0.8274\n",
      "Epoch 48: val_loss did not improve from 0.55790\n",
      "\u001b[1m760/760\u001b[0m \u001b[32m━━━━━━━━━━━━━━━━━━━━\u001b[0m\u001b[37m\u001b[0m \u001b[1m13s\u001b[0m 17ms/step - accuracy: 0.8710 - auc: 0.9898 - f1_score: 0.8735 - loss: 0.7878 - precision: 0.9156 - recall: 0.8274 - val_accuracy: 0.9513 - val_auc: 0.9958 - val_f1_score: 0.9539 - val_loss: 0.5677 - val_precision: 0.9531 - val_recall: 0.9355\n",
      "Epoch 49/100\n",
      "\u001b[1m757/760\u001b[0m \u001b[32m━━━━━━━━━━━━━━━━━━━\u001b[0m\u001b[37m━\u001b[0m \u001b[1m0s\u001b[0m 14ms/step - accuracy: 0.8591 - auc: 0.9891 - f1_score: 0.8595 - loss: 0.8100 - precision: 0.9077 - recall: 0.8189\n",
      "Epoch 49: val_loss did not improve from 0.55790\n",
      "\u001b[1m760/760\u001b[0m \u001b[32m━━━━━━━━━━━━━━━━━━━━\u001b[0m\u001b[37m\u001b[0m \u001b[1m13s\u001b[0m 16ms/step - accuracy: 0.8591 - auc: 0.9891 - f1_score: 0.8595 - loss: 0.8099 - precision: 0.9077 - recall: 0.8188 - val_accuracy: 0.9434 - val_auc: 0.9952 - val_f1_score: 0.9482 - val_loss: 0.5724 - val_precision: 0.9503 - val_recall: 0.9316\n",
      "Epoch 50/100\n",
      "\u001b[1m758/760\u001b[0m \u001b[32m━━━━━━━━━━━━━━━━━━━\u001b[0m\u001b[37m━\u001b[0m \u001b[1m0s\u001b[0m 14ms/step - accuracy: 0.8735 - auc: 0.9904 - f1_score: 0.8777 - loss: 0.7786 - precision: 0.9153 - recall: 0.8261\n",
      "Epoch 50: val_loss did not improve from 0.55790\n",
      "\u001b[1m760/760\u001b[0m \u001b[32m━━━━━━━━━━━━━━━━━━━━\u001b[0m\u001b[37m\u001b[0m \u001b[1m12s\u001b[0m 16ms/step - accuracy: 0.8735 - auc: 0.9904 - f1_score: 0.8777 - loss: 0.7787 - precision: 0.9153 - recall: 0.8260 - val_accuracy: 0.9474 - val_auc: 0.9966 - val_f1_score: 0.9491 - val_loss: 0.5630 - val_precision: 0.9635 - val_recall: 0.9368\n",
      "Epoch 51/100\n",
      "\u001b[1m758/760\u001b[0m \u001b[32m━━━━━━━━━━━━━━━━━━━\u001b[0m\u001b[37m━\u001b[0m \u001b[1m0s\u001b[0m 14ms/step - accuracy: 0.8659 - auc: 0.9892 - f1_score: 0.8682 - loss: 0.7963 - precision: 0.9123 - recall: 0.8220\n",
      "Epoch 51: val_loss did not improve from 0.55790\n",
      "\u001b[1m760/760\u001b[0m \u001b[32m━━━━━━━━━━━━━━━━━━━━\u001b[0m\u001b[37m\u001b[0m \u001b[1m13s\u001b[0m 16ms/step - accuracy: 0.8658 - auc: 0.9892 - f1_score: 0.8682 - loss: 0.7963 - precision: 0.9123 - recall: 0.8220 - val_accuracy: 0.9342 - val_auc: 0.9958 - val_f1_score: 0.9373 - val_loss: 0.5718 - val_precision: 0.9476 - val_recall: 0.9276\n",
      "Epoch 51: early stopping\n",
      "Restoring model weights from the end of the best epoch: 41.\n"
     ]
    },
    {
     "data": {
      "image/png": "[encoded data removed]",
      "text/plain": [
       "<Figure size 1000x600 with 1 Axes>"
      ]
     },
     "metadata": {},
     "output_type": "display_data"
    },
    {
     "name": "stderr",
     "output_type": "stream",
     "text": [
      "WARNING:absl:Compiled the loaded model, but the compiled metrics have yet to be built. `model.compile_metrics` will be empty until you train or evaluate the model.\n"
     ]
    }
   ],
   "source": [
    "best_model, history, results = create_and_train_model(\n",
    "    'EfficientNetB0',\n",
    "    (train_images, train_labels_one_hot),\n",
    "    (val_images, val_labels_one_hot),\n",
    "    (test_images, test_labels_one_hot)\n",
    ")"
   ]
  },
  {
   "cell_type": "markdown",
   "id": "0681b677-4536-457e-9cc6-697611a7fce9",
   "metadata": {
    "id": "0681b677-4536-457e-9cc6-697611a7fce9"
   },
   "source": [
    "### v) Display metrics"
   ]
  },
  {
   "cell_type": "code",
   "execution_count": 21,
   "id": "JvfnxYJzDFi6",
   "metadata": {
    "colab": {
     "base_uri": "https://localhost:8080/"
    },
    "executionInfo": {
     "elapsed": 143693,
     "status": "ok",
     "timestamp": 1746956901127,
     "user": {
      "displayName": "Suloni Praveen",
      "userId": "17262207939091849753"
     },
     "user_tz": 420
    },
    "id": "JvfnxYJzDFi6",
    "outputId": "142cbeef-3312-4d4e-c247-baafe82ae48d"
   },
   "outputs": [
    {
     "name": "stdout",
     "output_type": "stream",
     "text": [
      "\n",
      "================================================================================\n",
      "                           MODEL PERFORMANCE METRICS                            \n",
      "================================================================================\n",
      "Metric         Training                 Validation               Test                     \n",
      "--------------------------------------------------------------------------------\n",
      "Evaluating on Training data...\n",
      "Evaluating on Validation data...\n",
      "Evaluating on Test data...\n",
      "Accuracy       0.8470                   0.8605                   0.7107                   \n",
      "Precision      0.8615                   0.8713                   0.7375                   \n",
      "Recall         0.8470                   0.8605                   0.7107                   \n",
      "AUC            0.9904                   0.9921                   0.9589                   \n",
      "F1 Score       0.8439                   0.8571                   0.7051                   \n",
      "================================================================================\n",
      "\n",
      "Detailed Test Metrics:\n",
      "Test Loss: 1.2768\n",
      "Test Accuracy: 0.7107\n",
      "Test Precision: 0.7375\n",
      "Test F1 Score: 0.7051\n",
      "Test Recall: 0.7107\n",
      "Test AUC: 0.9589\n",
      "\n",
      "Classification Report on Test Data:\n",
      "              precision    recall  f1-score   support\n",
      "\n",
      "           0       0.69      0.80      0.74        93\n",
      "           1       0.95      0.51      0.66        83\n",
      "           2       0.58      0.65      0.61        84\n",
      "           3       0.93      0.65      0.76       158\n",
      "           4       0.68      0.38      0.49        99\n",
      "           5       0.76      0.87      0.81       100\n",
      "           6       0.63      0.82      0.71       185\n",
      "           7       0.57      0.73      0.64        64\n",
      "           8       0.78      0.92      0.84        88\n",
      "\n",
      "    accuracy                           0.71       954\n",
      "   macro avg       0.73      0.70      0.70       954\n",
      "weighted avg       0.74      0.71      0.71       954\n",
      "\n"
     ]
    }
   ],
   "source": [
    "metrics = display_metrics(\n",
    "    best_model,\n",
    "    (train_images, train_labels_one_hot),\n",
    "    (val_images, val_labels_one_hot),\n",
    "    (test_images, test_labels_one_hot),\n",
    "\n",
    ")"
   ]
  },
  {
   "cell_type": "markdown",
   "id": "e85af516-a397-4f99-84d9-9e927191f185",
   "metadata": {
    "id": "e85af516-a397-4f99-84d9-9e927191f185"
   },
   "source": [
    "### VGG16"
   ]
  },
  {
   "cell_type": "code",
   "execution_count": 22,
   "id": "pYYHJx_SFXpH",
   "metadata": {
    "colab": {
     "base_uri": "https://localhost:8080/",
     "height": 1000
    },
    "executionInfo": {
     "elapsed": 3495079,
     "status": "ok",
     "timestamp": 1746960396205,
     "user": {
      "displayName": "Suloni Praveen",
      "userId": "17262207939091849753"
     },
     "user_tz": 420
    },
    "id": "pYYHJx_SFXpH",
    "outputId": "77ffdb83-ccf9-44fe-9987-937fc484e36b"
   },
   "outputs": [
    {
     "name": "stdout",
     "output_type": "stream",
     "text": [
      "Downloading data from https://storage.googleapis.com/tensorflow/keras-applications/vgg16/vgg16_weights_tf_dim_ordering_tf_kernels_notop.h5\n",
      "\u001b[1m58889256/58889256\u001b[0m \u001b[32m━━━━━━━━━━━━━━━━━━━━\u001b[0m\u001b[37m\u001b[0m \u001b[1m2s\u001b[0m 0us/step\n"
     ]
    },
    {
     "data": {
      "text/html": [
       "<pre style=\"white-space:pre;overflow-x:auto;line-height:normal;font-family:Menlo,'DejaVu Sans Mono',consolas,'Courier New',monospace\"><span style=\"font-weight: bold\">Model: \"sequential_11\"</span>\n",
       "</pre>\n"
      ],
      "text/plain": [
       "\u001b[1mModel: \"sequential_11\"\u001b[0m\n"
      ]
     },
     "metadata": {},
     "output_type": "display_data"
    },
    {
     "data": {
      "text/html": [
       "<pre style=\"white-space:pre;overflow-x:auto;line-height:normal;font-family:Menlo,'DejaVu Sans Mono',consolas,'Courier New',monospace\">┏━━━━━━━━━━━━━━━━━━━━━━━━━━━━━━━━━┳━━━━━━━━━━━━━━━━━━━━━━━━┳━━━━━━━━━━━━━━━┓\n",
       "┃<span style=\"font-weight: bold\"> Layer (type)                    </span>┃<span style=\"font-weight: bold\"> Output Shape           </span>┃<span style=\"font-weight: bold\">       Param # </span>┃\n",
       "┡━━━━━━━━━━━━━━━━━━━━━━━━━━━━━━━━━╇━━━━━━━━━━━━━━━━━━━━━━━━╇━━━━━━━━━━━━━━━┩\n",
       "│ vgg16 (<span style=\"color: #0087ff; text-decoration-color: #0087ff\">Functional</span>)              │ (<span style=\"color: #00d7ff; text-decoration-color: #00d7ff\">None</span>, <span style=\"color: #00af00; text-decoration-color: #00af00\">512</span>)            │    <span style=\"color: #00af00; text-decoration-color: #00af00\">14,714,688</span> │\n",
       "├─────────────────────────────────┼────────────────────────┼───────────────┤\n",
       "│ flatten_5 (<span style=\"color: #0087ff; text-decoration-color: #0087ff\">Flatten</span>)             │ (<span style=\"color: #00d7ff; text-decoration-color: #00d7ff\">None</span>, <span style=\"color: #00af00; text-decoration-color: #00af00\">512</span>)            │             <span style=\"color: #00af00; text-decoration-color: #00af00\">0</span> │\n",
       "├─────────────────────────────────┼────────────────────────┼───────────────┤\n",
       "│ dense_10 (<span style=\"color: #0087ff; text-decoration-color: #0087ff\">Dense</span>)                │ (<span style=\"color: #00d7ff; text-decoration-color: #00d7ff\">None</span>, <span style=\"color: #00af00; text-decoration-color: #00af00\">512</span>)            │       <span style=\"color: #00af00; text-decoration-color: #00af00\">262,656</span> │\n",
       "├─────────────────────────────────┼────────────────────────┼───────────────┤\n",
       "│ batch_normalization_5           │ (<span style=\"color: #00d7ff; text-decoration-color: #00d7ff\">None</span>, <span style=\"color: #00af00; text-decoration-color: #00af00\">512</span>)            │         <span style=\"color: #00af00; text-decoration-color: #00af00\">2,048</span> │\n",
       "│ (<span style=\"color: #0087ff; text-decoration-color: #0087ff\">BatchNormalization</span>)            │                        │               │\n",
       "├─────────────────────────────────┼────────────────────────┼───────────────┤\n",
       "│ dropout_5 (<span style=\"color: #0087ff; text-decoration-color: #0087ff\">Dropout</span>)             │ (<span style=\"color: #00d7ff; text-decoration-color: #00d7ff\">None</span>, <span style=\"color: #00af00; text-decoration-color: #00af00\">512</span>)            │             <span style=\"color: #00af00; text-decoration-color: #00af00\">0</span> │\n",
       "├─────────────────────────────────┼────────────────────────┼───────────────┤\n",
       "│ dense_11 (<span style=\"color: #0087ff; text-decoration-color: #0087ff\">Dense</span>)                │ (<span style=\"color: #00d7ff; text-decoration-color: #00d7ff\">None</span>, <span style=\"color: #00af00; text-decoration-color: #00af00\">9</span>)              │         <span style=\"color: #00af00; text-decoration-color: #00af00\">4,617</span> │\n",
       "└─────────────────────────────────┴────────────────────────┴───────────────┘\n",
       "</pre>\n"
      ],
      "text/plain": [
       "┏━━━━━━━━━━━━━━━━━━━━━━━━━━━━━━━━━┳━━━━━━━━━━━━━━━━━━━━━━━━┳━━━━━━━━━━━━━━━┓\n",
       "┃\u001b[1m \u001b[0m\u001b[1mLayer (type)                   \u001b[0m\u001b[1m \u001b[0m┃\u001b[1m \u001b[0m\u001b[1mOutput Shape          \u001b[0m\u001b[1m \u001b[0m┃\u001b[1m \u001b[0m\u001b[1m      Param #\u001b[0m\u001b[1m \u001b[0m┃\n",
       "┡━━━━━━━━━━━━━━━━━━━━━━━━━━━━━━━━━╇━━━━━━━━━━━━━━━━━━━━━━━━╇━━━━━━━━━━━━━━━┩\n",
       "│ vgg16 (\u001b[38;5;33mFunctional\u001b[0m)              │ (\u001b[38;5;45mNone\u001b[0m, \u001b[38;5;34m512\u001b[0m)            │    \u001b[38;5;34m14,714,688\u001b[0m │\n",
       "├─────────────────────────────────┼────────────────────────┼───────────────┤\n",
       "│ flatten_5 (\u001b[38;5;33mFlatten\u001b[0m)             │ (\u001b[38;5;45mNone\u001b[0m, \u001b[38;5;34m512\u001b[0m)            │             \u001b[38;5;34m0\u001b[0m │\n",
       "├─────────────────────────────────┼────────────────────────┼───────────────┤\n",
       "│ dense_10 (\u001b[38;5;33mDense\u001b[0m)                │ (\u001b[38;5;45mNone\u001b[0m, \u001b[38;5;34m512\u001b[0m)            │       \u001b[38;5;34m262,656\u001b[0m │\n",
       "├─────────────────────────────────┼────────────────────────┼───────────────┤\n",
       "│ batch_normalization_5           │ (\u001b[38;5;45mNone\u001b[0m, \u001b[38;5;34m512\u001b[0m)            │         \u001b[38;5;34m2,048\u001b[0m │\n",
       "│ (\u001b[38;5;33mBatchNormalization\u001b[0m)            │                        │               │\n",
       "├─────────────────────────────────┼────────────────────────┼───────────────┤\n",
       "│ dropout_5 (\u001b[38;5;33mDropout\u001b[0m)             │ (\u001b[38;5;45mNone\u001b[0m, \u001b[38;5;34m512\u001b[0m)            │             \u001b[38;5;34m0\u001b[0m │\n",
       "├─────────────────────────────────┼────────────────────────┼───────────────┤\n",
       "│ dense_11 (\u001b[38;5;33mDense\u001b[0m)                │ (\u001b[38;5;45mNone\u001b[0m, \u001b[38;5;34m9\u001b[0m)              │         \u001b[38;5;34m4,617\u001b[0m │\n",
       "└─────────────────────────────────┴────────────────────────┴───────────────┘\n"
      ]
     },
     "metadata": {},
     "output_type": "display_data"
    },
    {
     "data": {
      "text/html": [
       "<pre style=\"white-space:pre;overflow-x:auto;line-height:normal;font-family:Menlo,'DejaVu Sans Mono',consolas,'Courier New',monospace\"><span style=\"font-weight: bold\"> Total params: </span><span style=\"color: #00af00; text-decoration-color: #00af00\">14,984,009</span> (57.16 MB)\n",
       "</pre>\n"
      ],
      "text/plain": [
       "\u001b[1m Total params: \u001b[0m\u001b[38;5;34m14,984,009\u001b[0m (57.16 MB)\n"
      ]
     },
     "metadata": {},
     "output_type": "display_data"
    },
    {
     "data": {
      "text/html": [
       "<pre style=\"white-space:pre;overflow-x:auto;line-height:normal;font-family:Menlo,'DejaVu Sans Mono',consolas,'Courier New',monospace\"><span style=\"font-weight: bold\"> Trainable params: </span><span style=\"color: #00af00; text-decoration-color: #00af00\">268,297</span> (1.02 MB)\n",
       "</pre>\n"
      ],
      "text/plain": [
       "\u001b[1m Trainable params: \u001b[0m\u001b[38;5;34m268,297\u001b[0m (1.02 MB)\n"
      ]
     },
     "metadata": {},
     "output_type": "display_data"
    },
    {
     "data": {
      "text/html": [
       "<pre style=\"white-space:pre;overflow-x:auto;line-height:normal;font-family:Menlo,'DejaVu Sans Mono',consolas,'Courier New',monospace\"><span style=\"font-weight: bold\"> Non-trainable params: </span><span style=\"color: #00af00; text-decoration-color: #00af00\">14,715,712</span> (56.14 MB)\n",
       "</pre>\n"
      ],
      "text/plain": [
       "\u001b[1m Non-trainable params: \u001b[0m\u001b[38;5;34m14,715,712\u001b[0m (56.14 MB)\n"
      ]
     },
     "metadata": {},
     "output_type": "display_data"
    },
    {
     "name": "stdout",
     "output_type": "stream",
     "text": [
      "Training with 760 steps per epoch\n",
      "Epoch 1/100\n",
      "\u001b[1m760/760\u001b[0m \u001b[32m━━━━━━━━━━━━━━━━━━━━\u001b[0m\u001b[37m\u001b[0m \u001b[1m0s\u001b[0m 44ms/step - accuracy: 0.2576 - auc: 0.6774 - f1_score: 0.2493 - loss: 11.9458 - precision: 0.3371 - recall: 0.1445\n",
      "Epoch 1: val_loss improved from inf to 9.15723, saving model to VGG16_best_model.h5\n"
     ]
    },
    {
     "name": "stderr",
     "output_type": "stream",
     "text": [
      "WARNING:absl:You are saving your model as an HDF5 file via `model.save()` or `keras.saving.save_model(model)`. This file format is considered legacy. We recommend using instead the native Keras format, e.g. `model.save('my_model.keras')` or `keras.saving.save_model(model, 'my_model.keras')`. \n"
     ]
    },
    {
     "name": "stdout",
     "output_type": "stream",
     "text": [
      "\b\b\b\b\b\b\b\b\b\b\b\b\b\b\b\b\b\b\b\b\b\b\b\b\b\b\b\b\b\b\b\b\b\b\b\b\b\b\b\b\b\b\b\b\b\b\b\b\b\b\b\b\b\b\b\b\b\b\b\b\b\b\b\b\b\b\b\b\b\b\b\b\b\b\b\b\b\b\b\b\b\b\b\b\b\b\b\b\b\b\b\b\b\b\b\b\b\b\b\b\b\b\b\b\b\b\b\b\b\b\b\b\b\b\b\b\b\b\b\b\b\b\b\b\b\b\b\b\b\b\b\b\b\b\b\b\b\b\b\b\b\b\b\b\b\b\r\n",
      "\u001b[1m760/760\u001b[0m \u001b[32m━━━━━━━━━━━━━━━━━━━━\u001b[0m\u001b[37m\u001b[0m \u001b[1m51s\u001b[0m 55ms/step - accuracy: 0.2577 - auc: 0.6776 - f1_score: 0.2495 - loss: 11.9446 - precision: 0.3373 - recall: 0.1446 - val_accuracy: 0.6276 - val_auc: 0.9201 - val_f1_score: 0.6082 - val_loss: 9.1572 - val_precision: 0.7308 - val_recall: 0.5500\n",
      "Epoch 2/100\n",
      "\u001b[1m759/760\u001b[0m \u001b[32m━━━━━━━━━━━━━━━━━━━\u001b[0m\u001b[37m━\u001b[0m \u001b[1m0s\u001b[0m 38ms/step - accuracy: 0.5034 - auc: 0.8653 - f1_score: 0.4901 - loss: 9.1587 - precision: 0.6180 - recall: 0.3985\n",
      "Epoch 2: val_loss improved from 9.15723 to 7.58285, saving model to VGG16_best_model.h5\n"
     ]
    },
    {
     "name": "stderr",
     "output_type": "stream",
     "text": [
      "WARNING:absl:You are saving your model as an HDF5 file via `model.save()` or `keras.saving.save_model(model)`. This file format is considered legacy. We recommend using instead the native Keras format, e.g. `model.save('my_model.keras')` or `keras.saving.save_model(model, 'my_model.keras')`. \n"
     ]
    },
    {
     "name": "stdout",
     "output_type": "stream",
     "text": [
      "\b\b\b\b\b\b\b\b\b\b\b\b\b\b\b\b\b\b\b\b\b\b\b\b\b\b\b\b\b\b\b\b\b\b\b\b\b\b\b\b\b\b\b\b\b\b\b\b\b\b\b\b\b\b\b\b\b\b\b\b\b\b\b\b\b\b\b\b\b\b\b\b\b\b\b\b\b\b\b\b\b\b\b\b\b\b\b\b\b\b\b\b\b\b\b\b\b\b\b\b\b\b\b\b\b\b\b\b\b\b\b\b\b\b\b\b\b\b\b\b\b\b\b\b\b\b\b\b\b\b\b\b\b\b\b\b\b\b\b\b\b\b\b\b\b\r\n",
      "\u001b[1m760/760\u001b[0m \u001b[32m━━━━━━━━━━━━━━━━━━━━\u001b[0m\u001b[37m\u001b[0m \u001b[1m35s\u001b[0m 45ms/step - accuracy: 0.5035 - auc: 0.8654 - f1_score: 0.4902 - loss: 9.1577 - precision: 0.6181 - recall: 0.3985 - val_accuracy: 0.7237 - val_auc: 0.9500 - val_f1_score: 0.7141 - val_loss: 7.5829 - val_precision: 0.7783 - val_recall: 0.6513\n",
      "Epoch 3/100\n",
      "\u001b[1m759/760\u001b[0m \u001b[32m━━━━━━━━━━━━━━━━━━━\u001b[0m\u001b[37m━\u001b[0m \u001b[1m0s\u001b[0m 38ms/step - accuracy: 0.5724 - auc: 0.8971 - f1_score: 0.5655 - loss: 7.7183 - precision: 0.7026 - recall: 0.4768\n",
      "Epoch 3: val_loss improved from 7.58285 to 6.45472, saving model to VGG16_best_model.h5\n"
     ]
    },
    {
     "name": "stderr",
     "output_type": "stream",
     "text": [
      "WARNING:absl:You are saving your model as an HDF5 file via `model.save()` or `keras.saving.save_model(model)`. This file format is considered legacy. We recommend using instead the native Keras format, e.g. `model.save('my_model.keras')` or `keras.saving.save_model(model, 'my_model.keras')`. \n"
     ]
    },
    {
     "name": "stdout",
     "output_type": "stream",
     "text": [
      "\b\b\b\b\b\b\b\b\b\b\b\b\b\b\b\b\b\b\b\b\b\b\b\b\b\b\b\b\b\b\b\b\b\b\b\b\b\b\b\b\b\b\b\b\b\b\b\b\b\b\b\b\b\b\b\b\b\b\b\b\b\b\b\b\b\b\b\b\b\b\b\b\b\b\b\b\b\b\b\b\b\b\b\b\b\b\b\b\b\b\b\b\b\b\b\b\b\b\b\b\b\b\b\b\b\b\b\b\b\b\b\b\b\b\b\b\b\b\b\b\b\b\b\b\b\b\b\b\b\b\b\b\b\b\b\b\b\b\b\b\b\b\b\b\b\r\n",
      "\u001b[1m760/760\u001b[0m \u001b[32m━━━━━━━━━━━━━━━━━━━━\u001b[0m\u001b[37m\u001b[0m \u001b[1m35s\u001b[0m 46ms/step - accuracy: 0.5724 - auc: 0.8971 - f1_score: 0.5655 - loss: 7.7175 - precision: 0.7026 - recall: 0.4769 - val_accuracy: 0.7526 - val_auc: 0.9601 - val_f1_score: 0.7392 - val_loss: 6.4547 - val_precision: 0.8037 - val_recall: 0.6895\n",
      "Epoch 4/100\n",
      "\u001b[1m759/760\u001b[0m \u001b[32m━━━━━━━━━━━━━━━━━━━\u001b[0m\u001b[37m━\u001b[0m \u001b[1m0s\u001b[0m 38ms/step - accuracy: 0.6223 - auc: 0.9228 - f1_score: 0.6070 - loss: 6.5678 - precision: 0.7376 - recall: 0.5261\n",
      "Epoch 4: val_loss improved from 6.45472 to 5.53154, saving model to VGG16_best_model.h5\n"
     ]
    },
    {
     "name": "stderr",
     "output_type": "stream",
     "text": [
      "WARNING:absl:You are saving your model as an HDF5 file via `model.save()` or `keras.saving.save_model(model)`. This file format is considered legacy. We recommend using instead the native Keras format, e.g. `model.save('my_model.keras')` or `keras.saving.save_model(model, 'my_model.keras')`. \n"
     ]
    },
    {
     "name": "stdout",
     "output_type": "stream",
     "text": [
      "\b\b\b\b\b\b\b\b\b\b\b\b\b\b\b\b\b\b\b\b\b\b\b\b\b\b\b\b\b\b\b\b\b\b\b\b\b\b\b\b\b\b\b\b\b\b\b\b\b\b\b\b\b\b\b\b\b\b\b\b\b\b\b\b\b\b\b\b\b\b\b\b\b\b\b\b\b\b\b\b\b\b\b\b\b\b\b\b\b\b\b\b\b\b\b\b\b\b\b\b\b\b\b\b\b\b\b\b\b\b\b\b\b\b\b\b\b\b\b\b\b\b\b\b\b\b\b\b\b\b\b\b\b\b\b\b\b\b\b\b\b\b\b\b\b\r\n",
      "\u001b[1m760/760\u001b[0m \u001b[32m━━━━━━━━━━━━━━━━━━━━\u001b[0m\u001b[37m\u001b[0m \u001b[1m35s\u001b[0m 46ms/step - accuracy: 0.6223 - auc: 0.9228 - f1_score: 0.6071 - loss: 6.5672 - precision: 0.7376 - recall: 0.5261 - val_accuracy: 0.7855 - val_auc: 0.9691 - val_f1_score: 0.7759 - val_loss: 5.5315 - val_precision: 0.8313 - val_recall: 0.7329\n",
      "Epoch 5/100\n",
      "\u001b[1m759/760\u001b[0m \u001b[32m━━━━━━━━━━━━━━━━━━━\u001b[0m\u001b[37m━\u001b[0m \u001b[1m0s\u001b[0m 38ms/step - accuracy: 0.6540 - auc: 0.9358 - f1_score: 0.6530 - loss: 5.6755 - precision: 0.7596 - recall: 0.5676\n",
      "Epoch 5: val_loss improved from 5.53154 to 4.77647, saving model to VGG16_best_model.h5\n"
     ]
    },
    {
     "name": "stderr",
     "output_type": "stream",
     "text": [
      "WARNING:absl:You are saving your model as an HDF5 file via `model.save()` or `keras.saving.save_model(model)`. This file format is considered legacy. We recommend using instead the native Keras format, e.g. `model.save('my_model.keras')` or `keras.saving.save_model(model, 'my_model.keras')`. \n"
     ]
    },
    {
     "name": "stdout",
     "output_type": "stream",
     "text": [
      "\b\b\b\b\b\b\b\b\b\b\b\b\b\b\b\b\b\b\b\b\b\b\b\b\b\b\b\b\b\b\b\b\b\b\b\b\b\b\b\b\b\b\b\b\b\b\b\b\b\b\b\b\b\b\b\b\b\b\b\b\b\b\b\b\b\b\b\b\b\b\b\b\b\b\b\b\b\b\b\b\b\b\b\b\b\b\b\b\b\b\b\b\b\b\b\b\b\b\b\b\b\b\b\b\b\b\b\b\b\b\b\b\b\b\b\b\b\b\b\b\b\b\b\b\b\b\b\b\b\b\b\b\b\b\b\b\b\b\b\b\b\b\b\b\b\r\n",
      "\u001b[1m760/760\u001b[0m \u001b[32m━━━━━━━━━━━━━━━━━━━━\u001b[0m\u001b[37m\u001b[0m \u001b[1m35s\u001b[0m 46ms/step - accuracy: 0.6540 - auc: 0.9358 - f1_score: 0.6530 - loss: 5.6751 - precision: 0.7596 - recall: 0.5676 - val_accuracy: 0.8026 - val_auc: 0.9740 - val_f1_score: 0.7962 - val_loss: 4.7765 - val_precision: 0.8474 - val_recall: 0.7671\n",
      "Epoch 6/100\n",
      "\u001b[1m759/760\u001b[0m \u001b[32m━━━━━━━━━━━━━━━━━━━\u001b[0m\u001b[37m━\u001b[0m \u001b[1m0s\u001b[0m 38ms/step - accuracy: 0.6794 - auc: 0.9439 - f1_score: 0.6729 - loss: 4.9457 - precision: 0.7709 - recall: 0.5949\n",
      "Epoch 6: val_loss improved from 4.77647 to 4.19492, saving model to VGG16_best_model.h5\n"
     ]
    },
    {
     "name": "stderr",
     "output_type": "stream",
     "text": [
      "WARNING:absl:You are saving your model as an HDF5 file via `model.save()` or `keras.saving.save_model(model)`. This file format is considered legacy. We recommend using instead the native Keras format, e.g. `model.save('my_model.keras')` or `keras.saving.save_model(model, 'my_model.keras')`. \n"
     ]
    },
    {
     "name": "stdout",
     "output_type": "stream",
     "text": [
      "\b\b\b\b\b\b\b\b\b\b\b\b\b\b\b\b\b\b\b\b\b\b\b\b\b\b\b\b\b\b\b\b\b\b\b\b\b\b\b\b\b\b\b\b\b\b\b\b\b\b\b\b\b\b\b\b\b\b\b\b\b\b\b\b\b\b\b\b\b\b\b\b\b\b\b\b\b\b\b\b\b\b\b\b\b\b\b\b\b\b\b\b\b\b\b\b\b\b\b\b\b\b\b\b\b\b\b\b\b\b\b\b\b\b\b\b\b\b\b\b\b\b\b\b\b\b\b\b\b\b\b\b\b\b\b\b\b\b\b\b\b\b\b\b\b\r\n",
      "\u001b[1m760/760\u001b[0m \u001b[32m━━━━━━━━━━━━━━━━━━━━\u001b[0m\u001b[37m\u001b[0m \u001b[1m35s\u001b[0m 46ms/step - accuracy: 0.6794 - auc: 0.9439 - f1_score: 0.6729 - loss: 4.9454 - precision: 0.7709 - recall: 0.5949 - val_accuracy: 0.8000 - val_auc: 0.9747 - val_f1_score: 0.7926 - val_loss: 4.1949 - val_precision: 0.8350 - val_recall: 0.7526\n",
      "Epoch 7/100\n",
      "\u001b[1m759/760\u001b[0m \u001b[32m━━━━━━━━━━━━━━━━━━━\u001b[0m\u001b[37m━\u001b[0m \u001b[1m0s\u001b[0m 38ms/step - accuracy: 0.6990 - auc: 0.9480 - f1_score: 0.6975 - loss: 4.3657 - precision: 0.7853 - recall: 0.6055\n",
      "Epoch 7: val_loss improved from 4.19492 to 3.64369, saving model to VGG16_best_model.h5\n"
     ]
    },
    {
     "name": "stderr",
     "output_type": "stream",
     "text": [
      "WARNING:absl:You are saving your model as an HDF5 file via `model.save()` or `keras.saving.save_model(model)`. This file format is considered legacy. We recommend using instead the native Keras format, e.g. `model.save('my_model.keras')` or `keras.saving.save_model(model, 'my_model.keras')`. \n"
     ]
    },
    {
     "name": "stdout",
     "output_type": "stream",
     "text": [
      "\b\b\b\b\b\b\b\b\b\b\b\b\b\b\b\b\b\b\b\b\b\b\b\b\b\b\b\b\b\b\b\b\b\b\b\b\b\b\b\b\b\b\b\b\b\b\b\b\b\b\b\b\b\b\b\b\b\b\b\b\b\b\b\b\b\b\b\b\b\b\b\b\b\b\b\b\b\b\b\b\b\b\b\b\b\b\b\b\b\b\b\b\b\b\b\b\b\b\b\b\b\b\b\b\b\b\b\b\b\b\b\b\b\b\b\b\b\b\b\b\b\b\b\b\b\b\b\b\b\b\b\b\b\b\b\b\b\b\b\b\b\b\b\b\b\r\n",
      "\u001b[1m760/760\u001b[0m \u001b[32m━━━━━━━━━━━━━━━━━━━━\u001b[0m\u001b[37m\u001b[0m \u001b[1m35s\u001b[0m 45ms/step - accuracy: 0.6989 - auc: 0.9480 - f1_score: 0.6975 - loss: 4.3654 - precision: 0.7853 - recall: 0.6055 - val_accuracy: 0.8211 - val_auc: 0.9798 - val_f1_score: 0.8200 - val_loss: 3.6437 - val_precision: 0.8557 - val_recall: 0.7724\n",
      "Epoch 8/100\n",
      "\u001b[1m759/760\u001b[0m \u001b[32m━━━━━━━━━━━━━━━━━━━\u001b[0m\u001b[37m━\u001b[0m \u001b[1m0s\u001b[0m 38ms/step - accuracy: 0.7110 - auc: 0.9521 - f1_score: 0.7061 - loss: 3.8637 - precision: 0.8050 - recall: 0.6168\n",
      "Epoch 8: val_loss improved from 3.64369 to 3.22925, saving model to VGG16_best_model.h5\n"
     ]
    },
    {
     "name": "stderr",
     "output_type": "stream",
     "text": [
      "WARNING:absl:You are saving your model as an HDF5 file via `model.save()` or `keras.saving.save_model(model)`. This file format is considered legacy. We recommend using instead the native Keras format, e.g. `model.save('my_model.keras')` or `keras.saving.save_model(model, 'my_model.keras')`. \n"
     ]
    },
    {
     "name": "stdout",
     "output_type": "stream",
     "text": [
      "\b\b\b\b\b\b\b\b\b\b\b\b\b\b\b\b\b\b\b\b\b\b\b\b\b\b\b\b\b\b\b\b\b\b\b\b\b\b\b\b\b\b\b\b\b\b\b\b\b\b\b\b\b\b\b\b\b\b\b\b\b\b\b\b\b\b\b\b\b\b\b\b\b\b\b\b\b\b\b\b\b\b\b\b\b\b\b\b\b\b\b\b\b\b\b\b\b\b\b\b\b\b\b\b\b\b\b\b\b\b\b\b\b\b\b\b\b\b\b\b\b\b\b\b\b\b\b\b\b\b\b\b\b\b\b\b\b\b\b\b\b\b\b\b\b\r\n",
      "\u001b[1m760/760\u001b[0m \u001b[32m━━━━━━━━━━━━━━━━━━━━\u001b[0m\u001b[37m\u001b[0m \u001b[1m35s\u001b[0m 45ms/step - accuracy: 0.7110 - auc: 0.9521 - f1_score: 0.7061 - loss: 3.8634 - precision: 0.8050 - recall: 0.6168 - val_accuracy: 0.8276 - val_auc: 0.9812 - val_f1_score: 0.8240 - val_loss: 3.2293 - val_precision: 0.8739 - val_recall: 0.7842\n",
      "Epoch 9/100\n",
      "\u001b[1m759/760\u001b[0m \u001b[32m━━━━━━━━━━━━━━━━━━━\u001b[0m\u001b[37m━\u001b[0m \u001b[1m0s\u001b[0m 38ms/step - accuracy: 0.7324 - auc: 0.9572 - f1_score: 0.7350 - loss: 3.4315 - precision: 0.8116 - recall: 0.6308\n",
      "Epoch 9: val_loss improved from 3.22925 to 2.87950, saving model to VGG16_best_model.h5\n"
     ]
    },
    {
     "name": "stderr",
     "output_type": "stream",
     "text": [
      "WARNING:absl:You are saving your model as an HDF5 file via `model.save()` or `keras.saving.save_model(model)`. This file format is considered legacy. We recommend using instead the native Keras format, e.g. `model.save('my_model.keras')` or `keras.saving.save_model(model, 'my_model.keras')`. \n"
     ]
    },
    {
     "name": "stdout",
     "output_type": "stream",
     "text": [
      "\b\b\b\b\b\b\b\b\b\b\b\b\b\b\b\b\b\b\b\b\b\b\b\b\b\b\b\b\b\b\b\b\b\b\b\b\b\b\b\b\b\b\b\b\b\b\b\b\b\b\b\b\b\b\b\b\b\b\b\b\b\b\b\b\b\b\b\b\b\b\b\b\b\b\b\b\b\b\b\b\b\b\b\b\b\b\b\b\b\b\b\b\b\b\b\b\b\b\b\b\b\b\b\b\b\b\b\b\b\b\b\b\b\b\b\b\b\b\b\b\b\b\b\b\b\b\b\b\b\b\b\b\b\b\b\b\b\b\b\b\b\b\b\b\b\r\n",
      "\u001b[1m760/760\u001b[0m \u001b[32m━━━━━━━━━━━━━━━━━━━━\u001b[0m\u001b[37m\u001b[0m \u001b[1m35s\u001b[0m 45ms/step - accuracy: 0.7324 - auc: 0.9572 - f1_score: 0.7349 - loss: 3.4314 - precision: 0.8115 - recall: 0.6308 - val_accuracy: 0.8316 - val_auc: 0.9813 - val_f1_score: 0.8277 - val_loss: 2.8795 - val_precision: 0.8679 - val_recall: 0.7868\n",
      "Epoch 10/100\n",
      "\u001b[1m759/760\u001b[0m \u001b[32m━━━━━━━━━━━━━━━━━━━\u001b[0m\u001b[37m━\u001b[0m \u001b[1m0s\u001b[0m 38ms/step - accuracy: 0.7227 - auc: 0.9577 - f1_score: 0.7212 - loss: 3.1034 - precision: 0.8108 - recall: 0.6264\n",
      "Epoch 10: val_loss improved from 2.87950 to 2.58140, saving model to VGG16_best_model.h5\n"
     ]
    },
    {
     "name": "stderr",
     "output_type": "stream",
     "text": [
      "WARNING:absl:You are saving your model as an HDF5 file via `model.save()` or `keras.saving.save_model(model)`. This file format is considered legacy. We recommend using instead the native Keras format, e.g. `model.save('my_model.keras')` or `keras.saving.save_model(model, 'my_model.keras')`. \n"
     ]
    },
    {
     "name": "stdout",
     "output_type": "stream",
     "text": [
      "\b\b\b\b\b\b\b\b\b\b\b\b\b\b\b\b\b\b\b\b\b\b\b\b\b\b\b\b\b\b\b\b\b\b\b\b\b\b\b\b\b\b\b\b\b\b\b\b\b\b\b\b\b\b\b\b\b\b\b\b\b\b\b\b\b\b\b\b\b\b\b\b\b\b\b\b\b\b\b\b\b\b\b\b\b\b\b\b\b\b\b\b\b\b\b\b\b\b\b\b\b\b\b\b\b\b\b\b\b\b\b\b\b\b\b\b\b\b\b\b\b\b\b\b\b\b\b\b\b\b\b\b\b\b\b\b\b\b\b\b\b\b\b\b\b\r\n",
      "\u001b[1m760/760\u001b[0m \u001b[32m━━━━━━━━━━━━━━━━━━━━\u001b[0m\u001b[37m\u001b[0m \u001b[1m35s\u001b[0m 46ms/step - accuracy: 0.7227 - auc: 0.9577 - f1_score: 0.7211 - loss: 3.1033 - precision: 0.8108 - recall: 0.6264 - val_accuracy: 0.8224 - val_auc: 0.9820 - val_f1_score: 0.8195 - val_loss: 2.5814 - val_precision: 0.8592 - val_recall: 0.7789\n",
      "Epoch 11/100\n",
      "\u001b[1m759/760\u001b[0m \u001b[32m━━━━━━━━━━━━━━━━━━━\u001b[0m\u001b[37m━\u001b[0m \u001b[1m0s\u001b[0m 38ms/step - accuracy: 0.7415 - auc: 0.9624 - f1_score: 0.7426 - loss: 2.7841 - precision: 0.8248 - recall: 0.6527\n",
      "Epoch 11: val_loss improved from 2.58140 to 2.32447, saving model to VGG16_best_model.h5\n"
     ]
    },
    {
     "name": "stderr",
     "output_type": "stream",
     "text": [
      "WARNING:absl:You are saving your model as an HDF5 file via `model.save()` or `keras.saving.save_model(model)`. This file format is considered legacy. We recommend using instead the native Keras format, e.g. `model.save('my_model.keras')` or `keras.saving.save_model(model, 'my_model.keras')`. \n"
     ]
    },
    {
     "name": "stdout",
     "output_type": "stream",
     "text": [
      "\b\b\b\b\b\b\b\b\b\b\b\b\b\b\b\b\b\b\b\b\b\b\b\b\b\b\b\b\b\b\b\b\b\b\b\b\b\b\b\b\b\b\b\b\b\b\b\b\b\b\b\b\b\b\b\b\b\b\b\b\b\b\b\b\b\b\b\b\b\b\b\b\b\b\b\b\b\b\b\b\b\b\b\b\b\b\b\b\b\b\b\b\b\b\b\b\b\b\b\b\b\b\b\b\b\b\b\b\b\b\b\b\b\b\b\b\b\b\b\b\b\b\b\b\b\b\b\b\b\b\b\b\b\b\b\b\b\b\b\b\b\b\b\b\b\r\n",
      "\u001b[1m760/760\u001b[0m \u001b[32m━━━━━━━━━━━━━━━━━━━━\u001b[0m\u001b[37m\u001b[0m \u001b[1m35s\u001b[0m 46ms/step - accuracy: 0.7414 - auc: 0.9624 - f1_score: 0.7426 - loss: 2.7841 - precision: 0.8248 - recall: 0.6526 - val_accuracy: 0.8382 - val_auc: 0.9823 - val_f1_score: 0.8336 - val_loss: 2.3245 - val_precision: 0.8725 - val_recall: 0.7921\n",
      "Epoch 12/100\n",
      "\u001b[1m759/760\u001b[0m \u001b[32m━━━━━━━━━━━━━━━━━━━\u001b[0m\u001b[37m━\u001b[0m \u001b[1m0s\u001b[0m 38ms/step - accuracy: 0.7362 - auc: 0.9599 - f1_score: 0.7370 - loss: 2.5709 - precision: 0.8273 - recall: 0.6430\n",
      "Epoch 12: val_loss improved from 2.32447 to 2.10927, saving model to VGG16_best_model.h5\n"
     ]
    },
    {
     "name": "stderr",
     "output_type": "stream",
     "text": [
      "WARNING:absl:You are saving your model as an HDF5 file via `model.save()` or `keras.saving.save_model(model)`. This file format is considered legacy. We recommend using instead the native Keras format, e.g. `model.save('my_model.keras')` or `keras.saving.save_model(model, 'my_model.keras')`. \n"
     ]
    },
    {
     "name": "stdout",
     "output_type": "stream",
     "text": [
      "\b\b\b\b\b\b\b\b\b\b\b\b\b\b\b\b\b\b\b\b\b\b\b\b\b\b\b\b\b\b\b\b\b\b\b\b\b\b\b\b\b\b\b\b\b\b\b\b\b\b\b\b\b\b\b\b\b\b\b\b\b\b\b\b\b\b\b\b\b\b\b\b\b\b\b\b\b\b\b\b\b\b\b\b\b\b\b\b\b\b\b\b\b\b\b\b\b\b\b\b\b\b\b\b\b\b\b\b\b\b\b\b\b\b\b\b\b\b\b\b\b\b\b\b\b\b\b\b\b\b\b\b\b\b\b\b\b\b\b\b\b\b\b\b\b\r\n",
      "\u001b[1m760/760\u001b[0m \u001b[32m━━━━━━━━━━━━━━━━━━━━\u001b[0m\u001b[37m\u001b[0m \u001b[1m35s\u001b[0m 46ms/step - accuracy: 0.7362 - auc: 0.9599 - f1_score: 0.7370 - loss: 2.5707 - precision: 0.8273 - recall: 0.6430 - val_accuracy: 0.8474 - val_auc: 0.9822 - val_f1_score: 0.8389 - val_loss: 2.1093 - val_precision: 0.8865 - val_recall: 0.8118\n",
      "Epoch 13/100\n",
      "\u001b[1m759/760\u001b[0m \u001b[32m━━━━━━━━━━━━━━━━━━━\u001b[0m\u001b[37m━\u001b[0m \u001b[1m0s\u001b[0m 38ms/step - accuracy: 0.7536 - auc: 0.9614 - f1_score: 0.7495 - loss: 2.3546 - precision: 0.8209 - recall: 0.6719\n",
      "Epoch 13: val_loss improved from 2.10927 to 1.89268, saving model to VGG16_best_model.h5\n"
     ]
    },
    {
     "name": "stderr",
     "output_type": "stream",
     "text": [
      "WARNING:absl:You are saving your model as an HDF5 file via `model.save()` or `keras.saving.save_model(model)`. This file format is considered legacy. We recommend using instead the native Keras format, e.g. `model.save('my_model.keras')` or `keras.saving.save_model(model, 'my_model.keras')`. \n"
     ]
    },
    {
     "name": "stdout",
     "output_type": "stream",
     "text": [
      "\b\b\b\b\b\b\b\b\b\b\b\b\b\b\b\b\b\b\b\b\b\b\b\b\b\b\b\b\b\b\b\b\b\b\b\b\b\b\b\b\b\b\b\b\b\b\b\b\b\b\b\b\b\b\b\b\b\b\b\b\b\b\b\b\b\b\b\b\b\b\b\b\b\b\b\b\b\b\b\b\b\b\b\b\b\b\b\b\b\b\b\b\b\b\b\b\b\b\b\b\b\b\b\b\b\b\b\b\b\b\b\b\b\b\b\b\b\b\b\b\b\b\b\b\b\b\b\b\b\b\b\b\b\b\b\b\b\b\b\b\b\b\b\b\b\r\n",
      "\u001b[1m760/760\u001b[0m \u001b[32m━━━━━━━━━━━━━━━━━━━━\u001b[0m\u001b[37m\u001b[0m \u001b[1m35s\u001b[0m 45ms/step - accuracy: 0.7536 - auc: 0.9614 - f1_score: 0.7496 - loss: 2.3544 - precision: 0.8210 - recall: 0.6719 - val_accuracy: 0.8539 - val_auc: 0.9855 - val_f1_score: 0.8515 - val_loss: 1.8927 - val_precision: 0.8914 - val_recall: 0.8211\n",
      "Epoch 14/100\n",
      "\u001b[1m759/760\u001b[0m \u001b[32m━━━━━━━━━━━━━━━━━━━\u001b[0m\u001b[37m━\u001b[0m \u001b[1m0s\u001b[0m 38ms/step - accuracy: 0.7529 - auc: 0.9628 - f1_score: 0.7514 - loss: 2.1715 - precision: 0.8364 - recall: 0.6649\n",
      "Epoch 14: val_loss improved from 1.89268 to 1.75622, saving model to VGG16_best_model.h5\n"
     ]
    },
    {
     "name": "stderr",
     "output_type": "stream",
     "text": [
      "WARNING:absl:You are saving your model as an HDF5 file via `model.save()` or `keras.saving.save_model(model)`. This file format is considered legacy. We recommend using instead the native Keras format, e.g. `model.save('my_model.keras')` or `keras.saving.save_model(model, 'my_model.keras')`. \n"
     ]
    },
    {
     "name": "stdout",
     "output_type": "stream",
     "text": [
      "\b\b\b\b\b\b\b\b\b\b\b\b\b\b\b\b\b\b\b\b\b\b\b\b\b\b\b\b\b\b\b\b\b\b\b\b\b\b\b\b\b\b\b\b\b\b\b\b\b\b\b\b\b\b\b\b\b\b\b\b\b\b\b\b\b\b\b\b\b\b\b\b\b\b\b\b\b\b\b\b\b\b\b\b\b\b\b\b\b\b\b\b\b\b\b\b\b\b\b\b\b\b\b\b\b\b\b\b\b\b\b\b\b\b\b\b\b\b\b\b\b\b\b\b\b\b\b\b\b\b\b\b\b\b\b\b\b\b\b\b\b\b\b\b\b\r\n",
      "\u001b[1m760/760\u001b[0m \u001b[32m━━━━━━━━━━━━━━━━━━━━\u001b[0m\u001b[37m\u001b[0m \u001b[1m35s\u001b[0m 46ms/step - accuracy: 0.7529 - auc: 0.9628 - f1_score: 0.7514 - loss: 2.1714 - precision: 0.8364 - recall: 0.6649 - val_accuracy: 0.8447 - val_auc: 0.9850 - val_f1_score: 0.8402 - val_loss: 1.7562 - val_precision: 0.8884 - val_recall: 0.8066\n",
      "Epoch 15/100\n",
      "\u001b[1m759/760\u001b[0m \u001b[32m━━━━━━━━━━━━━━━━━━━\u001b[0m\u001b[37m━\u001b[0m \u001b[1m0s\u001b[0m 38ms/step - accuracy: 0.7472 - auc: 0.9624 - f1_score: 0.7513 - loss: 2.0392 - precision: 0.8362 - recall: 0.6552\n",
      "Epoch 15: val_loss improved from 1.75622 to 1.61536, saving model to VGG16_best_model.h5\n"
     ]
    },
    {
     "name": "stderr",
     "output_type": "stream",
     "text": [
      "WARNING:absl:You are saving your model as an HDF5 file via `model.save()` or `keras.saving.save_model(model)`. This file format is considered legacy. We recommend using instead the native Keras format, e.g. `model.save('my_model.keras')` or `keras.saving.save_model(model, 'my_model.keras')`. \n"
     ]
    },
    {
     "name": "stdout",
     "output_type": "stream",
     "text": [
      "\b\b\b\b\b\b\b\b\b\b\b\b\b\b\b\b\b\b\b\b\b\b\b\b\b\b\b\b\b\b\b\b\b\b\b\b\b\b\b\b\b\b\b\b\b\b\b\b\b\b\b\b\b\b\b\b\b\b\b\b\b\b\b\b\b\b\b\b\b\b\b\b\b\b\b\b\b\b\b\b\b\b\b\b\b\b\b\b\b\b\b\b\b\b\b\b\b\b\b\b\b\b\b\b\b\b\b\b\b\b\b\b\b\b\b\b\b\b\b\b\b\b\b\b\b\b\b\b\b\b\b\b\b\b\b\b\b\b\b\b\b\b\b\b\b\r\n",
      "\u001b[1m760/760\u001b[0m \u001b[32m━━━━━━━━━━━━━━━━━━━━\u001b[0m\u001b[37m\u001b[0m \u001b[1m35s\u001b[0m 46ms/step - accuracy: 0.7472 - auc: 0.9624 - f1_score: 0.7513 - loss: 2.0391 - precision: 0.8362 - recall: 0.6552 - val_accuracy: 0.8553 - val_auc: 0.9857 - val_f1_score: 0.8531 - val_loss: 1.6154 - val_precision: 0.8855 - val_recall: 0.8039\n",
      "Epoch 16/100\n",
      "\u001b[1m759/760\u001b[0m \u001b[32m━━━━━━━━━━━━━━━━━━━\u001b[0m\u001b[37m━\u001b[0m \u001b[1m0s\u001b[0m 38ms/step - accuracy: 0.7646 - auc: 0.9695 - f1_score: 0.7678 - loss: 1.8546 - precision: 0.8481 - recall: 0.6684\n",
      "Epoch 16: val_loss improved from 1.61536 to 1.50762, saving model to VGG16_best_model.h5\n"
     ]
    },
    {
     "name": "stderr",
     "output_type": "stream",
     "text": [
      "WARNING:absl:You are saving your model as an HDF5 file via `model.save()` or `keras.saving.save_model(model)`. This file format is considered legacy. We recommend using instead the native Keras format, e.g. `model.save('my_model.keras')` or `keras.saving.save_model(model, 'my_model.keras')`. \n"
     ]
    },
    {
     "name": "stdout",
     "output_type": "stream",
     "text": [
      "\b\b\b\b\b\b\b\b\b\b\b\b\b\b\b\b\b\b\b\b\b\b\b\b\b\b\b\b\b\b\b\b\b\b\b\b\b\b\b\b\b\b\b\b\b\b\b\b\b\b\b\b\b\b\b\b\b\b\b\b\b\b\b\b\b\b\b\b\b\b\b\b\b\b\b\b\b\b\b\b\b\b\b\b\b\b\b\b\b\b\b\b\b\b\b\b\b\b\b\b\b\b\b\b\b\b\b\b\b\b\b\b\b\b\b\b\b\b\b\b\b\b\b\b\b\b\b\b\b\b\b\b\b\b\b\b\b\b\b\b\b\b\b\b\b\r\n",
      "\u001b[1m760/760\u001b[0m \u001b[32m━━━━━━━━━━━━━━━━━━━━\u001b[0m\u001b[37m\u001b[0m \u001b[1m35s\u001b[0m 46ms/step - accuracy: 0.7645 - auc: 0.9695 - f1_score: 0.7678 - loss: 1.8546 - precision: 0.8481 - recall: 0.6684 - val_accuracy: 0.8592 - val_auc: 0.9853 - val_f1_score: 0.8542 - val_loss: 1.5076 - val_precision: 0.8876 - val_recall: 0.8211\n",
      "Epoch 17/100\n",
      "\u001b[1m759/760\u001b[0m \u001b[32m━━━━━━━━━━━━━━━━━━━\u001b[0m\u001b[37m━\u001b[0m \u001b[1m0s\u001b[0m 38ms/step - accuracy: 0.7521 - auc: 0.9685 - f1_score: 0.7533 - loss: 1.7609 - precision: 0.8403 - recall: 0.6690\n",
      "Epoch 17: val_loss improved from 1.50762 to 1.41281, saving model to VGG16_best_model.h5\n"
     ]
    },
    {
     "name": "stderr",
     "output_type": "stream",
     "text": [
      "WARNING:absl:You are saving your model as an HDF5 file via `model.save()` or `keras.saving.save_model(model)`. This file format is considered legacy. We recommend using instead the native Keras format, e.g. `model.save('my_model.keras')` or `keras.saving.save_model(model, 'my_model.keras')`. \n"
     ]
    },
    {
     "name": "stdout",
     "output_type": "stream",
     "text": [
      "\b\b\b\b\b\b\b\b\b\b\b\b\b\b\b\b\b\b\b\b\b\b\b\b\b\b\b\b\b\b\b\b\b\b\b\b\b\b\b\b\b\b\b\b\b\b\b\b\b\b\b\b\b\b\b\b\b\b\b\b\b\b\b\b\b\b\b\b\b\b\b\b\b\b\b\b\b\b\b\b\b\b\b\b\b\b\b\b\b\b\b\b\b\b\b\b\b\b\b\b\b\b\b\b\b\b\b\b\b\b\b\b\b\b\b\b\b\b\b\b\b\b\b\b\b\b\b\b\b\b\b\b\b\b\b\b\b\b\b\b\b\b\b\b\b\r\n",
      "\u001b[1m760/760\u001b[0m \u001b[32m━━━━━━━━━━━━━━━━━━━━\u001b[0m\u001b[37m\u001b[0m \u001b[1m35s\u001b[0m 46ms/step - accuracy: 0.7521 - auc: 0.9685 - f1_score: 0.7533 - loss: 1.7609 - precision: 0.8403 - recall: 0.6690 - val_accuracy: 0.8539 - val_auc: 0.9847 - val_f1_score: 0.8520 - val_loss: 1.4128 - val_precision: 0.8867 - val_recall: 0.8237\n",
      "Epoch 18/100\n",
      "\u001b[1m759/760\u001b[0m \u001b[32m━━━━━━━━━━━━━━━━━━━\u001b[0m\u001b[37m━\u001b[0m \u001b[1m0s\u001b[0m 38ms/step - accuracy: 0.7630 - auc: 0.9680 - f1_score: 0.7674 - loss: 1.6759 - precision: 0.8418 - recall: 0.6727\n",
      "Epoch 18: val_loss improved from 1.41281 to 1.33373, saving model to VGG16_best_model.h5\n"
     ]
    },
    {
     "name": "stderr",
     "output_type": "stream",
     "text": [
      "WARNING:absl:You are saving your model as an HDF5 file via `model.save()` or `keras.saving.save_model(model)`. This file format is considered legacy. We recommend using instead the native Keras format, e.g. `model.save('my_model.keras')` or `keras.saving.save_model(model, 'my_model.keras')`. \n"
     ]
    },
    {
     "name": "stdout",
     "output_type": "stream",
     "text": [
      "\b\b\b\b\b\b\b\b\b\b\b\b\b\b\b\b\b\b\b\b\b\b\b\b\b\b\b\b\b\b\b\b\b\b\b\b\b\b\b\b\b\b\b\b\b\b\b\b\b\b\b\b\b\b\b\b\b\b\b\b\b\b\b\b\b\b\b\b\b\b\b\b\b\b\b\b\b\b\b\b\b\b\b\b\b\b\b\b\b\b\b\b\b\b\b\b\b\b\b\b\b\b\b\b\b\b\b\b\b\b\b\b\b\b\b\b\b\b\b\b\b\b\b\b\b\b\b\b\b\b\b\b\b\b\b\b\b\b\b\b\b\b\b\b\b\r\n",
      "\u001b[1m760/760\u001b[0m \u001b[32m━━━━━━━━━━━━━━━━━━━━\u001b[0m\u001b[37m\u001b[0m \u001b[1m35s\u001b[0m 46ms/step - accuracy: 0.7629 - auc: 0.9680 - f1_score: 0.7674 - loss: 1.6759 - precision: 0.8417 - recall: 0.6727 - val_accuracy: 0.8539 - val_auc: 0.9864 - val_f1_score: 0.8516 - val_loss: 1.3337 - val_precision: 0.8991 - val_recall: 0.8211\n",
      "Epoch 19/100\n",
      "\u001b[1m759/760\u001b[0m \u001b[32m━━━━━━━━━━━━━━━━━━━\u001b[0m\u001b[37m━\u001b[0m \u001b[1m0s\u001b[0m 38ms/step - accuracy: 0.7639 - auc: 0.9673 - f1_score: 0.7607 - loss: 1.6051 - precision: 0.8476 - recall: 0.6752\n",
      "Epoch 19: val_loss improved from 1.33373 to 1.27501, saving model to VGG16_best_model.h5\n"
     ]
    },
    {
     "name": "stderr",
     "output_type": "stream",
     "text": [
      "WARNING:absl:You are saving your model as an HDF5 file via `model.save()` or `keras.saving.save_model(model)`. This file format is considered legacy. We recommend using instead the native Keras format, e.g. `model.save('my_model.keras')` or `keras.saving.save_model(model, 'my_model.keras')`. \n"
     ]
    },
    {
     "name": "stdout",
     "output_type": "stream",
     "text": [
      "\b\b\b\b\b\b\b\b\b\b\b\b\b\b\b\b\b\b\b\b\b\b\b\b\b\b\b\b\b\b\b\b\b\b\b\b\b\b\b\b\b\b\b\b\b\b\b\b\b\b\b\b\b\b\b\b\b\b\b\b\b\b\b\b\b\b\b\b\b\b\b\b\b\b\b\b\b\b\b\b\b\b\b\b\b\b\b\b\b\b\b\b\b\b\b\b\b\b\b\b\b\b\b\b\b\b\b\b\b\b\b\b\b\b\b\b\b\b\b\b\b\b\b\b\b\b\b\b\b\b\b\b\b\b\b\b\b\b\b\b\b\b\b\b\b\r\n",
      "\u001b[1m760/760\u001b[0m \u001b[32m━━━━━━━━━━━━━━━━━━━━\u001b[0m\u001b[37m\u001b[0m \u001b[1m35s\u001b[0m 46ms/step - accuracy: 0.7639 - auc: 0.9673 - f1_score: 0.7607 - loss: 1.6050 - precision: 0.8476 - recall: 0.6752 - val_accuracy: 0.8526 - val_auc: 0.9845 - val_f1_score: 0.8518 - val_loss: 1.2750 - val_precision: 0.9001 - val_recall: 0.8184\n",
      "Epoch 20/100\n",
      "\u001b[1m759/760\u001b[0m \u001b[32m━━━━━━━━━━━━━━━━━━━\u001b[0m\u001b[37m━\u001b[0m \u001b[1m0s\u001b[0m 38ms/step - accuracy: 0.7660 - auc: 0.9687 - f1_score: 0.7712 - loss: 1.5276 - precision: 0.8456 - recall: 0.6797\n",
      "Epoch 20: val_loss improved from 1.27501 to 1.19211, saving model to VGG16_best_model.h5\n"
     ]
    },
    {
     "name": "stderr",
     "output_type": "stream",
     "text": [
      "WARNING:absl:You are saving your model as an HDF5 file via `model.save()` or `keras.saving.save_model(model)`. This file format is considered legacy. We recommend using instead the native Keras format, e.g. `model.save('my_model.keras')` or `keras.saving.save_model(model, 'my_model.keras')`. \n"
     ]
    },
    {
     "name": "stdout",
     "output_type": "stream",
     "text": [
      "\b\b\b\b\b\b\b\b\b\b\b\b\b\b\b\b\b\b\b\b\b\b\b\b\b\b\b\b\b\b\b\b\b\b\b\b\b\b\b\b\b\b\b\b\b\b\b\b\b\b\b\b\b\b\b\b\b\b\b\b\b\b\b\b\b\b\b\b\b\b\b\b\b\b\b\b\b\b\b\b\b\b\b\b\b\b\b\b\b\b\b\b\b\b\b\b\b\b\b\b\b\b\b\b\b\b\b\b\b\b\b\b\b\b\b\b\b\b\b\b\b\b\b\b\b\b\b\b\b\b\b\b\b\b\b\b\b\b\b\b\b\b\b\b\b\r\n",
      "\u001b[1m760/760\u001b[0m \u001b[32m━━━━━━━━━━━━━━━━━━━━\u001b[0m\u001b[37m\u001b[0m \u001b[1m35s\u001b[0m 45ms/step - accuracy: 0.7660 - auc: 0.9687 - f1_score: 0.7712 - loss: 1.5276 - precision: 0.8456 - recall: 0.6796 - val_accuracy: 0.8711 - val_auc: 0.9870 - val_f1_score: 0.8693 - val_loss: 1.1921 - val_precision: 0.9037 - val_recall: 0.8276\n",
      "Epoch 21/100\n",
      "\u001b[1m759/760\u001b[0m \u001b[32m━━━━━━━━━━━━━━━━━━━\u001b[0m\u001b[37m━\u001b[0m \u001b[1m0s\u001b[0m 38ms/step - accuracy: 0.7831 - auc: 0.9730 - f1_score: 0.7848 - loss: 1.4302 - precision: 0.8614 - recall: 0.6907\n",
      "Epoch 21: val_loss improved from 1.19211 to 1.13475, saving model to VGG16_best_model.h5\n"
     ]
    },
    {
     "name": "stderr",
     "output_type": "stream",
     "text": [
      "WARNING:absl:You are saving your model as an HDF5 file via `model.save()` or `keras.saving.save_model(model)`. This file format is considered legacy. We recommend using instead the native Keras format, e.g. `model.save('my_model.keras')` or `keras.saving.save_model(model, 'my_model.keras')`. \n"
     ]
    },
    {
     "name": "stdout",
     "output_type": "stream",
     "text": [
      "\b\b\b\b\b\b\b\b\b\b\b\b\b\b\b\b\b\b\b\b\b\b\b\b\b\b\b\b\b\b\b\b\b\b\b\b\b\b\b\b\b\b\b\b\b\b\b\b\b\b\b\b\b\b\b\b\b\b\b\b\b\b\b\b\b\b\b\b\b\b\b\b\b\b\b\b\b\b\b\b\b\b\b\b\b\b\b\b\b\b\b\b\b\b\b\b\b\b\b\b\b\b\b\b\b\b\b\b\b\b\b\b\b\b\b\b\b\b\b\b\b\b\b\b\b\b\b\b\b\b\b\b\b\b\b\b\b\b\b\b\b\b\b\b\b\r\n",
      "\u001b[1m760/760\u001b[0m \u001b[32m━━━━━━━━━━━━━━━━━━━━\u001b[0m\u001b[37m\u001b[0m \u001b[1m35s\u001b[0m 45ms/step - accuracy: 0.7830 - auc: 0.9729 - f1_score: 0.7848 - loss: 1.4302 - precision: 0.8613 - recall: 0.6906 - val_accuracy: 0.8632 - val_auc: 0.9879 - val_f1_score: 0.8625 - val_loss: 1.1347 - val_precision: 0.8976 - val_recall: 0.8303\n",
      "Epoch 22/100\n",
      "\u001b[1m759/760\u001b[0m \u001b[32m━━━━━━━━━━━━━━━━━━━\u001b[0m\u001b[37m━\u001b[0m \u001b[1m0s\u001b[0m 38ms/step - accuracy: 0.7643 - auc: 0.9713 - f1_score: 0.7678 - loss: 1.4008 - precision: 0.8526 - recall: 0.6783\n",
      "Epoch 22: val_loss improved from 1.13475 to 1.04799, saving model to VGG16_best_model.h5\n"
     ]
    },
    {
     "name": "stderr",
     "output_type": "stream",
     "text": [
      "WARNING:absl:You are saving your model as an HDF5 file via `model.save()` or `keras.saving.save_model(model)`. This file format is considered legacy. We recommend using instead the native Keras format, e.g. `model.save('my_model.keras')` or `keras.saving.save_model(model, 'my_model.keras')`. \n"
     ]
    },
    {
     "name": "stdout",
     "output_type": "stream",
     "text": [
      "\b\b\b\b\b\b\b\b\b\b\b\b\b\b\b\b\b\b\b\b\b\b\b\b\b\b\b\b\b\b\b\b\b\b\b\b\b\b\b\b\b\b\b\b\b\b\b\b\b\b\b\b\b\b\b\b\b\b\b\b\b\b\b\b\b\b\b\b\b\b\b\b\b\b\b\b\b\b\b\b\b\b\b\b\b\b\b\b\b\b\b\b\b\b\b\b\b\b\b\b\b\b\b\b\b\b\b\b\b\b\b\b\b\b\b\b\b\b\b\b\b\b\b\b\b\b\b\b\b\b\b\b\b\b\b\b\b\b\b\b\b\b\b\b\b\r\n",
      "\u001b[1m760/760\u001b[0m \u001b[32m━━━━━━━━━━━━━━━━━━━━\u001b[0m\u001b[37m\u001b[0m \u001b[1m35s\u001b[0m 45ms/step - accuracy: 0.7643 - auc: 0.9713 - f1_score: 0.7679 - loss: 1.4008 - precision: 0.8526 - recall: 0.6783 - val_accuracy: 0.8776 - val_auc: 0.9906 - val_f1_score: 0.8789 - val_loss: 1.0480 - val_precision: 0.9113 - val_recall: 0.8382\n",
      "Epoch 23/100\n",
      "\u001b[1m759/760\u001b[0m \u001b[32m━━━━━━━━━━━━━━━━━━━\u001b[0m\u001b[37m━\u001b[0m \u001b[1m0s\u001b[0m 38ms/step - accuracy: 0.7642 - auc: 0.9678 - f1_score: 0.7634 - loss: 1.3880 - precision: 0.8453 - recall: 0.6628\n",
      "Epoch 23: val_loss improved from 1.04799 to 1.02352, saving model to VGG16_best_model.h5\n"
     ]
    },
    {
     "name": "stderr",
     "output_type": "stream",
     "text": [
      "WARNING:absl:You are saving your model as an HDF5 file via `model.save()` or `keras.saving.save_model(model)`. This file format is considered legacy. We recommend using instead the native Keras format, e.g. `model.save('my_model.keras')` or `keras.saving.save_model(model, 'my_model.keras')`. \n"
     ]
    },
    {
     "name": "stdout",
     "output_type": "stream",
     "text": [
      "\b\b\b\b\b\b\b\b\b\b\b\b\b\b\b\b\b\b\b\b\b\b\b\b\b\b\b\b\b\b\b\b\b\b\b\b\b\b\b\b\b\b\b\b\b\b\b\b\b\b\b\b\b\b\b\b\b\b\b\b\b\b\b\b\b\b\b\b\b\b\b\b\b\b\b\b\b\b\b\b\b\b\b\b\b\b\b\b\b\b\b\b\b\b\b\b\b\b\b\b\b\b\b\b\b\b\b\b\b\b\b\b\b\b\b\b\b\b\b\b\b\b\b\b\b\b\b\b\b\b\b\b\b\b\b\b\b\b\b\b\b\b\b\b\b\r\n",
      "\u001b[1m760/760\u001b[0m \u001b[32m━━━━━━━━━━━━━━━━━━━━\u001b[0m\u001b[37m\u001b[0m \u001b[1m35s\u001b[0m 45ms/step - accuracy: 0.7642 - auc: 0.9678 - f1_score: 0.7634 - loss: 1.3879 - precision: 0.8453 - recall: 0.6628 - val_accuracy: 0.8750 - val_auc: 0.9896 - val_f1_score: 0.8736 - val_loss: 1.0235 - val_precision: 0.9007 - val_recall: 0.8355\n",
      "Epoch 24/100\n",
      "\u001b[1m759/760\u001b[0m \u001b[32m━━━━━━━━━━━━━━━━━━━\u001b[0m\u001b[37m━\u001b[0m \u001b[1m0s\u001b[0m 38ms/step - accuracy: 0.7793 - auc: 0.9748 - f1_score: 0.7814 - loss: 1.2766 - precision: 0.8499 - recall: 0.6945\n",
      "Epoch 24: val_loss improved from 1.02352 to 0.97929, saving model to VGG16_best_model.h5\n"
     ]
    },
    {
     "name": "stderr",
     "output_type": "stream",
     "text": [
      "WARNING:absl:You are saving your model as an HDF5 file via `model.save()` or `keras.saving.save_model(model)`. This file format is considered legacy. We recommend using instead the native Keras format, e.g. `model.save('my_model.keras')` or `keras.saving.save_model(model, 'my_model.keras')`. \n"
     ]
    },
    {
     "name": "stdout",
     "output_type": "stream",
     "text": [
      "\b\b\b\b\b\b\b\b\b\b\b\b\b\b\b\b\b\b\b\b\b\b\b\b\b\b\b\b\b\b\b\b\b\b\b\b\b\b\b\b\b\b\b\b\b\b\b\b\b\b\b\b\b\b\b\b\b\b\b\b\b\b\b\b\b\b\b\b\b\b\b\b\b\b\b\b\b\b\b\b\b\b\b\b\b\b\b\b\b\b\b\b\b\b\b\b\b\b\b\b\b\b\b\b\b\b\b\b\b\b\b\b\b\b\b\b\b\b\b\b\b\b\b\b\b\b\b\b\b\b\b\b\b\b\b\b\b\b\b\b\b\b\b\b\b\r\n",
      "\u001b[1m760/760\u001b[0m \u001b[32m━━━━━━━━━━━━━━━━━━━━\u001b[0m\u001b[37m\u001b[0m \u001b[1m35s\u001b[0m 45ms/step - accuracy: 0.7793 - auc: 0.9747 - f1_score: 0.7814 - loss: 1.2766 - precision: 0.8499 - recall: 0.6945 - val_accuracy: 0.8750 - val_auc: 0.9894 - val_f1_score: 0.8768 - val_loss: 0.9793 - val_precision: 0.9139 - val_recall: 0.8382\n",
      "Epoch 25/100\n",
      "\u001b[1m759/760\u001b[0m \u001b[32m━━━━━━━━━━━━━━━━━━━\u001b[0m\u001b[37m━\u001b[0m \u001b[1m0s\u001b[0m 38ms/step - accuracy: 0.7830 - auc: 0.9730 - f1_score: 0.7828 - loss: 1.2548 - precision: 0.8518 - recall: 0.6995\n",
      "Epoch 25: val_loss improved from 0.97929 to 0.93995, saving model to VGG16_best_model.h5\n"
     ]
    },
    {
     "name": "stderr",
     "output_type": "stream",
     "text": [
      "WARNING:absl:You are saving your model as an HDF5 file via `model.save()` or `keras.saving.save_model(model)`. This file format is considered legacy. We recommend using instead the native Keras format, e.g. `model.save('my_model.keras')` or `keras.saving.save_model(model, 'my_model.keras')`. \n"
     ]
    },
    {
     "name": "stdout",
     "output_type": "stream",
     "text": [
      "\b\b\b\b\b\b\b\b\b\b\b\b\b\b\b\b\b\b\b\b\b\b\b\b\b\b\b\b\b\b\b\b\b\b\b\b\b\b\b\b\b\b\b\b\b\b\b\b\b\b\b\b\b\b\b\b\b\b\b\b\b\b\b\b\b\b\b\b\b\b\b\b\b\b\b\b\b\b\b\b\b\b\b\b\b\b\b\b\b\b\b\b\b\b\b\b\b\b\b\b\b\b\b\b\b\b\b\b\b\b\b\b\b\b\b\b\b\b\b\b\b\b\b\b\b\b\b\b\b\b\b\b\b\b\b\b\b\b\b\b\b\b\b\b\b\r\n",
      "\u001b[1m760/760\u001b[0m \u001b[32m━━━━━━━━━━━━━━━━━━━━\u001b[0m\u001b[37m\u001b[0m \u001b[1m35s\u001b[0m 45ms/step - accuracy: 0.7830 - auc: 0.9730 - f1_score: 0.7828 - loss: 1.2548 - precision: 0.8519 - recall: 0.6995 - val_accuracy: 0.8803 - val_auc: 0.9897 - val_f1_score: 0.8833 - val_loss: 0.9399 - val_precision: 0.9058 - val_recall: 0.8355\n",
      "Epoch 26/100\n",
      "\u001b[1m759/760\u001b[0m \u001b[32m━━━━━━━━━━━━━━━━━━━\u001b[0m\u001b[37m━\u001b[0m \u001b[1m0s\u001b[0m 38ms/step - accuracy: 0.7588 - auc: 0.9703 - f1_score: 0.7621 - loss: 1.2592 - precision: 0.8413 - recall: 0.6698\n",
      "Epoch 26: val_loss improved from 0.93995 to 0.93984, saving model to VGG16_best_model.h5\n"
     ]
    },
    {
     "name": "stderr",
     "output_type": "stream",
     "text": [
      "WARNING:absl:You are saving your model as an HDF5 file via `model.save()` or `keras.saving.save_model(model)`. This file format is considered legacy. We recommend using instead the native Keras format, e.g. `model.save('my_model.keras')` or `keras.saving.save_model(model, 'my_model.keras')`. \n"
     ]
    },
    {
     "name": "stdout",
     "output_type": "stream",
     "text": [
      "\b\b\b\b\b\b\b\b\b\b\b\b\b\b\b\b\b\b\b\b\b\b\b\b\b\b\b\b\b\b\b\b\b\b\b\b\b\b\b\b\b\b\b\b\b\b\b\b\b\b\b\b\b\b\b\b\b\b\b\b\b\b\b\b\b\b\b\b\b\b\b\b\b\b\b\b\b\b\b\b\b\b\b\b\b\b\b\b\b\b\b\b\b\b\b\b\b\b\b\b\b\b\b\b\b\b\b\b\b\b\b\b\b\b\b\b\b\b\b\b\b\b\b\b\b\b\b\b\b\b\b\b\b\b\b\b\b\b\b\b\b\b\b\b\b\r\n",
      "\u001b[1m760/760\u001b[0m \u001b[32m━━━━━━━━━━━━━━━━━━━━\u001b[0m\u001b[37m\u001b[0m \u001b[1m35s\u001b[0m 45ms/step - accuracy: 0.7588 - auc: 0.9703 - f1_score: 0.7621 - loss: 1.2592 - precision: 0.8413 - recall: 0.6698 - val_accuracy: 0.8671 - val_auc: 0.9890 - val_f1_score: 0.8681 - val_loss: 0.9398 - val_precision: 0.8931 - val_recall: 0.8355\n",
      "Epoch 27/100\n",
      "\u001b[1m759/760\u001b[0m \u001b[32m━━━━━━━━━━━━━━━━━━━\u001b[0m\u001b[37m━\u001b[0m \u001b[1m0s\u001b[0m 38ms/step - accuracy: 0.7813 - auc: 0.9733 - f1_score: 0.7825 - loss: 1.2027 - precision: 0.8567 - recall: 0.6918\n",
      "Epoch 27: val_loss improved from 0.93984 to 0.93242, saving model to VGG16_best_model.h5\n"
     ]
    },
    {
     "name": "stderr",
     "output_type": "stream",
     "text": [
      "WARNING:absl:You are saving your model as an HDF5 file via `model.save()` or `keras.saving.save_model(model)`. This file format is considered legacy. We recommend using instead the native Keras format, e.g. `model.save('my_model.keras')` or `keras.saving.save_model(model, 'my_model.keras')`. \n"
     ]
    },
    {
     "name": "stdout",
     "output_type": "stream",
     "text": [
      "\b\b\b\b\b\b\b\b\b\b\b\b\b\b\b\b\b\b\b\b\b\b\b\b\b\b\b\b\b\b\b\b\b\b\b\b\b\b\b\b\b\b\b\b\b\b\b\b\b\b\b\b\b\b\b\b\b\b\b\b\b\b\b\b\b\b\b\b\b\b\b\b\b\b\b\b\b\b\b\b\b\b\b\b\b\b\b\b\b\b\b\b\b\b\b\b\b\b\b\b\b\b\b\b\b\b\b\b\b\b\b\b\b\b\b\b\b\b\b\b\b\b\b\b\b\b\b\b\b\b\b\b\b\b\b\b\b\b\b\b\b\b\b\b\b\r\n",
      "\u001b[1m760/760\u001b[0m \u001b[32m━━━━━━━━━━━━━━━━━━━━\u001b[0m\u001b[37m\u001b[0m \u001b[1m34s\u001b[0m 45ms/step - accuracy: 0.7813 - auc: 0.9733 - f1_score: 0.7825 - loss: 1.2027 - precision: 0.8567 - recall: 0.6918 - val_accuracy: 0.8645 - val_auc: 0.9884 - val_f1_score: 0.8606 - val_loss: 0.9324 - val_precision: 0.9034 - val_recall: 0.8368\n",
      "Epoch 28/100\n",
      "\u001b[1m759/760\u001b[0m \u001b[32m━━━━━━━━━━━━━━━━━━━\u001b[0m\u001b[37m━\u001b[0m \u001b[1m0s\u001b[0m 38ms/step - accuracy: 0.7820 - auc: 0.9730 - f1_score: 0.7804 - loss: 1.1829 - precision: 0.8620 - recall: 0.6892\n",
      "Epoch 28: val_loss improved from 0.93242 to 0.88095, saving model to VGG16_best_model.h5\n"
     ]
    },
    {
     "name": "stderr",
     "output_type": "stream",
     "text": [
      "WARNING:absl:You are saving your model as an HDF5 file via `model.save()` or `keras.saving.save_model(model)`. This file format is considered legacy. We recommend using instead the native Keras format, e.g. `model.save('my_model.keras')` or `keras.saving.save_model(model, 'my_model.keras')`. \n"
     ]
    },
    {
     "name": "stdout",
     "output_type": "stream",
     "text": [
      "\b\b\b\b\b\b\b\b\b\b\b\b\b\b\b\b\b\b\b\b\b\b\b\b\b\b\b\b\b\b\b\b\b\b\b\b\b\b\b\b\b\b\b\b\b\b\b\b\b\b\b\b\b\b\b\b\b\b\b\b\b\b\b\b\b\b\b\b\b\b\b\b\b\b\b\b\b\b\b\b\b\b\b\b\b\b\b\b\b\b\b\b\b\b\b\b\b\b\b\b\b\b\b\b\b\b\b\b\b\b\b\b\b\b\b\b\b\b\b\b\b\b\b\b\b\b\b\b\b\b\b\b\b\b\b\b\b\b\b\b\b\b\b\b\b\r\n",
      "\u001b[1m760/760\u001b[0m \u001b[32m━━━━━━━━━━━━━━━━━━━━\u001b[0m\u001b[37m\u001b[0m \u001b[1m35s\u001b[0m 45ms/step - accuracy: 0.7820 - auc: 0.9730 - f1_score: 0.7804 - loss: 1.1830 - precision: 0.8620 - recall: 0.6892 - val_accuracy: 0.8763 - val_auc: 0.9892 - val_f1_score: 0.8741 - val_loss: 0.8810 - val_precision: 0.9099 - val_recall: 0.8368\n",
      "Epoch 29/100\n",
      "\u001b[1m759/760\u001b[0m \u001b[32m━━━━━━━━━━━━━━━━━━━\u001b[0m\u001b[37m━\u001b[0m \u001b[1m0s\u001b[0m 38ms/step - accuracy: 0.7734 - auc: 0.9701 - f1_score: 0.7747 - loss: 1.1883 - precision: 0.8633 - recall: 0.6851\n",
      "Epoch 29: val_loss did not improve from 0.88095\n",
      "\u001b[1m760/760\u001b[0m \u001b[32m━━━━━━━━━━━━━━━━━━━━\u001b[0m\u001b[37m\u001b[0m \u001b[1m34s\u001b[0m 45ms/step - accuracy: 0.7734 - auc: 0.9701 - f1_score: 0.7747 - loss: 1.1883 - precision: 0.8633 - recall: 0.6851 - val_accuracy: 0.8605 - val_auc: 0.9881 - val_f1_score: 0.8630 - val_loss: 0.8870 - val_precision: 0.8933 - val_recall: 0.8368\n",
      "Epoch 30/100\n",
      "\u001b[1m759/760\u001b[0m \u001b[32m━━━━━━━━━━━━━━━━━━━\u001b[0m\u001b[37m━\u001b[0m \u001b[1m0s\u001b[0m 38ms/step - accuracy: 0.7845 - auc: 0.9736 - f1_score: 0.7884 - loss: 1.1438 - precision: 0.8675 - recall: 0.6924\n",
      "Epoch 30: val_loss improved from 0.88095 to 0.84189, saving model to VGG16_best_model.h5\n"
     ]
    },
    {
     "name": "stderr",
     "output_type": "stream",
     "text": [
      "WARNING:absl:You are saving your model as an HDF5 file via `model.save()` or `keras.saving.save_model(model)`. This file format is considered legacy. We recommend using instead the native Keras format, e.g. `model.save('my_model.keras')` or `keras.saving.save_model(model, 'my_model.keras')`. \n"
     ]
    },
    {
     "name": "stdout",
     "output_type": "stream",
     "text": [
      "\b\b\b\b\b\b\b\b\b\b\b\b\b\b\b\b\b\b\b\b\b\b\b\b\b\b\b\b\b\b\b\b\b\b\b\b\b\b\b\b\b\b\b\b\b\b\b\b\b\b\b\b\b\b\b\b\b\b\b\b\b\b\b\b\b\b\b\b\b\b\b\b\b\b\b\b\b\b\b\b\b\b\b\b\b\b\b\b\b\b\b\b\b\b\b\b\b\b\b\b\b\b\b\b\b\b\b\b\b\b\b\b\b\b\b\b\b\b\b\b\b\b\b\b\b\b\b\b\b\b\b\b\b\b\b\b\b\b\b\b\b\b\b\b\b\r\n",
      "\u001b[1m760/760\u001b[0m \u001b[32m━━━━━━━━━━━━━━━━━━━━\u001b[0m\u001b[37m\u001b[0m \u001b[1m35s\u001b[0m 45ms/step - accuracy: 0.7845 - auc: 0.9736 - f1_score: 0.7884 - loss: 1.1437 - precision: 0.8675 - recall: 0.6925 - val_accuracy: 0.8671 - val_auc: 0.9893 - val_f1_score: 0.8676 - val_loss: 0.8419 - val_precision: 0.8991 - val_recall: 0.8329\n",
      "Epoch 31/100\n",
      "\u001b[1m760/760\u001b[0m \u001b[32m━━━━━━━━━━━━━━━━━━━━\u001b[0m\u001b[37m\u001b[0m \u001b[1m0s\u001b[0m 38ms/step - accuracy: 0.7898 - auc: 0.9757 - f1_score: 0.7910 - loss: 1.0928 - precision: 0.8602 - recall: 0.7036\n",
      "Epoch 31: val_loss improved from 0.84189 to 0.82056, saving model to VGG16_best_model.h5\n"
     ]
    },
    {
     "name": "stderr",
     "output_type": "stream",
     "text": [
      "WARNING:absl:You are saving your model as an HDF5 file via `model.save()` or `keras.saving.save_model(model)`. This file format is considered legacy. We recommend using instead the native Keras format, e.g. `model.save('my_model.keras')` or `keras.saving.save_model(model, 'my_model.keras')`. \n"
     ]
    },
    {
     "name": "stdout",
     "output_type": "stream",
     "text": [
      "\b\b\b\b\b\b\b\b\b\b\b\b\b\b\b\b\b\b\b\b\b\b\b\b\b\b\b\b\b\b\b\b\b\b\b\b\b\b\b\b\b\b\b\b\b\b\b\b\b\b\b\b\b\b\b\b\b\b\b\b\b\b\b\b\b\b\b\b\b\b\b\b\b\b\b\b\b\b\b\b\b\b\b\b\b\b\b\b\b\b\b\b\b\b\b\b\b\b\b\b\b\b\b\b\b\b\b\b\b\b\b\b\b\b\b\b\b\b\b\b\b\b\b\b\b\b\b\b\b\b\b\b\b\b\b\b\b\b\b\b\b\b\b\b\b\r\n",
      "\u001b[1m760/760\u001b[0m \u001b[32m━━━━━━━━━━━━━━━━━━━━\u001b[0m\u001b[37m\u001b[0m \u001b[1m35s\u001b[0m 45ms/step - accuracy: 0.7898 - auc: 0.9757 - f1_score: 0.7910 - loss: 1.0928 - precision: 0.8602 - recall: 0.7036 - val_accuracy: 0.8737 - val_auc: 0.9898 - val_f1_score: 0.8736 - val_loss: 0.8206 - val_precision: 0.9127 - val_recall: 0.8395\n",
      "Epoch 32/100\n",
      "\u001b[1m759/760\u001b[0m \u001b[32m━━━━━━━━━━━━━━━━━━━\u001b[0m\u001b[37m━\u001b[0m \u001b[1m0s\u001b[0m 38ms/step - accuracy: 0.7876 - auc: 0.9754 - f1_score: 0.7902 - loss: 1.0832 - precision: 0.8639 - recall: 0.6968\n",
      "Epoch 32: val_loss improved from 0.82056 to 0.78637, saving model to VGG16_best_model.h5\n"
     ]
    },
    {
     "name": "stderr",
     "output_type": "stream",
     "text": [
      "WARNING:absl:You are saving your model as an HDF5 file via `model.save()` or `keras.saving.save_model(model)`. This file format is considered legacy. We recommend using instead the native Keras format, e.g. `model.save('my_model.keras')` or `keras.saving.save_model(model, 'my_model.keras')`. \n"
     ]
    },
    {
     "name": "stdout",
     "output_type": "stream",
     "text": [
      "\b\b\b\b\b\b\b\b\b\b\b\b\b\b\b\b\b\b\b\b\b\b\b\b\b\b\b\b\b\b\b\b\b\b\b\b\b\b\b\b\b\b\b\b\b\b\b\b\b\b\b\b\b\b\b\b\b\b\b\b\b\b\b\b\b\b\b\b\b\b\b\b\b\b\b\b\b\b\b\b\b\b\b\b\b\b\b\b\b\b\b\b\b\b\b\b\b\b\b\b\b\b\b\b\b\b\b\b\b\b\b\b\b\b\b\b\b\b\b\b\b\b\b\b\b\b\b\b\b\b\b\b\b\b\b\b\b\b\b\b\b\b\b\b\b\r\n",
      "\u001b[1m760/760\u001b[0m \u001b[32m━━━━━━━━━━━━━━━━━━━━\u001b[0m\u001b[37m\u001b[0m \u001b[1m35s\u001b[0m 45ms/step - accuracy: 0.7876 - auc: 0.9754 - f1_score: 0.7902 - loss: 1.0833 - precision: 0.8639 - recall: 0.6967 - val_accuracy: 0.8829 - val_auc: 0.9898 - val_f1_score: 0.8802 - val_loss: 0.7864 - val_precision: 0.9143 - val_recall: 0.8566\n",
      "Epoch 33/100\n",
      "\u001b[1m759/760\u001b[0m \u001b[32m━━━━━━━━━━━━━━━━━━━\u001b[0m\u001b[37m━\u001b[0m \u001b[1m0s\u001b[0m 38ms/step - accuracy: 0.7800 - auc: 0.9719 - f1_score: 0.7857 - loss: 1.1022 - precision: 0.8490 - recall: 0.6802\n",
      "Epoch 33: val_loss improved from 0.78637 to 0.75728, saving model to VGG16_best_model.h5\n"
     ]
    },
    {
     "name": "stderr",
     "output_type": "stream",
     "text": [
      "WARNING:absl:You are saving your model as an HDF5 file via `model.save()` or `keras.saving.save_model(model)`. This file format is considered legacy. We recommend using instead the native Keras format, e.g. `model.save('my_model.keras')` or `keras.saving.save_model(model, 'my_model.keras')`. \n"
     ]
    },
    {
     "name": "stdout",
     "output_type": "stream",
     "text": [
      "\b\b\b\b\b\b\b\b\b\b\b\b\b\b\b\b\b\b\b\b\b\b\b\b\b\b\b\b\b\b\b\b\b\b\b\b\b\b\b\b\b\b\b\b\b\b\b\b\b\b\b\b\b\b\b\b\b\b\b\b\b\b\b\b\b\b\b\b\b\b\b\b\b\b\b\b\b\b\b\b\b\b\b\b\b\b\b\b\b\b\b\b\b\b\b\b\b\b\b\b\b\b\b\b\b\b\b\b\b\b\b\b\b\b\b\b\b\b\b\b\b\b\b\b\b\b\b\b\b\b\b\b\b\b\b\b\b\b\b\b\b\b\b\b\b\r\n",
      "\u001b[1m760/760\u001b[0m \u001b[32m━━━━━━━━━━━━━━━━━━━━\u001b[0m\u001b[37m\u001b[0m \u001b[1m35s\u001b[0m 45ms/step - accuracy: 0.7800 - auc: 0.9719 - f1_score: 0.7857 - loss: 1.1022 - precision: 0.8491 - recall: 0.6802 - val_accuracy: 0.8934 - val_auc: 0.9921 - val_f1_score: 0.8936 - val_loss: 0.7573 - val_precision: 0.9234 - val_recall: 0.8566\n",
      "Epoch 34/100\n",
      "\u001b[1m759/760\u001b[0m \u001b[32m━━━━━━━━━━━━━━━━━━━\u001b[0m\u001b[37m━\u001b[0m \u001b[1m0s\u001b[0m 38ms/step - accuracy: 0.7829 - auc: 0.9737 - f1_score: 0.7815 - loss: 1.0724 - precision: 0.8694 - recall: 0.6936\n",
      "Epoch 34: val_loss did not improve from 0.75728\n",
      "\u001b[1m760/760\u001b[0m \u001b[32m━━━━━━━━━━━━━━━━━━━━\u001b[0m\u001b[37m\u001b[0m \u001b[1m34s\u001b[0m 45ms/step - accuracy: 0.7829 - auc: 0.9737 - f1_score: 0.7815 - loss: 1.0724 - precision: 0.8694 - recall: 0.6935 - val_accuracy: 0.8737 - val_auc: 0.9888 - val_f1_score: 0.8703 - val_loss: 0.7881 - val_precision: 0.9003 - val_recall: 0.8434\n",
      "Epoch 35/100\n",
      "\u001b[1m759/760\u001b[0m \u001b[32m━━━━━━━━━━━━━━━━━━━\u001b[0m\u001b[37m━\u001b[0m \u001b[1m0s\u001b[0m 38ms/step - accuracy: 0.7737 - auc: 0.9728 - f1_score: 0.7752 - loss: 1.0696 - precision: 0.8627 - recall: 0.6958\n",
      "Epoch 35: val_loss did not improve from 0.75728\n",
      "\u001b[1m760/760\u001b[0m \u001b[32m━━━━━━━━━━━━━━━━━━━━\u001b[0m\u001b[37m\u001b[0m \u001b[1m34s\u001b[0m 45ms/step - accuracy: 0.7738 - auc: 0.9728 - f1_score: 0.7752 - loss: 1.0696 - precision: 0.8627 - recall: 0.6958 - val_accuracy: 0.8658 - val_auc: 0.9891 - val_f1_score: 0.8666 - val_loss: 0.7875 - val_precision: 0.9052 - val_recall: 0.8421\n",
      "Epoch 36/100\n",
      "\u001b[1m759/760\u001b[0m \u001b[32m━━━━━━━━━━━━━━━━━━━\u001b[0m\u001b[37m━\u001b[0m \u001b[1m0s\u001b[0m 38ms/step - accuracy: 0.7888 - auc: 0.9748 - f1_score: 0.7954 - loss: 1.0397 - precision: 0.8622 - recall: 0.6916\n",
      "Epoch 36: val_loss did not improve from 0.75728\n",
      "\u001b[1m760/760\u001b[0m \u001b[32m━━━━━━━━━━━━━━━━━━━━\u001b[0m\u001b[37m\u001b[0m \u001b[1m34s\u001b[0m 45ms/step - accuracy: 0.7888 - auc: 0.9748 - f1_score: 0.7954 - loss: 1.0398 - precision: 0.8622 - recall: 0.6916 - val_accuracy: 0.8789 - val_auc: 0.9886 - val_f1_score: 0.8754 - val_loss: 0.7727 - val_precision: 0.9048 - val_recall: 0.8500\n",
      "Epoch 37/100\n",
      "\u001b[1m759/760\u001b[0m \u001b[32m━━━━━━━━━━━━━━━━━━━\u001b[0m\u001b[37m━\u001b[0m \u001b[1m0s\u001b[0m 38ms/step - accuracy: 0.7926 - auc: 0.9767 - f1_score: 0.7963 - loss: 1.0148 - precision: 0.8668 - recall: 0.7053\n",
      "Epoch 37: val_loss did not improve from 0.75728\n",
      "\u001b[1m760/760\u001b[0m \u001b[32m━━━━━━━━━━━━━━━━━━━━\u001b[0m\u001b[37m\u001b[0m \u001b[1m34s\u001b[0m 45ms/step - accuracy: 0.7926 - auc: 0.9767 - f1_score: 0.7962 - loss: 1.0149 - precision: 0.8667 - recall: 0.7053 - val_accuracy: 0.8632 - val_auc: 0.9874 - val_f1_score: 0.8604 - val_loss: 0.7774 - val_precision: 0.9086 - val_recall: 0.8368\n",
      "Epoch 38/100\n",
      "\u001b[1m759/760\u001b[0m \u001b[32m━━━━━━━━━━━━━━━━━━━\u001b[0m\u001b[37m━\u001b[0m \u001b[1m0s\u001b[0m 38ms/step - accuracy: 0.7999 - auc: 0.9771 - f1_score: 0.8019 - loss: 0.9950 - precision: 0.8744 - recall: 0.7110\n",
      "Epoch 38: val_loss did not improve from 0.75728\n",
      "\u001b[1m760/760\u001b[0m \u001b[32m━━━━━━━━━━━━━━━━━━━━\u001b[0m\u001b[37m\u001b[0m \u001b[1m34s\u001b[0m 45ms/step - accuracy: 0.7999 - auc: 0.9771 - f1_score: 0.8019 - loss: 0.9951 - precision: 0.8743 - recall: 0.7110 - val_accuracy: 0.8658 - val_auc: 0.9888 - val_f1_score: 0.8647 - val_loss: 0.7612 - val_precision: 0.9008 - val_recall: 0.8368\n",
      "Epoch 39/100\n",
      "\u001b[1m759/760\u001b[0m \u001b[32m━━━━━━━━━━━━━━━━━━━\u001b[0m\u001b[37m━\u001b[0m \u001b[1m0s\u001b[0m 38ms/step - accuracy: 0.8041 - auc: 0.9786 - f1_score: 0.8045 - loss: 0.9768 - precision: 0.8919 - recall: 0.7169\n",
      "Epoch 39: val_loss improved from 0.75728 to 0.74753, saving model to VGG16_best_model.h5\n"
     ]
    },
    {
     "name": "stderr",
     "output_type": "stream",
     "text": [
      "WARNING:absl:You are saving your model as an HDF5 file via `model.save()` or `keras.saving.save_model(model)`. This file format is considered legacy. We recommend using instead the native Keras format, e.g. `model.save('my_model.keras')` or `keras.saving.save_model(model, 'my_model.keras')`. \n"
     ]
    },
    {
     "name": "stdout",
     "output_type": "stream",
     "text": [
      "\b\b\b\b\b\b\b\b\b\b\b\b\b\b\b\b\b\b\b\b\b\b\b\b\b\b\b\b\b\b\b\b\b\b\b\b\b\b\b\b\b\b\b\b\b\b\b\b\b\b\b\b\b\b\b\b\b\b\b\b\b\b\b\b\b\b\b\b\b\b\b\b\b\b\b\b\b\b\b\b\b\b\b\b\b\b\b\b\b\b\b\b\b\b\b\b\b\b\b\b\b\b\b\b\b\b\b\b\b\b\b\b\b\b\b\b\b\b\b\b\b\b\b\b\b\b\b\b\b\b\b\b\b\b\b\b\b\b\b\b\b\b\b\b\b\r\n",
      "\u001b[1m760/760\u001b[0m \u001b[32m━━━━━━━━━━━━━━━━━━━━\u001b[0m\u001b[37m\u001b[0m \u001b[1m35s\u001b[0m 45ms/step - accuracy: 0.8041 - auc: 0.9786 - f1_score: 0.8045 - loss: 0.9769 - precision: 0.8918 - recall: 0.7169 - val_accuracy: 0.8697 - val_auc: 0.9891 - val_f1_score: 0.8689 - val_loss: 0.7475 - val_precision: 0.9011 - val_recall: 0.8395\n",
      "Epoch 40/100\n",
      "\u001b[1m759/760\u001b[0m \u001b[32m━━━━━━━━━━━━━━━━━━━\u001b[0m\u001b[37m━\u001b[0m \u001b[1m0s\u001b[0m 38ms/step - accuracy: 0.7896 - auc: 0.9735 - f1_score: 0.7945 - loss: 1.0156 - precision: 0.8613 - recall: 0.6976\n",
      "Epoch 40: val_loss improved from 0.74753 to 0.72092, saving model to VGG16_best_model.h5\n"
     ]
    },
    {
     "name": "stderr",
     "output_type": "stream",
     "text": [
      "WARNING:absl:You are saving your model as an HDF5 file via `model.save()` or `keras.saving.save_model(model)`. This file format is considered legacy. We recommend using instead the native Keras format, e.g. `model.save('my_model.keras')` or `keras.saving.save_model(model, 'my_model.keras')`. \n"
     ]
    },
    {
     "name": "stdout",
     "output_type": "stream",
     "text": [
      "\b\b\b\b\b\b\b\b\b\b\b\b\b\b\b\b\b\b\b\b\b\b\b\b\b\b\b\b\b\b\b\b\b\b\b\b\b\b\b\b\b\b\b\b\b\b\b\b\b\b\b\b\b\b\b\b\b\b\b\b\b\b\b\b\b\b\b\b\b\b\b\b\b\b\b\b\b\b\b\b\b\b\b\b\b\b\b\b\b\b\b\b\b\b\b\b\b\b\b\b\b\b\b\b\b\b\b\b\b\b\b\b\b\b\b\b\b\b\b\b\b\b\b\b\b\b\b\b\b\b\b\b\b\b\b\b\b\b\b\b\b\b\b\b\b\r\n",
      "\u001b[1m760/760\u001b[0m \u001b[32m━━━━━━━━━━━━━━━━━━━━\u001b[0m\u001b[37m\u001b[0m \u001b[1m35s\u001b[0m 45ms/step - accuracy: 0.7896 - auc: 0.9735 - f1_score: 0.7945 - loss: 1.0156 - precision: 0.8613 - recall: 0.6976 - val_accuracy: 0.8750 - val_auc: 0.9907 - val_f1_score: 0.8740 - val_loss: 0.7209 - val_precision: 0.9027 - val_recall: 0.8421\n",
      "Epoch 41/100\n",
      "\u001b[1m759/760\u001b[0m \u001b[32m━━━━━━━━━━━━━━━━━━━\u001b[0m\u001b[37m━\u001b[0m \u001b[1m0s\u001b[0m 38ms/step - accuracy: 0.7884 - auc: 0.9756 - f1_score: 0.7896 - loss: 0.9908 - precision: 0.8653 - recall: 0.7076\n",
      "Epoch 41: val_loss did not improve from 0.72092\n",
      "\u001b[1m760/760\u001b[0m \u001b[32m━━━━━━━━━━━━━━━━━━━━\u001b[0m\u001b[37m\u001b[0m \u001b[1m34s\u001b[0m 45ms/step - accuracy: 0.7884 - auc: 0.9756 - f1_score: 0.7896 - loss: 0.9909 - precision: 0.8653 - recall: 0.7075 - val_accuracy: 0.8829 - val_auc: 0.9893 - val_f1_score: 0.8793 - val_loss: 0.7277 - val_precision: 0.9137 - val_recall: 0.8500\n",
      "Epoch 42/100\n",
      "\u001b[1m759/760\u001b[0m \u001b[32m━━━━━━━━━━━━━━━━━━━\u001b[0m\u001b[37m━\u001b[0m \u001b[1m0s\u001b[0m 38ms/step - accuracy: 0.7813 - auc: 0.9716 - f1_score: 0.7863 - loss: 1.0268 - precision: 0.8528 - recall: 0.6882\n",
      "Epoch 42: val_loss improved from 0.72092 to 0.69663, saving model to VGG16_best_model.h5\n"
     ]
    },
    {
     "name": "stderr",
     "output_type": "stream",
     "text": [
      "WARNING:absl:You are saving your model as an HDF5 file via `model.save()` or `keras.saving.save_model(model)`. This file format is considered legacy. We recommend using instead the native Keras format, e.g. `model.save('my_model.keras')` or `keras.saving.save_model(model, 'my_model.keras')`. \n"
     ]
    },
    {
     "name": "stdout",
     "output_type": "stream",
     "text": [
      "\b\b\b\b\b\b\b\b\b\b\b\b\b\b\b\b\b\b\b\b\b\b\b\b\b\b\b\b\b\b\b\b\b\b\b\b\b\b\b\b\b\b\b\b\b\b\b\b\b\b\b\b\b\b\b\b\b\b\b\b\b\b\b\b\b\b\b\b\b\b\b\b\b\b\b\b\b\b\b\b\b\b\b\b\b\b\b\b\b\b\b\b\b\b\b\b\b\b\b\b\b\b\b\b\b\b\b\b\b\b\b\b\b\b\b\b\b\b\b\b\b\b\b\b\b\b\b\b\b\b\b\b\b\b\b\b\b\b\b\b\b\b\b\b\b\r\n",
      "\u001b[1m760/760\u001b[0m \u001b[32m━━━━━━━━━━━━━━━━━━━━\u001b[0m\u001b[37m\u001b[0m \u001b[1m34s\u001b[0m 45ms/step - accuracy: 0.7813 - auc: 0.9716 - f1_score: 0.7863 - loss: 1.0268 - precision: 0.8528 - recall: 0.6882 - val_accuracy: 0.8882 - val_auc: 0.9916 - val_f1_score: 0.8870 - val_loss: 0.6966 - val_precision: 0.9069 - val_recall: 0.8592\n",
      "Epoch 43/100\n",
      "\u001b[1m759/760\u001b[0m \u001b[32m━━━━━━━━━━━━━━━━━━━\u001b[0m\u001b[37m━\u001b[0m \u001b[1m0s\u001b[0m 38ms/step - accuracy: 0.7931 - auc: 0.9754 - f1_score: 0.7981 - loss: 0.9797 - precision: 0.8645 - recall: 0.7026\n",
      "Epoch 43: val_loss did not improve from 0.69663\n",
      "\u001b[1m760/760\u001b[0m \u001b[32m━━━━━━━━━━━━━━━━━━━━\u001b[0m\u001b[37m\u001b[0m \u001b[1m34s\u001b[0m 45ms/step - accuracy: 0.7931 - auc: 0.9754 - f1_score: 0.7980 - loss: 0.9797 - precision: 0.8645 - recall: 0.7026 - val_accuracy: 0.8763 - val_auc: 0.9874 - val_f1_score: 0.8752 - val_loss: 0.7281 - val_precision: 0.9054 - val_recall: 0.8434\n",
      "Epoch 44/100\n",
      "\u001b[1m759/760\u001b[0m \u001b[32m━━━━━━━━━━━━━━━━━━━\u001b[0m\u001b[37m━\u001b[0m \u001b[1m0s\u001b[0m 38ms/step - accuracy: 0.8005 - auc: 0.9788 - f1_score: 0.8017 - loss: 0.9429 - precision: 0.8773 - recall: 0.7127\n",
      "Epoch 44: val_loss did not improve from 0.69663\n",
      "\u001b[1m760/760\u001b[0m \u001b[32m━━━━━━━━━━━━━━━━━━━━\u001b[0m\u001b[37m\u001b[0m \u001b[1m34s\u001b[0m 45ms/step - accuracy: 0.8005 - auc: 0.9788 - f1_score: 0.8017 - loss: 0.9429 - precision: 0.8773 - recall: 0.7127 - val_accuracy: 0.8724 - val_auc: 0.9901 - val_f1_score: 0.8682 - val_loss: 0.7007 - val_precision: 0.8983 - val_recall: 0.8487\n",
      "Epoch 45/100\n",
      "\u001b[1m759/760\u001b[0m \u001b[32m━━━━━━━━━━━━━━━━━━━\u001b[0m\u001b[37m━\u001b[0m \u001b[1m0s\u001b[0m 38ms/step - accuracy: 0.8037 - auc: 0.9788 - f1_score: 0.8061 - loss: 0.9337 - precision: 0.8741 - recall: 0.7179\n",
      "Epoch 45: val_loss improved from 0.69663 to 0.69291, saving model to VGG16_best_model.h5\n"
     ]
    },
    {
     "name": "stderr",
     "output_type": "stream",
     "text": [
      "WARNING:absl:You are saving your model as an HDF5 file via `model.save()` or `keras.saving.save_model(model)`. This file format is considered legacy. We recommend using instead the native Keras format, e.g. `model.save('my_model.keras')` or `keras.saving.save_model(model, 'my_model.keras')`. \n"
     ]
    },
    {
     "name": "stdout",
     "output_type": "stream",
     "text": [
      "\b\b\b\b\b\b\b\b\b\b\b\b\b\b\b\b\b\b\b\b\b\b\b\b\b\b\b\b\b\b\b\b\b\b\b\b\b\b\b\b\b\b\b\b\b\b\b\b\b\b\b\b\b\b\b\b\b\b\b\b\b\b\b\b\b\b\b\b\b\b\b\b\b\b\b\b\b\b\b\b\b\b\b\b\b\b\b\b\b\b\b\b\b\b\b\b\b\b\b\b\b\b\b\b\b\b\b\b\b\b\b\b\b\b\b\b\b\b\b\b\b\b\b\b\b\b\b\b\b\b\b\b\b\b\b\b\b\b\b\b\b\b\b\b\b\r\n",
      "\u001b[1m760/760\u001b[0m \u001b[32m━━━━━━━━━━━━━━━━━━━━\u001b[0m\u001b[37m\u001b[0m \u001b[1m35s\u001b[0m 45ms/step - accuracy: 0.8037 - auc: 0.9788 - f1_score: 0.8060 - loss: 0.9338 - precision: 0.8741 - recall: 0.7179 - val_accuracy: 0.8789 - val_auc: 0.9895 - val_f1_score: 0.8739 - val_loss: 0.6929 - val_precision: 0.9099 - val_recall: 0.8500\n",
      "Epoch 46/100\n",
      "\u001b[1m759/760\u001b[0m \u001b[32m━━━━━━━━━━━━━━━━━━━\u001b[0m\u001b[37m━\u001b[0m \u001b[1m0s\u001b[0m 38ms/step - accuracy: 0.7876 - auc: 0.9763 - f1_score: 0.7925 - loss: 0.9643 - precision: 0.8605 - recall: 0.7073\n",
      "Epoch 46: val_loss improved from 0.69291 to 0.65792, saving model to VGG16_best_model.h5\n"
     ]
    },
    {
     "name": "stderr",
     "output_type": "stream",
     "text": [
      "WARNING:absl:You are saving your model as an HDF5 file via `model.save()` or `keras.saving.save_model(model)`. This file format is considered legacy. We recommend using instead the native Keras format, e.g. `model.save('my_model.keras')` or `keras.saving.save_model(model, 'my_model.keras')`. \n"
     ]
    },
    {
     "name": "stdout",
     "output_type": "stream",
     "text": [
      "\b\b\b\b\b\b\b\b\b\b\b\b\b\b\b\b\b\b\b\b\b\b\b\b\b\b\b\b\b\b\b\b\b\b\b\b\b\b\b\b\b\b\b\b\b\b\b\b\b\b\b\b\b\b\b\b\b\b\b\b\b\b\b\b\b\b\b\b\b\b\b\b\b\b\b\b\b\b\b\b\b\b\b\b\b\b\b\b\b\b\b\b\b\b\b\b\b\b\b\b\b\b\b\b\b\b\b\b\b\b\b\b\b\b\b\b\b\b\b\b\b\b\b\b\b\b\b\b\b\b\b\b\b\b\b\b\b\b\b\b\b\b\b\b\b\r\n",
      "\u001b[1m760/760\u001b[0m \u001b[32m━━━━━━━━━━━━━━━━━━━━\u001b[0m\u001b[37m\u001b[0m \u001b[1m35s\u001b[0m 45ms/step - accuracy: 0.7876 - auc: 0.9763 - f1_score: 0.7925 - loss: 0.9643 - precision: 0.8605 - recall: 0.7072 - val_accuracy: 0.8987 - val_auc: 0.9920 - val_f1_score: 0.8985 - val_loss: 0.6579 - val_precision: 0.9173 - val_recall: 0.8605\n",
      "Epoch 47/100\n",
      "\u001b[1m759/760\u001b[0m \u001b[32m━━━━━━━━━━━━━━━━━━━\u001b[0m\u001b[37m━\u001b[0m \u001b[1m0s\u001b[0m 38ms/step - accuracy: 0.7883 - auc: 0.9737 - f1_score: 0.7898 - loss: 0.9804 - precision: 0.8628 - recall: 0.7019\n",
      "Epoch 47: val_loss did not improve from 0.65792\n",
      "\u001b[1m760/760\u001b[0m \u001b[32m━━━━━━━━━━━━━━━━━━━━\u001b[0m\u001b[37m\u001b[0m \u001b[1m34s\u001b[0m 45ms/step - accuracy: 0.7883 - auc: 0.9737 - f1_score: 0.7898 - loss: 0.9804 - precision: 0.8628 - recall: 0.7019 - val_accuracy: 0.8961 - val_auc: 0.9918 - val_f1_score: 0.8965 - val_loss: 0.6639 - val_precision: 0.9206 - val_recall: 0.8539\n",
      "Epoch 48/100\n",
      "\u001b[1m759/760\u001b[0m \u001b[32m━━━━━━━━━━━━━━━━━━━\u001b[0m\u001b[37m━\u001b[0m \u001b[1m0s\u001b[0m 38ms/step - accuracy: 0.7991 - auc: 0.9770 - f1_score: 0.8016 - loss: 0.9467 - precision: 0.8747 - recall: 0.7184\n",
      "Epoch 48: val_loss did not improve from 0.65792\n",
      "\u001b[1m760/760\u001b[0m \u001b[32m━━━━━━━━━━━━━━━━━━━━\u001b[0m\u001b[37m\u001b[0m \u001b[1m34s\u001b[0m 45ms/step - accuracy: 0.7991 - auc: 0.9770 - f1_score: 0.8016 - loss: 0.9467 - precision: 0.8747 - recall: 0.7184 - val_accuracy: 0.8829 - val_auc: 0.9911 - val_f1_score: 0.8822 - val_loss: 0.6695 - val_precision: 0.9144 - val_recall: 0.8579\n",
      "Epoch 49/100\n",
      "\u001b[1m759/760\u001b[0m \u001b[32m━━━━━━━━━━━━━━━━━━━\u001b[0m\u001b[37m━\u001b[0m \u001b[1m0s\u001b[0m 38ms/step - accuracy: 0.7898 - auc: 0.9765 - f1_score: 0.7906 - loss: 0.9480 - precision: 0.8712 - recall: 0.7008\n",
      "Epoch 49: val_loss did not improve from 0.65792\n",
      "\u001b[1m760/760\u001b[0m \u001b[32m━━━━━━━━━━━━━━━━━━━━\u001b[0m\u001b[37m\u001b[0m \u001b[1m34s\u001b[0m 45ms/step - accuracy: 0.7898 - auc: 0.9765 - f1_score: 0.7906 - loss: 0.9480 - precision: 0.8711 - recall: 0.7008 - val_accuracy: 0.8921 - val_auc: 0.9901 - val_f1_score: 0.8899 - val_loss: 0.6776 - val_precision: 0.9243 - val_recall: 0.8513\n",
      "Epoch 50/100\n",
      "\u001b[1m759/760\u001b[0m \u001b[32m━━━━━━━━━━━━━━━━━━━\u001b[0m\u001b[37m━\u001b[0m \u001b[1m0s\u001b[0m 38ms/step - accuracy: 0.7911 - auc: 0.9765 - f1_score: 0.7903 - loss: 0.9374 - precision: 0.8707 - recall: 0.7155\n",
      "Epoch 50: val_loss did not improve from 0.65792\n",
      "\u001b[1m760/760\u001b[0m \u001b[32m━━━━━━━━━━━━━━━━━━━━\u001b[0m\u001b[37m\u001b[0m \u001b[1m34s\u001b[0m 45ms/step - accuracy: 0.7911 - auc: 0.9765 - f1_score: 0.7903 - loss: 0.9374 - precision: 0.8707 - recall: 0.7155 - val_accuracy: 0.8789 - val_auc: 0.9894 - val_f1_score: 0.8724 - val_loss: 0.6896 - val_precision: 0.9113 - val_recall: 0.8382\n",
      "Epoch 51/100\n",
      "\u001b[1m759/760\u001b[0m \u001b[32m━━━━━━━━━━━━━━━━━━━\u001b[0m\u001b[37m━\u001b[0m \u001b[1m0s\u001b[0m 38ms/step - accuracy: 0.8048 - auc: 0.9785 - f1_score: 0.8054 - loss: 0.9136 - precision: 0.8737 - recall: 0.7232\n",
      "Epoch 51: val_loss did not improve from 0.65792\n",
      "\u001b[1m760/760\u001b[0m \u001b[32m━━━━━━━━━━━━━━━━━━━━\u001b[0m\u001b[37m\u001b[0m \u001b[1m34s\u001b[0m 45ms/step - accuracy: 0.8047 - auc: 0.9785 - f1_score: 0.8054 - loss: 0.9136 - precision: 0.8737 - recall: 0.7232 - val_accuracy: 0.8842 - val_auc: 0.9898 - val_f1_score: 0.8796 - val_loss: 0.6738 - val_precision: 0.9176 - val_recall: 0.8500\n",
      "Epoch 52/100\n",
      "\u001b[1m759/760\u001b[0m \u001b[32m━━━━━━━━━━━━━━━━━━━\u001b[0m\u001b[37m━\u001b[0m \u001b[1m0s\u001b[0m 38ms/step - accuracy: 0.7913 - auc: 0.9753 - f1_score: 0.7965 - loss: 0.9477 - precision: 0.8578 - recall: 0.7021\n",
      "Epoch 52: val_loss did not improve from 0.65792\n",
      "\u001b[1m760/760\u001b[0m \u001b[32m━━━━━━━━━━━━━━━━━━━━\u001b[0m\u001b[37m\u001b[0m \u001b[1m34s\u001b[0m 45ms/step - accuracy: 0.7913 - auc: 0.9752 - f1_score: 0.7965 - loss: 0.9477 - precision: 0.8578 - recall: 0.7021 - val_accuracy: 0.8895 - val_auc: 0.9907 - val_f1_score: 0.8864 - val_loss: 0.6642 - val_precision: 0.9156 - val_recall: 0.8566\n",
      "Epoch 53/100\n",
      "\u001b[1m759/760\u001b[0m \u001b[32m━━━━━━━━━━━━━━━━━━━\u001b[0m\u001b[37m━\u001b[0m \u001b[1m0s\u001b[0m 38ms/step - accuracy: 0.7941 - auc: 0.9773 - f1_score: 0.7950 - loss: 0.9271 - precision: 0.8667 - recall: 0.7028\n",
      "Epoch 53: val_loss improved from 0.65792 to 0.63714, saving model to VGG16_best_model.h5\n"
     ]
    },
    {
     "name": "stderr",
     "output_type": "stream",
     "text": [
      "WARNING:absl:You are saving your model as an HDF5 file via `model.save()` or `keras.saving.save_model(model)`. This file format is considered legacy. We recommend using instead the native Keras format, e.g. `model.save('my_model.keras')` or `keras.saving.save_model(model, 'my_model.keras')`. \n"
     ]
    },
    {
     "name": "stdout",
     "output_type": "stream",
     "text": [
      "\b\b\b\b\b\b\b\b\b\b\b\b\b\b\b\b\b\b\b\b\b\b\b\b\b\b\b\b\b\b\b\b\b\b\b\b\b\b\b\b\b\b\b\b\b\b\b\b\b\b\b\b\b\b\b\b\b\b\b\b\b\b\b\b\b\b\b\b\b\b\b\b\b\b\b\b\b\b\b\b\b\b\b\b\b\b\b\b\b\b\b\b\b\b\b\b\b\b\b\b\b\b\b\b\b\b\b\b\b\b\b\b\b\b\b\b\b\b\b\b\b\b\b\b\b\b\b\b\b\b\b\b\b\b\b\b\b\b\b\b\b\b\b\b\b\r\n",
      "\u001b[1m760/760\u001b[0m \u001b[32m━━━━━━━━━━━━━━━━━━━━\u001b[0m\u001b[37m\u001b[0m \u001b[1m35s\u001b[0m 45ms/step - accuracy: 0.7941 - auc: 0.9773 - f1_score: 0.7950 - loss: 0.9271 - precision: 0.8667 - recall: 0.7028 - val_accuracy: 0.8882 - val_auc: 0.9915 - val_f1_score: 0.8886 - val_loss: 0.6371 - val_precision: 0.9147 - val_recall: 0.8605\n",
      "Epoch 54/100\n",
      "\u001b[1m759/760\u001b[0m \u001b[32m━━━━━━━━━━━━━━━━━━━\u001b[0m\u001b[37m━\u001b[0m \u001b[1m0s\u001b[0m 38ms/step - accuracy: 0.7887 - auc: 0.9754 - f1_score: 0.7881 - loss: 0.9450 - precision: 0.8710 - recall: 0.7109\n",
      "Epoch 54: val_loss did not improve from 0.63714\n",
      "\u001b[1m760/760\u001b[0m \u001b[32m━━━━━━━━━━━━━━━━━━━━\u001b[0m\u001b[37m\u001b[0m \u001b[1m34s\u001b[0m 45ms/step - accuracy: 0.7887 - auc: 0.9754 - f1_score: 0.7881 - loss: 0.9449 - precision: 0.8710 - recall: 0.7109 - val_accuracy: 0.8724 - val_auc: 0.9909 - val_f1_score: 0.8700 - val_loss: 0.6675 - val_precision: 0.9036 - val_recall: 0.8513\n",
      "Epoch 55/100\n",
      "\u001b[1m759/760\u001b[0m \u001b[32m━━━━━━━━━━━━━━━━━━━\u001b[0m\u001b[37m━\u001b[0m \u001b[1m0s\u001b[0m 38ms/step - accuracy: 0.8004 - auc: 0.9778 - f1_score: 0.8055 - loss: 0.9120 - precision: 0.8754 - recall: 0.7179\n",
      "Epoch 55: val_loss did not improve from 0.63714\n",
      "\u001b[1m760/760\u001b[0m \u001b[32m━━━━━━━━━━━━━━━━━━━━\u001b[0m\u001b[37m\u001b[0m \u001b[1m34s\u001b[0m 45ms/step - accuracy: 0.8003 - auc: 0.9778 - f1_score: 0.8055 - loss: 0.9120 - precision: 0.8754 - recall: 0.7179 - val_accuracy: 0.8908 - val_auc: 0.9909 - val_f1_score: 0.8936 - val_loss: 0.6503 - val_precision: 0.9197 - val_recall: 0.8592\n",
      "Epoch 56/100\n",
      "\u001b[1m759/760\u001b[0m \u001b[32m━━━━━━━━━━━━━━━━━━━\u001b[0m\u001b[37m━\u001b[0m \u001b[1m0s\u001b[0m 38ms/step - accuracy: 0.7864 - auc: 0.9750 - f1_score: 0.7871 - loss: 0.9410 - precision: 0.8559 - recall: 0.6988\n",
      "Epoch 56: val_loss did not improve from 0.63714\n",
      "\u001b[1m760/760\u001b[0m \u001b[32m━━━━━━━━━━━━━━━━━━━━\u001b[0m\u001b[37m\u001b[0m \u001b[1m34s\u001b[0m 45ms/step - accuracy: 0.7864 - auc: 0.9750 - f1_score: 0.7871 - loss: 0.9410 - precision: 0.8559 - recall: 0.6988 - val_accuracy: 0.8829 - val_auc: 0.9892 - val_f1_score: 0.8827 - val_loss: 0.6570 - val_precision: 0.9109 - val_recall: 0.8474\n",
      "Epoch 57/100\n",
      "\u001b[1m759/760\u001b[0m \u001b[32m━━━━━━━━━━━━━━━━━━━\u001b[0m\u001b[37m━\u001b[0m \u001b[1m0s\u001b[0m 38ms/step - accuracy: 0.7899 - auc: 0.9752 - f1_score: 0.7892 - loss: 0.9275 - precision: 0.8616 - recall: 0.7233\n",
      "Epoch 57: val_loss did not improve from 0.63714\n",
      "\u001b[1m760/760\u001b[0m \u001b[32m━━━━━━━━━━━━━━━━━━━━\u001b[0m\u001b[37m\u001b[0m \u001b[1m34s\u001b[0m 45ms/step - accuracy: 0.7899 - auc: 0.9752 - f1_score: 0.7892 - loss: 0.9275 - precision: 0.8616 - recall: 0.7233 - val_accuracy: 0.8816 - val_auc: 0.9902 - val_f1_score: 0.8824 - val_loss: 0.6505 - val_precision: 0.9067 - val_recall: 0.8566\n",
      "Epoch 58/100\n",
      "\u001b[1m759/760\u001b[0m \u001b[32m━━━━━━━━━━━━━━━━━━━\u001b[0m\u001b[37m━\u001b[0m \u001b[1m0s\u001b[0m 38ms/step - accuracy: 0.7926 - auc: 0.9733 - f1_score: 0.7919 - loss: 0.9420 - precision: 0.8612 - recall: 0.7094\n",
      "Epoch 58: val_loss did not improve from 0.63714\n",
      "\u001b[1m760/760\u001b[0m \u001b[32m━━━━━━━━━━━━━━━━━━━━\u001b[0m\u001b[37m\u001b[0m \u001b[1m34s\u001b[0m 45ms/step - accuracy: 0.7926 - auc: 0.9733 - f1_score: 0.7919 - loss: 0.9420 - precision: 0.8611 - recall: 0.7094 - val_accuracy: 0.8789 - val_auc: 0.9923 - val_f1_score: 0.8781 - val_loss: 0.6418 - val_precision: 0.9210 - val_recall: 0.8592\n",
      "Epoch 59/100\n",
      "\u001b[1m759/760\u001b[0m \u001b[32m━━━━━━━━━━━━━━━━━━━\u001b[0m\u001b[37m━\u001b[0m \u001b[1m0s\u001b[0m 38ms/step - accuracy: 0.7855 - auc: 0.9758 - f1_score: 0.7851 - loss: 0.9264 - precision: 0.8730 - recall: 0.7100\n",
      "Epoch 59: val_loss did not improve from 0.63714\n",
      "\u001b[1m760/760\u001b[0m \u001b[32m━━━━━━━━━━━━━━━━━━━━\u001b[0m\u001b[37m\u001b[0m \u001b[1m34s\u001b[0m 45ms/step - accuracy: 0.7855 - auc: 0.9758 - f1_score: 0.7851 - loss: 0.9264 - precision: 0.8730 - recall: 0.7100 - val_accuracy: 0.8763 - val_auc: 0.9905 - val_f1_score: 0.8741 - val_loss: 0.6478 - val_precision: 0.8993 - val_recall: 0.8461\n",
      "Epoch 60/100\n",
      "\u001b[1m759/760\u001b[0m \u001b[32m━━━━━━━━━━━━━━━━━━━\u001b[0m\u001b[37m━\u001b[0m \u001b[1m0s\u001b[0m 38ms/step - accuracy: 0.7935 - auc: 0.9748 - f1_score: 0.7949 - loss: 0.9203 - precision: 0.8667 - recall: 0.7154\n",
      "Epoch 60: val_loss did not improve from 0.63714\n",
      "\u001b[1m760/760\u001b[0m \u001b[32m━━━━━━━━━━━━━━━━━━━━\u001b[0m\u001b[37m\u001b[0m \u001b[1m34s\u001b[0m 45ms/step - accuracy: 0.7935 - auc: 0.9748 - f1_score: 0.7949 - loss: 0.9203 - precision: 0.8666 - recall: 0.7153 - val_accuracy: 0.8855 - val_auc: 0.9897 - val_f1_score: 0.8830 - val_loss: 0.6527 - val_precision: 0.9157 - val_recall: 0.8579\n",
      "Epoch 61/100\n",
      "\u001b[1m759/760\u001b[0m \u001b[32m━━━━━━━━━━━━━━━━━━━\u001b[0m\u001b[37m━\u001b[0m \u001b[1m0s\u001b[0m 38ms/step - accuracy: 0.8068 - auc: 0.9785 - f1_score: 0.8116 - loss: 0.8918 - precision: 0.8768 - recall: 0.7099\n",
      "Epoch 61: val_loss improved from 0.63714 to 0.62491, saving model to VGG16_best_model.h5\n"
     ]
    },
    {
     "name": "stderr",
     "output_type": "stream",
     "text": [
      "WARNING:absl:You are saving your model as an HDF5 file via `model.save()` or `keras.saving.save_model(model)`. This file format is considered legacy. We recommend using instead the native Keras format, e.g. `model.save('my_model.keras')` or `keras.saving.save_model(model, 'my_model.keras')`. \n"
     ]
    },
    {
     "name": "stdout",
     "output_type": "stream",
     "text": [
      "\b\b\b\b\b\b\b\b\b\b\b\b\b\b\b\b\b\b\b\b\b\b\b\b\b\b\b\b\b\b\b\b\b\b\b\b\b\b\b\b\b\b\b\b\b\b\b\b\b\b\b\b\b\b\b\b\b\b\b\b\b\b\b\b\b\b\b\b\b\b\b\b\b\b\b\b\b\b\b\b\b\b\b\b\b\b\b\b\b\b\b\b\b\b\b\b\b\b\b\b\b\b\b\b\b\b\b\b\b\b\b\b\b\b\b\b\b\b\b\b\b\b\b\b\b\b\b\b\b\b\b\b\b\b\b\b\b\b\b\b\b\b\b\b\b\r\n",
      "\u001b[1m760/760\u001b[0m \u001b[32m━━━━━━━━━━━━━━━━━━━━\u001b[0m\u001b[37m\u001b[0m \u001b[1m35s\u001b[0m 45ms/step - accuracy: 0.8067 - auc: 0.9785 - f1_score: 0.8116 - loss: 0.8919 - precision: 0.8767 - recall: 0.7099 - val_accuracy: 0.8763 - val_auc: 0.9920 - val_f1_score: 0.8732 - val_loss: 0.6249 - val_precision: 0.9063 - val_recall: 0.8526\n",
      "Epoch 62/100\n",
      "\u001b[1m759/760\u001b[0m \u001b[32m━━━━━━━━━━━━━━━━━━━\u001b[0m\u001b[37m━\u001b[0m \u001b[1m0s\u001b[0m 38ms/step - accuracy: 0.8002 - auc: 0.9761 - f1_score: 0.8009 - loss: 0.9045 - precision: 0.8682 - recall: 0.7234\n",
      "Epoch 62: val_loss improved from 0.62491 to 0.61750, saving model to VGG16_best_model.h5\n"
     ]
    },
    {
     "name": "stderr",
     "output_type": "stream",
     "text": [
      "WARNING:absl:You are saving your model as an HDF5 file via `model.save()` or `keras.saving.save_model(model)`. This file format is considered legacy. We recommend using instead the native Keras format, e.g. `model.save('my_model.keras')` or `keras.saving.save_model(model, 'my_model.keras')`. \n"
     ]
    },
    {
     "name": "stdout",
     "output_type": "stream",
     "text": [
      "\b\b\b\b\b\b\b\b\b\b\b\b\b\b\b\b\b\b\b\b\b\b\b\b\b\b\b\b\b\b\b\b\b\b\b\b\b\b\b\b\b\b\b\b\b\b\b\b\b\b\b\b\b\b\b\b\b\b\b\b\b\b\b\b\b\b\b\b\b\b\b\b\b\b\b\b\b\b\b\b\b\b\b\b\b\b\b\b\b\b\b\b\b\b\b\b\b\b\b\b\b\b\b\b\b\b\b\b\b\b\b\b\b\b\b\b\b\b\b\b\b\b\b\b\b\b\b\b\b\b\b\b\b\b\b\b\b\b\b\b\b\b\b\b\b\r\n",
      "\u001b[1m760/760\u001b[0m \u001b[32m━━━━━━━━━━━━━━━━━━━━\u001b[0m\u001b[37m\u001b[0m \u001b[1m35s\u001b[0m 45ms/step - accuracy: 0.8002 - auc: 0.9761 - f1_score: 0.8009 - loss: 0.9046 - precision: 0.8682 - recall: 0.7233 - val_accuracy: 0.8961 - val_auc: 0.9916 - val_f1_score: 0.8955 - val_loss: 0.6175 - val_precision: 0.9269 - val_recall: 0.8671\n",
      "Epoch 63/100\n",
      "\u001b[1m760/760\u001b[0m \u001b[32m━━━━━━━━━━━━━━━━━━━━\u001b[0m\u001b[37m\u001b[0m \u001b[1m0s\u001b[0m 38ms/step - accuracy: 0.8016 - auc: 0.9790 - f1_score: 0.7990 - loss: 0.8793 - precision: 0.8753 - recall: 0.7280\n",
      "Epoch 63: val_loss did not improve from 0.61750\n",
      "\u001b[1m760/760\u001b[0m \u001b[32m━━━━━━━━━━━━━━━━━━━━\u001b[0m\u001b[37m\u001b[0m \u001b[1m34s\u001b[0m 45ms/step - accuracy: 0.8016 - auc: 0.9790 - f1_score: 0.7990 - loss: 0.8793 - precision: 0.8752 - recall: 0.7280 - val_accuracy: 0.8855 - val_auc: 0.9927 - val_f1_score: 0.8815 - val_loss: 0.6186 - val_precision: 0.9099 - val_recall: 0.8500\n",
      "Epoch 64/100\n",
      "\u001b[1m759/760\u001b[0m \u001b[32m━━━━━━━━━━━━━━━━━━━\u001b[0m\u001b[37m━\u001b[0m \u001b[1m0s\u001b[0m 38ms/step - accuracy: 0.7931 - auc: 0.9774 - f1_score: 0.7961 - loss: 0.8913 - precision: 0.8612 - recall: 0.7056\n",
      "Epoch 64: val_loss improved from 0.61750 to 0.60666, saving model to VGG16_best_model.h5\n"
     ]
    },
    {
     "name": "stderr",
     "output_type": "stream",
     "text": [
      "WARNING:absl:You are saving your model as an HDF5 file via `model.save()` or `keras.saving.save_model(model)`. This file format is considered legacy. We recommend using instead the native Keras format, e.g. `model.save('my_model.keras')` or `keras.saving.save_model(model, 'my_model.keras')`. \n"
     ]
    },
    {
     "name": "stdout",
     "output_type": "stream",
     "text": [
      "\b\b\b\b\b\b\b\b\b\b\b\b\b\b\b\b\b\b\b\b\b\b\b\b\b\b\b\b\b\b\b\b\b\b\b\b\b\b\b\b\b\b\b\b\b\b\b\b\b\b\b\b\b\b\b\b\b\b\b\b\b\b\b\b\b\b\b\b\b\b\b\b\b\b\b\b\b\b\b\b\b\b\b\b\b\b\b\b\b\b\b\b\b\b\b\b\b\b\b\b\b\b\b\b\b\b\b\b\b\b\b\b\b\b\b\b\b\b\b\b\b\b\b\b\b\b\b\b\b\b\b\b\b\b\b\b\b\b\b\b\b\b\b\b\b\r\n",
      "\u001b[1m760/760\u001b[0m \u001b[32m━━━━━━━━━━━━━━━━━━━━\u001b[0m\u001b[37m\u001b[0m \u001b[1m35s\u001b[0m 45ms/step - accuracy: 0.7931 - auc: 0.9774 - f1_score: 0.7961 - loss: 0.8913 - precision: 0.8612 - recall: 0.7057 - val_accuracy: 0.8934 - val_auc: 0.9920 - val_f1_score: 0.8909 - val_loss: 0.6067 - val_precision: 0.9145 - val_recall: 0.8724\n",
      "Epoch 65/100\n",
      "\u001b[1m759/760\u001b[0m \u001b[32m━━━━━━━━━━━━━━━━━━━\u001b[0m\u001b[37m━\u001b[0m \u001b[1m0s\u001b[0m 38ms/step - accuracy: 0.7940 - auc: 0.9769 - f1_score: 0.7982 - loss: 0.8912 - precision: 0.8691 - recall: 0.7212\n",
      "Epoch 65: val_loss did not improve from 0.60666\n",
      "\u001b[1m760/760\u001b[0m \u001b[32m━━━━━━━━━━━━━━━━━━━━\u001b[0m\u001b[37m\u001b[0m \u001b[1m34s\u001b[0m 45ms/step - accuracy: 0.7940 - auc: 0.9769 - f1_score: 0.7981 - loss: 0.8913 - precision: 0.8691 - recall: 0.7212 - val_accuracy: 0.8947 - val_auc: 0.9905 - val_f1_score: 0.8922 - val_loss: 0.6199 - val_precision: 0.9252 - val_recall: 0.8789\n",
      "Epoch 66/100\n",
      "\u001b[1m759/760\u001b[0m \u001b[32m━━━━━━━━━━━━━━━━━━━\u001b[0m\u001b[37m━\u001b[0m \u001b[1m0s\u001b[0m 38ms/step - accuracy: 0.8003 - auc: 0.9774 - f1_score: 0.8015 - loss: 0.8845 - precision: 0.8752 - recall: 0.7159\n",
      "Epoch 66: val_loss did not improve from 0.60666\n",
      "\u001b[1m760/760\u001b[0m \u001b[32m━━━━━━━━━━━━━━━━━━━━\u001b[0m\u001b[37m\u001b[0m \u001b[1m34s\u001b[0m 45ms/step - accuracy: 0.8003 - auc: 0.9774 - f1_score: 0.8015 - loss: 0.8846 - precision: 0.8752 - recall: 0.7158 - val_accuracy: 0.8803 - val_auc: 0.9904 - val_f1_score: 0.8808 - val_loss: 0.6432 - val_precision: 0.9049 - val_recall: 0.8513\n",
      "Epoch 67/100\n",
      "\u001b[1m759/760\u001b[0m \u001b[32m━━━━━━━━━━━━━━━━━━━\u001b[0m\u001b[37m━\u001b[0m \u001b[1m0s\u001b[0m 38ms/step - accuracy: 0.7906 - auc: 0.9783 - f1_score: 0.7932 - loss: 0.8773 - precision: 0.8634 - recall: 0.7180\n",
      "Epoch 67: val_loss did not improve from 0.60666\n",
      "\u001b[1m760/760\u001b[0m \u001b[32m━━━━━━━━━━━━━━━━━━━━\u001b[0m\u001b[37m\u001b[0m \u001b[1m34s\u001b[0m 45ms/step - accuracy: 0.7906 - auc: 0.9783 - f1_score: 0.7932 - loss: 0.8774 - precision: 0.8634 - recall: 0.7179 - val_accuracy: 0.8934 - val_auc: 0.9916 - val_f1_score: 0.8921 - val_loss: 0.6188 - val_precision: 0.9114 - val_recall: 0.8526\n",
      "Epoch 68/100\n",
      "\u001b[1m759/760\u001b[0m \u001b[32m━━━━━━━━━━━━━━━━━━━\u001b[0m\u001b[37m━\u001b[0m \u001b[1m0s\u001b[0m 38ms/step - accuracy: 0.8090 - auc: 0.9774 - f1_score: 0.8122 - loss: 0.8851 - precision: 0.8813 - recall: 0.7197\n",
      "Epoch 68: val_loss did not improve from 0.60666\n",
      "\u001b[1m760/760\u001b[0m \u001b[32m━━━━━━━━━━━━━━━━━━━━\u001b[0m\u001b[37m\u001b[0m \u001b[1m34s\u001b[0m 45ms/step - accuracy: 0.8090 - auc: 0.9774 - f1_score: 0.8122 - loss: 0.8851 - precision: 0.8813 - recall: 0.7197 - val_accuracy: 0.8816 - val_auc: 0.9906 - val_f1_score: 0.8788 - val_loss: 0.6282 - val_precision: 0.9190 - val_recall: 0.8513\n",
      "Epoch 69/100\n",
      "\u001b[1m759/760\u001b[0m \u001b[32m━━━━━━━━━━━━━━━━━━━\u001b[0m\u001b[37m━\u001b[0m \u001b[1m0s\u001b[0m 38ms/step - accuracy: 0.7955 - auc: 0.9770 - f1_score: 0.7957 - loss: 0.8905 - precision: 0.8581 - recall: 0.7113\n",
      "Epoch 69: val_loss improved from 0.60666 to 0.60350, saving model to VGG16_best_model.h5\n"
     ]
    },
    {
     "name": "stderr",
     "output_type": "stream",
     "text": [
      "WARNING:absl:You are saving your model as an HDF5 file via `model.save()` or `keras.saving.save_model(model)`. This file format is considered legacy. We recommend using instead the native Keras format, e.g. `model.save('my_model.keras')` or `keras.saving.save_model(model, 'my_model.keras')`. \n"
     ]
    },
    {
     "name": "stdout",
     "output_type": "stream",
     "text": [
      "\b\b\b\b\b\b\b\b\b\b\b\b\b\b\b\b\b\b\b\b\b\b\b\b\b\b\b\b\b\b\b\b\b\b\b\b\b\b\b\b\b\b\b\b\b\b\b\b\b\b\b\b\b\b\b\b\b\b\b\b\b\b\b\b\b\b\b\b\b\b\b\b\b\b\b\b\b\b\b\b\b\b\b\b\b\b\b\b\b\b\b\b\b\b\b\b\b\b\b\b\b\b\b\b\b\b\b\b\b\b\b\b\b\b\b\b\b\b\b\b\b\b\b\b\b\b\b\b\b\b\b\b\b\b\b\b\b\b\b\b\b\b\b\b\b\r\n",
      "\u001b[1m760/760\u001b[0m \u001b[32m━━━━━━━━━━━━━━━━━━━━\u001b[0m\u001b[37m\u001b[0m \u001b[1m35s\u001b[0m 45ms/step - accuracy: 0.7955 - auc: 0.9770 - f1_score: 0.7956 - loss: 0.8906 - precision: 0.8581 - recall: 0.7113 - val_accuracy: 0.8829 - val_auc: 0.9919 - val_f1_score: 0.8794 - val_loss: 0.6035 - val_precision: 0.9135 - val_recall: 0.8618\n",
      "Epoch 70/100\n",
      "\u001b[1m759/760\u001b[0m \u001b[32m━━━━━━━━━━━━━━━━━━━\u001b[0m\u001b[37m━\u001b[0m \u001b[1m0s\u001b[0m 38ms/step - accuracy: 0.7966 - auc: 0.9771 - f1_score: 0.8017 - loss: 0.8877 - precision: 0.8671 - recall: 0.7063\n",
      "Epoch 70: val_loss improved from 0.60350 to 0.59300, saving model to VGG16_best_model.h5\n"
     ]
    },
    {
     "name": "stderr",
     "output_type": "stream",
     "text": [
      "WARNING:absl:You are saving your model as an HDF5 file via `model.save()` or `keras.saving.save_model(model)`. This file format is considered legacy. We recommend using instead the native Keras format, e.g. `model.save('my_model.keras')` or `keras.saving.save_model(model, 'my_model.keras')`. \n"
     ]
    },
    {
     "name": "stdout",
     "output_type": "stream",
     "text": [
      "\b\b\b\b\b\b\b\b\b\b\b\b\b\b\b\b\b\b\b\b\b\b\b\b\b\b\b\b\b\b\b\b\b\b\b\b\b\b\b\b\b\b\b\b\b\b\b\b\b\b\b\b\b\b\b\b\b\b\b\b\b\b\b\b\b\b\b\b\b\b\b\b\b\b\b\b\b\b\b\b\b\b\b\b\b\b\b\b\b\b\b\b\b\b\b\b\b\b\b\b\b\b\b\b\b\b\b\b\b\b\b\b\b\b\b\b\b\b\b\b\b\b\b\b\b\b\b\b\b\b\b\b\b\b\b\b\b\b\b\b\b\b\b\b\b\r\n",
      "\u001b[1m760/760\u001b[0m \u001b[32m━━━━━━━━━━━━━━━━━━━━\u001b[0m\u001b[37m\u001b[0m \u001b[1m35s\u001b[0m 45ms/step - accuracy: 0.7966 - auc: 0.9771 - f1_score: 0.8017 - loss: 0.8878 - precision: 0.8671 - recall: 0.7062 - val_accuracy: 0.8947 - val_auc: 0.9922 - val_f1_score: 0.8964 - val_loss: 0.5930 - val_precision: 0.9157 - val_recall: 0.8724\n",
      "Epoch 71/100\n",
      "\u001b[1m759/760\u001b[0m \u001b[32m━━━━━━━━━━━━━━━━━━━\u001b[0m\u001b[37m━\u001b[0m \u001b[1m0s\u001b[0m 38ms/step - accuracy: 0.7915 - auc: 0.9754 - f1_score: 0.7930 - loss: 0.9054 - precision: 0.8615 - recall: 0.7032\n",
      "Epoch 71: val_loss did not improve from 0.59300\n",
      "\u001b[1m760/760\u001b[0m \u001b[32m━━━━━━━━━━━━━━━━━━━━\u001b[0m\u001b[37m\u001b[0m \u001b[1m34s\u001b[0m 45ms/step - accuracy: 0.7915 - auc: 0.9754 - f1_score: 0.7930 - loss: 0.9054 - precision: 0.8615 - recall: 0.7032 - val_accuracy: 0.8921 - val_auc: 0.9924 - val_f1_score: 0.8890 - val_loss: 0.6052 - val_precision: 0.9191 - val_recall: 0.8526\n",
      "Epoch 72/100\n",
      "\u001b[1m759/760\u001b[0m \u001b[32m━━━━━━━━━━━━━━━━━━━\u001b[0m\u001b[37m━\u001b[0m \u001b[1m0s\u001b[0m 38ms/step - accuracy: 0.7929 - auc: 0.9767 - f1_score: 0.7887 - loss: 0.8951 - precision: 0.8635 - recall: 0.7097\n",
      "Epoch 72: val_loss did not improve from 0.59300\n",
      "\u001b[1m760/760\u001b[0m \u001b[32m━━━━━━━━━━━━━━━━━━━━\u001b[0m\u001b[37m\u001b[0m \u001b[1m34s\u001b[0m 45ms/step - accuracy: 0.7929 - auc: 0.9767 - f1_score: 0.7887 - loss: 0.8951 - precision: 0.8635 - recall: 0.7097 - val_accuracy: 0.8684 - val_auc: 0.9897 - val_f1_score: 0.8649 - val_loss: 0.6407 - val_precision: 0.9000 - val_recall: 0.8408\n",
      "Epoch 73/100\n",
      "\u001b[1m759/760\u001b[0m \u001b[32m━━━━━━━━━━━━━━━━━━━\u001b[0m\u001b[37m━\u001b[0m \u001b[1m0s\u001b[0m 38ms/step - accuracy: 0.7975 - auc: 0.9754 - f1_score: 0.7980 - loss: 0.9059 - precision: 0.8744 - recall: 0.7146\n",
      "Epoch 73: val_loss did not improve from 0.59300\n",
      "\u001b[1m760/760\u001b[0m \u001b[32m━━━━━━━━━━━━━━━━━━━━\u001b[0m\u001b[37m\u001b[0m \u001b[1m34s\u001b[0m 45ms/step - accuracy: 0.7975 - auc: 0.9754 - f1_score: 0.7980 - loss: 0.9059 - precision: 0.8744 - recall: 0.7146 - val_accuracy: 0.8763 - val_auc: 0.9915 - val_f1_score: 0.8738 - val_loss: 0.6245 - val_precision: 0.9060 - val_recall: 0.8500\n",
      "Epoch 74/100\n",
      "\u001b[1m759/760\u001b[0m \u001b[32m━━━━━━━━━━━━━━━━━━━\u001b[0m\u001b[37m━\u001b[0m \u001b[1m0s\u001b[0m 38ms/step - accuracy: 0.7982 - auc: 0.9768 - f1_score: 0.7981 - loss: 0.8862 - precision: 0.8740 - recall: 0.7169\n",
      "Epoch 74: val_loss improved from 0.59300 to 0.58726, saving model to VGG16_best_model.h5\n"
     ]
    },
    {
     "name": "stderr",
     "output_type": "stream",
     "text": [
      "WARNING:absl:You are saving your model as an HDF5 file via `model.save()` or `keras.saving.save_model(model)`. This file format is considered legacy. We recommend using instead the native Keras format, e.g. `model.save('my_model.keras')` or `keras.saving.save_model(model, 'my_model.keras')`. \n"
     ]
    },
    {
     "name": "stdout",
     "output_type": "stream",
     "text": [
      "\b\b\b\b\b\b\b\b\b\b\b\b\b\b\b\b\b\b\b\b\b\b\b\b\b\b\b\b\b\b\b\b\b\b\b\b\b\b\b\b\b\b\b\b\b\b\b\b\b\b\b\b\b\b\b\b\b\b\b\b\b\b\b\b\b\b\b\b\b\b\b\b\b\b\b\b\b\b\b\b\b\b\b\b\b\b\b\b\b\b\b\b\b\b\b\b\b\b\b\b\b\b\b\b\b\b\b\b\b\b\b\b\b\b\b\b\b\b\b\b\b\b\b\b\b\b\b\b\b\b\b\b\b\b\b\b\b\b\b\b\b\b\b\b\b\r\n",
      "\u001b[1m760/760\u001b[0m \u001b[32m━━━━━━━━━━━━━━━━━━━━\u001b[0m\u001b[37m\u001b[0m \u001b[1m35s\u001b[0m 46ms/step - accuracy: 0.7981 - auc: 0.9768 - f1_score: 0.7980 - loss: 0.8862 - precision: 0.8740 - recall: 0.7168 - val_accuracy: 0.8934 - val_auc: 0.9927 - val_f1_score: 0.8906 - val_loss: 0.5873 - val_precision: 0.9242 - val_recall: 0.8658\n",
      "Epoch 75/100\n",
      "\u001b[1m759/760\u001b[0m \u001b[32m━━━━━━━━━━━━━━━━━━━\u001b[0m\u001b[37m━\u001b[0m \u001b[1m0s\u001b[0m 38ms/step - accuracy: 0.7880 - auc: 0.9781 - f1_score: 0.7856 - loss: 0.8776 - precision: 0.8755 - recall: 0.7140\n",
      "Epoch 75: val_loss did not improve from 0.58726\n",
      "\u001b[1m760/760\u001b[0m \u001b[32m━━━━━━━━━━━━━━━━━━━━\u001b[0m\u001b[37m\u001b[0m \u001b[1m34s\u001b[0m 45ms/step - accuracy: 0.7880 - auc: 0.9781 - f1_score: 0.7856 - loss: 0.8777 - precision: 0.8754 - recall: 0.7140 - val_accuracy: 0.8816 - val_auc: 0.9890 - val_f1_score: 0.8777 - val_loss: 0.6426 - val_precision: 0.9063 - val_recall: 0.8526\n",
      "Epoch 76/100\n",
      "\u001b[1m759/760\u001b[0m \u001b[32m━━━━━━━━━━━━━━━━━━━\u001b[0m\u001b[37m━\u001b[0m \u001b[1m0s\u001b[0m 38ms/step - accuracy: 0.7894 - auc: 0.9751 - f1_score: 0.7892 - loss: 0.8995 - precision: 0.8804 - recall: 0.7072\n",
      "Epoch 76: val_loss did not improve from 0.58726\n",
      "\u001b[1m760/760\u001b[0m \u001b[32m━━━━━━━━━━━━━━━━━━━━\u001b[0m\u001b[37m\u001b[0m \u001b[1m34s\u001b[0m 45ms/step - accuracy: 0.7894 - auc: 0.9751 - f1_score: 0.7892 - loss: 0.8995 - precision: 0.8804 - recall: 0.7072 - val_accuracy: 0.8855 - val_auc: 0.9923 - val_f1_score: 0.8826 - val_loss: 0.6052 - val_precision: 0.9091 - val_recall: 0.8553\n",
      "Epoch 77/100\n",
      "\u001b[1m759/760\u001b[0m \u001b[32m━━━━━━━━━━━━━━━━━━━\u001b[0m\u001b[37m━\u001b[0m \u001b[1m0s\u001b[0m 38ms/step - accuracy: 0.7905 - auc: 0.9741 - f1_score: 0.7906 - loss: 0.9064 - precision: 0.8551 - recall: 0.7032\n",
      "Epoch 77: val_loss did not improve from 0.58726\n",
      "\u001b[1m760/760\u001b[0m \u001b[32m━━━━━━━━━━━━━━━━━━━━\u001b[0m\u001b[37m\u001b[0m \u001b[1m34s\u001b[0m 45ms/step - accuracy: 0.7905 - auc: 0.9741 - f1_score: 0.7906 - loss: 0.9063 - precision: 0.8552 - recall: 0.7033 - val_accuracy: 0.8868 - val_auc: 0.9922 - val_f1_score: 0.8848 - val_loss: 0.5877 - val_precision: 0.9176 - val_recall: 0.8645\n",
      "Epoch 78/100\n",
      "\u001b[1m759/760\u001b[0m \u001b[32m━━━━━━━━━━━━━━━━━━━\u001b[0m\u001b[37m━\u001b[0m \u001b[1m0s\u001b[0m 38ms/step - accuracy: 0.8040 - auc: 0.9771 - f1_score: 0.8046 - loss: 0.8714 - precision: 0.8745 - recall: 0.7236\n",
      "Epoch 78: val_loss did not improve from 0.58726\n",
      "\u001b[1m760/760\u001b[0m \u001b[32m━━━━━━━━━━━━━━━━━━━━\u001b[0m\u001b[37m\u001b[0m \u001b[1m34s\u001b[0m 45ms/step - accuracy: 0.8040 - auc: 0.9771 - f1_score: 0.8046 - loss: 0.8715 - precision: 0.8745 - recall: 0.7236 - val_accuracy: 0.8895 - val_auc: 0.9913 - val_f1_score: 0.8863 - val_loss: 0.5928 - val_precision: 0.9154 - val_recall: 0.8684\n",
      "Epoch 79/100\n",
      "\u001b[1m759/760\u001b[0m \u001b[32m━━━━━━━━━━━━━━━━━━━\u001b[0m\u001b[37m━\u001b[0m \u001b[1m0s\u001b[0m 38ms/step - accuracy: 0.8167 - auc: 0.9800 - f1_score: 0.8160 - loss: 0.8355 - precision: 0.8760 - recall: 0.7370\n",
      "Epoch 79: val_loss did not improve from 0.58726\n",
      "\u001b[1m760/760\u001b[0m \u001b[32m━━━━━━━━━━━━━━━━━━━━\u001b[0m\u001b[37m\u001b[0m \u001b[1m34s\u001b[0m 45ms/step - accuracy: 0.8167 - auc: 0.9800 - f1_score: 0.8160 - loss: 0.8356 - precision: 0.8759 - recall: 0.7369 - val_accuracy: 0.8776 - val_auc: 0.9913 - val_f1_score: 0.8756 - val_loss: 0.6128 - val_precision: 0.9115 - val_recall: 0.8539\n",
      "Epoch 80/100\n",
      "\u001b[1m759/760\u001b[0m \u001b[32m━━━━━━━━━━━━━━━━━━━\u001b[0m\u001b[37m━\u001b[0m \u001b[1m0s\u001b[0m 38ms/step - accuracy: 0.7851 - auc: 0.9745 - f1_score: 0.7888 - loss: 0.9032 - precision: 0.8566 - recall: 0.6991\n",
      "Epoch 80: val_loss did not improve from 0.58726\n",
      "\u001b[1m760/760\u001b[0m \u001b[32m━━━━━━━━━━━━━━━━━━━━\u001b[0m\u001b[37m\u001b[0m \u001b[1m34s\u001b[0m 45ms/step - accuracy: 0.7852 - auc: 0.9745 - f1_score: 0.7888 - loss: 0.9032 - precision: 0.8567 - recall: 0.6990 - val_accuracy: 0.8803 - val_auc: 0.9900 - val_f1_score: 0.8758 - val_loss: 0.6202 - val_precision: 0.9050 - val_recall: 0.8526\n",
      "Epoch 81/100\n",
      "\u001b[1m759/760\u001b[0m \u001b[32m━━━━━━━━━━━━━━━━━━━\u001b[0m\u001b[37m━\u001b[0m \u001b[1m0s\u001b[0m 38ms/step - accuracy: 0.7850 - auc: 0.9750 - f1_score: 0.7856 - loss: 0.8933 - precision: 0.8739 - recall: 0.7031\n",
      "Epoch 81: val_loss did not improve from 0.58726\n",
      "\u001b[1m760/760\u001b[0m \u001b[32m━━━━━━━━━━━━━━━━━━━━\u001b[0m\u001b[37m\u001b[0m \u001b[1m34s\u001b[0m 45ms/step - accuracy: 0.7851 - auc: 0.9750 - f1_score: 0.7857 - loss: 0.8933 - precision: 0.8739 - recall: 0.7032 - val_accuracy: 0.8934 - val_auc: 0.9920 - val_f1_score: 0.8898 - val_loss: 0.5874 - val_precision: 0.9202 - val_recall: 0.8645\n",
      "Epoch 82/100\n",
      "\u001b[1m759/760\u001b[0m \u001b[32m━━━━━━━━━━━━━━━━━━━\u001b[0m\u001b[37m━\u001b[0m \u001b[1m0s\u001b[0m 38ms/step - accuracy: 0.8017 - auc: 0.9785 - f1_score: 0.8034 - loss: 0.8538 - precision: 0.8805 - recall: 0.7155\n",
      "Epoch 82: val_loss improved from 0.58726 to 0.58117, saving model to VGG16_best_model.h5\n"
     ]
    },
    {
     "name": "stderr",
     "output_type": "stream",
     "text": [
      "WARNING:absl:You are saving your model as an HDF5 file via `model.save()` or `keras.saving.save_model(model)`. This file format is considered legacy. We recommend using instead the native Keras format, e.g. `model.save('my_model.keras')` or `keras.saving.save_model(model, 'my_model.keras')`. \n"
     ]
    },
    {
     "name": "stdout",
     "output_type": "stream",
     "text": [
      "\b\b\b\b\b\b\b\b\b\b\b\b\b\b\b\b\b\b\b\b\b\b\b\b\b\b\b\b\b\b\b\b\b\b\b\b\b\b\b\b\b\b\b\b\b\b\b\b\b\b\b\b\b\b\b\b\b\b\b\b\b\b\b\b\b\b\b\b\b\b\b\b\b\b\b\b\b\b\b\b\b\b\b\b\b\b\b\b\b\b\b\b\b\b\b\b\b\b\b\b\b\b\b\b\b\b\b\b\b\b\b\b\b\b\b\b\b\b\b\b\b\b\b\b\b\b\b\b\b\b\b\b\b\b\b\b\b\b\b\b\b\b\b\b\b\r\n",
      "\u001b[1m760/760\u001b[0m \u001b[32m━━━━━━━━━━━━━━━━━━━━\u001b[0m\u001b[37m\u001b[0m \u001b[1m35s\u001b[0m 45ms/step - accuracy: 0.8017 - auc: 0.9785 - f1_score: 0.8034 - loss: 0.8538 - precision: 0.8804 - recall: 0.7155 - val_accuracy: 0.8855 - val_auc: 0.9928 - val_f1_score: 0.8818 - val_loss: 0.5812 - val_precision: 0.9106 - val_recall: 0.8579\n",
      "Epoch 83/100\n",
      "\u001b[1m759/760\u001b[0m \u001b[32m━━━━━━━━━━━━━━━━━━━\u001b[0m\u001b[37m━\u001b[0m \u001b[1m0s\u001b[0m 38ms/step - accuracy: 0.7942 - auc: 0.9772 - f1_score: 0.7961 - loss: 0.8632 - precision: 0.8734 - recall: 0.7121\n",
      "Epoch 83: val_loss did not improve from 0.58117\n",
      "\u001b[1m760/760\u001b[0m \u001b[32m━━━━━━━━━━━━━━━━━━━━\u001b[0m\u001b[37m\u001b[0m \u001b[1m34s\u001b[0m 45ms/step - accuracy: 0.7942 - auc: 0.9772 - f1_score: 0.7961 - loss: 0.8632 - precision: 0.8734 - recall: 0.7121 - val_accuracy: 0.8816 - val_auc: 0.9905 - val_f1_score: 0.8804 - val_loss: 0.6091 - val_precision: 0.9119 - val_recall: 0.8579\n",
      "Epoch 84/100\n",
      "\u001b[1m759/760\u001b[0m \u001b[32m━━━━━━━━━━━━━━━━━━━\u001b[0m\u001b[37m━\u001b[0m \u001b[1m0s\u001b[0m 38ms/step - accuracy: 0.8018 - auc: 0.9763 - f1_score: 0.8009 - loss: 0.8720 - precision: 0.8752 - recall: 0.7123\n",
      "Epoch 84: val_loss improved from 0.58117 to 0.57849, saving model to VGG16_best_model.h5\n"
     ]
    },
    {
     "name": "stderr",
     "output_type": "stream",
     "text": [
      "WARNING:absl:You are saving your model as an HDF5 file via `model.save()` or `keras.saving.save_model(model)`. This file format is considered legacy. We recommend using instead the native Keras format, e.g. `model.save('my_model.keras')` or `keras.saving.save_model(model, 'my_model.keras')`. \n"
     ]
    },
    {
     "name": "stdout",
     "output_type": "stream",
     "text": [
      "\b\b\b\b\b\b\b\b\b\b\b\b\b\b\b\b\b\b\b\b\b\b\b\b\b\b\b\b\b\b\b\b\b\b\b\b\b\b\b\b\b\b\b\b\b\b\b\b\b\b\b\b\b\b\b\b\b\b\b\b\b\b\b\b\b\b\b\b\b\b\b\b\b\b\b\b\b\b\b\b\b\b\b\b\b\b\b\b\b\b\b\b\b\b\b\b\b\b\b\b\b\b\b\b\b\b\b\b\b\b\b\b\b\b\b\b\b\b\b\b\b\b\b\b\b\b\b\b\b\b\b\b\b\b\b\b\b\b\b\b\b\b\b\b\b\r\n",
      "\u001b[1m760/760\u001b[0m \u001b[32m━━━━━━━━━━━━━━━━━━━━\u001b[0m\u001b[37m\u001b[0m \u001b[1m35s\u001b[0m 45ms/step - accuracy: 0.8018 - auc: 0.9763 - f1_score: 0.8009 - loss: 0.8720 - precision: 0.8751 - recall: 0.7123 - val_accuracy: 0.9066 - val_auc: 0.9921 - val_f1_score: 0.9031 - val_loss: 0.5785 - val_precision: 0.9257 - val_recall: 0.8684\n",
      "Epoch 85/100\n",
      "\u001b[1m759/760\u001b[0m \u001b[32m━━━━━━━━━━━━━━━━━━━\u001b[0m\u001b[37m━\u001b[0m \u001b[1m0s\u001b[0m 38ms/step - accuracy: 0.7866 - auc: 0.9759 - f1_score: 0.7905 - loss: 0.8886 - precision: 0.8732 - recall: 0.6943\n",
      "Epoch 85: val_loss did not improve from 0.57849\n",
      "\u001b[1m760/760\u001b[0m \u001b[32m━━━━━━━━━━━━━━━━━━━━\u001b[0m\u001b[37m\u001b[0m \u001b[1m35s\u001b[0m 46ms/step - accuracy: 0.7866 - auc: 0.9759 - f1_score: 0.7905 - loss: 0.8885 - precision: 0.8731 - recall: 0.6943 - val_accuracy: 0.8855 - val_auc: 0.9911 - val_f1_score: 0.8829 - val_loss: 0.6044 - val_precision: 0.9116 - val_recall: 0.8553\n",
      "Epoch 86/100\n",
      "\u001b[1m759/760\u001b[0m \u001b[32m━━━━━━━━━━━━━━━━━━━\u001b[0m\u001b[37m━\u001b[0m \u001b[1m0s\u001b[0m 38ms/step - accuracy: 0.7941 - auc: 0.9761 - f1_score: 0.7946 - loss: 0.8720 - precision: 0.8653 - recall: 0.7232\n",
      "Epoch 86: val_loss did not improve from 0.57849\n",
      "\u001b[1m760/760\u001b[0m \u001b[32m━━━━━━━━━━━━━━━━━━━━\u001b[0m\u001b[37m\u001b[0m \u001b[1m35s\u001b[0m 46ms/step - accuracy: 0.7941 - auc: 0.9761 - f1_score: 0.7946 - loss: 0.8720 - precision: 0.8653 - recall: 0.7232 - val_accuracy: 0.8908 - val_auc: 0.9922 - val_f1_score: 0.8887 - val_loss: 0.5788 - val_precision: 0.9192 - val_recall: 0.8684\n",
      "Epoch 87/100\n",
      "\u001b[1m759/760\u001b[0m \u001b[32m━━━━━━━━━━━━━━━━━━━\u001b[0m\u001b[37m━\u001b[0m \u001b[1m0s\u001b[0m 39ms/step - accuracy: 0.8014 - auc: 0.9786 - f1_score: 0.8013 - loss: 0.8467 - precision: 0.8811 - recall: 0.7162\n",
      "Epoch 87: val_loss improved from 0.57849 to 0.57658, saving model to VGG16_best_model.h5\n"
     ]
    },
    {
     "name": "stderr",
     "output_type": "stream",
     "text": [
      "WARNING:absl:You are saving your model as an HDF5 file via `model.save()` or `keras.saving.save_model(model)`. This file format is considered legacy. We recommend using instead the native Keras format, e.g. `model.save('my_model.keras')` or `keras.saving.save_model(model, 'my_model.keras')`. \n"
     ]
    },
    {
     "name": "stdout",
     "output_type": "stream",
     "text": [
      "\b\b\b\b\b\b\b\b\b\b\b\b\b\b\b\b\b\b\b\b\b\b\b\b\b\b\b\b\b\b\b\b\b\b\b\b\b\b\b\b\b\b\b\b\b\b\b\b\b\b\b\b\b\b\b\b\b\b\b\b\b\b\b\b\b\b\b\b\b\b\b\b\b\b\b\b\b\b\b\b\b\b\b\b\b\b\b\b\b\b\b\b\b\b\b\b\b\b\b\b\b\b\b\b\b\b\b\b\b\b\b\b\b\b\b\b\b\b\b\b\b\b\b\b\b\b\b\b\b\b\b\b\b\b\b\b\b\b\b\b\b\b\b\b\b\r\n",
      "\u001b[1m760/760\u001b[0m \u001b[32m━━━━━━━━━━━━━━━━━━━━\u001b[0m\u001b[37m\u001b[0m \u001b[1m35s\u001b[0m 46ms/step - accuracy: 0.8014 - auc: 0.9786 - f1_score: 0.8013 - loss: 0.8467 - precision: 0.8811 - recall: 0.7162 - val_accuracy: 0.9000 - val_auc: 0.9913 - val_f1_score: 0.8966 - val_loss: 0.5766 - val_precision: 0.9237 - val_recall: 0.8763\n",
      "Epoch 88/100\n",
      "\u001b[1m759/760\u001b[0m \u001b[32m━━━━━━━━━━━━━━━━━━━\u001b[0m\u001b[37m━\u001b[0m \u001b[1m0s\u001b[0m 38ms/step - accuracy: 0.7806 - auc: 0.9748 - f1_score: 0.7811 - loss: 0.8924 - precision: 0.8558 - recall: 0.6925\n",
      "Epoch 88: val_loss did not improve from 0.57658\n",
      "\u001b[1m760/760\u001b[0m \u001b[32m━━━━━━━━━━━━━━━━━━━━\u001b[0m\u001b[37m\u001b[0m \u001b[1m34s\u001b[0m 45ms/step - accuracy: 0.7806 - auc: 0.9748 - f1_score: 0.7811 - loss: 0.8924 - precision: 0.8558 - recall: 0.6925 - val_accuracy: 0.8842 - val_auc: 0.9899 - val_f1_score: 0.8797 - val_loss: 0.6115 - val_precision: 0.9182 - val_recall: 0.8566\n",
      "Epoch 89/100\n",
      "\u001b[1m759/760\u001b[0m \u001b[32m━━━━━━━━━━━━━━━━━━━\u001b[0m\u001b[37m━\u001b[0m \u001b[1m0s\u001b[0m 38ms/step - accuracy: 0.7910 - auc: 0.9742 - f1_score: 0.7904 - loss: 0.8943 - precision: 0.8724 - recall: 0.7108\n",
      "Epoch 89: val_loss did not improve from 0.57658\n",
      "\u001b[1m760/760\u001b[0m \u001b[32m━━━━━━━━━━━━━━━━━━━━\u001b[0m\u001b[37m\u001b[0m \u001b[1m34s\u001b[0m 45ms/step - accuracy: 0.7910 - auc: 0.9742 - f1_score: 0.7905 - loss: 0.8943 - precision: 0.8724 - recall: 0.7108 - val_accuracy: 0.8842 - val_auc: 0.9924 - val_f1_score: 0.8805 - val_loss: 0.5844 - val_precision: 0.9237 - val_recall: 0.8605\n",
      "Epoch 90/100\n",
      "\u001b[1m759/760\u001b[0m \u001b[32m━━━━━━━━━━━━━━━━━━━\u001b[0m\u001b[37m━\u001b[0m \u001b[1m0s\u001b[0m 38ms/step - accuracy: 0.7997 - auc: 0.9774 - f1_score: 0.8031 - loss: 0.8590 - precision: 0.8797 - recall: 0.7092\n",
      "Epoch 90: val_loss improved from 0.57658 to 0.57047, saving model to VGG16_best_model.h5\n"
     ]
    },
    {
     "name": "stderr",
     "output_type": "stream",
     "text": [
      "WARNING:absl:You are saving your model as an HDF5 file via `model.save()` or `keras.saving.save_model(model)`. This file format is considered legacy. We recommend using instead the native Keras format, e.g. `model.save('my_model.keras')` or `keras.saving.save_model(model, 'my_model.keras')`. \n"
     ]
    },
    {
     "name": "stdout",
     "output_type": "stream",
     "text": [
      "\b\b\b\b\b\b\b\b\b\b\b\b\b\b\b\b\b\b\b\b\b\b\b\b\b\b\b\b\b\b\b\b\b\b\b\b\b\b\b\b\b\b\b\b\b\b\b\b\b\b\b\b\b\b\b\b\b\b\b\b\b\b\b\b\b\b\b\b\b\b\b\b\b\b\b\b\b\b\b\b\b\b\b\b\b\b\b\b\b\b\b\b\b\b\b\b\b\b\b\b\b\b\b\b\b\b\b\b\b\b\b\b\b\b\b\b\b\b\b\b\b\b\b\b\b\b\b\b\b\b\b\b\b\b\b\b\b\b\b\b\b\b\b\b\b\r\n",
      "\u001b[1m760/760\u001b[0m \u001b[32m━━━━━━━━━━━━━━━━━━━━\u001b[0m\u001b[37m\u001b[0m \u001b[1m35s\u001b[0m 45ms/step - accuracy: 0.7997 - auc: 0.9774 - f1_score: 0.8031 - loss: 0.8591 - precision: 0.8797 - recall: 0.7092 - val_accuracy: 0.8921 - val_auc: 0.9926 - val_f1_score: 0.8893 - val_loss: 0.5705 - val_precision: 0.9223 - val_recall: 0.8592\n",
      "Epoch 91/100\n",
      "\u001b[1m759/760\u001b[0m \u001b[32m━━━━━━━━━━━━━━━━━━━\u001b[0m\u001b[37m━\u001b[0m \u001b[1m0s\u001b[0m 38ms/step - accuracy: 0.7923 - auc: 0.9756 - f1_score: 0.7972 - loss: 0.8770 - precision: 0.8635 - recall: 0.7154\n",
      "Epoch 91: val_loss did not improve from 0.57047\n",
      "\u001b[1m760/760\u001b[0m \u001b[32m━━━━━━━━━━━━━━━━━━━━\u001b[0m\u001b[37m\u001b[0m \u001b[1m34s\u001b[0m 45ms/step - accuracy: 0.7923 - auc: 0.9756 - f1_score: 0.7972 - loss: 0.8770 - precision: 0.8635 - recall: 0.7154 - val_accuracy: 0.8895 - val_auc: 0.9910 - val_f1_score: 0.8854 - val_loss: 0.5878 - val_precision: 0.9211 - val_recall: 0.8605\n",
      "Epoch 92/100\n",
      "\u001b[1m759/760\u001b[0m \u001b[32m━━━━━━━━━━━━━━━━━━━\u001b[0m\u001b[37m━\u001b[0m \u001b[1m0s\u001b[0m 38ms/step - accuracy: 0.7978 - auc: 0.9777 - f1_score: 0.7995 - loss: 0.8565 - precision: 0.8713 - recall: 0.7126\n",
      "Epoch 92: val_loss did not improve from 0.57047\n",
      "\u001b[1m760/760\u001b[0m \u001b[32m━━━━━━━━━━━━━━━━━━━━\u001b[0m\u001b[37m\u001b[0m \u001b[1m35s\u001b[0m 46ms/step - accuracy: 0.7978 - auc: 0.9777 - f1_score: 0.7995 - loss: 0.8565 - precision: 0.8713 - recall: 0.7126 - val_accuracy: 0.8947 - val_auc: 0.9916 - val_f1_score: 0.8914 - val_loss: 0.5784 - val_precision: 0.9230 - val_recall: 0.8671\n",
      "Epoch 93/100\n",
      "\u001b[1m759/760\u001b[0m \u001b[32m━━━━━━━━━━━━━━━━━━━\u001b[0m\u001b[37m━\u001b[0m \u001b[1m0s\u001b[0m 38ms/step - accuracy: 0.7922 - auc: 0.9768 - f1_score: 0.7953 - loss: 0.8584 - precision: 0.8630 - recall: 0.7225\n",
      "Epoch 93: val_loss did not improve from 0.57047\n",
      "\u001b[1m760/760\u001b[0m \u001b[32m━━━━━━━━━━━━━━━━━━━━\u001b[0m\u001b[37m\u001b[0m \u001b[1m35s\u001b[0m 46ms/step - accuracy: 0.7922 - auc: 0.9768 - f1_score: 0.7953 - loss: 0.8584 - precision: 0.8630 - recall: 0.7224 - val_accuracy: 0.8934 - val_auc: 0.9922 - val_f1_score: 0.8916 - val_loss: 0.5757 - val_precision: 0.9197 - val_recall: 0.8737\n",
      "Epoch 94/100\n",
      "\u001b[1m759/760\u001b[0m \u001b[32m━━━━━━━━━━━━━━━━━━━\u001b[0m\u001b[37m━\u001b[0m \u001b[1m0s\u001b[0m 38ms/step - accuracy: 0.8079 - auc: 0.9785 - f1_score: 0.8097 - loss: 0.8365 - precision: 0.8745 - recall: 0.7311\n",
      "Epoch 94: val_loss did not improve from 0.57047\n",
      "\u001b[1m760/760\u001b[0m \u001b[32m━━━━━━━━━━━━━━━━━━━━\u001b[0m\u001b[37m\u001b[0m \u001b[1m35s\u001b[0m 46ms/step - accuracy: 0.8079 - auc: 0.9785 - f1_score: 0.8096 - loss: 0.8366 - precision: 0.8744 - recall: 0.7311 - val_accuracy: 0.8908 - val_auc: 0.9925 - val_f1_score: 0.8922 - val_loss: 0.5729 - val_precision: 0.9182 - val_recall: 0.8566\n",
      "Epoch 95/100\n",
      "\u001b[1m759/760\u001b[0m \u001b[32m━━━━━━━━━━━━━━━━━━━\u001b[0m\u001b[37m━\u001b[0m \u001b[1m0s\u001b[0m 38ms/step - accuracy: 0.7983 - auc: 0.9762 - f1_score: 0.7966 - loss: 0.8634 - precision: 0.8695 - recall: 0.7185\n",
      "Epoch 95: val_loss did not improve from 0.57047\n",
      "\u001b[1m760/760\u001b[0m \u001b[32m━━━━━━━━━━━━━━━━━━━━\u001b[0m\u001b[37m\u001b[0m \u001b[1m34s\u001b[0m 45ms/step - accuracy: 0.7984 - auc: 0.9762 - f1_score: 0.7967 - loss: 0.8634 - precision: 0.8695 - recall: 0.7185 - val_accuracy: 0.8895 - val_auc: 0.9905 - val_f1_score: 0.8911 - val_loss: 0.5820 - val_precision: 0.9178 - val_recall: 0.8526\n",
      "Epoch 96/100\n",
      "\u001b[1m759/760\u001b[0m \u001b[32m━━━━━━━━━━━━━━━━━━━\u001b[0m\u001b[37m━\u001b[0m \u001b[1m0s\u001b[0m 38ms/step - accuracy: 0.7886 - auc: 0.9742 - f1_score: 0.7899 - loss: 0.8822 - precision: 0.8630 - recall: 0.7039\n",
      "Epoch 96: val_loss did not improve from 0.57047\n",
      "\u001b[1m760/760\u001b[0m \u001b[32m━━━━━━━━━━━━━━━━━━━━\u001b[0m\u001b[37m\u001b[0m \u001b[1m34s\u001b[0m 45ms/step - accuracy: 0.7886 - auc: 0.9742 - f1_score: 0.7899 - loss: 0.8822 - precision: 0.8630 - recall: 0.7039 - val_accuracy: 0.8908 - val_auc: 0.9913 - val_f1_score: 0.8893 - val_loss: 0.5728 - val_precision: 0.9201 - val_recall: 0.8632\n",
      "Epoch 97/100\n",
      "\u001b[1m759/760\u001b[0m \u001b[32m━━━━━━━━━━━━━━━━━━━\u001b[0m\u001b[37m━\u001b[0m \u001b[1m0s\u001b[0m 38ms/step - accuracy: 0.8105 - auc: 0.9804 - f1_score: 0.8152 - loss: 0.8114 - precision: 0.8848 - recall: 0.7366\n",
      "Epoch 97: val_loss improved from 0.57047 to 0.55344, saving model to VGG16_best_model.h5\n"
     ]
    },
    {
     "name": "stderr",
     "output_type": "stream",
     "text": [
      "WARNING:absl:You are saving your model as an HDF5 file via `model.save()` or `keras.saving.save_model(model)`. This file format is considered legacy. We recommend using instead the native Keras format, e.g. `model.save('my_model.keras')` or `keras.saving.save_model(model, 'my_model.keras')`. \n"
     ]
    },
    {
     "name": "stdout",
     "output_type": "stream",
     "text": [
      "\b\b\b\b\b\b\b\b\b\b\b\b\b\b\b\b\b\b\b\b\b\b\b\b\b\b\b\b\b\b\b\b\b\b\b\b\b\b\b\b\b\b\b\b\b\b\b\b\b\b\b\b\b\b\b\b\b\b\b\b\b\b\b\b\b\b\b\b\b\b\b\b\b\b\b\b\b\b\b\b\b\b\b\b\b\b\b\b\b\b\b\b\b\b\b\b\b\b\b\b\b\b\b\b\b\b\b\b\b\b\b\b\b\b\b\b\b\b\b\b\b\b\b\b\b\b\b\b\b\b\b\b\b\b\b\b\b\b\b\b\b\b\b\b\b\r\n",
      "\u001b[1m760/760\u001b[0m \u001b[32m━━━━━━━━━━━━━━━━━━━━\u001b[0m\u001b[37m\u001b[0m \u001b[1m35s\u001b[0m 46ms/step - accuracy: 0.8105 - auc: 0.9804 - f1_score: 0.8151 - loss: 0.8115 - precision: 0.8848 - recall: 0.7366 - val_accuracy: 0.8974 - val_auc: 0.9930 - val_f1_score: 0.8952 - val_loss: 0.5534 - val_precision: 0.9184 - val_recall: 0.8737\n",
      "Epoch 98/100\n",
      "\u001b[1m759/760\u001b[0m \u001b[32m━━━━━━━━━━━━━━━━━━━\u001b[0m\u001b[37m━\u001b[0m \u001b[1m0s\u001b[0m 39ms/step - accuracy: 0.8238 - auc: 0.9818 - f1_score: 0.8248 - loss: 0.7925 - precision: 0.8898 - recall: 0.7399\n",
      "Epoch 98: val_loss did not improve from 0.55344\n",
      "\u001b[1m760/760\u001b[0m \u001b[32m━━━━━━━━━━━━━━━━━━━━\u001b[0m\u001b[37m\u001b[0m \u001b[1m35s\u001b[0m 46ms/step - accuracy: 0.8237 - auc: 0.9818 - f1_score: 0.8248 - loss: 0.7926 - precision: 0.8898 - recall: 0.7399 - val_accuracy: 0.8882 - val_auc: 0.9891 - val_f1_score: 0.8833 - val_loss: 0.6067 - val_precision: 0.9233 - val_recall: 0.8553\n",
      "Epoch 99/100\n",
      "\u001b[1m759/760\u001b[0m \u001b[32m━━━━━━━━━━━━━━━━━━━\u001b[0m\u001b[37m━\u001b[0m \u001b[1m0s\u001b[0m 38ms/step - accuracy: 0.7948 - auc: 0.9741 - f1_score: 0.7985 - loss: 0.8834 - precision: 0.8708 - recall: 0.7125\n",
      "Epoch 99: val_loss did not improve from 0.55344\n",
      "\u001b[1m760/760\u001b[0m \u001b[32m━━━━━━━━━━━━━━━━━━━━\u001b[0m\u001b[37m\u001b[0m \u001b[1m35s\u001b[0m 46ms/step - accuracy: 0.7948 - auc: 0.9741 - f1_score: 0.7985 - loss: 0.8834 - precision: 0.8707 - recall: 0.7125 - val_accuracy: 0.8934 - val_auc: 0.9916 - val_f1_score: 0.8925 - val_loss: 0.5718 - val_precision: 0.9198 - val_recall: 0.8605\n",
      "Epoch 100/100\n",
      "\u001b[1m759/760\u001b[0m \u001b[32m━━━━━━━━━━━━━━━━━━━\u001b[0m\u001b[37m━\u001b[0m \u001b[1m0s\u001b[0m 38ms/step - accuracy: 0.7896 - auc: 0.9730 - f1_score: 0.7945 - loss: 0.8912 - precision: 0.8663 - recall: 0.7048\n",
      "Epoch 100: val_loss did not improve from 0.55344\n",
      "\u001b[1m760/760\u001b[0m \u001b[32m━━━━━━━━━━━━━━━━━━━━\u001b[0m\u001b[37m\u001b[0m \u001b[1m34s\u001b[0m 45ms/step - accuracy: 0.7897 - auc: 0.9730 - f1_score: 0.7945 - loss: 0.8912 - precision: 0.8663 - recall: 0.7048 - val_accuracy: 0.8908 - val_auc: 0.9908 - val_f1_score: 0.8860 - val_loss: 0.5777 - val_precision: 0.9216 - val_recall: 0.8658\n",
      "Restoring model weights from the end of the best epoch: 97.\n"
     ]
    },
    {
     "data": {
      "image/png": "[encoded data removed]",
      "text/plain": [
       "<Figure size 1000x600 with 1 Axes>"
      ]
     },
     "metadata": {},
     "output_type": "display_data"
    },
    {
     "name": "stderr",
     "output_type": "stream",
     "text": [
      "WARNING:absl:Compiled the loaded model, but the compiled metrics have yet to be built. `model.compile_metrics` will be empty until you train or evaluate the model.\n"
     ]
    }
   ],
   "source": [
    "best_model, history, results = create_and_train_model(\n",
    "    'VGG16',\n",
    "    (train_images, train_labels_one_hot),\n",
    "    (val_images, val_labels_one_hot),\n",
    "    (test_images, test_labels_one_hot)\n",
    ")"
   ]
  },
  {
   "cell_type": "markdown",
   "id": "277f95c1-9681-4403-a110-4c7fac53e6e8",
   "metadata": {
    "id": "277f95c1-9681-4403-a110-4c7fac53e6e8"
   },
   "source": [
    "### V) Display metrics"
   ]
  },
  {
   "cell_type": "code",
   "execution_count": 23,
   "id": "eD_-WGyKFY7_",
   "metadata": {
    "colab": {
     "base_uri": "https://localhost:8080/"
    },
    "executionInfo": {
     "elapsed": 202756,
     "status": "ok",
     "timestamp": 1746960598972,
     "user": {
      "displayName": "Suloni Praveen",
      "userId": "17262207939091849753"
     },
     "user_tz": 420
    },
    "id": "eD_-WGyKFY7_",
    "outputId": "7b788869-34a9-4450-ccc9-f0d2991211a3"
   },
   "outputs": [
    {
     "name": "stdout",
     "output_type": "stream",
     "text": [
      "\n",
      "================================================================================\n",
      "                           MODEL PERFORMANCE METRICS                            \n",
      "================================================================================\n",
      "Metric         Training                 Validation               Test                     \n",
      "--------------------------------------------------------------------------------\n",
      "Evaluating on Training data...\n",
      "Evaluating on Validation data...\n",
      "Evaluating on Test data...\n",
      "Accuracy       0.8981                   0.8974                   0.7170                   \n",
      "Precision      0.9013                   0.9014                   0.7218                   \n",
      "Recall         0.8981                   0.8974                   0.7170                   \n",
      "AUC            0.9941                   0.9934                   0.9556                   \n",
      "F1 Score       0.8974                   0.8965                   0.7017                   \n",
      "================================================================================\n",
      "\n",
      "Detailed Test Metrics:\n",
      "Test Loss: 1.0736\n",
      "Test Accuracy: 0.7170\n",
      "Test Precision: 0.7218\n",
      "Test F1 Score: 0.7017\n",
      "Test Recall: 0.7170\n",
      "Test AUC: 0.9556\n",
      "\n",
      "Classification Report on Test Data:\n",
      "              precision    recall  f1-score   support\n",
      "\n",
      "           0       0.67      0.92      0.78        93\n",
      "           1       0.68      0.88      0.77        83\n",
      "           2       0.88      0.44      0.59        84\n",
      "           3       0.81      0.70      0.75       158\n",
      "           4       0.53      0.26      0.35        99\n",
      "           5       0.84      0.79      0.81       100\n",
      "           6       0.67      0.84      0.74       185\n",
      "           7       0.65      0.61      0.63        64\n",
      "           8       0.74      0.90      0.81        88\n",
      "\n",
      "    accuracy                           0.72       954\n",
      "   macro avg       0.72      0.70      0.69       954\n",
      "weighted avg       0.72      0.72      0.70       954\n",
      "\n"
     ]
    }
   ],
   "source": [
    "metrics = display_metrics(\n",
    "    best_model,\n",
    "    (train_images, train_labels_one_hot),\n",
    "    (val_images, val_labels_one_hot),\n",
    "    (test_images, test_labels_one_hot),\n",
    "\n",
    ")"
   ]
  },
  {
   "cell_type": "markdown",
   "id": "2ef8ef29-7006-4d10-ae46-47568fb1220b",
   "metadata": {
    "id": "2ef8ef29-7006-4d10-ae46-47568fb1220b"
   },
   "source": [
    "### Conclusion"
   ]
  },
  {
   "cell_type": "markdown",
   "id": "986a43b0-d156-4c7e-9ada-bbae03bdb969",
   "metadata": {
    "id": "986a43b0-d156-4c7e-9ada-bbae03bdb969"
   },
   "source": [
    "The test results for ResNet50: 74.95%<br>\n",
    "The test results for ResNet101: 76.21%<br>\n",
    "The test results for EfficientNetB0: 71.07%<br>\n",
    "The test results for VGG16: 71.7%<br>\n",
    "From these results we see that ResNet101 has the highest accuracy on test data and outperforms the rest but by a slight higher margin"
   ]
  }
 ],
 "metadata": {
  "accelerator": "GPU",
  "colab": {
   "gpuType": "T4",
   "machine_shape": "hm",
   "provenance": []
  },
  "kernelspec": {
   "display_name": "Python 3 (ipykernel)",
   "language": "python",
   "name": "python3"
  },
  "language_info": {
   "codemirror_mode": {
    "name": "ipython",
    "version": 3
   },
   "file_extension": ".py",
   "mimetype": "text/x-python",
   "name": "python",
   "nbconvert_exporter": "python",
   "pygments_lexer": "ipython3",
   "version": "3.12.4"
  }
 },
 "nbformat": 4,
 "nbformat_minor": 5
}
